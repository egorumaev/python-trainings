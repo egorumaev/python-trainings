{
  "nbformat": 4,
  "nbformat_minor": 0,
  "metadata": {
    "colab": {
      "provenance": []
    },
    "kernelspec": {
      "name": "python3",
      "display_name": "Python 3"
    },
    "language_info": {
      "name": "python"
    }
  },
  "cells": [
    {
      "cell_type": "markdown",
      "source": [
        "# **<font color='crimson'>PYTHON. Functions</font>**\n",
        "\n",
        "---"
      ],
      "metadata": {
        "id": "CjT5w9s6YcKa"
      }
    },
    {
      "cell_type": "code",
      "execution_count": null,
      "metadata": {
        "id": "CoEAJXqDYV9Z"
      },
      "outputs": [],
      "source": [
        "###"
      ]
    },
    {
      "cell_type": "code",
      "source": [
        "--1\n",
        "# объявление функции\n",
        "def draw_box():\n",
        "    print('*' * 10)\n",
        "\n",
        "    for _ in range(12):\n",
        "        print('*', '*', sep = ' ' * 8)\n",
        "\n",
        "    print('*' * 10)\n",
        "\n",
        "# основная программа\n",
        "draw_box()  # вызов функции"
      ],
      "metadata": {
        "id": "dL7LH9xGYbjq"
      },
      "execution_count": null,
      "outputs": []
    },
    {
      "cell_type": "code",
      "source": [
        "###"
      ],
      "metadata": {
        "id": "QET62ZQZYbwU"
      },
      "execution_count": null,
      "outputs": []
    },
    {
      "cell_type": "code",
      "source": [
        "--2\n",
        "# объявление функции\n",
        "def draw_triangle():\n",
        "    for i in range(1, 11):\n",
        "        print('*' * i)\n",
        "\n",
        "# основная программа\n",
        "draw_triangle()  # вызов функции"
      ],
      "metadata": {
        "id": "HC8BdWVKYbzq"
      },
      "execution_count": null,
      "outputs": []
    },
    {
      "cell_type": "code",
      "source": [
        "###"
      ],
      "metadata": {
        "id": "YeB8zIlhYb2w"
      },
      "execution_count": null,
      "outputs": []
    },
    {
      "cell_type": "code",
      "source": [
        "--3\n",
        "# объявление функции\n",
        "def draw_triangle(fill, base):\n",
        "    for i in range(1, base + 1):\n",
        "        if i <= base // 2 + 1:\n",
        "            print(fill * i)\n",
        "        else:\n",
        "            print(fill * (base - i + 1))\n",
        "\n",
        "# считываем данные\n",
        "fill = input()\n",
        "base = int(input())\n",
        "\n",
        "# вызываем функцию\n",
        "draw_triangle(fill, base)"
      ],
      "metadata": {
        "id": "ymfpqAcTYb58"
      },
      "execution_count": null,
      "outputs": []
    },
    {
      "cell_type": "code",
      "source": [
        "###"
      ],
      "metadata": {
        "id": "WGz6Ob9YYb9H"
      },
      "execution_count": null,
      "outputs": []
    },
    {
      "cell_type": "code",
      "source": [
        "--4\n",
        "# объявление функции\n",
        "def print_fio(name, surname, patronymic):\n",
        "    print(surname[0] + name[0] + patronymic[0])\n",
        "\n",
        "# считываем данные\n",
        "name, surname, patronymic = [input().title() for _ in range(3)]\n",
        "\n",
        "# вызываем функцию\n",
        "print_fio(name, surname, patronymic)"
      ],
      "metadata": {
        "id": "rGkEmH5mYcAk"
      },
      "execution_count": null,
      "outputs": []
    },
    {
      "cell_type": "code",
      "source": [
        "###"
      ],
      "metadata": {
        "id": "uAScR1WHYcD5"
      },
      "execution_count": null,
      "outputs": []
    },
    {
      "cell_type": "code",
      "source": [
        "--5\n",
        "# объявление функции\n",
        "def print_digit_sum(num):\n",
        "    summ = 0\n",
        "    while num > 0:\n",
        "        summ += num % 10\n",
        "        num //= 10\n",
        "    print(summ)\n",
        "\n",
        "# считываем данные\n",
        "n = int(input())\n",
        "\n",
        "# вызываем функцию\n",
        "print_digit_sum(n)"
      ],
      "metadata": {
        "id": "FntudgP5YcHA"
      },
      "execution_count": null,
      "outputs": []
    },
    {
      "cell_type": "code",
      "execution_count": null,
      "metadata": {
        "id": "_rbe8PUdYj33"
      },
      "outputs": [],
      "source": [
        "###"
      ]
    },
    {
      "cell_type": "code",
      "source": [
        "--6\n",
        "# объявление функции\n",
        "def get_days(month):\n",
        "    if month in [2]:\n",
        "        result = 28\n",
        "    elif month in [1, 3, 5, 7, 8, 10, 12]:\n",
        "        result = 31\n",
        "    else:\n",
        "        result = 30\n",
        "    return result\n",
        "\n",
        "# считываем данные\n",
        "num = int(input())\n",
        "\n",
        "# вызываем функцию\n",
        "print(get_days(num))"
      ],
      "metadata": {
        "id": "9GQe84SnYj34"
      },
      "execution_count": null,
      "outputs": []
    },
    {
      "cell_type": "code",
      "source": [
        "###"
      ],
      "metadata": {
        "id": "ITPNY4zBYj35"
      },
      "execution_count": null,
      "outputs": []
    },
    {
      "cell_type": "code",
      "source": [
        "--7\n",
        "# объявление функции\n",
        "def get_factors(num):\n",
        "    res = []\n",
        "    for i in range(1, num // 2 + 1):\n",
        "        if num % i == 0:\n",
        "            res.append(i)\n",
        "    res.append(num)\n",
        "    return res\n",
        "\n",
        "# считываем данные\n",
        "n = int(input())\n",
        "\n",
        "# вызываем функцию\n",
        "print(get_factors(n))"
      ],
      "metadata": {
        "id": "g8BJQ4BtYj35"
      },
      "execution_count": null,
      "outputs": []
    },
    {
      "cell_type": "code",
      "source": [
        "###"
      ],
      "metadata": {
        "id": "mgFG8OxJYj37"
      },
      "execution_count": null,
      "outputs": []
    },
    {
      "cell_type": "code",
      "source": [
        "--8\n",
        "# объявление функции\n",
        "def number_of_factors(num):\n",
        "    res = 1\n",
        "    for i in range(1, num // 2 + 1):\n",
        "        if num % i == 0:\n",
        "            res += 1\n",
        "    return res\n",
        "\n",
        "# считываем данные\n",
        "n = int(input())\n",
        "\n",
        "# вызываем функцию\n",
        "print(number_of_factors(n))"
      ],
      "metadata": {
        "id": "SHszfeNEYj37"
      },
      "execution_count": null,
      "outputs": []
    },
    {
      "cell_type": "code",
      "source": [
        "###"
      ],
      "metadata": {
        "id": "KvRH-_dCYj38"
      },
      "execution_count": null,
      "outputs": []
    },
    {
      "cell_type": "code",
      "source": [
        "--9\n",
        "# объявление функции\n",
        "def find_all(target, symbol):\n",
        "    res = []\n",
        "    for i in range(len(target)):\n",
        "        if target[i] == symbol:\n",
        "            res.append(i)\n",
        "    return res\n",
        "\n",
        "# считываем данные\n",
        "s = input()\n",
        "char = input()\n",
        "\n",
        "# вызываем функцию\n",
        "print(find_all(s, char))"
      ],
      "metadata": {
        "id": "Aj95I3ljAhAh"
      },
      "execution_count": null,
      "outputs": []
    },
    {
      "cell_type": "code",
      "execution_count": null,
      "metadata": {
        "id": "VxwzNTVYYkGF"
      },
      "outputs": [],
      "source": [
        "###"
      ]
    },
    {
      "cell_type": "code",
      "source": [
        "--10\n",
        "# объявление функции\n",
        "def merge(list1, list2):\n",
        "    list3 = list1 + list2\n",
        "    list3.sort()\n",
        "    return list3\n",
        "\n",
        "# считываем данные\n",
        "numbers1 = [int(c) for c in input().split()]\n",
        "numbers2 = [int(c) for c in input().split()]\n",
        "\n",
        "# вызываем функцию\n",
        "print(merge(numbers1, numbers2))"
      ],
      "metadata": {
        "id": "taCAZApGYkGF"
      },
      "execution_count": null,
      "outputs": []
    },
    {
      "cell_type": "code",
      "source": [
        "###"
      ],
      "metadata": {
        "id": "Mp9AlNSMYkGF"
      },
      "execution_count": null,
      "outputs": []
    },
    {
      "cell_type": "code",
      "source": [
        "--11\n",
        "def quick_merge(list1, list2):\n",
        "    result = []\n",
        "\n",
        "    p1 = 0  # указатель на первый элемент списка list1\n",
        "    p2 = 0  # указатель на первый элемент списка list2\n",
        "\n",
        "    while p1 < len(list1) and p2 < len(list2):  # пока не закончился какой-нибудь из списков\n",
        "        if list1[p1] <= list2[p2]:\n",
        "            result.append(list1[p1])\n",
        "            p1 += 1\n",
        "        else:\n",
        "            result.append(list2[p2])\n",
        "            p2 += 1\n",
        "\n",
        "    if p1 < len(list1):   # прицепление остатка\n",
        "        result += list1[p1:]\n",
        "    else:                 # иначе прицепляем остаток другого списка\n",
        "        result += list2[p2:]\n",
        "\n",
        "    return result\n",
        "\n",
        "total_list = []\n",
        "\n",
        "for i in range(int(input())):\n",
        "    num = [int(x) for x in input().split()]\n",
        "    total_list = quick_merge(total_list, num)\n",
        "\n",
        "print(*total_list)"
      ],
      "metadata": {
        "id": "BzMGd9aEYkGF"
      },
      "execution_count": null,
      "outputs": []
    },
    {
      "cell_type": "code",
      "source": [
        "###"
      ],
      "metadata": {
        "id": "HzHKJKPkYkGF"
      },
      "execution_count": null,
      "outputs": []
    },
    {
      "cell_type": "code",
      "source": [
        "--12\n",
        "# 1-й вариант решения\n",
        "\n",
        "# объявление функции\n",
        "def is_valid_triangle(side1, side2, side3):\n",
        "   if (side1 + side2 > side3) and (side1 + side3 > side2) and (side2 + side3 > side1):\n",
        "       return True\n",
        "   else:\n",
        "       return False\n",
        "\n",
        "# считываем данные\n",
        "a, b, c = int(input()), int(input()), int(input())\n",
        "\n",
        "# вызываем функцию\n",
        "print(is_valid_triangle(a, b, c))"
      ],
      "metadata": {
        "id": "7-UONghTYkGF"
      },
      "execution_count": null,
      "outputs": []
    },
    {
      "cell_type": "code",
      "source": [
        "###"
      ],
      "metadata": {
        "id": "VUlBI8hVYkGG"
      },
      "execution_count": null,
      "outputs": []
    },
    {
      "cell_type": "code",
      "source": [
        "--13\n",
        "# 2-й вариант решения\n",
        "def is_valid_triangle(side1, side2, side3):\n",
        "    # сортируем длины треугольника по возрастанию\n",
        "    sides = sorted([side1, side2, side3])\n",
        "    # проверяем, что сумма меньшей и средней стороны\n",
        "    # больше самой длинной стороны\n",
        "    return True if sides[0] + sides[1] > sides[2] else False\n",
        "\n",
        "# считываем данные\n",
        "a, b, c = int(input()), int(input()), int(input())\n",
        "\n",
        "# вызываем функцию\n",
        "print(is_valid_triangle(a, b, c))"
      ],
      "metadata": {
        "id": "ShgrBwT2YkGG"
      },
      "execution_count": null,
      "outputs": []
    },
    {
      "cell_type": "code",
      "source": [
        "###"
      ],
      "metadata": {
        "id": "Qy3hGaWeYkGG"
      },
      "execution_count": null,
      "outputs": []
    },
    {
      "cell_type": "code",
      "source": [
        "--14\n",
        "# объявление функции\n",
        "def is_prime(num):\n",
        "    if num == 1:\n",
        "        return False\n",
        "\n",
        "    count = 0\n",
        "\n",
        "    for i in range(2, num // 2 + 1):\n",
        "        if num % i == 0:\n",
        "            return False\n",
        "    return True\n",
        "\n",
        "# считываем данные\n",
        "n = int(input())\n",
        "\n",
        "# вызываем функцию\n",
        "print(is_prime(n))"
      ],
      "metadata": {
        "id": "glQPUg5FYkGG"
      },
      "execution_count": null,
      "outputs": []
    },
    {
      "cell_type": "code",
      "execution_count": null,
      "metadata": {
        "id": "8ul9uboYYkS5"
      },
      "outputs": [],
      "source": [
        "###"
      ]
    },
    {
      "cell_type": "code",
      "source": [
        "--15\n",
        "# объявление вспомогательной функции\n",
        "def is_prime(num):\n",
        "    if num == 1:\n",
        "        return True\n",
        "\n",
        "    count = 0\n",
        "    for i in range(2, num // 2 + 1):\n",
        "        if num % i == 0:\n",
        "            return True\n",
        "    return False\n",
        "\n",
        "\n",
        "# объявление функции\n",
        "def get_next_prime(num):\n",
        "    while is_prime(num):\n",
        "        num += 1\n",
        "    return num\n",
        "\n",
        "\n",
        "# считываем данные\n",
        "n = int(input()) + 1\n",
        "\n",
        "# вызываем функцию\n",
        "print(get_next_prime(n))"
      ],
      "metadata": {
        "id": "nZMvz5YvYkS6"
      },
      "execution_count": null,
      "outputs": []
    },
    {
      "cell_type": "code",
      "source": [
        "###"
      ],
      "metadata": {
        "id": "yOOUrKH9YkS6"
      },
      "execution_count": null,
      "outputs": []
    },
    {
      "cell_type": "code",
      "source": [
        "--16\n",
        "# объявление функции\n",
        "def is_password_good(password):\n",
        "    if (\n",
        "        len(password) >= 8\n",
        "        and any(x.isdigit() for x in password)\n",
        "        and any(x == x.lower() for x in password if x.isalpha())\n",
        "        and any(x == x.upper() for x in password if x.isalpha())\n",
        "    ):\n",
        "        return True\n",
        "    else:\n",
        "        return False\n",
        "\n",
        "# считываем данные\n",
        "txt = input()\n",
        "\n",
        "# вызываем функцию\n",
        "print(is_password_good(txt))"
      ],
      "metadata": {
        "id": "qQqb_DZTYkS7"
      },
      "execution_count": null,
      "outputs": []
    },
    {
      "cell_type": "code",
      "source": [
        "###"
      ],
      "metadata": {
        "id": "j6Gtn9sNYkS7"
      },
      "execution_count": null,
      "outputs": []
    },
    {
      "cell_type": "code",
      "source": [
        "--17\n",
        "# объявление функции\n",
        "def is_one_away(word1, word2):\n",
        "    if len(word1) != len(word2):\n",
        "        return False\n",
        "    else:\n",
        "        counter = 0\n",
        "        for i in range(len(word1)):\n",
        "            if word1[i] == word2[i]:\n",
        "                counter += 1\n",
        "        return True if counter == len(word1) - 1 else False\n",
        "\n",
        "\n",
        "# считываем данные\n",
        "txt1 = input()\n",
        "txt2 = input()\n",
        "\n",
        "# вызываем функцию\n",
        "print(is_one_away(txt1, txt2))"
      ],
      "metadata": {
        "id": "UtGiFwHMYkS7"
      },
      "execution_count": null,
      "outputs": []
    },
    {
      "cell_type": "code",
      "source": [
        "###"
      ],
      "metadata": {
        "id": "bJKWSHfgYkS8"
      },
      "execution_count": null,
      "outputs": []
    },
    {
      "cell_type": "code",
      "source": [
        "--18\n",
        "# объявление функции\n",
        "def is_palindrome(text):\n",
        "    text = text.lower()\n",
        "    replace_list = [',', '.', '!', '?', '-', ' ']\n",
        "    for i in replace_list:\n",
        "        text = text.replace(i, '')\n",
        "    return text == text[::-1]\n",
        "\n",
        "# считываем данные\n",
        "txt = input()\n",
        "\n",
        "# вызываем функцию\n",
        "print(is_palindrome(txt))"
      ],
      "metadata": {
        "id": "bCVbtJqeYkS_"
      },
      "execution_count": null,
      "outputs": []
    },
    {
      "cell_type": "code",
      "source": [
        "###"
      ],
      "metadata": {
        "id": "KNtah0D5Ykg2"
      },
      "execution_count": null,
      "outputs": []
    },
    {
      "cell_type": "code",
      "source": [
        "--19\n",
        "# объявление функции для проверки,\n",
        "# являетсяли число простым\n",
        "def is_prime(num):\n",
        "    if num == 1:\n",
        "        return False\n",
        "\n",
        "    for i in range(2, num // 2 + 1):\n",
        "        if num % i == 0:\n",
        "            return False\n",
        "    return True\n",
        "\n",
        "\n",
        "# объявление функции для проверки,\n",
        "# являетсяли число четным\n",
        "def is_even(num):\n",
        "    return True if num % 2 == 0 else False\n",
        "\n",
        "\n",
        "# объявление основной функции\n",
        "def is_valid_password(password):\n",
        "    password = password.split(':')\n",
        "\n",
        "    if not len(password) == 3:\n",
        "        return False\n",
        "\n",
        "\n",
        "    flag1 = False\n",
        "    flag2 = False\n",
        "    flag3 = False\n",
        "\n",
        "    if password[0] == password[0][::-1]:\n",
        "        flag1 = True\n",
        "\n",
        "    if is_prime(int(password[1])):\n",
        "        flag2 = True\n",
        "\n",
        "    if is_even(int(password[2])):\n",
        "        flag3 = True\n",
        "\n",
        "    return flag1 and flag2 and flag3\n",
        "\n",
        "\n",
        "# считываем данные\n",
        "psw = input()\n",
        "\n",
        "# вызываем функцию\n",
        "print(is_valid_password(psw))"
      ],
      "metadata": {
        "id": "IbVw-CWVxOuy"
      },
      "execution_count": null,
      "outputs": []
    },
    {
      "cell_type": "code",
      "source": [
        "###"
      ],
      "metadata": {
        "id": "GWui7EJYxOyo"
      },
      "execution_count": null,
      "outputs": []
    },
    {
      "cell_type": "code",
      "source": [
        "--20\n",
        "def is_correct_bracket(text):\n",
        "    if not text.count('(') + text.count(')') == len(text):\n",
        "        return False\n",
        "\n",
        "    count = 0\n",
        "\n",
        "    for i in text:\n",
        "        if i == '(':\n",
        "            count += 1\n",
        "        else:\n",
        "            count -= 1\n",
        "        if count == -1:\n",
        "            return False\n",
        "\n",
        "    return not count\n",
        "\n",
        "# считываем данные\n",
        "txt = input()\n",
        "\n",
        "# вызываем функцию\n",
        "print(is_correct_bracket(txt))"
      ],
      "metadata": {
        "id": "vQbCCQHTxO29"
      },
      "execution_count": null,
      "outputs": []
    },
    {
      "cell_type": "code",
      "source": [
        "###"
      ],
      "metadata": {
        "id": "wq6Bz-_DxO66"
      },
      "execution_count": null,
      "outputs": []
    },
    {
      "cell_type": "code",
      "source": [
        "--21\n",
        "# объявление функции\n",
        "def convert_to_python_case(text):\n",
        "    indexes = []\n",
        "\n",
        "    for i in range(len(txt)):\n",
        "        if txt[i] == txt[i].upper() and not txt[i].isdigit():\n",
        "            indexes.append(i)\n",
        "\n",
        "    word_list = []\n",
        "\n",
        "    for i in range(len(indexes) - 1):\n",
        "        word_list.append(txt[indexes[i]:indexes[i + 1]].lower())\n",
        "    word_list.append(txt[indexes[-1]:].lower())\n",
        "\n",
        "    return '_'.join(word_list)\n",
        "\n",
        "\n",
        "# считываем данные\n",
        "txt = 'ConvertToInt32'\n",
        "\n",
        "# вызываем функцию\n",
        "print(convert_to_python_case(txt))"
      ],
      "metadata": {
        "id": "xGK170kjxO-U",
        "colab": {
          "base_uri": "https://localhost:8080/"
        },
        "outputId": "a8acc922-f407-4233-8f7d-46308d211b9e"
      },
      "execution_count": 13,
      "outputs": [
        {
          "output_type": "stream",
          "name": "stdout",
          "text": [
            "convert_to_int32\n"
          ]
        }
      ]
    },
    {
      "cell_type": "code",
      "source": [
        "###"
      ],
      "metadata": {
        "id": "4RkxTCLdxPB7"
      },
      "execution_count": null,
      "outputs": []
    },
    {
      "cell_type": "code",
      "source": [
        "--22\n",
        "# объявление функции\n",
        "def get_middle_point(x1, y1, x2, y2):\n",
        "    x_res = (x1 + x2) / 2\n",
        "    y_res = (y1 + y2) / 2\n",
        "    return x_res, y_res\n",
        "\n",
        "# считываем данные\n",
        "x_1, y_1 = int(input()), int(input())\n",
        "x_2, y_2 = int(input()), int(input())\n",
        "\n",
        "# вызываем функцию\n",
        "x, y = get_middle_point(x_1, y_1, x_2, y_2)\n",
        "print(x, y)"
      ],
      "metadata": {
        "id": "fbiKpkypxPFt"
      },
      "execution_count": null,
      "outputs": []
    },
    {
      "cell_type": "code",
      "source": [
        "###"
      ],
      "metadata": {
        "id": "-67IQabBxPJf"
      },
      "execution_count": null,
      "outputs": []
    },
    {
      "cell_type": "code",
      "source": [
        "--23\n",
        "import math\n",
        "\n",
        "# объявление функции\n",
        "def get_circle(radius):\n",
        "    length = 2 * math.pi * radius\n",
        "    square = math.pi * (radius ** 2)\n",
        "    return length, square\n",
        "\n",
        "# считываем данные\n",
        "r = float(input())\n",
        "\n",
        "# вызываем функцию\n",
        "length, square = get_circle(r)\n",
        "print(length, square)"
      ],
      "metadata": {
        "id": "qpqJDx_-xPNL"
      },
      "execution_count": null,
      "outputs": []
    },
    {
      "cell_type": "code",
      "source": [
        "###"
      ],
      "metadata": {
        "id": "Q4j0_TxRxPQ2"
      },
      "execution_count": null,
      "outputs": []
    },
    {
      "cell_type": "code",
      "source": [
        "--24\n",
        "import math\n",
        "\n",
        "# объявление функции\n",
        "def solve(a, b, c):\n",
        "    discr = pow(b, 2) - 4 * a * c\n",
        "\n",
        "    if discr < 0:\n",
        "        return 'Нет корней'\n",
        "    elif discr == 0:\n",
        "        x = -b / (2 * a)\n",
        "        return x, x\n",
        "    else:\n",
        "        x1 = (-b - math.sqrt(discr)) / (2 * a)\n",
        "        x2 = (-b + math.sqrt(discr)) / (2 * a)\n",
        "        if x1 > x2:\n",
        "            x1, x2 = x2, x1\n",
        "        return x1, x2\n",
        "\n",
        "\n",
        "# считываем данные\n",
        "a, b, c = 1, 2, 1\n",
        "\n",
        "# вызываем функцию\n",
        "x1, x2 = solve(a, b, c)\n",
        "print(x1, x2)"
      ],
      "metadata": {
        "id": "m_n4nRlexPUP",
        "colab": {
          "base_uri": "https://localhost:8080/"
        },
        "outputId": "98cec198-7828-4369-f90a-f3842381b2a0"
      },
      "execution_count": 17,
      "outputs": [
        {
          "output_type": "stream",
          "name": "stdout",
          "text": [
            "-1.0 -1.0\n"
          ]
        }
      ]
    },
    {
      "cell_type": "code",
      "source": [
        "###"
      ],
      "metadata": {
        "id": "3Cb6ZRYixPX1"
      },
      "execution_count": null,
      "outputs": []
    },
    {
      "cell_type": "code",
      "source": [
        "--25\n",
        "# объявление функции\n",
        "def draw_triangle():\n",
        "    heigth = 8\n",
        "    base = 15\n",
        "    for j in range(1, base + 1, 2):\n",
        "        print(' ' * (heigth - 1) + '*' * j)\n",
        "        heigth -= 1\n",
        "\n",
        "# основная программа\n",
        "draw_triangle()  # вызов функции"
      ],
      "metadata": {
        "id": "0qlg3QZmxPbe",
        "colab": {
          "base_uri": "https://localhost:8080/"
        },
        "outputId": "de434d29-4900-4268-a783-eb15d5337f1a"
      },
      "execution_count": 6,
      "outputs": [
        {
          "output_type": "stream",
          "name": "stdout",
          "text": [
            "       *\n",
            "      ***\n",
            "     *****\n",
            "    *******\n",
            "   *********\n",
            "  ***********\n",
            " *************\n",
            "***************\n"
          ]
        }
      ]
    },
    {
      "cell_type": "code",
      "source": [
        "###"
      ],
      "metadata": {
        "id": "ZtN57rcdxPe5"
      },
      "execution_count": null,
      "outputs": []
    },
    {
      "cell_type": "code",
      "source": [
        "--26\n",
        "# объявление функции\n",
        "def get_shipping_cost(quantity):\n",
        "    return 1000 + (quantity - 1) * 120\n",
        "\n",
        "# считываем данные\n",
        "n = 3\n",
        "\n",
        "# вызываем функцию\n",
        "print(get_shipping_cost(n))"
      ],
      "metadata": {
        "id": "y7XaOliZxPip",
        "colab": {
          "base_uri": "https://localhost:8080/"
        },
        "outputId": "dbfe2fee-5b41-4c87-ec5a-c0953eb017a5"
      },
      "execution_count": 7,
      "outputs": [
        {
          "output_type": "stream",
          "name": "stdout",
          "text": [
            "1240\n"
          ]
        }
      ]
    },
    {
      "cell_type": "code",
      "source": [
        "###"
      ],
      "metadata": {
        "id": "wRmx0dPlxPmW"
      },
      "execution_count": null,
      "outputs": []
    },
    {
      "cell_type": "code",
      "source": [
        "--27\n",
        "# объявляем функцию, возвращающую факториал числа\n",
        "def get_factorial(num):\n",
        "    res = 1\n",
        "    iter = 1\n",
        "    while iter <= num:\n",
        "        res *= iter\n",
        "        iter += 1\n",
        "    return res\n",
        "\n",
        "\n",
        "# объявление функции\n",
        "def compute_binom(n, k):\n",
        "    part1 = get_factorial(n)\n",
        "    part2 = get_factorial(k) * get_factorial(n - k)\n",
        "    return int(part1 / part2)\n",
        "\n",
        "\n",
        "# считываем данные\n",
        "n = 64\n",
        "k = 7\n",
        "\n",
        "# вызываем функцию\n",
        "print(compute_binom(n, k))"
      ],
      "metadata": {
        "id": "QFv14Xb8xPp9",
        "colab": {
          "base_uri": "https://localhost:8080/"
        },
        "outputId": "181788f0-a729-42d5-d3fe-e71aba6af2dd"
      },
      "execution_count": 22,
      "outputs": [
        {
          "output_type": "stream",
          "name": "stdout",
          "text": [
            "621216192\n"
          ]
        }
      ]
    },
    {
      "cell_type": "code",
      "source": [
        "def get_factorial(num):\n",
        "    res = 1\n",
        "    iter = 1\n",
        "    while iter <= num:\n",
        "        res *= iter\n",
        "        iter += 1\n",
        "    return res\n",
        "\n",
        "get_factorial(37)"
      ],
      "metadata": {
        "colab": {
          "base_uri": "https://localhost:8080/"
        },
        "id": "pRw1rhmn5SnU",
        "outputId": "da330aa6-2300-48a2-8da6-feb54bf11eed"
      },
      "execution_count": 15,
      "outputs": [
        {
          "output_type": "execute_result",
          "data": {
            "text/plain": [
              "13763753091226345046315979581580902400000000"
            ]
          },
          "metadata": {},
          "execution_count": 15
        }
      ]
    },
    {
      "cell_type": "code",
      "source": [
        "###"
      ],
      "metadata": {
        "id": "fjzr9xnVxPuG"
      },
      "execution_count": null,
      "outputs": []
    },
    {
      "cell_type": "code",
      "source": [
        "--28\n",
        "digits_part_1 = [\n",
        "    'ноль', 'один', 'два', 'три', 'четыре', 'пять',\n",
        "    'шесть', 'семь', 'восемь', 'девять'\n",
        "]\n",
        "\n",
        "digits_part_2 = [\n",
        "    'десять', 'одиннадцать', 'двенадцать', 'тринадцать',\n",
        "    'четырнадцать', 'пятнадцать', 'шестнадцать',\n",
        "    'семнадцать', 'восемнадцать', 'девятнадцать'\n",
        "]\n",
        "\n",
        "digits_part_3 = [\n",
        "    ' ', ' ', 'двадцать', 'тридцать', 'сорок', 'пятьдесят',\n",
        "    'шестьдесят', 'семьдесят', 'восемьдесят', 'девяносто'\n",
        "]\n",
        "\n",
        "# объявление функции\n",
        "def number_to_words(num):\n",
        "    if num < 10:\n",
        "        return digits_part_1[num]\n",
        "    elif 10 <= num <= 19:\n",
        "        return digits_part_2[int(num % 10)]\n",
        "    elif 20 <= num <= 99 and num % 10 == 0:\n",
        "        return digits_part_3[int(num / 10)]\n",
        "    else:\n",
        "        return ' '.join([\n",
        "            digits_part_3[int(num / 10)],\n",
        "            digits_part_1[int(num % 10)]\n",
        "            ])\n",
        "\n",
        "# считываем данные\n",
        "n = 77\n",
        "\n",
        "# вызываем функцию\n",
        "print(number_to_words(n))"
      ],
      "metadata": {
        "id": "bdkZK7OuxPyA",
        "colab": {
          "base_uri": "https://localhost:8080/"
        },
        "outputId": "4026cdf9-8ecb-4dfd-aea8-79df1d8fc26b"
      },
      "execution_count": 33,
      "outputs": [
        {
          "output_type": "stream",
          "name": "stdout",
          "text": [
            "семьдесят семь\n"
          ]
        }
      ]
    },
    {
      "cell_type": "code",
      "source": [
        "###"
      ],
      "metadata": {
        "id": "8phLsIZ9xP2A"
      },
      "execution_count": null,
      "outputs": []
    },
    {
      "cell_type": "code",
      "source": [
        "--29\n",
        "months_ru = [\n",
        "    '', 'январь', 'февраль', 'март',\n",
        "    'апрель', 'май', 'июнь',\n",
        "    'июль', 'август', 'сентябрь',\n",
        "    'октябрь', 'ноябрь', 'декабрь'\n",
        "]\n",
        "\n",
        "months_en = [\n",
        "    '', 'january', 'february', 'march',\n",
        "    'april', 'may', 'june',\n",
        "    'july', 'august', 'september',\n",
        "    'october', 'november', 'december'\n",
        "]\n",
        "\n",
        "# объявление функции\n",
        "def get_month(language, number):\n",
        "    if language == 'ru':\n",
        "        return months_ru[number]\n",
        "    else:\n",
        "        return months_en[number]\n",
        "\n",
        "# считываем данные\n",
        "lan = 'ru'\n",
        "num = 5\n",
        "\n",
        "# вызываем функцию\n",
        "print(get_month(lan, num))"
      ],
      "metadata": {
        "id": "nq7tJ73MxP6V",
        "colab": {
          "base_uri": "https://localhost:8080/"
        },
        "outputId": "00f3b9f7-dbd8-4d8e-8b8e-fcb522268321"
      },
      "execution_count": 35,
      "outputs": [
        {
          "output_type": "stream",
          "name": "stdout",
          "text": [
            "май\n"
          ]
        }
      ]
    },
    {
      "cell_type": "code",
      "source": [
        "###"
      ],
      "metadata": {
        "id": "jeptAl0ExQaA"
      },
      "execution_count": null,
      "outputs": []
    },
    {
      "cell_type": "code",
      "source": [
        "--30\n",
        "# 1-й вариант решения\n",
        "\n",
        "# объявление функции\n",
        "def is_magic(date):\n",
        "    date = date.split('.')\n",
        "    first_num = int(date[0][1]) if date[0][0] == '0' else int(date[0])\n",
        "    second_num = int(date[1][1]) if date[1][0] == '0' else int(date[1])\n",
        "    third_num = int(date[2][1]) if date[2][2] == '0' else int(date[2][2:])\n",
        "    return first_num * second_num == third_num\n",
        "\n",
        "\n",
        "# считываем данные\n",
        "date = '11.06.1960'\n",
        "\n",
        "# вызываем функцию\n",
        "print(is_magic(date))"
      ],
      "metadata": {
        "id": "KOZ_S1Mo3nYx",
        "colab": {
          "base_uri": "https://localhost:8080/"
        },
        "outputId": "4c83dd90-14be-40f3-d3fa-51b2297aa365"
      },
      "execution_count": 47,
      "outputs": [
        {
          "output_type": "stream",
          "name": "stdout",
          "text": [
            "False\n"
          ]
        }
      ]
    },
    {
      "cell_type": "code",
      "source": [
        "###"
      ],
      "metadata": {
        "id": "gx80lzgk3nb4"
      },
      "execution_count": null,
      "outputs": []
    },
    {
      "cell_type": "code",
      "source": [
        "--31\n",
        "# 2-й вариант решения\n",
        "# объявление функции\n",
        "def is_magic(date):\n",
        "    date = date.split('.')\n",
        "    return int(date[0]) * int(date[1]) == int(date[2][2:])\n",
        "\n",
        "\n",
        "# считываем данные\n",
        "date = '11.06.1960'\n",
        "\n",
        "# вызываем функцию\n",
        "print(is_magic(date))"
      ],
      "metadata": {
        "colab": {
          "base_uri": "https://localhost:8080/"
        },
        "id": "gJMs_W94Clf9",
        "outputId": "c2f614e4-cdc7-4d86-8b07-25dae97b0568"
      },
      "execution_count": 56,
      "outputs": [
        {
          "output_type": "stream",
          "name": "stdout",
          "text": [
            "False\n"
          ]
        }
      ]
    },
    {
      "cell_type": "code",
      "source": [
        "###"
      ],
      "metadata": {
        "id": "_I_md5AACljG"
      },
      "execution_count": null,
      "outputs": []
    },
    {
      "cell_type": "code",
      "source": [
        "--32\n",
        "#1-й вариант решения\n",
        "\n",
        "# объявление функции\n",
        "def is_pangram(text):\n",
        "    alphas = 'abcdefghijklmnopqrstuvwxyz'\n",
        "    counter = 0\n",
        "\n",
        "    text = text.lower()\n",
        "    text = text.replace(' ', '')\n",
        "\n",
        "    for i in alphas:\n",
        "        if i in text:\n",
        "            counter += 1\n",
        "    return True if counter == 26 else False\n",
        "\n",
        "\n",
        "# считываем данные\n",
        "text = 'The jay pig fox zebra and my wolves quack'\n",
        "\n",
        "# вызываем функцию\n",
        "print(is_pangram(text))"
      ],
      "metadata": {
        "colab": {
          "base_uri": "https://localhost:8080/"
        },
        "id": "1Za5IaNGClmS",
        "outputId": "1f976c8d-9b1b-4e86-ade4-7f483b1d2569"
      },
      "execution_count": 64,
      "outputs": [
        {
          "output_type": "stream",
          "name": "stdout",
          "text": [
            "True\n"
          ]
        }
      ]
    },
    {
      "cell_type": "code",
      "source": [
        "###"
      ],
      "metadata": {
        "id": "56qcAPbb3nfT"
      },
      "execution_count": null,
      "outputs": []
    },
    {
      "cell_type": "code",
      "source": [
        "--32\n",
        "#2-й вариант решения\n",
        "\n",
        "# объявление функции\n",
        "def is_pangram(text):\n",
        "    text = text.lower()\n",
        "    for i in range(ord('a'), ord('z') + 1):\n",
        "        if chr(i) not in text:\n",
        "            return False\n",
        "    return True\n",
        "\n",
        "\n",
        "# считываем данные\n",
        "text = 'The jay pig fox zebra and my wolves quack'\n",
        "\n",
        "# вызываем функцию\n",
        "print(is_pangram(text))"
      ],
      "metadata": {
        "colab": {
          "base_uri": "https://localhost:8080/"
        },
        "id": "xTx9r6-eMOj2",
        "outputId": "aab301dc-0280-49d5-9c13-1b244a3e56ef"
      },
      "execution_count": 66,
      "outputs": [
        {
          "output_type": "stream",
          "name": "stdout",
          "text": [
            "True\n"
          ]
        }
      ]
    },
    {
      "cell_type": "code",
      "source": [],
      "metadata": {
        "id": "yjqy-lOoMOp1"
      },
      "execution_count": null,
      "outputs": []
    }
  ]
}