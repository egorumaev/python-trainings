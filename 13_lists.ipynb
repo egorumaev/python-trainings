{
  "nbformat": 4,
  "nbformat_minor": 0,
  "metadata": {
    "colab": {
      "provenance": []
    },
    "kernelspec": {
      "name": "python3",
      "display_name": "Python 3"
    },
    "language_info": {
      "name": "python"
    }
  },
  "cells": [
    {
      "cell_type": "markdown",
      "source": [
        "# **<font color='crimson'>PYTHON. Lists</font>**\n",
        "\n",
        "---"
      ],
      "metadata": {
        "id": "CjT5w9s6YcKa"
      }
    },
    {
      "cell_type": "code",
      "execution_count": null,
      "metadata": {
        "id": "CoEAJXqDYV9Z"
      },
      "outputs": [],
      "source": [
        "###"
      ]
    },
    {
      "cell_type": "code",
      "source": [
        "--1\n",
        "n = int(input())\n",
        "\n",
        "stroka = ''\n",
        "\n",
        "for i in range(n):\n",
        "    lettre = chr(ord('a') + i)\n",
        "    stroka += lettre\n",
        "\n",
        "array = [*stroka]\n",
        "print(array)"
      ],
      "metadata": {
        "id": "dL7LH9xGYbjq"
      },
      "execution_count": null,
      "outputs": []
    },
    {
      "cell_type": "code",
      "source": [
        "###"
      ],
      "metadata": {
        "id": "QET62ZQZYbwU"
      },
      "execution_count": null,
      "outputs": []
    },
    {
      "cell_type": "code",
      "source": [
        "--2\n",
        "res = []\n",
        "\n",
        "for i in range(26):\n",
        "    res.append(chr(ord('a') + i) * (i + 1))\n",
        "\n",
        "print(res)"
      ],
      "metadata": {
        "id": "HC8BdWVKYbzq"
      },
      "execution_count": null,
      "outputs": []
    },
    {
      "cell_type": "code",
      "source": [
        "###"
      ],
      "metadata": {
        "id": "YeB8zIlhYb2w"
      },
      "execution_count": null,
      "outputs": []
    },
    {
      "cell_type": "code",
      "source": [
        "--3\n",
        "n = int(input())\n",
        "\n",
        "array = []\n",
        "\n",
        "for _ in range(n):\n",
        "    array.append(int(input()) ** 3)\n",
        "\n",
        "print(array)"
      ],
      "metadata": {
        "id": "ymfpqAcTYb58"
      },
      "execution_count": null,
      "outputs": []
    },
    {
      "cell_type": "code",
      "source": [
        "###"
      ],
      "metadata": {
        "id": "WGz6Ob9YYb9H"
      },
      "execution_count": null,
      "outputs": []
    },
    {
      "cell_type": "code",
      "source": [
        "--4\n",
        "n = int(input())\n",
        "\n",
        "second_bound = int(n // 2 + 1)\n",
        "\n",
        "res = []\n",
        "\n",
        "for i in range(1, second_bound):\n",
        "    if n % i == 0:\n",
        "        res.append(i)\n",
        "\n",
        "res += [n]\n",
        "\n",
        "print(res)"
      ],
      "metadata": {
        "id": "rGkEmH5mYcAk"
      },
      "execution_count": null,
      "outputs": []
    },
    {
      "cell_type": "code",
      "source": [
        "###"
      ],
      "metadata": {
        "id": "uAScR1WHYcD5"
      },
      "execution_count": null,
      "outputs": []
    },
    {
      "cell_type": "code",
      "source": [
        "--5\n",
        "n = int(input())\n",
        "\n",
        "array = [int(input()) for _ in range(n)]\n",
        "\n",
        "new_array = []\n",
        "iter = 0\n",
        "\n",
        "while iter < len(array) - 1:\n",
        "    new_array.append(array[iter] + array[iter + 1])\n",
        "    iter += 1\n",
        "\n",
        "print(new_array)"
      ],
      "metadata": {
        "id": "FntudgP5YcHA"
      },
      "execution_count": null,
      "outputs": []
    },
    {
      "cell_type": "code",
      "execution_count": null,
      "metadata": {
        "id": "_rbe8PUdYj33"
      },
      "outputs": [],
      "source": [
        "###"
      ]
    },
    {
      "cell_type": "code",
      "source": [
        "--6\n",
        "n = int(input())\n",
        "\n",
        "array = []\n",
        "\n",
        "for _ in range(n):\n",
        "    array.append(int(input()))\n",
        "\n",
        "del array[1::2]\n",
        "\n",
        "print(array)"
      ],
      "metadata": {
        "id": "9GQe84SnYj34"
      },
      "execution_count": null,
      "outputs": []
    },
    {
      "cell_type": "code",
      "source": [
        "###"
      ],
      "metadata": {
        "id": "ITPNY4zBYj35"
      },
      "execution_count": null,
      "outputs": []
    },
    {
      "cell_type": "code",
      "source": [
        "--7\n",
        "n = int(input())\n",
        "\n",
        "array = []\n",
        "\n",
        "for _ in range(n):\n",
        "    array.append(input())\n",
        "\n",
        "k = int(input()) - 1\n",
        "\n",
        "for char in array:\n",
        "    if len(char) >= k + 1:\n",
        "        print(char[k], end = '')"
      ],
      "metadata": {
        "id": "g8BJQ4BtYj35"
      },
      "execution_count": null,
      "outputs": []
    },
    {
      "cell_type": "code",
      "source": [
        "###"
      ],
      "metadata": {
        "id": "mgFG8OxJYj37"
      },
      "execution_count": null,
      "outputs": []
    },
    {
      "cell_type": "code",
      "source": [
        "--8\n",
        "n = int(input())\n",
        "\n",
        "array = []\n",
        "\n",
        "for _ in range(n):\n",
        "    array.extend(input())\n",
        "\n",
        "print(array)"
      ],
      "metadata": {
        "id": "SHszfeNEYj37"
      },
      "execution_count": null,
      "outputs": []
    },
    {
      "cell_type": "code",
      "source": [
        "###"
      ],
      "metadata": {
        "id": "KvRH-_dCYj38"
      },
      "execution_count": null,
      "outputs": []
    },
    {
      "cell_type": "code",
      "source": [
        "--9\n",
        "numbers = [1, 78, 23, -65, 99, 9089, 34, -32, 0, -67, 1, 11, 111]\n",
        "\n",
        "numbers_squared = [num ** 2 for num in numbers]\n",
        "\n",
        "res = sum(numbers_squared)\n",
        "\n",
        "print(res)"
      ],
      "metadata": {
        "id": "Aj95I3ljAhAh"
      },
      "execution_count": null,
      "outputs": []
    },
    {
      "cell_type": "code",
      "execution_count": null,
      "metadata": {
        "id": "VxwzNTVYYkGF"
      },
      "outputs": [],
      "source": [
        "###"
      ]
    },
    {
      "cell_type": "code",
      "source": [
        "--10\n",
        "n = int(input())\n",
        "\n",
        "array_1 = []\n",
        "array_2 = []\n",
        "\n",
        "for _ in range(n):\n",
        "    array_1.append(int(input()))\n",
        "\n",
        "for x in array_1:\n",
        "    array_2.append(x ** 2 + 2 * x + 1)\n",
        "\n",
        "print(*array_1, sep = '\\n')\n",
        "print()\n",
        "print(*array_2, sep = '\\n')"
      ],
      "metadata": {
        "id": "taCAZApGYkGF"
      },
      "execution_count": null,
      "outputs": []
    },
    {
      "cell_type": "code",
      "source": [
        "###"
      ],
      "metadata": {
        "id": "Mp9AlNSMYkGF"
      },
      "execution_count": null,
      "outputs": []
    },
    {
      "cell_type": "code",
      "source": [
        "--11\n",
        "n = int(input())\n",
        "\n",
        "array = [int(input()) for _ in range(n)]\n",
        "\n",
        "max_num = max(array)\n",
        "min_num = min(array)\n",
        "\n",
        "array.remove(max_num)\n",
        "array.remove(min_num)\n",
        "\n",
        "print(*array, sep = '\\n')"
      ],
      "metadata": {
        "id": "BzMGd9aEYkGF"
      },
      "execution_count": null,
      "outputs": []
    },
    {
      "cell_type": "code",
      "source": [
        "###"
      ],
      "metadata": {
        "id": "HzHKJKPkYkGF"
      },
      "execution_count": null,
      "outputs": []
    },
    {
      "cell_type": "code",
      "source": [
        "--12\n",
        "n = int(input())\n",
        "\n",
        "collection = [input() for _ in range(n)]\n",
        "\n",
        "res = []\n",
        "\n",
        "for sentence in collection:\n",
        "    if sentence not in res:\n",
        "        res.append(sentence)\n",
        "\n",
        "print(*res, sep = '\\n')"
      ],
      "metadata": {
        "id": "7-UONghTYkGF"
      },
      "execution_count": null,
      "outputs": []
    },
    {
      "cell_type": "code",
      "source": [
        "###"
      ],
      "metadata": {
        "id": "VUlBI8hVYkGG"
      },
      "execution_count": null,
      "outputs": []
    },
    {
      "cell_type": "code",
      "source": [
        "--13\n",
        "n = int(input())\n",
        "\n",
        "collection = [input() for _ in range(n)]\n",
        "\n",
        "request = input()\n",
        "\n",
        "for sentence in collection:\n",
        "    if request.lower() in sentence.lower():\n",
        "        print(sentence)"
      ],
      "metadata": {
        "id": "ShgrBwT2YkGG"
      },
      "execution_count": null,
      "outputs": []
    },
    {
      "cell_type": "code",
      "source": [
        "###"
      ],
      "metadata": {
        "id": "Qy3hGaWeYkGG"
      },
      "execution_count": null,
      "outputs": []
    },
    {
      "cell_type": "code",
      "source": [
        "--14\n",
        "n = int(input())\n",
        "collection = [input() for _ in range(n)]\n",
        "\n",
        "k = int(input())\n",
        "requests = [input() for _ in range(k)]\n",
        "\n",
        "len_requests = len(requests)\n",
        "\n",
        "for sentence in collection:\n",
        "    counter = 0\n",
        "    for request in requests:\n",
        "        if request.lower() in sentence.lower():\n",
        "            counter += 1\n",
        "    if counter == len_requests:\n",
        "        print(sentence)"
      ],
      "metadata": {
        "id": "glQPUg5FYkGG"
      },
      "execution_count": null,
      "outputs": []
    },
    {
      "cell_type": "code",
      "execution_count": null,
      "metadata": {
        "id": "8ul9uboYYkS5"
      },
      "outputs": [],
      "source": [
        "###"
      ]
    },
    {
      "cell_type": "code",
      "source": [
        "--15\n",
        "n = int(input())\n",
        "\n",
        "array = [int(input()) for _ in range(n)]\n",
        "\n",
        "res1 = [i for i in array if i < 0]\n",
        "res2 = [i for i in array if i == 0]\n",
        "res3 = [i for i in array if i > 0]\n",
        "\n",
        "res = res1 + res2 + res3\n",
        "\n",
        "print(*res, sep = '\\n')"
      ],
      "metadata": {
        "id": "nZMvz5YvYkS6"
      },
      "execution_count": null,
      "outputs": []
    },
    {
      "cell_type": "code",
      "source": [
        "###"
      ],
      "metadata": {
        "id": "yOOUrKH9YkS6"
      },
      "execution_count": null,
      "outputs": []
    },
    {
      "cell_type": "code",
      "source": [
        "--16\n",
        "text = input().split()\n",
        "\n",
        "for char in text:\n",
        "    print(f'{char[0]}.', end = '')"
      ],
      "metadata": {
        "id": "qQqb_DZTYkS7"
      },
      "execution_count": null,
      "outputs": []
    },
    {
      "cell_type": "code",
      "source": [
        "###"
      ],
      "metadata": {
        "id": "j6Gtn9sNYkS7"
      },
      "execution_count": null,
      "outputs": []
    },
    {
      "cell_type": "code",
      "source": [
        "--17\n",
        "text = input().split('\\\\')\n",
        "\n",
        "print(*text, sep = '\\n')"
      ],
      "metadata": {
        "id": "UtGiFwHMYkS7"
      },
      "execution_count": null,
      "outputs": []
    },
    {
      "cell_type": "code",
      "source": [
        "###"
      ],
      "metadata": {
        "id": "bJKWSHfgYkS8"
      },
      "execution_count": null,
      "outputs": []
    },
    {
      "cell_type": "code",
      "source": [
        "--18\n",
        "ip = [int(x) for x in input().split('.')]\n",
        "\n",
        "for i in ip:\n",
        "    if i < 0 or i > 255:\n",
        "        print('НЕТ')\n",
        "        break\n",
        "else:\n",
        "    print('ДА')"
      ],
      "metadata": {
        "id": "bCVbtJqeYkS_"
      },
      "execution_count": null,
      "outputs": []
    },
    {
      "cell_type": "code",
      "source": [
        "###"
      ],
      "metadata": {
        "id": "KNtah0D5Ykg2"
      },
      "execution_count": null,
      "outputs": []
    },
    {
      "cell_type": "code",
      "source": [
        "--19\n",
        "text = input()\n",
        "separator = input()\n",
        "\n",
        "text = [*text]\n",
        "\n",
        "res = (separator).join(text)\n",
        "\n",
        "print(res)"
      ],
      "metadata": {
        "id": "IbVw-CWVxOuy"
      },
      "execution_count": null,
      "outputs": []
    },
    {
      "cell_type": "code",
      "source": [
        "###"
      ],
      "metadata": {
        "id": "GWui7EJYxOyo"
      },
      "execution_count": null,
      "outputs": []
    },
    {
      "cell_type": "code",
      "source": [
        "--20\n",
        "seq = [int(x) for x in input().split()]\n",
        "\n",
        "counter = 0\n",
        "\n",
        "for i in range(len(seq) - 1):\n",
        "    for j in range(i + 1, len(seq)):\n",
        "        if seq[i] == seq[j]:\n",
        "            counter += 1\n",
        "\n",
        "print(counter)"
      ],
      "metadata": {
        "id": "vQbCCQHTxO29"
      },
      "execution_count": null,
      "outputs": []
    },
    {
      "cell_type": "code",
      "source": [
        "###"
      ],
      "metadata": {
        "id": "wq6Bz-_DxO66"
      },
      "execution_count": null,
      "outputs": []
    },
    {
      "cell_type": "code",
      "source": [
        "--21\n",
        "numbers = [8, 9, 10, 11]\n",
        "\n",
        "numbers[1] = 17\n",
        "numbers.extend([4, 5, 6])\n",
        "numbers.pop(0)\n",
        "numbers *= 2\n",
        "numbers.insert(3, 25)\n",
        "\n",
        "print(numbers)"
      ],
      "metadata": {
        "id": "xGK170kjxO-U",
        "colab": {
          "base_uri": "https://localhost:8080/"
        },
        "outputId": "08a9d8f9-234d-4806-a444-e73fc36d20c9"
      },
      "execution_count": null,
      "outputs": [
        {
          "output_type": "stream",
          "name": "stdout",
          "text": [
            "17 10 11 25 4 5 6 17 10 11 4 5 6\n"
          ]
        }
      ]
    },
    {
      "cell_type": "code",
      "source": [
        "###"
      ],
      "metadata": {
        "id": "4RkxTCLdxPB7"
      },
      "execution_count": null,
      "outputs": []
    },
    {
      "cell_type": "code",
      "source": [
        "--22\n",
        "seq = [int(x) for x in input().split()]\n",
        "\n",
        "max_number = max(seq)\n",
        "min_number = min(seq)\n",
        "\n",
        "max_index = seq.index(max_number)\n",
        "min_index = seq.index(min_number)\n",
        "\n",
        "seq[max_index] = min_number\n",
        "seq[min_index] = max_number\n",
        "\n",
        "print(*seq)"
      ],
      "metadata": {
        "id": "fbiKpkypxPFt"
      },
      "execution_count": null,
      "outputs": []
    },
    {
      "cell_type": "code",
      "source": [
        "###"
      ],
      "metadata": {
        "id": "-67IQabBxPJf"
      },
      "execution_count": null,
      "outputs": []
    },
    {
      "cell_type": "code",
      "source": [
        "--23\n",
        "text = input().lower().split()\n",
        "\n",
        "articles = ['a', 'an', 'the']\n",
        "\n",
        "counter = [text.count(x) for x in articles]\n",
        "\n",
        "print(f'Общее количество артиклей: {sum(counter)}')"
      ],
      "metadata": {
        "id": "qpqJDx_-xPNL"
      },
      "execution_count": null,
      "outputs": []
    },
    {
      "cell_type": "code",
      "source": [
        "###"
      ],
      "metadata": {
        "id": "Q4j0_TxRxPQ2"
      },
      "execution_count": null,
      "outputs": []
    },
    {
      "cell_type": "code",
      "source": [
        "--24\n",
        "n = int(input()[1:])\n",
        "\n",
        "for _ in range(n):\n",
        "    temp = input()\n",
        "    if '#' not in temp:\n",
        "        temp = temp.rstrip()\n",
        "        print(temp)\n",
        "    else:\n",
        "        temp = temp.split('#')[0]\n",
        "        temp = temp.rstrip()\n",
        "        print(temp)"
      ],
      "metadata": {
        "id": "m_n4nRlexPUP"
      },
      "execution_count": null,
      "outputs": []
    },
    {
      "cell_type": "code",
      "source": [
        "###"
      ],
      "metadata": {
        "id": "3Cb6ZRYixPX1"
      },
      "execution_count": null,
      "outputs": []
    },
    {
      "cell_type": "code",
      "source": [
        "--25\n",
        "seq = [int(x) for x in input().split()]\n",
        "\n",
        "seq.sort()\n",
        "print(*seq)\n",
        "\n",
        "seq.sort(reverse = True)\n",
        "print(*seq)"
      ],
      "metadata": {
        "id": "0qlg3QZmxPbe"
      },
      "execution_count": null,
      "outputs": []
    },
    {
      "cell_type": "code",
      "source": [
        "###"
      ],
      "metadata": {
        "id": "ZtN57rcdxPe5"
      },
      "execution_count": null,
      "outputs": []
    },
    {
      "cell_type": "code",
      "source": [
        "--26\n",
        "palindromes = [x for x in range(100, 1001) if str(x) == str(x)[::-1]]\n",
        "\n",
        "print(palindromes)"
      ],
      "metadata": {
        "id": "y7XaOliZxPip"
      },
      "execution_count": null,
      "outputs": []
    },
    {
      "cell_type": "code",
      "source": [
        "###"
      ],
      "metadata": {
        "id": "wRmx0dPlxPmW"
      },
      "execution_count": null,
      "outputs": []
    },
    {
      "cell_type": "code",
      "source": [
        "--27\n",
        "palindromes = [x for x in range(100, 1001) if x % 10 == x // 100]\n",
        "\n",
        "print(palindromes)"
      ],
      "metadata": {
        "id": "QFv14Xb8xPp9"
      },
      "execution_count": null,
      "outputs": []
    },
    {
      "cell_type": "code",
      "source": [
        "###"
      ],
      "metadata": {
        "id": "fjzr9xnVxPuG"
      },
      "execution_count": null,
      "outputs": []
    },
    {
      "cell_type": "code",
      "source": [
        "--28\n",
        "n = int(input())\n",
        "\n",
        "seq = [x ** 2 for x in range(1, n + 1)]\n",
        "\n",
        "print(*seq, sep = '\\n')"
      ],
      "metadata": {
        "id": "bdkZK7OuxPyA"
      },
      "execution_count": null,
      "outputs": []
    },
    {
      "cell_type": "code",
      "source": [
        "###"
      ],
      "metadata": {
        "id": "8phLsIZ9xP2A"
      },
      "execution_count": null,
      "outputs": []
    },
    {
      "cell_type": "code",
      "source": [
        "--29\n",
        "seq = input().split()\n",
        "\n",
        "res = [int(x) ** 3 for x in seq]\n",
        "\n",
        "print(*res)"
      ],
      "metadata": {
        "id": "nq7tJ73MxP6V"
      },
      "execution_count": null,
      "outputs": []
    },
    {
      "cell_type": "code",
      "source": [
        "###"
      ],
      "metadata": {
        "id": "jeptAl0ExQaA"
      },
      "execution_count": null,
      "outputs": []
    },
    {
      "cell_type": "code",
      "source": [
        "--30\n",
        "text = input().split()\n",
        "\n",
        "print(*text, sep = '\\n')"
      ],
      "metadata": {
        "id": "KOZ_S1Mo3nYx"
      },
      "execution_count": null,
      "outputs": []
    },
    {
      "cell_type": "code",
      "source": [
        "###"
      ],
      "metadata": {
        "id": "gx80lzgk3nb4"
      },
      "execution_count": null,
      "outputs": []
    },
    {
      "cell_type": "code",
      "source": [
        "--31\n",
        "text = input()\n",
        "\n",
        "digits = '0123456789'\n",
        "\n",
        "res = [x for x in text if x in digits]\n",
        "\n",
        "res = ''.join(res)\n",
        "\n",
        "print(res)"
      ],
      "metadata": {
        "id": "q3wnsFJH3aM_"
      },
      "execution_count": null,
      "outputs": []
    },
    {
      "cell_type": "code",
      "source": [
        "###"
      ],
      "metadata": {
        "id": "IV72lola3aQI"
      },
      "execution_count": null,
      "outputs": []
    },
    {
      "cell_type": "code",
      "source": [
        "--32\n",
        "seq = [int(x) for x in input().split()]\n",
        "\n",
        "res = [x ** 2 for x in seq if x % 2 == 0 and x ** 2 % 10 != 4]\n",
        "\n",
        "print(*res)"
      ],
      "metadata": {
        "id": "jivVZxe-3aTQ"
      },
      "execution_count": null,
      "outputs": []
    },
    {
      "cell_type": "code",
      "source": [
        "###"
      ],
      "metadata": {
        "id": "56qcAPbb3nfT"
      },
      "execution_count": null,
      "outputs": []
    },
    {
      "cell_type": "code",
      "source": [
        "--33\n",
        "# сортировка пузырьком\n",
        "a = [\n",
        "    17, 24, 91, 96, 67, -27, 79, -71, -71, 58, 48, 88,\n",
        "    88, -16, -78, 96, -76, 56, 92, 1, 32, -17, 36, 88,\n",
        "    -61, -97, -37, -84, 50, 47, 94, -6, 52, -76, 93,\n",
        "    14, -32, 98, -65, -16, -9, -68, -20, -40, -71, 93,\n",
        "    -91, 44, 25, 79, 97, 0, -94, 7, -47, -96, -55, -58,\n",
        "    -78, -78, -79, 75, 44, -56, -41, 38, 16, 70, 17, -17,\n",
        "    -24, -83, -74, -73, 11, -26, 63, -75, -19, -13, -51,\n",
        "    -74, 21, -8, 21, -68, -66, -84, -95, 78, 69, -29, 39,\n",
        "    38, -55, 7, -11, -26, -62, -84\n",
        "]\n",
        "\n",
        "n = len(a)\n",
        "\n",
        "for i in range(n - 1):\n",
        "    count = 0\n",
        "    for j in range(n - i - 1):\n",
        "        if a[j] > a[j + 1]:\n",
        "            count += 1\n",
        "            a[j], a[j + 1] = a[j + 1], a[j]\n",
        "    if count == 0:\n",
        "        break\n",
        "\n",
        "print(a)"
      ],
      "metadata": {
        "id": "246DxuIaGZUI"
      },
      "execution_count": null,
      "outputs": []
    },
    {
      "cell_type": "code",
      "source": [
        "###"
      ],
      "metadata": {
        "id": "VZLPb4OTGZXL"
      },
      "execution_count": null,
      "outputs": []
    },
    {
      "cell_type": "code",
      "source": [
        "--34\n",
        "# сортировка выбором\n",
        "\n",
        "a = [\n",
        "    78, -32, 5, 39, 58, -5, -63, 57, 72, 9, 53, -1, 63,\n",
        "    -97, -21, -94, -47, 57, -8, 60, -23, -72, -22, -79,\n",
        "    90, 96, -41, -71, -48, 84, 89, -96, 41, -16, 94, -60,\n",
        "    -64, -39, 60, -14, -62, -19, -3, 32, 98, 14, 43, 3,\n",
        "    -56, 71, -71, -67, 80, 27, 92, 92, -64, 0, -77, 2,\n",
        "    -26, 41, 3, -31, 48, 39, 20, -30, 35, 32, -58, 2, 63,\n",
        "    64, 66, 62, 82, -62, 9, -52, 35, -61, 87, 78, 93, -42,\n",
        "    87, -72, -10, -36, 61, -16, 59, 59, 22, -24, -67, 76, -94, 59\n",
        "]\n",
        "\n",
        "n = len(a)\n",
        "last_index = n - 1\n",
        "\n",
        "for i in range(n - 1):\n",
        "    max_value = a[0]\n",
        "    for j in range(n - i):\n",
        "        if a[j] >= max_value:\n",
        "            max_value = a[j]\n",
        "    max_index = a.index(max_value)\n",
        "    a[max_index], a[last_index] = a[last_index], a[max_index]\n",
        "    last_index -= 1"
      ],
      "metadata": {
        "id": "FeylGYOAGZaH"
      },
      "execution_count": null,
      "outputs": []
    },
    {
      "cell_type": "code",
      "source": [
        "###"
      ],
      "metadata": {
        "id": "vyeMG1TCGZcw"
      },
      "execution_count": null,
      "outputs": []
    },
    {
      "cell_type": "code",
      "source": [
        "--35\n",
        "n = int(input())\n",
        "\n",
        "res = [*range(2, n + 1, 2)]\n",
        "\n",
        "print(res)"
      ],
      "metadata": {
        "id": "vuPDnnXWTtF_"
      },
      "execution_count": null,
      "outputs": []
    },
    {
      "cell_type": "code",
      "source": [
        "###"
      ],
      "metadata": {
        "id": "XprxuVxoTtJZ"
      },
      "execution_count": null,
      "outputs": []
    },
    {
      "cell_type": "code",
      "source": [
        "--36\n",
        "L = [int(x) for x in input().split()]\n",
        "M = [int(x) for x in input().split()]\n",
        "\n",
        "res = []\n",
        "\n",
        "for i in range(len(L)):\n",
        "    res.append(L[i] + M[i])\n",
        "\n",
        "print(*res)"
      ],
      "metadata": {
        "id": "4jVyW0K5TtMm"
      },
      "execution_count": null,
      "outputs": []
    },
    {
      "cell_type": "code",
      "source": [
        "###"
      ],
      "metadata": {
        "id": "Q4weFbAiTtP1"
      },
      "execution_count": null,
      "outputs": []
    },
    {
      "cell_type": "code",
      "source": [
        "--37\n",
        "seq = '2 5 11 33 55'\n",
        "\n",
        "part_1 = '+'.join(seq.split(' ')) + '='\n",
        "part_2 = str(sum([int(x) for x in seq.split(' ')]))\n",
        "\n",
        "print(part_1 + part_2)"
      ],
      "metadata": {
        "colab": {
          "base_uri": "https://localhost:8080/"
        },
        "id": "ZJ2cqseLTtTK",
        "outputId": "62661d9a-7d9f-416a-aab3-860e7b5eff9d"
      },
      "execution_count": 19,
      "outputs": [
        {
          "output_type": "stream",
          "name": "stdout",
          "text": [
            "2+5+11+33+55=106\n"
          ]
        }
      ]
    },
    {
      "cell_type": "code",
      "source": [
        "###"
      ],
      "metadata": {
        "id": "1ICddFsHTtWZ"
      },
      "execution_count": null,
      "outputs": []
    },
    {
      "cell_type": "code",
      "source": [
        "--38\n",
        "phone = '3014475820'\n",
        "\n",
        "if len(phone) == 14 and phone[:2] == '7-':\n",
        "    phone = phone[2:]\n",
        "\n",
        "if len(phone) == 12:\n",
        "    temp = phone.split('-')\n",
        "    if (\n",
        "        len(temp[0]) == 3\n",
        "        and len(temp[1]) == 3\n",
        "        and len(temp[2]) == 4\n",
        "        and ''.join(temp).isdigit()):\n",
        "        print('YES')\n",
        "    else:\n",
        "        print('NO')\n",
        "else:\n",
        "    print('NO')"
      ],
      "metadata": {
        "colab": {
          "base_uri": "https://localhost:8080/"
        },
        "id": "QkOmR9XWTtZx",
        "outputId": "8edf05ef-a432-4da0-dcfa-4fdb36e553be"
      },
      "execution_count": 15,
      "outputs": [
        {
          "output_type": "stream",
          "name": "stdout",
          "text": [
            "NO\n"
          ]
        }
      ]
    },
    {
      "cell_type": "code",
      "source": [
        "###"
      ],
      "metadata": {
        "id": "GwsIYWRcTtne"
      },
      "execution_count": null,
      "outputs": []
    },
    {
      "cell_type": "code",
      "source": [
        "--39\n",
        "text = 'проспал почти всю ночь'.split(' ')\n",
        "\n",
        "max_len = len(text[0])\n",
        "\n",
        "for char in text:\n",
        "    if len(char) >= max_len:\n",
        "        max_len = len(char)\n",
        "\n",
        "print(max_len)"
      ],
      "metadata": {
        "colab": {
          "base_uri": "https://localhost:8080/"
        },
        "id": "Yd5yToSNZ0sw",
        "outputId": "db408ab5-bb10-413b-90a3-1a2048056547"
      },
      "execution_count": 20,
      "outputs": [
        {
          "output_type": "stream",
          "name": "stdout",
          "text": [
            "7\n"
          ]
        }
      ]
    },
    {
      "cell_type": "code",
      "source": [
        "###"
      ],
      "metadata": {
        "id": "ng-69doVZ0vx"
      },
      "execution_count": null,
      "outputs": []
    },
    {
      "cell_type": "code",
      "source": [
        "--40\n",
        "len_words = [len(x) for x in 'проспал почти всю ночь'.split(' ')]\n",
        "\n",
        "print(max(len_words))"
      ],
      "metadata": {
        "colab": {
          "base_uri": "https://localhost:8080/"
        },
        "id": "Nfv17ZUdTtrM",
        "outputId": "1a1e6830-98da-47e9-cb1b-b10acfd4e7d5"
      },
      "execution_count": 21,
      "outputs": [
        {
          "output_type": "stream",
          "name": "stdout",
          "text": [
            "7\n"
          ]
        }
      ]
    },
    {
      "cell_type": "code",
      "source": [
        "###"
      ],
      "metadata": {
        "id": "JOZp471IenvT"
      },
      "execution_count": null,
      "outputs": []
    },
    {
      "cell_type": "code",
      "source": [
        "--41\n",
        "text = 'проспал почти всю ночь'\n",
        "\n",
        "youth_jargon = [word[1:] + word[0] + 'ки' for word in text.split(' ')]\n",
        "\n",
        "print(*youth_jargon)"
      ],
      "metadata": {
        "colab": {
          "base_uri": "https://localhost:8080/"
        },
        "id": "gFmY_auVTtu5",
        "outputId": "cf2b1788-9901-4791-9ae9-6b53ef48e211"
      },
      "execution_count": 23,
      "outputs": [
        {
          "output_type": "stream",
          "name": "stdout",
          "text": [
            "роспалпки очтипки сювки очьнки\n"
          ]
        }
      ]
    },
    {
      "cell_type": "code",
      "source": [],
      "metadata": {
        "id": "tCng4qwWGZfj"
      },
      "execution_count": null,
      "outputs": []
    }
  ]
}