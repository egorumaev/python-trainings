{
  "nbformat": 4,
  "nbformat_minor": 0,
  "metadata": {
    "colab": {
      "provenance": []
    },
    "kernelspec": {
      "name": "python3",
      "display_name": "Python 3"
    },
    "language_info": {
      "name": "python"
    }
  },
  "cells": [
    {
      "cell_type": "markdown",
      "source": [
        "# **<font color='crimson'>PYTHON. If / Else</font>**\n",
        "\n",
        "---"
      ],
      "metadata": {
        "id": "CjT5w9s6YcKa"
      }
    },
    {
      "cell_type": "code",
      "execution_count": null,
      "metadata": {
        "id": "CoEAJXqDYV9Z"
      },
      "outputs": [],
      "source": [
        "###"
      ]
    },
    {
      "cell_type": "code",
      "source": [
        "--1\n",
        "n = int(input())\n",
        "\n",
        "iter = 0\n",
        "summ = 0\n",
        "\n",
        "while iter < 2:\n",
        "    summ += n % 10\n",
        "    n //= 10\n",
        "    iter += 1\n",
        "\n",
        "print('NO' if summ else 'YES')"
      ],
      "metadata": {
        "id": "dL7LH9xGYbjq"
      },
      "execution_count": null,
      "outputs": []
    },
    {
      "cell_type": "code",
      "source": [
        "###"
      ],
      "metadata": {
        "id": "QET62ZQZYbwU"
      },
      "execution_count": null,
      "outputs": []
    },
    {
      "cell_type": "code",
      "source": [
        "--2\n",
        "a, b, c, d = [int(input()) for i in range(4)]\n",
        "\n",
        "# черные клетки\n",
        "if (\n",
        "    ((a % 2 == 1 and b % 2 == 0) or (a % 2 == 0 and b % 2 == 1))\n",
        "    and ((c % 2 == 1 and d % 2 == 0) or (c % 2 == 0 and d % 2 == 1))\n",
        "    ):\n",
        "    print('YES')\n",
        "# белые клетки\n",
        "elif a == b and c == d:\n",
        "    print('YES')\n",
        "# белые клетки\n",
        "elif (\n",
        "    ((a % 2 == 1 and b % 2 == 1) or (a % 2 == 0 and b % 2 == 0))\n",
        "    and ((c % 2 == 1 and d % 2 == 1) or (c % 2 == 0) and (d % 2) == 0)\n",
        "    ):\n",
        "    print('YES')\n",
        "else:\n",
        "    print('NO')"
      ],
      "metadata": {
        "id": "HC8BdWVKYbzq"
      },
      "execution_count": null,
      "outputs": []
    },
    {
      "cell_type": "code",
      "source": [
        "###"
      ],
      "metadata": {
        "id": "YeB8zIlhYb2w"
      },
      "execution_count": null,
      "outputs": []
    },
    {
      "cell_type": "code",
      "source": [
        "--3\n",
        "age = int(input())\n",
        "sex = input()\n",
        "\n",
        "if sex == 'f' and 10 <= age <= 15:\n",
        "    print('YES')\n",
        "else:\n",
        "    print('NO')"
      ],
      "metadata": {
        "id": "ymfpqAcTYb58"
      },
      "execution_count": null,
      "outputs": []
    },
    {
      "cell_type": "code",
      "source": [
        "###"
      ],
      "metadata": {
        "id": "WGz6Ob9YYb9H"
      },
      "execution_count": null,
      "outputs": []
    },
    {
      "cell_type": "code",
      "source": [
        "--4\n",
        "n = int(input())\n",
        "\n",
        "if n < 1 or n > 10:\n",
        "    print('ошибка')\n",
        "elif n == 1:\n",
        "    print('I')\n",
        "elif n == 2:\n",
        "    print('II')\n",
        "elif n == 3:\n",
        "    print('III')\n",
        "elif n == 4:\n",
        "    print('IV')\n",
        "elif n == 5:\n",
        "    print('V')\n",
        "elif n == 6:\n",
        "    print('VI')\n",
        "elif n == 7:\n",
        "    print('VII')\n",
        "elif n == 8:\n",
        "    print('VIII')\n",
        "elif n == 9:\n",
        "    print('IX')\n",
        "elif n == 10:\n",
        "    print('X')"
      ],
      "metadata": {
        "id": "rGkEmH5mYcAk"
      },
      "execution_count": null,
      "outputs": []
    },
    {
      "cell_type": "code",
      "source": [
        "###"
      ],
      "metadata": {
        "id": "uAScR1WHYcD5"
      },
      "execution_count": null,
      "outputs": []
    },
    {
      "cell_type": "code",
      "source": [
        "--5\n",
        "n = int(input())\n",
        "\n",
        "if n % 2 == 1:\n",
        "    print('YES')\n",
        "elif n % 2 == 0:\n",
        "    if 2 <= n <= 5:\n",
        "        print('NO')\n",
        "    elif  6 <= n <= 20:\n",
        "        print('YES')\n",
        "    else:\n",
        "        print('NO')"
      ],
      "metadata": {
        "id": "FntudgP5YcHA"
      },
      "execution_count": null,
      "outputs": []
    },
    {
      "cell_type": "code",
      "execution_count": null,
      "metadata": {
        "id": "_rbe8PUdYj33"
      },
      "outputs": [],
      "source": [
        "###"
      ]
    },
    {
      "cell_type": "code",
      "source": [
        "--6\n",
        "a, b, c, d = [int(input()) for _ in range(4)]\n",
        "\n",
        "flag = False\n",
        "\n",
        "if abs(a - c) == abs(b - d):\n",
        "    flag = True\n",
        "\n",
        "print('YES' if flag else 'NO')"
      ],
      "metadata": {
        "id": "9GQe84SnYj34"
      },
      "execution_count": null,
      "outputs": []
    },
    {
      "cell_type": "code",
      "source": [
        "###"
      ],
      "metadata": {
        "id": "ITPNY4zBYj35"
      },
      "execution_count": null,
      "outputs": []
    },
    {
      "cell_type": "code",
      "source": [
        "--7\n",
        "a, b, c, d = [int(input()) for _ in range(4)]\n",
        "\n",
        "if (\n",
        "   (c - a == 2 and d - b == -1)\n",
        "   or (c - a == 1 and d - b == -2)\n",
        "   or (c - a == 2 and d - b == 1)\n",
        "   or (c - a == 1 and d - b == 2)\n",
        "   or (c - a == -1 and d - b == 2)\n",
        "   or (c - a == -2 and d - b == 1)\n",
        "   or (c - a == -2 and d - b == -1)\n",
        "   ):\n",
        "   print('YES')\n",
        "else:\n",
        "   print('NO')"
      ],
      "metadata": {
        "id": "g8BJQ4BtYj35"
      },
      "execution_count": null,
      "outputs": []
    },
    {
      "cell_type": "code",
      "source": [
        "###"
      ],
      "metadata": {
        "id": "mgFG8OxJYj37"
      },
      "execution_count": null,
      "outputs": []
    },
    {
      "cell_type": "code",
      "source": [
        "--8\n",
        "a, b, c, d = [int(input()) for _ in range(4)]\n",
        "\n",
        "flag = False\n",
        "\n",
        "if (\n",
        "    (abs(a - c) == 2 and abs(b - d) == 1)\n",
        "    or ((abs(a - c) == 1 and abs(b - d) == 2))\n",
        "    ):\n",
        "    flag = True\n",
        "\n",
        "print('YES' if flag else 'NO')"
      ],
      "metadata": {
        "id": "SHszfeNEYj37"
      },
      "execution_count": null,
      "outputs": []
    },
    {
      "cell_type": "code",
      "source": [
        "###"
      ],
      "metadata": {
        "id": "KvRH-_dCYj38"
      },
      "execution_count": null,
      "outputs": []
    },
    {
      "cell_type": "code",
      "source": [
        "--9\n",
        "a, b, c, d = [int(input()) for _ in range(4)]\n",
        "\n",
        "flag = False\n",
        "\n",
        "if abs(a - c) == abs(b - d):\n",
        "    flag = True\n",
        "elif a == c or b == d:\n",
        "    flag = True\n",
        "\n",
        "print('YES' if flag else 'NO')"
      ],
      "metadata": {
        "id": "Aj95I3ljAhAh"
      },
      "execution_count": null,
      "outputs": []
    },
    {
      "cell_type": "code",
      "source": [],
      "metadata": {
        "id": "56qcAPbb3nfT"
      },
      "execution_count": null,
      "outputs": []
    }
  ]
}