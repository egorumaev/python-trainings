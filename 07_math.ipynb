{
  "nbformat": 4,
  "nbformat_minor": 0,
  "metadata": {
    "colab": {
      "provenance": []
    },
    "kernelspec": {
      "name": "python3",
      "display_name": "Python 3"
    },
    "language_info": {
      "name": "python"
    }
  },
  "cells": [
    {
      "cell_type": "markdown",
      "source": [
        "# **<font color='crimson'>PYTHON. Math</font>**\n",
        "\n",
        "---"
      ],
      "metadata": {
        "id": "CjT5w9s6YcKa"
      }
    },
    {
      "cell_type": "code",
      "execution_count": null,
      "metadata": {
        "id": "CoEAJXqDYV9Z"
      },
      "outputs": [],
      "source": [
        "###"
      ]
    },
    {
      "cell_type": "code",
      "source": [
        "--1\n",
        "from math import pow, sqrt\n",
        "\n",
        "x1 = float(input())\n",
        "y1 = float(input())\n",
        "x2 = float(input())\n",
        "y2 = float(input())\n",
        "\n",
        "res = sqrt(pow(x1 - x2, 2) + pow(y1 - y2, 2))\n",
        "print(res)"
      ],
      "metadata": {
        "id": "dL7LH9xGYbjq"
      },
      "execution_count": null,
      "outputs": []
    },
    {
      "cell_type": "code",
      "source": [
        "###"
      ],
      "metadata": {
        "id": "QET62ZQZYbwU"
      },
      "execution_count": null,
      "outputs": []
    },
    {
      "cell_type": "code",
      "source": [
        "--2\n",
        "from math import pi, pow\n",
        "\n",
        "r = float(input())\n",
        "\n",
        "square = pi * pow(r, 2)\n",
        "length = 2 * pi * r\n",
        "print(square, length, sep = '\\n')"
      ],
      "metadata": {
        "id": "HC8BdWVKYbzq"
      },
      "execution_count": null,
      "outputs": []
    },
    {
      "cell_type": "code",
      "source": [
        "###"
      ],
      "metadata": {
        "id": "YeB8zIlhYb2w"
      },
      "execution_count": null,
      "outputs": []
    },
    {
      "cell_type": "code",
      "source": [
        "--3\n",
        "from math import pow, sqrt\n",
        "\n",
        "a, b = float(input()), float(input())\n",
        "\n",
        "mean_arifm = (a + b) / 2\n",
        "mean_geom = sqrt(a * b)\n",
        "mean_garmonic = 2 * a * b / (a + b)\n",
        "mean_quadratic = sqrt((pow(a, 2) + pow(b, 2)) / 2)\n",
        "\n",
        "print(mean_arifm, mean_geom, mean_garmonic, mean_quadratic, sep = '\\n')"
      ],
      "metadata": {
        "id": "ymfpqAcTYb58"
      },
      "execution_count": null,
      "outputs": []
    },
    {
      "cell_type": "code",
      "source": [
        "###"
      ],
      "metadata": {
        "id": "WGz6Ob9YYb9H"
      },
      "execution_count": null,
      "outputs": []
    },
    {
      "cell_type": "code",
      "source": [
        "--4\n",
        "from math import radians, sin, cos, tan, pow\n",
        "\n",
        "x = float(input())\n",
        "x_rad = radians(x)\n",
        "\n",
        "res = sin(x_rad) + cos(x_rad) + pow(tan(x_rad), 2)\n",
        "\n",
        "print(res)"
      ],
      "metadata": {
        "id": "rGkEmH5mYcAk"
      },
      "execution_count": null,
      "outputs": []
    },
    {
      "cell_type": "code",
      "source": [
        "###"
      ],
      "metadata": {
        "id": "uAScR1WHYcD5"
      },
      "execution_count": null,
      "outputs": []
    },
    {
      "cell_type": "code",
      "source": [
        "--5\n",
        "from math import ceil, floor\n",
        "\n",
        "a = float(input())\n",
        "\n",
        "res = floor(a) + ceil(a)\n",
        "\n",
        "print(res)"
      ],
      "metadata": {
        "id": "FntudgP5YcHA"
      },
      "execution_count": null,
      "outputs": []
    },
    {
      "cell_type": "code",
      "execution_count": null,
      "metadata": {
        "id": "_rbe8PUdYj33"
      },
      "outputs": [],
      "source": [
        "###"
      ]
    },
    {
      "cell_type": "code",
      "source": [
        "--6\n",
        "from math import pow, sqrt\n",
        "\n",
        "a = float(input())\n",
        "b = float(input())\n",
        "c = float(input())\n",
        "\n",
        "discr = pow(b, 2) - 4 * a * c\n",
        "\n",
        "if discr < 0:\n",
        "    print('Нет корней')\n",
        "elif discr == 0:\n",
        "    x = -b / (2 * a)\n",
        "    print(x)\n",
        "else:\n",
        "    x1 = (-b - sqrt(discr)) / (2 * a)\n",
        "    x2 = (-b + sqrt(discr)) / (2 * a)\n",
        "    if x1 > x2:\n",
        "        x1, x2 = x2, x1\n",
        "    print(x1, x2, sep = '\\n')"
      ],
      "metadata": {
        "id": "9GQe84SnYj34"
      },
      "execution_count": null,
      "outputs": []
    },
    {
      "cell_type": "code",
      "source": [
        "###"
      ],
      "metadata": {
        "id": "ITPNY4zBYj35"
      },
      "execution_count": null,
      "outputs": []
    },
    {
      "cell_type": "code",
      "source": [
        "--7\n",
        "from math import tan, pi, pow\n",
        "\n",
        "n = float(input())\n",
        "a = float(input())\n",
        "\n",
        "res = n * pow(a, 2) / (4 * tan(pi / n))\n",
        "\n",
        "print(res)"
      ],
      "metadata": {
        "id": "g8BJQ4BtYj35"
      },
      "execution_count": null,
      "outputs": []
    },
    {
      "cell_type": "code",
      "source": [],
      "metadata": {
        "id": "56qcAPbb3nfT"
      },
      "execution_count": null,
      "outputs": []
    }
  ]
}