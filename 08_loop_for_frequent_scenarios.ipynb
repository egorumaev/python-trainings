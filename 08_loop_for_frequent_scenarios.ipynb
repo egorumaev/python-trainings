{
  "nbformat": 4,
  "nbformat_minor": 0,
  "metadata": {
    "colab": {
      "provenance": []
    },
    "kernelspec": {
      "name": "python3",
      "display_name": "Python 3"
    },
    "language_info": {
      "name": "python"
    }
  },
  "cells": [
    {
      "cell_type": "markdown",
      "source": [
        "# **<font color='crimson'>PYTHON. Loop For: Frequent Scenarios</font>**\n",
        "\n",
        "---"
      ],
      "metadata": {
        "id": "CjT5w9s6YcKa"
      }
    },
    {
      "cell_type": "code",
      "execution_count": null,
      "metadata": {
        "id": "CoEAJXqDYV9Z"
      },
      "outputs": [],
      "source": [
        "###"
      ]
    },
    {
      "cell_type": "code",
      "source": [
        "--1\n",
        "from math import log\n",
        "\n",
        "n = int(input())\n",
        "\n",
        "summ = 0\n",
        "\n",
        "for i in range(1, n + 1):\n",
        "    summ += 1/i\n",
        "\n",
        "summ -= log(n)\n",
        "\n",
        "print(summ)"
      ],
      "metadata": {
        "id": "dL7LH9xGYbjq"
      },
      "execution_count": null,
      "outputs": []
    },
    {
      "cell_type": "code",
      "source": [
        "###"
      ],
      "metadata": {
        "id": "QET62ZQZYbwU"
      },
      "execution_count": null,
      "outputs": []
    },
    {
      "cell_type": "code",
      "source": [
        "--2\n",
        "n = int(input())\n",
        "\n",
        "summ = 0\n",
        "\n",
        "for i in range(n + 1):\n",
        "   if i ** 2 % 10 == 2 or i ** 2 % 10 == 5 or i ** 2 % 10 == 8:\n",
        "       summ += i\n",
        "\n",
        "print(summ)"
      ],
      "metadata": {
        "id": "HC8BdWVKYbzq"
      },
      "execution_count": null,
      "outputs": []
    },
    {
      "cell_type": "code",
      "source": [
        "###"
      ],
      "metadata": {
        "id": "YeB8zIlhYb2w"
      },
      "execution_count": null,
      "outputs": []
    },
    {
      "cell_type": "code",
      "source": [
        "--3\n",
        "n = int(input())\n",
        "\n",
        "summ = 0\n",
        "\n",
        "for i in range(5, n + 1, 10):\n",
        "    summ += i\n",
        "\n",
        "print(summ)"
      ],
      "metadata": {
        "id": "ymfpqAcTYb58"
      },
      "execution_count": null,
      "outputs": []
    },
    {
      "cell_type": "code",
      "source": [
        "###"
      ],
      "metadata": {
        "id": "WGz6Ob9YYb9H"
      },
      "execution_count": null,
      "outputs": []
    },
    {
      "cell_type": "code",
      "source": [
        "--4\n",
        "n = int(input())\n",
        "\n",
        "res = 1\n",
        "\n",
        "for i in range(1, n + 1):\n",
        "    res *= i\n",
        "\n",
        "print(res)"
      ],
      "metadata": {
        "id": "rGkEmH5mYcAk"
      },
      "execution_count": null,
      "outputs": []
    },
    {
      "cell_type": "code",
      "source": [
        "###"
      ],
      "metadata": {
        "id": "uAScR1WHYcD5"
      },
      "execution_count": null,
      "outputs": []
    },
    {
      "cell_type": "code",
      "source": [
        "--5\n",
        "res = 1\n",
        "\n",
        "for _ in range(10):\n",
        "    temp = int(input())\n",
        "    if temp:\n",
        "        res *= temp\n",
        "\n",
        "print(res)"
      ],
      "metadata": {
        "id": "FntudgP5YcHA"
      },
      "execution_count": null,
      "outputs": []
    },
    {
      "cell_type": "code",
      "execution_count": null,
      "metadata": {
        "id": "_rbe8PUdYj33"
      },
      "outputs": [],
      "source": [
        "###"
      ]
    },
    {
      "cell_type": "code",
      "source": [
        "--6\n",
        "n = int(input())\n",
        "\n",
        "res = n\n",
        "\n",
        "for i in range(1, int(n // 2 + 1)):\n",
        "    if n % i == 0:\n",
        "        res += i\n",
        "\n",
        "print(res)"
      ],
      "metadata": {
        "id": "9GQe84SnYj34"
      },
      "execution_count": null,
      "outputs": []
    },
    {
      "cell_type": "code",
      "source": [
        "###"
      ],
      "metadata": {
        "id": "ITPNY4zBYj35"
      },
      "execution_count": null,
      "outputs": []
    },
    {
      "cell_type": "code",
      "source": [
        "--7\n",
        "n = int(input())\n",
        "\n",
        "res = 0\n",
        "\n",
        "for i in range(1, n + 1):\n",
        "    res += (-1) ** (i + 1) * i\n",
        "\n",
        "print(res)"
      ],
      "metadata": {
        "id": "g8BJQ4BtYj35"
      },
      "execution_count": null,
      "outputs": []
    },
    {
      "cell_type": "code",
      "source": [
        "###"
      ],
      "metadata": {
        "id": "mgFG8OxJYj37"
      },
      "execution_count": null,
      "outputs": []
    },
    {
      "cell_type": "code",
      "source": [
        "--8\n",
        "n = int(input())\n",
        "\n",
        "first = 0\n",
        "second = 0\n",
        "\n",
        "for _ in range(n):\n",
        "    temp = int(input())\n",
        "    if temp > first:\n",
        "        second = first\n",
        "        first = temp\n",
        "    elif temp > second:\n",
        "        second = temp\n",
        "\n",
        "print(first, second, sep = '\\n')"
      ],
      "metadata": {
        "id": "SHszfeNEYj37"
      },
      "execution_count": null,
      "outputs": []
    },
    {
      "cell_type": "code",
      "source": [
        "###"
      ],
      "metadata": {
        "id": "KvRH-_dCYj38"
      },
      "execution_count": null,
      "outputs": []
    },
    {
      "cell_type": "code",
      "source": [
        "--9\n",
        "res = 1\n",
        "\n",
        "for _ in range(10):\n",
        "    temp = int(input())\n",
        "    if temp % 2 == 0:\n",
        "        res *= 1\n",
        "    else:\n",
        "        res *= 0\n",
        "\n",
        "print(*['YES' if res else 'NO'])"
      ],
      "metadata": {
        "id": "Aj95I3ljAhAh"
      },
      "execution_count": null,
      "outputs": []
    },
    {
      "cell_type": "code",
      "execution_count": null,
      "metadata": {
        "id": "VxwzNTVYYkGF"
      },
      "outputs": [],
      "source": [
        "###"
      ]
    },
    {
      "cell_type": "code",
      "source": [
        "--10\n",
        "n = int(input())\n",
        "\n",
        "a = 1\n",
        "b = 1\n",
        "\n",
        "for _ in range(n):\n",
        "    print(a, end = ' ')\n",
        "    a, b = b, a + b"
      ],
      "metadata": {
        "id": "taCAZApGYkGF"
      },
      "execution_count": null,
      "outputs": []
    },
    {
      "cell_type": "code",
      "source": [],
      "metadata": {
        "id": "56qcAPbb3nfT"
      },
      "execution_count": null,
      "outputs": []
    }
  ]
}