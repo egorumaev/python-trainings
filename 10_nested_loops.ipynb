{
  "nbformat": 4,
  "nbformat_minor": 0,
  "metadata": {
    "colab": {
      "provenance": []
    },
    "kernelspec": {
      "name": "python3",
      "display_name": "Python 3"
    },
    "language_info": {
      "name": "python"
    }
  },
  "cells": [
    {
      "cell_type": "markdown",
      "source": [
        "# **<font color='crimson'>PYTHON. Nested Loops</font>**\n",
        "\n",
        "---"
      ],
      "metadata": {
        "id": "CjT5w9s6YcKa"
      }
    },
    {
      "cell_type": "code",
      "execution_count": null,
      "metadata": {
        "id": "CoEAJXqDYV9Z"
      },
      "outputs": [],
      "source": [
        "###"
      ]
    },
    {
      "cell_type": "code",
      "source": [
        "--1\n",
        "n = int(input())\n",
        "\n",
        "for i in range(n):\n",
        "    for j in range(3):\n",
        "        print(n, end = ' ')\n",
        "    print()"
      ],
      "metadata": {
        "id": "dL7LH9xGYbjq"
      },
      "execution_count": null,
      "outputs": []
    },
    {
      "cell_type": "code",
      "source": [
        "###"
      ],
      "metadata": {
        "id": "QET62ZQZYbwU"
      },
      "execution_count": null,
      "outputs": []
    },
    {
      "cell_type": "code",
      "source": [
        "--2\n",
        "n = int(input())\n",
        "\n",
        "for i in range(n):\n",
        "    for _ in range(5):\n",
        "        print(i + 1, end = ' ')\n",
        "    print()"
      ],
      "metadata": {
        "id": "HC8BdWVKYbzq"
      },
      "execution_count": null,
      "outputs": []
    },
    {
      "cell_type": "code",
      "source": [
        "###"
      ],
      "metadata": {
        "id": "YeB8zIlhYb2w"
      },
      "execution_count": null,
      "outputs": []
    },
    {
      "cell_type": "code",
      "source": [
        "--3\n",
        "n = int(input())\n",
        "\n",
        "for i in range(1, n + 1):\n",
        "    for j in range(1, 10):\n",
        "        print(i, '+', j, '=', i + j)\n",
        "    print()"
      ],
      "metadata": {
        "id": "ymfpqAcTYb58"
      },
      "execution_count": null,
      "outputs": []
    },
    {
      "cell_type": "code",
      "source": [
        "###"
      ],
      "metadata": {
        "id": "WGz6Ob9YYb9H"
      },
      "execution_count": null,
      "outputs": []
    },
    {
      "cell_type": "code",
      "source": [
        "--4\n",
        "n = int(input())\n",
        "\n",
        "for i in range(1, n + 1):\n",
        "    if i <= (n // 2) + 1:\n",
        "        for _ in range(i):\n",
        "            print('*', end = '')\n",
        "        print()\n",
        "    else:\n",
        "        for _ in range(n - i + 1, 0, -1):\n",
        "            print('*', end = '')\n",
        "        print()"
      ],
      "metadata": {
        "id": "rGkEmH5mYcAk"
      },
      "execution_count": null,
      "outputs": []
    },
    {
      "cell_type": "code",
      "source": [
        "###"
      ],
      "metadata": {
        "id": "uAScR1WHYcD5"
      },
      "execution_count": null,
      "outputs": []
    },
    {
      "cell_type": "code",
      "source": [
        "--5\n",
        "n = int(input())\n",
        "\n",
        "for i in range(1, n + 1):\n",
        "    for _ in range(i):\n",
        "        print(i, end = '')\n",
        "    print()"
      ],
      "metadata": {
        "id": "FntudgP5YcHA"
      },
      "execution_count": null,
      "outputs": []
    },
    {
      "cell_type": "code",
      "execution_count": null,
      "metadata": {
        "id": "_rbe8PUdYj33"
      },
      "outputs": [],
      "source": [
        "###"
      ]
    },
    {
      "cell_type": "code",
      "source": [
        "--6\n",
        "counter = 0\n",
        "\n",
        "for n in range(1 ,14):\n",
        "    for k in range (1, 14):\n",
        "        for m in range (1, 13):\n",
        "            if 28 * n + 30 * k + 31 * m == 365:\n",
        "                counter += 1\n",
        "                print(f'n = {n}, k = {k}, m = {m}')\n",
        "print(f'Общее число решений: {counter}')"
      ],
      "metadata": {
        "id": "9GQe84SnYj34",
        "colab": {
          "base_uri": "https://localhost:8080/"
        },
        "outputId": "d2c86332-9ab7-4e4f-bafe-e9e2e2be820b"
      },
      "execution_count": null,
      "outputs": [
        {
          "output_type": "stream",
          "name": "stdout",
          "text": [
            "n = 1, k = 4, m = 7\n",
            "n = 2, k = 1, m = 9\n",
            "Общее число решений: 2\n"
          ]
        }
      ]
    },
    {
      "cell_type": "code",
      "source": [
        "###"
      ],
      "metadata": {
        "id": "ITPNY4zBYj35"
      },
      "execution_count": null,
      "outputs": []
    },
    {
      "cell_type": "code",
      "source": [
        "--7\n",
        "for x in range(1, 11):\n",
        "    for y in range(1, 21):\n",
        "        for z in range(1, 201):\n",
        "            if (x + y + z) == 100 and 10 * x + 5 * y + 0.5 * z == 100:\n",
        "                print(f'x = {x}, y = {y}, z = {z}')"
      ],
      "metadata": {
        "id": "g8BJQ4BtYj35",
        "colab": {
          "base_uri": "https://localhost:8080/"
        },
        "outputId": "467033a6-bdfe-4375-8537-b371e10f4b20"
      },
      "execution_count": null,
      "outputs": [
        {
          "output_type": "stream",
          "name": "stdout",
          "text": [
            "x = 1, y = 9, z = 90\n"
          ]
        }
      ]
    },
    {
      "cell_type": "code",
      "source": [
        "###"
      ],
      "metadata": {
        "id": "mgFG8OxJYj37"
      },
      "execution_count": null,
      "outputs": []
    },
    {
      "cell_type": "code",
      "source": [
        "--8\n",
        "# refutation of Euler's Hypothesis on the sum of degrees\n",
        "from datetime import datetime\n",
        "start_time = datetime.now()\n",
        "\n",
        "for a in range(1, 151):\n",
        "    for b in range(a, 151):\n",
        "        for c in range(b, 151):\n",
        "            for d in range(c, 151):\n",
        "                summ = a ** 5 + b ** 5 + c ** 5 + d ** 5\n",
        "                e = int(summ ** (1/5))\n",
        "                if summ == e ** 5:\n",
        "                    print(f'a = {a}, b = {b}, c = {c}, d = {d}, e = {e}')\n",
        "                    print(f'a + b + c + d + e = {a + b + c + d + e}')\n",
        "                    break\n",
        "\n",
        "end_time = datetime.now()\n",
        "print('Длительность: {}'.format(end_time - start_time))"
      ],
      "metadata": {
        "id": "SHszfeNEYj37",
        "colab": {
          "base_uri": "https://localhost:8080/"
        },
        "outputId": "df7c2abf-8787-47ca-d393-d37f283e8728"
      },
      "execution_count": 22,
      "outputs": [
        {
          "output_type": "stream",
          "name": "stdout",
          "text": [
            "a = 27, b = 84, c = 110, d = 133, e = 144\n",
            "a + b + c + d + e = 498\n",
            "Длительность: 0:00:47.111423\n"
          ]
        }
      ]
    },
    {
      "cell_type": "code",
      "source": [
        "###"
      ],
      "metadata": {
        "id": "KvRH-_dCYj38"
      },
      "execution_count": null,
      "outputs": []
    },
    {
      "cell_type": "code",
      "source": [
        "--9\n",
        "n = int(input())\n",
        "alpha = 1\n",
        "\n",
        "for i in range(1, n + 1):\n",
        "    for j in range(alpha, alpha + i):\n",
        "        print(j, end = ' ')\n",
        "    print()\n",
        "    alpha += i"
      ],
      "metadata": {
        "id": "Aj95I3ljAhAh"
      },
      "execution_count": null,
      "outputs": []
    },
    {
      "cell_type": "code",
      "execution_count": null,
      "metadata": {
        "id": "VxwzNTVYYkGF"
      },
      "outputs": [],
      "source": [
        "###"
      ]
    },
    {
      "cell_type": "code",
      "source": [
        "--10\n",
        "n = int(input())\n",
        "\n",
        "for i in range(1, n + 1):\n",
        "    for j in range(1, i + 1):\n",
        "        print(j, end = '')\n",
        "    for k in range(i - 1, 0, -1):\n",
        "        print(k, end = '')\n",
        "    print()"
      ],
      "metadata": {
        "id": "taCAZApGYkGF"
      },
      "execution_count": null,
      "outputs": []
    },
    {
      "cell_type": "code",
      "source": [
        "###"
      ],
      "metadata": {
        "id": "Mp9AlNSMYkGF"
      },
      "execution_count": null,
      "outputs": []
    },
    {
      "cell_type": "code",
      "source": [
        "--11\n",
        "a, b = [int(input()) for i in range(2)]\n",
        "\n",
        "number = 0\n",
        "summ = 0\n",
        "\n",
        "temp_number = 0\n",
        "temp_summ = 0\n",
        "\n",
        "for i in range(a, b + 1):\n",
        "    for j in range(1, i + 1):\n",
        "        if i % j == 0:\n",
        "            temp_summ += j\n",
        "    if temp_summ >= summ and i > number:\n",
        "        number = i\n",
        "        summ = temp_summ\n",
        "    temp_summ = 0\n",
        "    temp_number = 0\n",
        "\n",
        "print(number, summ)"
      ],
      "metadata": {
        "id": "BzMGd9aEYkGF"
      },
      "execution_count": null,
      "outputs": []
    },
    {
      "cell_type": "code",
      "source": [
        "###"
      ],
      "metadata": {
        "id": "HzHKJKPkYkGF"
      },
      "execution_count": null,
      "outputs": []
    },
    {
      "cell_type": "code",
      "source": [
        "--12\n",
        "n = int(input())\n",
        "\n",
        "counter = ''\n",
        "\n",
        "for i in range(1, n + 1):\n",
        "    for j in range(1, i + 1):\n",
        "        if i % j == 0:\n",
        "            counter += '+'\n",
        "    print(i, counter, sep = '')\n",
        "    counter = ''"
      ],
      "metadata": {
        "id": "7-UONghTYkGF"
      },
      "execution_count": null,
      "outputs": []
    },
    {
      "cell_type": "code",
      "source": [
        "###"
      ],
      "metadata": {
        "id": "VUlBI8hVYkGG"
      },
      "execution_count": null,
      "outputs": []
    },
    {
      "cell_type": "code",
      "source": [
        "--13\n",
        "n = int(input())\n",
        "\n",
        "while n > 9:\n",
        "    summ = 0\n",
        "    while n > 0:\n",
        "        summ += n % 10\n",
        "        n //= 10\n",
        "    n = summ\n",
        "print(n)"
      ],
      "metadata": {
        "id": "ShgrBwT2YkGG"
      },
      "execution_count": null,
      "outputs": []
    },
    {
      "cell_type": "code",
      "source": [
        "###"
      ],
      "metadata": {
        "id": "Qy3hGaWeYkGG"
      },
      "execution_count": null,
      "outputs": []
    },
    {
      "cell_type": "code",
      "source": [
        "--14\n",
        "n = 20\n",
        "\n",
        "summ = 0\n",
        "\n",
        "for i in range(1, n + 1):\n",
        "    product = 1\n",
        "    for j in range(1, i + 1):\n",
        "        product *= j\n",
        "    summ += product\n",
        "\n",
        "print(summ)"
      ],
      "metadata": {
        "id": "glQPUg5FYkGG",
        "colab": {
          "base_uri": "https://localhost:8080/"
        },
        "outputId": "9ea20c02-39b3-4b35-a122-3266e0cb5980"
      },
      "execution_count": 3,
      "outputs": [
        {
          "output_type": "stream",
          "name": "stdout",
          "text": [
            "2561327494111820313\n"
          ]
        }
      ]
    },
    {
      "cell_type": "code",
      "execution_count": null,
      "metadata": {
        "id": "8ul9uboYYkS5"
      },
      "outputs": [],
      "source": [
        "###"
      ]
    },
    {
      "cell_type": "code",
      "source": [
        "--15\n",
        "a, b = 1, 100\n",
        "\n",
        "for i in range(a, b + 1):\n",
        "    counter = 0\n",
        "    for j in range(2, int(i ** 0.5 + 1)):\n",
        "        if i % j == 0:\n",
        "            counter += 1\n",
        "    if not counter and i != 1:\n",
        "        print(i)"
      ],
      "metadata": {
        "id": "nZMvz5YvYkS6",
        "colab": {
          "base_uri": "https://localhost:8080/"
        },
        "outputId": "1d346444-6bd2-4c45-a7c6-0351633b785e"
      },
      "execution_count": 15,
      "outputs": [
        {
          "output_type": "stream",
          "name": "stdout",
          "text": [
            "2\n",
            "3\n",
            "5\n",
            "7\n",
            "11\n",
            "13\n",
            "17\n",
            "19\n",
            "23\n",
            "29\n",
            "31\n",
            "37\n",
            "41\n",
            "43\n",
            "47\n",
            "53\n",
            "59\n",
            "61\n",
            "67\n",
            "71\n",
            "73\n",
            "79\n",
            "83\n",
            "89\n",
            "97\n"
          ]
        }
      ]
    },
    {
      "cell_type": "code",
      "source": [
        "###"
      ],
      "metadata": {
        "id": "yOOUrKH9YkS6"
      },
      "execution_count": null,
      "outputs": []
    },
    {
      "cell_type": "code",
      "source": [
        "--16\n",
        "a, b = 2, 15\n",
        "\n",
        "for i in range(a, b + 1):\n",
        "    if i == 1:\n",
        "        continue\n",
        "    for j in range(2, int(i ** 0.5 + 1)):\n",
        "        if i % j == 0:\n",
        "            break\n",
        "    else:\n",
        "        print(i)"
      ],
      "metadata": {
        "id": "qQqb_DZTYkS7",
        "colab": {
          "base_uri": "https://localhost:8080/"
        },
        "outputId": "05cd6c16-c690-4790-9f97-b8af96942fe0"
      },
      "execution_count": 21,
      "outputs": [
        {
          "output_type": "stream",
          "name": "stdout",
          "text": [
            "2\n",
            "3\n",
            "5\n",
            "7\n",
            "11\n",
            "13\n"
          ]
        }
      ]
    },
    {
      "cell_type": "code",
      "source": [],
      "metadata": {
        "id": "56qcAPbb3nfT"
      },
      "execution_count": null,
      "outputs": []
    }
  ]
}