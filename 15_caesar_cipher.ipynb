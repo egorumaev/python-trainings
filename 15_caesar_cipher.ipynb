{
  "nbformat": 4,
  "nbformat_minor": 0,
  "metadata": {
    "colab": {
      "provenance": []
    },
    "kernelspec": {
      "name": "python3",
      "display_name": "Python 3"
    },
    "language_info": {
      "name": "python"
    }
  },
  "cells": [
    {
      "cell_type": "markdown",
      "source": [
        "# **<font color='crimson'>PYTHON. Шифр Цезаря / Caesar cipher</font>**\n",
        "\n",
        "---"
      ],
      "metadata": {
        "id": "CjT5w9s6YcKa"
      }
    },
    {
      "cell_type": "code",
      "source": [
        "# задаем русский алфавит (без буквы 'ё')\n",
        "rus_lower = [\n",
        "    'а', 'б', 'в', 'г', 'д', 'е', 'ж', 'з',\n",
        "    'и', 'й', 'к', 'л', 'м', 'н', 'о', 'п', 'р',\n",
        "    'с', 'т', 'у', 'ф', 'х', 'ц', 'ч', 'ш', 'щ',\n",
        "    'ъ', 'ы', 'ь', 'э', 'ю', 'я']\n",
        "\n",
        "rus_upper = [\n",
        "    'А', 'Б', 'В', 'Г', 'Д', 'Е', 'Ж', 'З',\n",
        "    'И', 'Й', 'К', 'Л', 'М', 'Н', 'О', 'П', 'Р',\n",
        "    'С', 'Т', 'У', 'Ф', 'Х', 'Ц', 'Ч', 'Ш', 'Щ',\n",
        "    'Ъ', 'Ы', 'Ь', 'Э', 'Ю', 'Я']"
      ],
      "metadata": {
        "id": "gVBXN0UZl1zz"
      },
      "execution_count": 1,
      "outputs": []
    },
    {
      "cell_type": "code",
      "source": [
        "# задаем английский алфавит\n",
        "eng_lower = [\n",
        "    'a', 'b', 'c', 'd', 'e', 'f', 'g', 'h', 'i',\n",
        "    'j', 'k', 'l', 'm', 'n', 'o', 'p', 'q', 'r',\n",
        "    's', 't', 'u', 'v', 'w', 'x', 'y', 'z']\n",
        "\n",
        "eng_upper = [\n",
        "    'A', 'B', 'C', 'D', 'E', 'F', 'G', 'H', 'I',\n",
        "    'J', 'K', 'L', 'M', 'N', 'O', 'P', 'Q', 'R',\n",
        "    'S', 'T', 'U', 'V', 'W', 'X', 'Y', 'Z']"
      ],
      "metadata": {
        "id": "juFNw91Kl1wa"
      },
      "execution_count": 2,
      "outputs": []
    },
    {
      "cell_type": "code",
      "execution_count": 3,
      "metadata": {
        "id": "CoEAJXqDYV9Z"
      },
      "outputs": [],
      "source": [
        "###"
      ]
    },
    {
      "cell_type": "code",
      "source": [
        "--1\n",
        "# зашифровать фразу\n",
        "text = 'Блажен, кто верует, тепло ему на свете!'\n",
        "\n",
        "res = []\n",
        "shift = 10\n",
        "alf_length = len(rus_lower)\n",
        "\n",
        "for char in text:\n",
        "    if char not in rus_lower + rus_upper:\n",
        "        res.append(char)\n",
        "    elif char in rus_lower and ord(char) + shift <= ord(rus_lower[-1]):\n",
        "        alpha = chr(ord(char) + shift)\n",
        "        res.append(alpha)\n",
        "    elif char in rus_lower:\n",
        "        alpha = chr(ord(char) - alf_length + shift)\n",
        "        res.append(alpha)\n",
        "    elif char in rus_upper and ord(char) + shift <= ord(rus_upper[-1]):\n",
        "        alpha = chr(ord(char) + shift)\n",
        "        res.append(alpha)\n",
        "    elif char in rus_upper:\n",
        "        alpha = chr(ord(char) - alf_length + shift)\n",
        "        res.append(alpha)\n",
        "\n",
        "print(''.join(res))"
      ],
      "metadata": {
        "id": "dL7LH9xGYbjq",
        "colab": {
          "base_uri": "https://localhost:8080/"
        },
        "outputId": "ded29a74-46ed-406d-defc-2a144abc643a"
      },
      "execution_count": 4,
      "outputs": [
        {
          "output_type": "stream",
          "name": "stdout",
          "text": [
            "Лхкрпч, фьш мпъэпь, ьпщхш пцэ чк ымпьп!\n"
          ]
        }
      ]
    },
    {
      "cell_type": "code",
      "source": [
        "###"
      ],
      "metadata": {
        "id": "QET62ZQZYbwU"
      },
      "execution_count": 5,
      "outputs": []
    },
    {
      "cell_type": "code",
      "source": [
        "--2\n",
        "# зашифровать фразу (сдвиг известен)\n",
        "text = 'To be, or not to be, that is the question!'\n",
        "\n",
        "res = []\n",
        "shift = 17\n",
        "alf_length = len(eng_lower)\n",
        "\n",
        "for char in text:\n",
        "    if char not in eng_lower + eng_upper:\n",
        "        res.append(char)\n",
        "    elif char in eng_lower and ord(char) + shift <= ord(eng_lower[-1]):\n",
        "        alpha = chr(ord(char) + shift)\n",
        "        res.append(alpha)\n",
        "    elif char in eng_lower:\n",
        "        alpha = chr(ord(char) - alf_length + shift)\n",
        "        res.append(alpha)\n",
        "    elif char in eng_upper and ord(char) + shift <= ord(eng_upper[-1]):\n",
        "        alpha = chr(ord(char) + shift)\n",
        "        res.append(alpha)\n",
        "    elif char in eng_upper:\n",
        "        alpha = chr(ord(char) - alf_length + shift)\n",
        "        res.append(alpha)\n",
        "\n",
        "print(''.join(res))"
      ],
      "metadata": {
        "id": "HC8BdWVKYbzq",
        "colab": {
          "base_uri": "https://localhost:8080/"
        },
        "outputId": "bcd5467e-fb42-446b-a2a2-eeb5de716fe3"
      },
      "execution_count": 6,
      "outputs": [
        {
          "output_type": "stream",
          "name": "stdout",
          "text": [
            "Kf sv, fi efk kf sv, kyrk zj kyv hlvjkzfe!\n"
          ]
        }
      ]
    },
    {
      "cell_type": "code",
      "source": [
        "###"
      ],
      "metadata": {
        "id": "YeB8zIlhYb2w"
      },
      "execution_count": 7,
      "outputs": []
    },
    {
      "cell_type": "code",
      "source": [
        "--3\n",
        "# расшифровать фразу (сдвиг известен)\n",
        "\n",
        "text = 'Шсъцхр щмчжмщ йшм, нмтзж йшм лхшщзщг.'\n",
        "\n",
        "res = []\n",
        "shift = 7\n",
        "alf_length = len(rus_lower)\n",
        "\n",
        "for char in text:\n",
        "    if char not in rus_lower + rus_upper:\n",
        "        res.append(char)\n",
        "    elif char in rus_lower and ord(char) - shift >= ord(rus_lower[0]):\n",
        "        alpha = chr(ord(char) - shift)\n",
        "        res.append(alpha)\n",
        "    elif char in rus_lower:\n",
        "        alpha = chr(ord(char) + alf_length - shift)\n",
        "        res.append(alpha)\n",
        "    elif char in rus_upper and ord(char) - shift >= ord(rus_upper[0]):\n",
        "        alpha = chr(ord(char) - shift)\n",
        "        res.append(alpha)\n",
        "    elif char in rus_upper:\n",
        "        alpha = chr(ord(char) + alf_length - shift)\n",
        "        res.append(alpha)\n",
        "\n",
        "print(''.join(res))"
      ],
      "metadata": {
        "id": "ymfpqAcTYb58",
        "colab": {
          "base_uri": "https://localhost:8080/"
        },
        "outputId": "c16a1993-6c76-4127-af0b-b4216db02a3f"
      },
      "execution_count": 8,
      "outputs": [
        {
          "output_type": "stream",
          "name": "stdout",
          "text": [
            "Скупой теряет все, желая все достать.\n"
          ]
        }
      ]
    },
    {
      "cell_type": "code",
      "source": [
        "###"
      ],
      "metadata": {
        "id": "WGz6Ob9YYb9H"
      },
      "execution_count": 9,
      "outputs": []
    },
    {
      "cell_type": "code",
      "source": [
        "--4\n",
        "# расшифровать фразу (сдвиг известен)\n",
        "text = 'Sgd fqzrr hr zkvzxr fqddmdq nm sgd nsgdq rhcd ne sgd edmbd.'\n",
        "\n",
        "res = []\n",
        "shift = 25\n",
        "alf_length = len(eng_lower)\n",
        "\n",
        "for char in text:\n",
        "    if char not in eng_lower + eng_upper:\n",
        "        res.append(char)\n",
        "    elif char in eng_lower and ord(char) - shift >= ord(eng_lower[0]):\n",
        "        alpha = chr(ord(char) - shift)\n",
        "        res.append(alpha)\n",
        "    elif char in eng_lower:\n",
        "        alpha = chr(ord(char) + alf_length - shift)\n",
        "        res.append(alpha)\n",
        "    elif char in eng_upper and ord(char) - shift >= ord(eng_upper[0]):\n",
        "        alpha = chr(ord(char) - shift)\n",
        "        res.append(alpha)\n",
        "    elif char in eng_upper:\n",
        "        alpha = chr(ord(char) + alf_length - shift)\n",
        "        res.append(alpha)\n",
        "\n",
        "print(''.join(res))"
      ],
      "metadata": {
        "id": "rGkEmH5mYcAk",
        "colab": {
          "base_uri": "https://localhost:8080/"
        },
        "outputId": "9462def0-46bf-4e19-8e52-2c1a229fc0e2"
      },
      "execution_count": 10,
      "outputs": [
        {
          "output_type": "stream",
          "name": "stdout",
          "text": [
            "The grass is always greener on the other side of the fence.\n"
          ]
        }
      ]
    },
    {
      "cell_type": "code",
      "source": [
        "###"
      ],
      "metadata": {
        "id": "uAScR1WHYcD5"
      },
      "execution_count": 11,
      "outputs": []
    },
    {
      "cell_type": "code",
      "source": [
        "--5\n",
        "# расшифровать фразу (сдвиг не известен)\n",
        "text = 'Hawnj pk swhg xabkna ukq nqj.'\n",
        "\n",
        "shifts = range(0, 26)\n",
        "alf_length = len(eng_lower)\n",
        "\n",
        "for shift in shifts:\n",
        "    res = []\n",
        "    for char in text:\n",
        "        if char not in eng_lower + eng_upper:\n",
        "            res.append(char)\n",
        "        elif char in eng_lower and ord(char) - shift >= ord(eng_lower[0]):\n",
        "            alpha = chr(ord(char) - shift)\n",
        "            res.append(alpha)\n",
        "        elif char in eng_lower:\n",
        "            alpha = chr(ord(char) + alf_length - shift)\n",
        "            res.append(alpha)\n",
        "        elif char in eng_upper and ord(char) - shift >= ord(eng_upper[0]):\n",
        "            alpha = chr(ord(char) - shift)\n",
        "            res.append(alpha)\n",
        "        elif char in eng_upper:\n",
        "            alpha = chr(ord(char) + alf_length - shift)\n",
        "            res.append(alpha)\n",
        "    print(''.join(res))"
      ],
      "metadata": {
        "id": "FntudgP5YcHA",
        "colab": {
          "base_uri": "https://localhost:8080/"
        },
        "outputId": "831cee70-948d-4a81-f612-a8d334287a79"
      },
      "execution_count": 12,
      "outputs": [
        {
          "output_type": "stream",
          "name": "stdout",
          "text": [
            "Hawnj pk swhg xabkna ukq nqj.\n",
            "Gzvmi oj rvgf wzajmz tjp mpi.\n",
            "Fyulh ni qufe vyzily sio loh.\n",
            "Extkg mh pted uxyhkx rhn kng.\n",
            "Dwsjf lg osdc twxgjw qgm jmf.\n",
            "Cvrie kf nrcb svwfiv pfl ile.\n",
            "Buqhd je mqba ruvehu oek hkd.\n",
            "Atpgc id lpaz qtudgt ndj gjc.\n",
            "Zsofb hc kozy pstcfs mci fib.\n",
            "Yrnea gb jnyx orsber lbh eha.\n",
            "Xqmdz fa imxw nqradq kag dgz.\n",
            "Wplcy ez hlwv mpqzcp jzf cfy.\n",
            "Vokbx dy gkvu lopybo iye bex.\n",
            "Unjaw cx fjut knoxan hxd adw.\n",
            "Tmizv bw eits jmnwzm gwc zcv.\n",
            "Slhyu av dhsr ilmvyl fvb ybu.\n",
            "Rkgxt zu cgrq hkluxk eua xat.\n",
            "Qjfws yt bfqp gjktwj dtz wzs.\n",
            "Pievr xs aepo fijsvi csy vyr.\n",
            "Ohduq wr zdon ehiruh brx uxq.\n",
            "Ngctp vq ycnm dghqtg aqw twp.\n",
            "Mfbso up xbml cfgpsf zpv svo.\n",
            "Learn to walk before you run.\n",
            "Kdzqm sn vzkj adenqd xnt qtm.\n",
            "Jcypl rm uyji zcdmpc wms psl.\n",
            "Ibxok ql txih ybclob vlr ork.\n"
          ]
        }
      ]
    },
    {
      "cell_type": "code",
      "execution_count": 13,
      "metadata": {
        "id": "_rbe8PUdYj33"
      },
      "outputs": [],
      "source": [
        "###"
      ]
    },
    {
      "cell_type": "code",
      "source": [
        "--6\n",
        "# зашифровать каждое слово фразы сдвигом на длину этого слова\n",
        "text = 'To be, or not to be, that is the question' + ' '\n",
        "\n",
        "\n",
        "# функция, шифрующая слово на сдвиг, равный длине слова\n",
        "def encrypt_word(word):\n",
        "    shift = len(word)\n",
        "    alf_length = len(eng_lower)\n",
        "    res = []\n",
        "    for char in word:\n",
        "        if char in eng_lower and ord(char) + shift <= ord(eng_lower[-1]):\n",
        "            alpha = chr(ord(char) + shift)\n",
        "            res.append(alpha)\n",
        "        elif char in eng_lower:\n",
        "            alpha = chr(ord(char) - alf_length + shift)\n",
        "            res.append(alpha)\n",
        "        elif char in eng_upper and ord(char) + shift <= ord(eng_upper[-1]):\n",
        "            alpha = chr(ord(char) + shift)\n",
        "            res.append(alpha)\n",
        "        elif char in eng_upper:\n",
        "            alpha = chr(ord(char) - alf_length + shift)\n",
        "            res.append(alpha)\n",
        "    return ''.join(res)\n",
        "\n",
        "res = []\n",
        "temp = ''\n",
        "\n",
        "for char in text:\n",
        "    if char.isalpha():\n",
        "        temp += char\n",
        "    else:\n",
        "        temp = encrypt_word(temp)\n",
        "        res.append(temp)\n",
        "        temp = ''\n",
        "        res.append(char)\n",
        "\n",
        "print(''.join(res)[:-1])"
      ],
      "metadata": {
        "id": "9GQe84SnYj34",
        "colab": {
          "base_uri": "https://localhost:8080/"
        },
        "outputId": "1520bbb5-35aa-47fb-e900-7682a05658e1"
      },
      "execution_count": 14,
      "outputs": [
        {
          "output_type": "stream",
          "name": "stdout",
          "text": [
            "Vq dg, qt qrw vq dg, xlex ku wkh ycmabqwv\n"
          ]
        }
      ]
    },
    {
      "cell_type": "code",
      "source": [
        "###"
      ],
      "metadata": {
        "id": "ITPNY4zBYj35"
      },
      "execution_count": 15,
      "outputs": []
    },
    {
      "cell_type": "code",
      "source": [],
      "metadata": {
        "id": "56qcAPbb3nfT"
      },
      "execution_count": null,
      "outputs": []
    }
  ]
}