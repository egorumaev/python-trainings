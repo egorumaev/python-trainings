{
  "nbformat": 4,
  "nbformat_minor": 0,
  "metadata": {
    "colab": {
      "provenance": []
    },
    "kernelspec": {
      "name": "python3",
      "display_name": "Python 3"
    },
    "language_info": {
      "name": "python"
    }
  },
  "cells": [
    {
      "cell_type": "markdown",
      "source": [
        "# **<font color='crimson'>PYTHON. \"Программирование на Python\"</font>**\n",
        "\n",
        "---"
      ],
      "metadata": {
        "id": "VFKL9nehiqlr"
      }
    },
    {
      "cell_type": "code",
      "source": [
        "###"
      ],
      "metadata": {
        "id": "ToRj1Gj0i2kt"
      },
      "execution_count": null,
      "outputs": []
    },
    {
      "cell_type": "code",
      "source": [
        "--1\n",
        "x, h, m = [int(input()) for _ in range(3)]\n",
        "start_sleep_time = h * 60 + m\n",
        "stop_sleep_time = start_sleep_time + x\n",
        "hour_up = stop_sleep_time // 60\n",
        "minute_up = stop_sleep_time % 60\n",
        "print(hour_up)\n",
        "print(minute_up)"
      ],
      "metadata": {
        "id": "D1vso9QwCOZI"
      },
      "execution_count": null,
      "outputs": []
    },
    {
      "cell_type": "code",
      "source": [
        "###"
      ],
      "metadata": {
        "id": "cjl-c2AOi6yy"
      },
      "execution_count": null,
      "outputs": []
    },
    {
      "cell_type": "code",
      "source": [
        "--2\n",
        "year = int(input())\n",
        "\n",
        "if (year % 4 == 0 and year % 100 != 0) or (year % 400 == 0):\n",
        "    print('Високосный')\n",
        "else:\n",
        "    print('Обычный')"
      ],
      "metadata": {
        "id": "loBapAMECWus"
      },
      "execution_count": null,
      "outputs": []
    },
    {
      "cell_type": "code",
      "source": [
        "###"
      ],
      "metadata": {
        "id": "Vntbnsrti8_v"
      },
      "execution_count": null,
      "outputs": []
    },
    {
      "cell_type": "code",
      "source": [
        "--3\n",
        "x, y = [float(input()) for _ in range(2)]\n",
        "operation = input()\n",
        "\n",
        "if y == 0.0 and (operation in ['/', 'div', 'mod']):\n",
        "    print('Деление на 0!')\n",
        "elif operation == '+':\n",
        "    print(x + y)\n",
        "elif operation == '-':\n",
        "    print(x - y)\n",
        "elif operation == '/':\n",
        "    print(x / y)\n",
        "elif operation == '*':\n",
        "    print(x * y)\n",
        "elif operation == 'mod':\n",
        "    print(x % y)\n",
        "elif operation == 'pow':\n",
        "    print(x ** y)\n",
        "elif operation == 'div':\n",
        "    print(x // y)"
      ],
      "metadata": {
        "colab": {
          "base_uri": "https://localhost:8080/"
        },
        "id": "ifbDVoX9q6qU",
        "outputId": "276417a8-9ca4-49fa-9194-68203edacc2e"
      },
      "execution_count": null,
      "outputs": [
        {
          "output_type": "stream",
          "name": "stdout",
          "text": [
            "5.0\n",
            "0.0\n",
            "%\n",
            "Деление на 0!\n"
          ]
        }
      ]
    },
    {
      "cell_type": "code",
      "source": [
        "###"
      ],
      "metadata": {
        "id": "gklRTKETi_gL"
      },
      "execution_count": null,
      "outputs": []
    },
    {
      "cell_type": "code",
      "source": [
        "--4\n",
        "pi = 3.14\n",
        "\n",
        "figure = input()\n",
        "\n",
        "if figure == 'треугольник':\n",
        "    a, b, c = [int(input()) for _ in range(3)]\n",
        "    p = (a + b + c) / 2\n",
        "    s = (p * (p - a) * (p - b) * (p - c)) ** 0.5\n",
        "    print(s)\n",
        "elif figure == 'прямоугольник':\n",
        "    a, b = [int(input()) for _ in range(2)]\n",
        "    s = a * b\n",
        "    print(s)\n",
        "elif figure == 'круг':\n",
        "    r = int(input())\n",
        "    s = pi * (r ** 2)\n",
        "    print(s)"
      ],
      "metadata": {
        "colab": {
          "base_uri": "https://localhost:8080/"
        },
        "id": "1W43gx-Zq6tm",
        "outputId": "9516e5ef-8dd7-4005-b12c-1235000fdbc7"
      },
      "execution_count": null,
      "outputs": [
        {
          "output_type": "stream",
          "name": "stdout",
          "text": [
            "треугольник\n",
            "3\n",
            "4\n",
            "5\n",
            "6.0\n"
          ]
        }
      ]
    },
    {
      "cell_type": "code",
      "source": [
        "###"
      ],
      "metadata": {
        "id": "t9qyWr5cjB7K"
      },
      "execution_count": null,
      "outputs": []
    },
    {
      "cell_type": "code",
      "source": [
        "--5\n",
        "a, b, c = [int(input()) for _ in range(3)]\n",
        "\n",
        "if a > b:\n",
        "    a, b = b, a\n",
        "\n",
        "if b > c:\n",
        "    b, c = c, b\n",
        "\n",
        "if a > b:\n",
        "    a, b = b, a\n",
        "\n",
        "print(c, a, b, sep = '\\n')"
      ],
      "metadata": {
        "id": "cffdnlvuq6w2",
        "colab": {
          "base_uri": "https://localhost:8080/"
        },
        "outputId": "21d4433d-44e0-4ad9-ad14-052670f27857"
      },
      "execution_count": null,
      "outputs": [
        {
          "output_type": "stream",
          "name": "stdout",
          "text": [
            "23\n",
            "23\n",
            "21\n",
            "23\n",
            "21\n",
            "23\n"
          ]
        }
      ]
    },
    {
      "cell_type": "code",
      "source": [
        "###"
      ],
      "metadata": {
        "id": "eUXA4J5ujFrq"
      },
      "execution_count": null,
      "outputs": []
    },
    {
      "cell_type": "code",
      "source": [
        "--6\n",
        "num = input()\n",
        "\n",
        "first_part = int(num[0]) + int(num[1]) + int(num[2])\n",
        "second_part = int(num[3]) + int(num[4]) + int(num[5])\n",
        "\n",
        "print('Счастливый' if first_part == second_part else 'Обычный')"
      ],
      "metadata": {
        "id": "LXMZaa5Qq63I",
        "colab": {
          "base_uri": "https://localhost:8080/"
        },
        "outputId": "94867525-b30a-4e91-c547-596330ba9138"
      },
      "execution_count": null,
      "outputs": [
        {
          "output_type": "stream",
          "name": "stdout",
          "text": [
            "123456\n",
            "Обычный\n"
          ]
        }
      ]
    },
    {
      "cell_type": "code",
      "source": [
        "###"
      ],
      "metadata": {
        "id": "OAM1-zlvjHev"
      },
      "execution_count": null,
      "outputs": []
    },
    {
      "cell_type": "code",
      "source": [
        "--7\n",
        "num = input()\n",
        "\n",
        "if int(num) in range(11, 20) or int(num) % 100 in range(11, 20):\n",
        "    print(num + ' ' + 'программистов')\n",
        "elif int(num) in range(5, 10)  \\\n",
        "    or int(num) % 10 in range(5, 10) \\\n",
        "    or int(num) == 0 or int(num) % 10 == 0:\n",
        "    print(num + ' ' + 'программистов')\n",
        "elif int(num) in range(2, 5) or int(num) % 10 in range(2, 5):\n",
        "    print(num + ' ' + 'программиста')\n",
        "else:\n",
        "    print(num + ' ' + 'программист')"
      ],
      "metadata": {
        "id": "f2KsBdzxq67Q",
        "colab": {
          "base_uri": "https://localhost:8080/"
        },
        "outputId": "94c1f7a3-0dce-4c98-dad3-4938ecd0c04b"
      },
      "execution_count": null,
      "outputs": [
        {
          "output_type": "stream",
          "name": "stdout",
          "text": [
            "2\n",
            "2 программиста\n"
          ]
        }
      ]
    },
    {
      "cell_type": "code",
      "source": [
        "###"
      ],
      "metadata": {
        "id": "FWSn6IgJjJw0"
      },
      "execution_count": null,
      "outputs": []
    },
    {
      "cell_type": "code",
      "source": [
        "--8\n",
        "res = 0\n",
        "num = int(input())\n",
        "\n",
        "while num != 0:\n",
        "    res += num\n",
        "    num = int(input())\n",
        "\n",
        "print(res)"
      ],
      "metadata": {
        "id": "G8kAkvTbq6-i",
        "colab": {
          "base_uri": "https://localhost:8080/"
        },
        "outputId": "1ddf48fb-b124-478a-85fb-c83bda0dd612"
      },
      "execution_count": null,
      "outputs": [
        {
          "output_type": "stream",
          "name": "stdout",
          "text": [
            "0\n",
            "0\n"
          ]
        }
      ]
    },
    {
      "cell_type": "code",
      "source": [
        "###"
      ],
      "metadata": {
        "id": "q4hC6L1ejLgc"
      },
      "execution_count": null,
      "outputs": []
    },
    {
      "cell_type": "code",
      "source": [
        "--9\n",
        "a, b = [int(input()) for _ in range(2)]\n",
        "\n",
        "if a > b:\n",
        "    a, b = b, a\n",
        "\n",
        "smallest = a\n",
        "\n",
        "while not (smallest % a == 0 and smallest % b == 0):\n",
        "    smallest += a\n",
        "\n",
        "print(smallest)"
      ],
      "metadata": {
        "id": "81JnSLLtq7Bs",
        "colab": {
          "base_uri": "https://localhost:8080/"
        },
        "outputId": "51fb074a-efce-465b-8ed8-d1b0844b729d"
      },
      "execution_count": null,
      "outputs": [
        {
          "output_type": "stream",
          "name": "stdout",
          "text": [
            "10285\n",
            "9874\n",
            "101554090\n"
          ]
        }
      ]
    },
    {
      "cell_type": "code",
      "source": [
        "###"
      ],
      "metadata": {
        "id": "nwV9xPJKjPVD"
      },
      "execution_count": null,
      "outputs": []
    },
    {
      "cell_type": "code",
      "source": [
        "--10\n",
        "while True:\n",
        "    x = int(input())\n",
        "    if x < 10:\n",
        "        continue\n",
        "    elif x > 100:\n",
        "        break\n",
        "    else:\n",
        "        print(x)"
      ],
      "metadata": {
        "id": "KkkQ4mtlq7FM",
        "colab": {
          "base_uri": "https://localhost:8080/"
        },
        "outputId": "48b3fe56-9d73-4d73-d5fc-abb8f7776fef"
      },
      "execution_count": null,
      "outputs": [
        {
          "name": "stdout",
          "output_type": "stream",
          "text": [
            "1\n",
            "2\n",
            "102\n"
          ]
        }
      ]
    },
    {
      "cell_type": "code",
      "source": [
        "###"
      ],
      "metadata": {
        "id": "k8u_hJ8BjTd8"
      },
      "execution_count": null,
      "outputs": []
    },
    {
      "cell_type": "code",
      "source": [
        "--11\n",
        "a, b, c, d = [int(input()) for _ in range(4)]\n",
        "\n",
        "print('\\t', end = '')\n",
        "for i in range(c, d + 1):\n",
        "    print(i, end = '\\t')\n",
        "print()\n",
        "\n",
        "for i in range(a, b + 1):\n",
        "    print(i, end = '\\t')\n",
        "    for j in range(c, d + 1):\n",
        "        print(i * j, end = '\\t')\n",
        "    print()"
      ],
      "metadata": {
        "id": "zxqFzuFCq7MM",
        "colab": {
          "base_uri": "https://localhost:8080/"
        },
        "outputId": "d03e27fc-82e0-473a-bfc8-434bbade4b37"
      },
      "execution_count": null,
      "outputs": [
        {
          "output_type": "stream",
          "name": "stdout",
          "text": [
            "\t2\t3\t4\t\n",
            "1\t2\t3\t4\t\n",
            "2\t4\t6\t8\t\n",
            "3\t6\t9\t12\t\n"
          ]
        }
      ]
    },
    {
      "cell_type": "code",
      "source": [
        "###"
      ],
      "metadata": {
        "id": "s6QkB3V7jXWr"
      },
      "execution_count": null,
      "outputs": []
    },
    {
      "cell_type": "code",
      "source": [
        "--12\n",
        "a, b = (int(input()) for _ in range(2))\n",
        "\n",
        "counter = 0\n",
        "res = 0\n",
        "\n",
        "for i in range(a, b + 1):\n",
        "    if i % 3 == 0:\n",
        "        res += i\n",
        "        counter += 1\n",
        "\n",
        "print(res / counter)"
      ],
      "metadata": {
        "id": "bC7I4a0Lq7Pq",
        "colab": {
          "base_uri": "https://localhost:8080/"
        },
        "outputId": "6c99d5cf-aa31-482c-9f39-9cff821370d9"
      },
      "execution_count": null,
      "outputs": [
        {
          "output_type": "stream",
          "name": "stdout",
          "text": [
            "-5\n",
            "12\n",
            "4.5\n"
          ]
        }
      ]
    },
    {
      "cell_type": "code",
      "source": [
        "###"
      ],
      "metadata": {
        "id": "7sVsXOWOjb-r"
      },
      "execution_count": null,
      "outputs": []
    },
    {
      "cell_type": "code",
      "source": [
        "--13\n",
        "name = input()\n",
        "\n",
        "counter_g_c = 0\n",
        "counter = 0\n",
        "\n",
        "for i in name.lower():\n",
        "    counter += 1\n",
        "    if i in ['g', 'c']:\n",
        "        counter_g_c += 1\n",
        "\n",
        "print(counter_g_c * 100 / counter)"
      ],
      "metadata": {
        "colab": {
          "base_uri": "https://localhost:8080/"
        },
        "id": "BCQdHu3oCINO",
        "outputId": "b951975a-7c37-40b8-8d30-92138064678b"
      },
      "execution_count": null,
      "outputs": [
        {
          "output_type": "stream",
          "name": "stdout",
          "text": [
            "acggtgttat\n",
            "40.0\n"
          ]
        }
      ]
    },
    {
      "cell_type": "code",
      "source": [
        "###"
      ],
      "metadata": {
        "id": "cz_8qHu1jeQh"
      },
      "execution_count": null,
      "outputs": []
    },
    {
      "cell_type": "code",
      "source": [
        "--14\n",
        "s = input()\n",
        "\n",
        "temp_letter = s[0]\n",
        "temp_counter = 1\n",
        "result = ''\n",
        "\n",
        "for i in range(1, len(s)):\n",
        "    if s[i] == temp_letter:\n",
        "        temp_counter += 1\n",
        "    else:\n",
        "        result += temp_letter\n",
        "        result += str(temp_counter)\n",
        "        temp_letter = s[i]\n",
        "        temp_counter = 1\n",
        "result += temp_letter\n",
        "result += str(temp_counter)\n",
        "\n",
        "print(result)"
      ],
      "metadata": {
        "colab": {
          "base_uri": "https://localhost:8080/"
        },
        "id": "gbyq0OkxCIQJ",
        "outputId": "0f483c33-06ca-48ec-d561-4b6ebfb402ed"
      },
      "execution_count": null,
      "outputs": [
        {
          "output_type": "stream",
          "name": "stdout",
          "text": [
            "aaaabbcaa\n",
            "a4b2c1a2\n"
          ]
        }
      ]
    },
    {
      "cell_type": "code",
      "source": [
        "###"
      ],
      "metadata": {
        "id": "gge0endLjgb8"
      },
      "execution_count": null,
      "outputs": []
    },
    {
      "cell_type": "code",
      "source": [
        "--15\n",
        "line = list(map(int, input().split()))\n",
        "\n",
        "result = []\n",
        "\n",
        "if len(line) == 1:\n",
        "    print(*line)\n",
        "else:\n",
        "    result.append(line[1] + line[-1])\n",
        "    for i in range(1, len(line) - 1):\n",
        "        result.append(line[i - 1] + line[i + 1])\n",
        "    result.append(line[-2] + line[0])\n",
        "    print(*result)"
      ],
      "metadata": {
        "id": "hDB1uykMq7Y8",
        "colab": {
          "base_uri": "https://localhost:8080/"
        },
        "outputId": "5ba32e04-3710-4168-8e46-4ae1cab9c370"
      },
      "execution_count": null,
      "outputs": [
        {
          "output_type": "stream",
          "name": "stdout",
          "text": [
            "13 6 9 15 7\n"
          ]
        }
      ]
    },
    {
      "cell_type": "code",
      "source": [
        "###"
      ],
      "metadata": {
        "id": "Vv_7XikZjlKC"
      },
      "execution_count": null,
      "outputs": []
    },
    {
      "cell_type": "code",
      "source": [
        "--16\n",
        "line = list(map(int, input().split()))\n",
        "\n",
        "result = []\n",
        "\n",
        "for i in line:\n",
        "    if line.count(i) > 1:\n",
        "        if i not in result:\n",
        "            result.append(i)\n",
        "\n",
        "print(*result)"
      ],
      "metadata": {
        "colab": {
          "base_uri": "https://localhost:8080/"
        },
        "id": "mxav2UpPU-ue",
        "outputId": "db289e88-85e0-44fa-d3fc-d7318d8387cc"
      },
      "execution_count": null,
      "outputs": [
        {
          "output_type": "stream",
          "name": "stdout",
          "text": [
            "4 0 3\n"
          ]
        }
      ]
    },
    {
      "cell_type": "code",
      "source": [
        "###"
      ],
      "metadata": {
        "id": "G1ItKlzLjoTv"
      },
      "execution_count": null,
      "outputs": []
    },
    {
      "cell_type": "code",
      "source": [
        "--17\n",
        "summ_nums = int(input())\n",
        "result = summ_nums ** 2\n",
        "\n",
        "while summ_nums != 0:\n",
        "    temp_num = int(input())\n",
        "    summ_nums += temp_num\n",
        "    result += temp_num ** 2\n",
        "\n",
        "print(result)"
      ],
      "metadata": {
        "id": "TJRc99aKU-xy",
        "colab": {
          "base_uri": "https://localhost:8080/"
        },
        "outputId": "817a06a3-fcc2-47f3-ba69-d6e1e680bb60"
      },
      "execution_count": null,
      "outputs": [
        {
          "output_type": "stream",
          "name": "stdout",
          "text": [
            "1\n",
            "-3\n",
            "5\n",
            "-6\n",
            "-10\n",
            "13\n",
            "340\n"
          ]
        }
      ]
    },
    {
      "cell_type": "code",
      "source": [
        "###"
      ],
      "metadata": {
        "id": "-jwe16QAjqsL"
      },
      "execution_count": null,
      "outputs": []
    },
    {
      "cell_type": "code",
      "source": [
        "--18\n",
        "n = int(input())\n",
        "res = []\n",
        "num = 1\n",
        "\n",
        "while len(res) < n:\n",
        "    for i in range(num):\n",
        "        res.append(num)\n",
        "    num += 1\n",
        "\n",
        "print(*res[:n])"
      ],
      "metadata": {
        "id": "miB5AFz4U-1D",
        "colab": {
          "base_uri": "https://localhost:8080/"
        },
        "outputId": "a407412d-0e30-4f64-9c3c-b0ad5c739521"
      },
      "execution_count": null,
      "outputs": [
        {
          "output_type": "stream",
          "name": "stdout",
          "text": [
            "25\n",
            "1 2 2 3 3 3 4 4 4 4 5 5 5 5 5 6 6 6 6 6 6 7 7 7 7\n"
          ]
        }
      ]
    },
    {
      "cell_type": "code",
      "source": [
        "###"
      ],
      "metadata": {
        "id": "Ao3AnDDujtI_"
      },
      "execution_count": null,
      "outputs": []
    },
    {
      "cell_type": "code",
      "source": [
        "--19\n",
        "lst = [int(i) for i in input().split()]\n",
        "number = int(input())\n",
        "# lst = [5, 8, 2, 7, 8, 8, 2, 4]\n",
        "# number = 8\n",
        "\n",
        "number_nums = lst.count(number)\n",
        "iter = 0\n",
        "place = 0\n",
        "\n",
        "indexes = []\n",
        "\n",
        "if number_nums == 0:\n",
        "    print('Отсутствует')\n",
        "else:\n",
        "    while iter <= number_nums and lst[place:].count(number) >= 1:\n",
        "        index = lst.index(number, place, len(lst))\n",
        "        place = index + 1\n",
        "        indexes.append(index)\n",
        "        iter += 1\n",
        "\n",
        "indexes.sort()\n",
        "print(*indexes)"
      ],
      "metadata": {
        "id": "0tL4fZAkU-4Y",
        "colab": {
          "base_uri": "https://localhost:8080/"
        },
        "outputId": "d6018e1d-9412-49ce-eaab-333d0c76207f"
      },
      "execution_count": null,
      "outputs": [
        {
          "output_type": "stream",
          "name": "stdout",
          "text": [
            "1 4 5\n"
          ]
        }
      ]
    },
    {
      "cell_type": "code",
      "source": [
        "###"
      ],
      "metadata": {
        "id": "QiPBOINHU-78"
      },
      "execution_count": null,
      "outputs": []
    },
    {
      "cell_type": "code",
      "source": [
        "--20\n",
        "n = int(input())\n",
        "# n = 5\n",
        "\n",
        "# создаем матрицу размера n * n, заполненную нулями\n",
        "matrix = [[0] * n for i in range(n)]\n",
        "\n",
        "# устанавливаем счетчик заполненных ячеек\n",
        "counter = 0\n",
        "\n",
        "# заполняем первую строку матрицы\n",
        "for i in range(n):\n",
        "    counter += 1\n",
        "    matrix[0][i] = counter\n",
        "\n",
        "# указываем координаты последней заполненной ячейки\n",
        "i = n - 1\n",
        "j = 0\n",
        "\n",
        "# устанавливаем размер первого блока первого витка\n",
        "n -= 1\n",
        "\n",
        "while len(matrix) ** 2 != counter:\n",
        "    for k in range(n): # движение вниз\n",
        "        j += 1\n",
        "        counter += 1\n",
        "        matrix[j][i] = counter\n",
        "    for k in range(n): # движение влево\n",
        "        i -= 1\n",
        "        counter += 1\n",
        "        matrix[j][i] = counter\n",
        "    for k in range(n - 1): # движение вверх\n",
        "        j -= 1\n",
        "        counter += 1\n",
        "        matrix[j][i] = counter\n",
        "    for k in range(n - 1): # движение вправо\n",
        "        i += 1\n",
        "        counter += 1\n",
        "        matrix[j][i] = counter\n",
        "    # обеспечиваем переход на следующий внутренний виток\n",
        "    n -= 2\n",
        "\n",
        "for i in range(len(matrix)):\n",
        "    print(*matrix[i])"
      ],
      "metadata": {
        "id": "jIKM0E4JU-_d",
        "colab": {
          "base_uri": "https://localhost:8080/"
        },
        "outputId": "7e74d1bd-0d6c-4e22-8bd8-c1a9167be201"
      },
      "execution_count": null,
      "outputs": [
        {
          "output_type": "stream",
          "name": "stdout",
          "text": [
            "1 2 3 4 5\n",
            "16 17 18 19 6\n",
            "15 24 25 20 7\n",
            "14 23 22 21 8\n",
            "13 12 11 10 9\n"
          ]
        }
      ]
    },
    {
      "cell_type": "code",
      "source": [
        "###"
      ],
      "metadata": {
        "id": "MpBWK4VAj105"
      },
      "execution_count": null,
      "outputs": []
    },
    {
      "cell_type": "code",
      "source": [
        "--21\n",
        "x = float(input())\n",
        "\n",
        "def math_func(x):\n",
        "    if x <= -2:\n",
        "        return 1 - (x + 2) ** 2\n",
        "    elif -2 < x <= 2:\n",
        "        return -x / 2\n",
        "    else:\n",
        "        return (x - 2) ** 2 + 1\n",
        "\n",
        "print(math_func(x))"
      ],
      "metadata": {
        "id": "AOOCv46EU_Gr",
        "colab": {
          "base_uri": "https://localhost:8080/"
        },
        "outputId": "6ed7f8b4-47de-404b-c532-3a36b82ef630"
      },
      "execution_count": null,
      "outputs": [
        {
          "output_type": "stream",
          "name": "stdout",
          "text": [
            "4.5\n",
            "7.25\n"
          ]
        }
      ]
    },
    {
      "cell_type": "code",
      "source": [
        "###"
      ],
      "metadata": {
        "id": "vZFlFbtqj5XF"
      },
      "execution_count": null,
      "outputs": []
    },
    {
      "cell_type": "code",
      "source": [
        "--22\n",
        "def modify_list(l):\n",
        "    for i in range(len(l) - 1, -1, -1):\n",
        "        if l[i] % 2 == 1:\n",
        "            del l[i]\n",
        "\n",
        "    for i in range(len(l)):\n",
        "        if l[i] % 2 == 0:\n",
        "            l[i] = int(l[i] / 2)\n",
        "\n",
        "\n",
        "lst = [1, 2, 3, 4, 5, 6]\n",
        "\n",
        "print(modify_list(lst))  # None\n",
        "print(lst)               # [1, 2, 3]\n",
        "modify_list(lst)\n",
        "print(lst)               # [1]\n",
        "\n",
        "lst = [10, 5, 8, 3]\n",
        "modify_list(lst)\n",
        "print(lst)               # [5, 4]"
      ],
      "metadata": {
        "id": "51jdsotHU_KZ",
        "colab": {
          "base_uri": "https://localhost:8080/"
        },
        "outputId": "ae7094c3-02df-456f-8cdd-eb9b58655f90"
      },
      "execution_count": null,
      "outputs": [
        {
          "output_type": "stream",
          "name": "stdout",
          "text": [
            "None\n",
            "[1, 2, 3]\n",
            "[1]\n",
            "[5, 4]\n"
          ]
        }
      ]
    },
    {
      "cell_type": "code",
      "source": [
        "###"
      ],
      "metadata": {
        "id": "R8puBk6PkJIy"
      },
      "execution_count": null,
      "outputs": []
    },
    {
      "cell_type": "code",
      "source": [
        "--23\n",
        "def update_dictionary(d, key, value):\n",
        "    if key in d:\n",
        "        d[key] += [value]\n",
        "    elif 2 * key not in d:\n",
        "        d[key * 2] = [value]\n",
        "    elif 2 * key in d:\n",
        "        d[key * 2] += [value]\n",
        "\n",
        "\n",
        "d = {}\n",
        "print(update_dictionary(d, 1, -1))  # None\n",
        "print(d)                            # {2: [-1]}\n",
        "update_dictionary(d, 2, -2)\n",
        "print(d)                            # {2: [-1, -2]}\n",
        "update_dictionary(d, 1, -3)\n",
        "print(d)                            # {2: [-1, -2, -3]}"
      ],
      "metadata": {
        "colab": {
          "base_uri": "https://localhost:8080/"
        },
        "id": "49jiz8e4-zEO",
        "outputId": "e2f547a8-26bf-457f-ced9-a13c693bd6b5"
      },
      "execution_count": null,
      "outputs": [
        {
          "output_type": "stream",
          "name": "stdout",
          "text": [
            "None\n",
            "{2: [-1]}\n",
            "{2: [-1, -2]}\n",
            "{2: [-1, -2, -3]}\n"
          ]
        }
      ]
    },
    {
      "cell_type": "code",
      "source": [
        "###"
      ],
      "metadata": {
        "id": "7t3-v6rSkL_Y"
      },
      "execution_count": null,
      "outputs": []
    },
    {
      "cell_type": "code",
      "source": [
        "--24\n",
        "# words_list = map(lambda x: x.lower(), input().split())\n",
        "words_list = map(lambda x: x.lower(), 'a aa abC aa ac abc bcd a'.split())\n",
        "\n",
        "words_dict = {}\n",
        "\n",
        "for word in words_list:\n",
        "    if word not in words_dict:\n",
        "        words_dict[word] = 1\n",
        "    else:\n",
        "        words_dict[word] += 1\n",
        "\n",
        "for key, value in words_dict.items():\n",
        "    print(key, value)"
      ],
      "metadata": {
        "colab": {
          "base_uri": "https://localhost:8080/"
        },
        "id": "jYn9vOI2-zHp",
        "outputId": "e9ab831f-9e02-4829-8d68-a2fef9ec1c8b"
      },
      "execution_count": null,
      "outputs": [
        {
          "output_type": "stream",
          "name": "stdout",
          "text": [
            "a 2\n",
            "aa 2\n",
            "abc 2\n",
            "ac 1\n",
            "bcd 1\n"
          ]
        }
      ]
    },
    {
      "cell_type": "code",
      "source": [
        "###"
      ],
      "metadata": {
        "id": "0wqoetKrkOni"
      },
      "execution_count": null,
      "outputs": []
    },
    {
      "cell_type": "code",
      "source": [
        "--25\n",
        "input_line = 'a3b4c2e10b1'\n",
        "input_line += ' '\n",
        "\n",
        "origin_str = ''\n",
        "\n",
        "temp_symbol = ''\n",
        "temp_symbol_nums = ''\n",
        "\n",
        "for i in range(len(input_line)):\n",
        "    if input_line[i].isalpha():\n",
        "        temp_symbol = input_line[i]\n",
        "    elif input_line[i].isdigit():\n",
        "        if input_line[i + 1].isdigit():\n",
        "            temp_symbol_nums += input_line[i]\n",
        "        else:\n",
        "            temp_symbol_nums += input_line[i]\n",
        "            origin_str += temp_symbol * int(temp_symbol_nums)\n",
        "            temp_symbol = ''\n",
        "            temp_symbol_nums = ''\n",
        "\n",
        "print(origin_str)"
      ],
      "metadata": {
        "id": "AZlyFTTM-zKk",
        "colab": {
          "base_uri": "https://localhost:8080/"
        },
        "outputId": "df50cd65-0cb1-47c2-97dd-2fe6b90ea6f4"
      },
      "execution_count": null,
      "outputs": [
        {
          "output_type": "stream",
          "name": "stdout",
          "text": [
            "aaabbbbcceeeeeeeeeeb\n"
          ]
        }
      ]
    },
    {
      "cell_type": "code",
      "source": [
        "###"
      ],
      "metadata": {
        "id": "ce7pmeCe1G4m"
      },
      "execution_count": null,
      "outputs": []
    },
    {
      "cell_type": "code",
      "source": [
        "--26"
      ],
      "metadata": {
        "id": "8XkZcbS-kS0M"
      },
      "execution_count": null,
      "outputs": []
    },
    {
      "cell_type": "code",
      "source": [
        "# подгружаем файл с данными\n",
        "! gdown 10Jvhxf1a0i7JV3LCx5vw-l8ARZTQCDXv"
      ],
      "metadata": {
        "colab": {
          "base_uri": "https://localhost:8080/"
        },
        "id": "NRBOWsOo1G_I",
        "outputId": "58980b61-0ecf-4633-8c63-db8500a2b1b3"
      },
      "execution_count": null,
      "outputs": [
        {
          "output_type": "stream",
          "name": "stdout",
          "text": [
            "Downloading...\n",
            "From: https://drive.google.com/uc?id=10Jvhxf1a0i7JV3LCx5vw-l8ARZTQCDXv\n",
            "To: /content/diss.txt\n",
            "\r  0% 0.00/591k [00:00<?, ?B/s]\r100% 591k/591k [00:00<00:00, 114MB/s]\n"
          ]
        }
      ]
    },
    {
      "cell_type": "code",
      "source": [
        "import re\n",
        "\n",
        "words_list =  open('/content/diss.txt')\n",
        "\n",
        "words_dict = {}\n",
        "\n",
        "def clear_text(text):\n",
        "    text = re.sub(r'[^а-яА-ЯёЁa-zA-Z]', ' ', text)\n",
        "    text = ' '.join(text.split())\n",
        "    return text\n",
        "\n",
        "while True:\n",
        "    words = words_list.readline().lower()\n",
        "    if not words:\n",
        "        break\n",
        "    else:\n",
        "        words = clear_text(words)\n",
        "        words = words.strip().split()\n",
        "        for word in words:\n",
        "            if words and word not in words_dict:\n",
        "                words_dict[word] = 1\n",
        "            else:\n",
        "                words_dict[word] += 1\n",
        "\n",
        "words_list.close()\n",
        "\n",
        "first_key = list(words_dict.keys())[0]\n",
        "first_value = words_dict[list(words_dict.keys())[0]]\n",
        "\n",
        "max_key = None\n",
        "max_value = first_value\n",
        "# найдем key, соответтсвующий максимальному значению value\n",
        "for key in words_dict.keys():\n",
        "    if words_dict[key] > max_value:\n",
        "        max_key = key\n",
        "        max_value = words_dict[key]\n",
        "\n",
        "print(max_key, max_value)\n",
        "# print(words_dict)\n",
        "\n",
        "# сортируем словарь по значениям values\n",
        "words_dict_sort_by_values = {\n",
        "    k: v for k, v in sorted(\n",
        "        words_dict.items(),\n",
        "        key=lambda item: item[1],\n",
        "        reverse=True\n",
        "    )\n",
        "}\n",
        "# print(words_dict_sort_by_values)\n",
        "\n",
        "# сортируем словарь по значениям key\n",
        "# в лексикографическом порядке\n",
        "list_keys = list(words_dict.keys())\n",
        "list_keys.sort()\n",
        "words_dict_sort_by_keys = {\n",
        "    i: words_dict[i] for i in list_keys\n",
        "}\n",
        "# print(words_dict_sort_by_keys)"
      ],
      "metadata": {
        "id": "0NqfMMHCU_cR",
        "colab": {
          "base_uri": "https://localhost:8080/"
        },
        "outputId": "fa478b1a-79c6-42db-f029-f97bef93e0ce"
      },
      "execution_count": null,
      "outputs": [
        {
          "output_type": "stream",
          "name": "stdout",
          "text": [
            "в 1641\n"
          ]
        }
      ]
    },
    {
      "cell_type": "code",
      "source": [
        "record = open('/content/diss.txt', 'w')\n",
        "for k, v in words_dict_sort_by_values.items():\n",
        "    temp_str = k + ' ' + str(v)\n",
        "    record.write(temp_str)\n",
        "    record.write('\\n')\n",
        "record.close()"
      ],
      "metadata": {
        "id": "qU-5IJ_fU_fW"
      },
      "execution_count": null,
      "outputs": []
    },
    {
      "cell_type": "code",
      "source": [
        "###"
      ],
      "metadata": {
        "id": "qlefLdRnU_ix"
      },
      "execution_count": null,
      "outputs": []
    },
    {
      "cell_type": "code",
      "source": [
        "--27"
      ],
      "metadata": {
        "id": "bzrDXCJNkXke"
      },
      "execution_count": null,
      "outputs": []
    },
    {
      "cell_type": "code",
      "source": [
        "# подгружаем файл с данными\n",
        "! gdown 1CuSTJpaahUe_TUpUG3gaquLB_4iW5LCA"
      ],
      "metadata": {
        "colab": {
          "base_uri": "https://localhost:8080/"
        },
        "id": "fNWTlbyjYclC",
        "outputId": "1fb7d447-9947-46e1-aa5f-b07971fa5cb2"
      },
      "execution_count": null,
      "outputs": [
        {
          "output_type": "stream",
          "name": "stdout",
          "text": [
            "Downloading...\n",
            "From: https://drive.google.com/uc?id=1CuSTJpaahUe_TUpUG3gaquLB_4iW5LCA\n",
            "To: /content/students.txt\n",
            "\r  0% 0.00/1.93k [00:00<?, ?B/s]\r100% 1.93k/1.93k [00:00<00:00, 6.10MB/s]\n"
          ]
        }
      ]
    },
    {
      "cell_type": "code",
      "source": [
        "import numpy as np\n",
        "\n",
        "students_info =  open('/content/students.txt', 'r')\n",
        "\n",
        "students_mean_note = []\n",
        "first_course = []\n",
        "second_course = []\n",
        "third_course = []\n",
        "\n",
        "\n",
        "while True:\n",
        "    student = students_info.readline()\n",
        "    if not student:\n",
        "        break\n",
        "\n",
        "    student = [int(x) for x in student.strip().split(';')[1:]]\n",
        "    students_mean_note.append(\n",
        "        (student[0] + student[1] + student[2]) / 3)\n",
        "    first_course.append(student[0])\n",
        "    second_course.append(student[1])\n",
        "    third_course.append(student[2])\n",
        "\n",
        "students_info.close()\n",
        "\n",
        "courses_notes = (\n",
        "    str(np.mean(first_course))\n",
        "    + ' ' + str(np.mean(second_course))\n",
        "    + ' ' + str(np.mean(third_course))\n",
        "    )\n",
        "\n",
        "students_mean_note.append(courses_notes)\n",
        "\n",
        "record = open('/content/result_notes.txt', 'w')\n",
        "for i in students_mean_note:\n",
        "    record.write(str(i))\n",
        "    record.write('\\n')\n",
        "record.close()"
      ],
      "metadata": {
        "id": "a0r98H1jYcrf"
      },
      "execution_count": null,
      "outputs": []
    },
    {
      "cell_type": "code",
      "source": [
        "###"
      ],
      "metadata": {
        "id": "7vRj2PY2kagd"
      },
      "execution_count": null,
      "outputs": []
    },
    {
      "cell_type": "code",
      "source": [
        "--28\n",
        "import sys\n",
        "print(*sys.argv[1:])"
      ],
      "metadata": {
        "colab": {
          "base_uri": "https://localhost:8080/"
        },
        "id": "2cWvLSjvYcuv",
        "outputId": "ffecc58e-9f2a-4bca-b001-1b2631bf2f26"
      },
      "execution_count": null,
      "outputs": [
        {
          "output_type": "stream",
          "name": "stdout",
          "text": [
            "-f /root/.local/share/jupyter/runtime/kernel-7a7c9fd7-3e6c-4d86-8a7c-70f14f47a622.json\n"
          ]
        }
      ]
    },
    {
      "cell_type": "code",
      "source": [
        "###"
      ],
      "metadata": {
        "id": "cOSJuk-SYcx7"
      },
      "execution_count": null,
      "outputs": []
    },
    {
      "cell_type": "code",
      "source": [
        "--29\n",
        "# alph_orig = input()\n",
        "# alph_shiffr = input()\n",
        "\n",
        "# text_orig = input()\n",
        "# text_shiffr = input()\n",
        "\n",
        "alph_orig = 'abcd'\n",
        "alph_shiffr = '*d%#'\n",
        "\n",
        "text_orig = 'abacabadaba'\n",
        "text_shiffr = '#*%*d*%'\n",
        "\n",
        "\n",
        "def orig_to_shiffr(text_orig):\n",
        "    text_shiffr = ''\n",
        "    for i in text_orig:\n",
        "        text_shiffr += alph_shiffr[alph_orig.index(i)]\n",
        "    return text_shiffr\n",
        "\n",
        "\n",
        "def shiffr_to_orig(text_shiffr):\n",
        "    text_orig = ''\n",
        "    for i in text_shiffr:\n",
        "        text_orig += alph_orig[alph_shiffr.index(i)]\n",
        "    return text_orig\n",
        "\n",
        "\n",
        "print(orig_to_shiffr(text_orig))\n",
        "print(shiffr_to_orig(text_shiffr))"
      ],
      "metadata": {
        "id": "Ec0vXXPdYc1J",
        "colab": {
          "base_uri": "https://localhost:8080/"
        },
        "outputId": "db17b039-109c-443b-a815-cf88f2437724"
      },
      "execution_count": 7,
      "outputs": [
        {
          "output_type": "stream",
          "name": "stdout",
          "text": [
            "*d*%*d*#*d*\n",
            "dacabac\n"
          ]
        }
      ]
    },
    {
      "cell_type": "code",
      "source": [
        "###"
      ],
      "metadata": {
        "id": "1jbi81zOkhQ5"
      },
      "execution_count": null,
      "outputs": []
    },
    {
      "cell_type": "code",
      "source": [
        "--30\n",
        "my_dict = set([input().lower() for _ in range(int(input()))])\n",
        "\n",
        "uniques_errors = set()\n",
        "\n",
        "for i in range(int(input())):\n",
        "    temp_set = set(map(lambda x: x.lower(), input().split()))\n",
        "    for el in temp_set.difference(my_dict):\n",
        "        uniques_errors.add(el)\n",
        "\n",
        "print(*uniques_errors, sep = '\\n')"
      ],
      "metadata": {
        "id": "weVB720FJQuN"
      },
      "execution_count": null,
      "outputs": []
    },
    {
      "cell_type": "code",
      "source": [
        "###"
      ],
      "metadata": {
        "id": "-j1gjH0ukjWO"
      },
      "execution_count": null,
      "outputs": []
    },
    {
      "cell_type": "code",
      "source": [
        "--31\n",
        "coord = [0, 0]\n",
        "\n",
        "for _ in range(int(input())):\n",
        "    new_dir = input().split()\n",
        "    if new_dir[0] == 'восток':\n",
        "        coord[0] += int(new_dir[1])\n",
        "    elif new_dir[0] == 'запад':\n",
        "        coord[0] -= int(new_dir[1])\n",
        "    elif new_dir[0] == 'север':\n",
        "        coord[1] += int(new_dir[1])\n",
        "    else:\n",
        "        coord[1] -= int(new_dir[1])\n",
        "\n",
        "print(*coord)"
      ],
      "metadata": {
        "id": "zGlyhfQ7JQxN"
      },
      "execution_count": null,
      "outputs": []
    },
    {
      "cell_type": "code",
      "source": [
        "###"
      ],
      "metadata": {
        "id": "hQ4sr1BfJQ0j"
      },
      "execution_count": null,
      "outputs": []
    },
    {
      "cell_type": "code",
      "source": [
        "--32"
      ],
      "metadata": {
        "id": "pE5h7-hikn3l"
      },
      "execution_count": null,
      "outputs": []
    },
    {
      "cell_type": "code",
      "source": [
        "# подгружаем файл с данными\n",
        "! gdown 1rlB5QKRsBZdqecTFGM32sdOsni7dsA_k"
      ],
      "metadata": {
        "colab": {
          "base_uri": "https://localhost:8080/"
        },
        "id": "gwPS7t6edbJZ",
        "outputId": "2085fbc6-3498-48ee-dd1a-9b92215d0e52"
      },
      "execution_count": 43,
      "outputs": [
        {
          "output_type": "stream",
          "name": "stdout",
          "text": [
            "Downloading...\n",
            "From: https://drive.google.com/uc?id=1rlB5QKRsBZdqecTFGM32sdOsni7dsA_k\n",
            "To: /content/classes.txt\n",
            "\r  0% 0.00/954 [00:00<?, ?B/s]\r100% 954/954 [00:00<00:00, 3.92MB/s]\n"
          ]
        }
      ]
    },
    {
      "cell_type": "code",
      "source": [
        "import numpy as np\n",
        "\n",
        "dict_res = {k: [] for k in range(1, 12)}\n",
        "\n",
        "with open('/content/classes.txt') as classes:\n",
        "    for line in classes:\n",
        "        line = line.strip().split('\\t')\n",
        "        line = [int(line[0])] + [int(line[2])]\n",
        "        dict_res[line[0]].append(line[1])\n",
        "\n",
        "for k, v in dict_res.items():\n",
        "    if not v:\n",
        "        print(k, '-')\n",
        "    else:\n",
        "        print(k, np.mean(v))\n",
        "\n",
        "with open('/content/result.txt', 'w') as result:\n",
        "    for k, v in dict_res.items():\n",
        "        if not v:\n",
        "            result.write(str(k) + ' -\\n')\n",
        "        else:\n",
        "            result.write(str(k) + ' ' + str(np.mean(v)) +'\\n')"
      ],
      "metadata": {
        "colab": {
          "base_uri": "https://localhost:8080/"
        },
        "id": "XGvV8bIYdbM3",
        "outputId": "2cb925bf-3352-4e12-d657-d0397bc80fa5"
      },
      "execution_count": 44,
      "outputs": [
        {
          "output_type": "stream",
          "name": "stdout",
          "text": [
            "1 124.2\n",
            "2 130.0\n",
            "3 135.4\n",
            "4 140.0\n",
            "5 146.33333333333334\n",
            "6 154.5\n",
            "7 161.16666666666666\n",
            "8 164.55555555555554\n",
            "9 169.0\n",
            "10 170.25\n",
            "11 175.83333333333334\n"
          ]
        }
      ]
    },
    {
      "cell_type": "code",
      "source": [
        "###"
      ],
      "metadata": {
        "id": "txHHGXlMdbQg"
      },
      "execution_count": null,
      "outputs": []
    },
    {
      "cell_type": "code",
      "source": [
        "--33"
      ],
      "metadata": {
        "id": "Zo9xTpOkkrLI"
      },
      "execution_count": null,
      "outputs": []
    },
    {
      "cell_type": "code",
      "source": [
        "import requests"
      ],
      "metadata": {
        "id": "Yn4xPw6D_np2"
      },
      "execution_count": 45,
      "outputs": []
    },
    {
      "cell_type": "code",
      "source": [
        "r = requests.get(\n",
        "    'https://stepik.org/media/attachments/course67/3.6.2/296.txt'\n",
        "    )\n",
        "print(len(r.text.strip().splitlines()))"
      ],
      "metadata": {
        "id": "nuTvts91_ntO",
        "colab": {
          "base_uri": "https://localhost:8080/"
        },
        "outputId": "459e72fd-6ab8-49fa-a05b-93dac8348c6c"
      },
      "execution_count": 58,
      "outputs": [
        {
          "output_type": "stream",
          "name": "stdout",
          "text": [
            "253\n"
          ]
        }
      ]
    },
    {
      "cell_type": "code",
      "source": [
        "###"
      ],
      "metadata": {
        "id": "bl9s8NhXQRG0"
      },
      "execution_count": null,
      "outputs": []
    },
    {
      "cell_type": "code",
      "source": [
        "--34"
      ],
      "metadata": {
        "id": "rAschxk6ktzo"
      },
      "execution_count": null,
      "outputs": []
    },
    {
      "cell_type": "code",
      "source": [
        "r = requests.get(\n",
        "    'https://stepik.org/media/attachments/course67/3.6.3/699991.txt'\n",
        "    )\n",
        "print(r.text)\n",
        "\n",
        "while True:\n",
        "    if not r.text.startswith('We'):\n",
        "        r = requests.get(\n",
        "    'https://stepik.org/media/attachments/course67/3.6.3/'\n",
        "    + r.text\n",
        "    )\n",
        "    else:\n",
        "        print(r.text)\n",
        "        break"
      ],
      "metadata": {
        "id": "R-b0vAMA_nvv",
        "colab": {
          "base_uri": "https://localhost:8080/"
        },
        "outputId": "722b69b9-08d3-48b1-e4dc-73b3674d8bec"
      },
      "execution_count": 65,
      "outputs": [
        {
          "output_type": "stream",
          "name": "stdout",
          "text": [
            "213837.txt\n",
            "We are the champions, my friends,\n",
            "And we'll keep on fighting 'til the end.\n",
            "We are the champions.\n",
            "We are the champions.\n",
            "No time for losers\n",
            "'Cause we are the champions of the world.\n"
          ]
        }
      ]
    },
    {
      "cell_type": "code",
      "source": [
        "with open('/content/result.txt', 'w') as result:\n",
        "    for i in r.text.strip().splitlines():\n",
        "       result.write(i + '\\n')"
      ],
      "metadata": {
        "id": "FOfWFHPtq7cA"
      },
      "execution_count": 71,
      "outputs": []
    },
    {
      "cell_type": "code",
      "source": [],
      "metadata": {
        "id": "fx2jV4VEQotN"
      },
      "execution_count": null,
      "outputs": []
    }
  ]
}