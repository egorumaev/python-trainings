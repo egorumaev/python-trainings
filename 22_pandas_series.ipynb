{
  "nbformat": 4,
  "nbformat_minor": 0,
  "metadata": {
    "colab": {
      "provenance": []
    },
    "kernelspec": {
      "name": "python3",
      "display_name": "Python 3"
    },
    "language_info": {
      "name": "python"
    }
  },
  "cells": [
    {
      "cell_type": "markdown",
      "source": [
        "# **<font color='crimson'>PANDAS. Series</font>**\n",
        "\n",
        "---"
      ],
      "metadata": {
        "id": "CjT5w9s6YcKa"
      }
    },
    {
      "cell_type": "markdown",
      "source": [
        "## **<font color='navy'>Создание объекта Series в Pandas</font>**\n",
        "\n",
        "---"
      ],
      "metadata": {
        "id": "YPKrHd2yxssL"
      }
    },
    {
      "cell_type": "code",
      "source": [
        "import pandas as pd\n",
        "import numpy as np"
      ],
      "metadata": {
        "id": "1d3dpB-wcFC3"
      },
      "execution_count": null,
      "outputs": []
    },
    {
      "cell_type": "code",
      "execution_count": null,
      "metadata": {
        "id": "CoEAJXqDYV9Z"
      },
      "outputs": [],
      "source": [
        "###"
      ]
    },
    {
      "cell_type": "code",
      "source": [
        "--1\n",
        "temp = pd.Series([(1, 'a'), (2, 'b'), (3, 'c')])\n",
        "print(temp)"
      ],
      "metadata": {
        "id": "dL7LH9xGYbjq",
        "colab": {
          "base_uri": "https://localhost:8080/"
        },
        "outputId": "51edc8eb-b19e-4587-8d66-42bbcb072756"
      },
      "execution_count": null,
      "outputs": [
        {
          "output_type": "stream",
          "name": "stdout",
          "text": [
            "0    (1, a)\n",
            "1    (2, b)\n",
            "2    (3, c)\n",
            "dtype: object\n"
          ]
        }
      ]
    },
    {
      "cell_type": "code",
      "source": [
        "###"
      ],
      "metadata": {
        "id": "QET62ZQZYbwU"
      },
      "execution_count": null,
      "outputs": []
    },
    {
      "cell_type": "code",
      "source": [
        "--2\n",
        "data = pd.Series([1,2,3], index = ['a', 'b', 'c'])\n",
        "print(data)"
      ],
      "metadata": {
        "id": "HC8BdWVKYbzq",
        "colab": {
          "base_uri": "https://localhost:8080/"
        },
        "outputId": "9fa3628a-d411-4abe-f6e2-30d5fc838113"
      },
      "execution_count": null,
      "outputs": [
        {
          "output_type": "stream",
          "name": "stdout",
          "text": [
            "a    1\n",
            "b    2\n",
            "c    3\n",
            "dtype: int64\n"
          ]
        }
      ]
    },
    {
      "cell_type": "code",
      "source": [
        "###"
      ],
      "metadata": {
        "id": "YeB8zIlhYb2w"
      },
      "execution_count": null,
      "outputs": []
    },
    {
      "cell_type": "code",
      "source": [
        "--3\n",
        "data = pd.Series({'a': 1, 'b': 2, 'c': 3})\n",
        "print(data)"
      ],
      "metadata": {
        "id": "ymfpqAcTYb58",
        "colab": {
          "base_uri": "https://localhost:8080/"
        },
        "outputId": "1d688295-e60f-47ae-b6a5-d08f8cb6a2d9"
      },
      "execution_count": null,
      "outputs": [
        {
          "output_type": "stream",
          "name": "stdout",
          "text": [
            "a    1\n",
            "b    2\n",
            "c    3\n",
            "dtype: int64\n"
          ]
        }
      ]
    },
    {
      "cell_type": "code",
      "source": [
        "###"
      ],
      "metadata": {
        "id": "WGz6Ob9YYb9H"
      },
      "execution_count": null,
      "outputs": []
    },
    {
      "cell_type": "code",
      "source": [
        "--4\n",
        "arr = np.array([1, 2, 3, 4, 5])\n",
        "data = pd.Series(arr)\n",
        "print(data)"
      ],
      "metadata": {
        "id": "rGkEmH5mYcAk"
      },
      "execution_count": null,
      "outputs": []
    },
    {
      "cell_type": "code",
      "source": [
        "###"
      ],
      "metadata": {
        "id": "uAScR1WHYcD5"
      },
      "execution_count": null,
      "outputs": []
    },
    {
      "cell_type": "code",
      "source": [
        "--5\n",
        "data = pd.Series(0, index = ['a', 'b', 'c'])\n",
        "print(data)"
      ],
      "metadata": {
        "id": "FntudgP5YcHA"
      },
      "execution_count": null,
      "outputs": []
    },
    {
      "cell_type": "code",
      "execution_count": null,
      "metadata": {
        "id": "_rbe8PUdYj33"
      },
      "outputs": [],
      "source": [
        "###"
      ]
    },
    {
      "cell_type": "code",
      "source": [
        "--6\n",
        "# first_list = input().split()\n",
        "# second_list = list(map(int, input().split()))\n",
        "\n",
        "first_list = ['a', 'b', 'c']\n",
        "second_list = [4, 6, 2]\n",
        "\n",
        "tuple_list = list(zip(first_list, second_list))\n",
        "\n",
        "data = pd.Series(\n",
        "    data = tuple_list\n",
        ")\n",
        "\n",
        "print(data)"
      ],
      "metadata": {
        "id": "9GQe84SnYj34",
        "colab": {
          "base_uri": "https://localhost:8080/"
        },
        "outputId": "ff21c9e9-c84f-4dd3-9356-d733a6b52952"
      },
      "execution_count": null,
      "outputs": [
        {
          "output_type": "stream",
          "name": "stdout",
          "text": [
            "0    (a, 4)\n",
            "1    (b, 6)\n",
            "2    (c, 2)\n",
            "dtype: object\n"
          ]
        }
      ]
    },
    {
      "cell_type": "code",
      "source": [
        "###"
      ],
      "metadata": {
        "id": "ITPNY4zBYj35"
      },
      "execution_count": null,
      "outputs": []
    },
    {
      "cell_type": "code",
      "source": [
        "--7\n",
        "# line = input().split()\n",
        "\n",
        "line = 'banana ananasa mandarina apelsina'.split()\n",
        "\n",
        "data = pd.Series(\n",
        "    data = line\n",
        ")\n",
        "\n",
        "print(data)"
      ],
      "metadata": {
        "id": "g8BJQ4BtYj35",
        "colab": {
          "base_uri": "https://localhost:8080/"
        },
        "outputId": "de198bd1-f6ca-446e-c0c7-23675b005d68"
      },
      "execution_count": null,
      "outputs": [
        {
          "output_type": "stream",
          "name": "stdout",
          "text": [
            "0       banana\n",
            "1      ananasa\n",
            "2    mandarina\n",
            "3     apelsina\n",
            "dtype: object\n"
          ]
        }
      ]
    },
    {
      "cell_type": "code",
      "source": [
        "###"
      ],
      "metadata": {
        "id": "mgFG8OxJYj37"
      },
      "execution_count": null,
      "outputs": []
    },
    {
      "cell_type": "code",
      "source": [
        "--8\n",
        "alphabet = [\n",
        "    'a', 'b', 'c', 'd', 'e', 'f', 'g', 'h', 'i', 'j', 'k', 'l', 'm', 'n',\n",
        "    'o', 'p', 'q', 'r', 's', 't', 'u', 'v', 'w', 'x', 'y', 'z'\n",
        "]\n",
        "\n",
        "# line = list(map(bool, list((map(int, input().split())))))\n",
        "\n",
        "line = list(map(bool, list((map(int, '1 0 1 0 0 1'.split())))))\n",
        "\n",
        "data = pd.Series(\n",
        "    data = line,\n",
        "    index = alphabet[:len(line)]\n",
        ")\n",
        "\n",
        "print(data)"
      ],
      "metadata": {
        "id": "SHszfeNEYj37",
        "colab": {
          "base_uri": "https://localhost:8080/"
        },
        "outputId": "29571900-69e8-469d-b03c-ec96593333fd"
      },
      "execution_count": null,
      "outputs": [
        {
          "output_type": "stream",
          "name": "stdout",
          "text": [
            "a     True\n",
            "b    False\n",
            "c     True\n",
            "d    False\n",
            "e    False\n",
            "f     True\n",
            "dtype: bool\n"
          ]
        }
      ]
    },
    {
      "cell_type": "code",
      "source": [
        "###"
      ],
      "metadata": {
        "id": "KvRH-_dCYj38"
      },
      "execution_count": null,
      "outputs": []
    },
    {
      "cell_type": "code",
      "source": [
        "--9\n",
        "dates = ['2022-01-01', '2022-01-02', '2022-01-03']\n",
        "\n",
        "data = pd.Series(\n",
        "    data = dates\n",
        ")\n",
        "\n",
        "print(data)"
      ],
      "metadata": {
        "id": "Aj95I3ljAhAh",
        "colab": {
          "base_uri": "https://localhost:8080/"
        },
        "outputId": "d184a4e9-4e77-4595-8124-c53410c4bbb4"
      },
      "execution_count": null,
      "outputs": [
        {
          "output_type": "stream",
          "name": "stdout",
          "text": [
            "0    2022-01-01\n",
            "1    2022-01-02\n",
            "2    2022-01-03\n",
            "dtype: object\n"
          ]
        }
      ]
    },
    {
      "cell_type": "code",
      "execution_count": null,
      "metadata": {
        "id": "VxwzNTVYYkGF"
      },
      "outputs": [],
      "source": [
        "###"
      ]
    },
    {
      "cell_type": "code",
      "source": [
        "--10\n",
        "# n, m = [int(input()) for _ in range(2)]\n",
        "\n",
        "n, m = 1, 89\n",
        "\n",
        "nums = list(range(n, m + 1, 10))\n",
        "indexes = list(range(1, len(nums) * 2, 2))\n",
        "\n",
        "data = pd.Series(\n",
        "    data = nums,\n",
        "    index = indexes\n",
        ")\n",
        "\n",
        "print(data)"
      ],
      "metadata": {
        "id": "taCAZApGYkGF",
        "colab": {
          "base_uri": "https://localhost:8080/"
        },
        "outputId": "82bb15a1-caa0-4d9b-c4b8-f7bd278ebffb"
      },
      "execution_count": null,
      "outputs": [
        {
          "output_type": "stream",
          "name": "stdout",
          "text": [
            "1      1\n",
            "3     11\n",
            "5     21\n",
            "7     31\n",
            "9     41\n",
            "11    51\n",
            "13    61\n",
            "15    71\n",
            "17    81\n",
            "dtype: int64\n"
          ]
        }
      ]
    },
    {
      "cell_type": "markdown",
      "source": [
        "## **<font color='navy'>Атрибуты index и values объекта pandas.Series</font>**\n",
        "\n",
        "---"
      ],
      "metadata": {
        "id": "UbJ-LzAwx0T6"
      }
    },
    {
      "cell_type": "code",
      "source": [
        "###"
      ],
      "metadata": {
        "id": "Mp9AlNSMYkGF"
      },
      "execution_count": null,
      "outputs": []
    },
    {
      "cell_type": "code",
      "source": [
        "--11\n",
        "indexes = [chr(i) for i in range(ord('A'), ord('A') + 10)]\n",
        "numbers = list(range(1, 20, 2))\n",
        "\n",
        "data = pd.Series(\n",
        "    data = numbers,\n",
        "    index = indexes\n",
        ")\n",
        "\n",
        "print(data)"
      ],
      "metadata": {
        "id": "BzMGd9aEYkGF",
        "colab": {
          "base_uri": "https://localhost:8080/"
        },
        "outputId": "1d32a35f-9b20-4fe1-d205-1bbc00b58cac"
      },
      "execution_count": null,
      "outputs": [
        {
          "output_type": "stream",
          "name": "stdout",
          "text": [
            "A     1\n",
            "B     3\n",
            "C     5\n",
            "D     7\n",
            "E     9\n",
            "F    11\n",
            "G    13\n",
            "H    15\n",
            "I    17\n",
            "J    19\n",
            "dtype: int64\n"
          ]
        }
      ]
    },
    {
      "cell_type": "code",
      "source": [
        "###"
      ],
      "metadata": {
        "id": "HzHKJKPkYkGF"
      },
      "execution_count": null,
      "outputs": []
    },
    {
      "cell_type": "code",
      "source": [
        "--12\n",
        "abc = [chr(i) for i in range(ord('a'), ord('z') + 1)]\n",
        "\n",
        "data = pd.Series(\n",
        "    data = abc\n",
        ")\n",
        "\n",
        "print(data.index)\n",
        "print(data.values)"
      ],
      "metadata": {
        "id": "7-UONghTYkGF",
        "colab": {
          "base_uri": "https://localhost:8080/"
        },
        "outputId": "363cecf3-e0e5-40b5-a7bc-e276414fb423"
      },
      "execution_count": null,
      "outputs": [
        {
          "output_type": "stream",
          "name": "stdout",
          "text": [
            "RangeIndex(start=0, stop=26, step=1)\n",
            "['a' 'b' 'c' 'd' 'e' 'f' 'g' 'h' 'i' 'j' 'k' 'l' 'm' 'n' 'o' 'p' 'q' 'r'\n",
            " 's' 't' 'u' 'v' 'w' 'x' 'y' 'z']\n"
          ]
        }
      ]
    },
    {
      "cell_type": "code",
      "source": [
        "###"
      ],
      "metadata": {
        "id": "VUlBI8hVYkGG"
      },
      "execution_count": null,
      "outputs": []
    },
    {
      "cell_type": "code",
      "source": [
        "--13\n",
        "states = [\n",
        "    'Alabama', 'Alaska', 'Arizona', 'Arkansas', 'California', 'Colorado',\n",
        "    'Connecticut', 'Delaware', 'Florida', 'Georgia', 'Hawaii', 'Idaho',\n",
        "    'Illinois', 'Indiana', 'Iowa', 'Kansas', 'Kentucky', 'Louisiana',\n",
        "    'Maine', 'Maryland', 'Massachusetts', 'Michigan', 'Minnesota',\n",
        "    'Mississippi', 'Missouri', 'Montana', 'Nebraska', 'Nevada',\n",
        "    'New Hampshire', 'New Jersey', 'New Mexico', 'New York',\n",
        "    'North Carolina', 'North Dakota', 'Ohio', 'Oklahoma', 'Oregon',\n",
        "    'Pennsylvania', 'Rhode Island', 'South Carolina', 'South Dakota',\n",
        "    'Tennessee', 'Texas', 'Utah', 'Vermont', 'Virginia', 'Washington',\n",
        "    'West Virginia', 'Wisconsin', 'Wyoming']\n",
        "\n",
        "populations = [\n",
        "    4903185, 731545, 7278717, 3017825, 39538223, 578713, 3605944, 986809,\n",
        "    21538187, 10711908, 1455271, 1826156, 12671821, 6745354, 3179849,\n",
        "    2913314, 4467673, 4648794, 1344212, 6045680, 6893574, 9986857,\n",
        "    5639632, 2976149, 6137428, 1068778, 1934408, 3080156, 3139658,\n",
        "    1363582, 10100233, 10439388, 762062, 19849399, 10488084, 762062,\n",
        "    11689100, 3953823, 4217737, 12801989, 1059361, 5148714, 884659,\n",
        "    6897576, 328239523, 3205958, 623347, 8535519, 7614893, 1792147]\n",
        "\n",
        "data = pd.Series(\n",
        "    data = populations,\n",
        "    index = states\n",
        ")\n",
        "\n",
        "# state = input()\n",
        "state = 'Arizona'\n",
        "\n",
        "print(data[state])\n",
        "print(data.index)"
      ],
      "metadata": {
        "id": "ShgrBwT2YkGG",
        "colab": {
          "base_uri": "https://localhost:8080/"
        },
        "outputId": "0abebc69-01b8-46ce-becd-50ecdbdf0d4e"
      },
      "execution_count": null,
      "outputs": [
        {
          "output_type": "stream",
          "name": "stdout",
          "text": [
            "7278717\n",
            "Index(['Alabama', 'Alaska', 'Arizona', 'Arkansas', 'California', 'Colorado',\n",
            "       'Connecticut', 'Delaware', 'Florida', 'Georgia', 'Hawaii', 'Idaho',\n",
            "       'Illinois', 'Indiana', 'Iowa', 'Kansas', 'Kentucky', 'Louisiana',\n",
            "       'Maine', 'Maryland', 'Massachusetts', 'Michigan', 'Minnesota',\n",
            "       'Mississippi', 'Missouri', 'Montana', 'Nebraska', 'Nevada',\n",
            "       'New Hampshire', 'New Jersey', 'New Mexico', 'New York',\n",
            "       'North Carolina', 'North Dakota', 'Ohio', 'Oklahoma', 'Oregon',\n",
            "       'Pennsylvania', 'Rhode Island', 'South Carolina', 'South Dakota',\n",
            "       'Tennessee', 'Texas', 'Utah', 'Vermont', 'Virginia', 'Washington',\n",
            "       'West Virginia', 'Wisconsin', 'Wyoming'],\n",
            "      dtype='object')\n"
          ]
        }
      ]
    },
    {
      "cell_type": "code",
      "source": [
        "###"
      ],
      "metadata": {
        "id": "Qy3hGaWeYkGG"
      },
      "execution_count": null,
      "outputs": []
    },
    {
      "cell_type": "code",
      "source": [
        "--14\n",
        "data = pd.Series(\n",
        "    data = populations,\n",
        "    index = states\n",
        ")\n",
        "\n",
        "# states = input().split()\n",
        "states = 'Alaska California Connecticut'.split()\n",
        "\n",
        "print(data[states])"
      ],
      "metadata": {
        "id": "glQPUg5FYkGG",
        "colab": {
          "base_uri": "https://localhost:8080/"
        },
        "outputId": "6c17e8f2-838b-4e30-a231-31a294cbca32"
      },
      "execution_count": null,
      "outputs": [
        {
          "output_type": "stream",
          "name": "stdout",
          "text": [
            "Alaska           731545\n",
            "California     39538223\n",
            "Connecticut     3605944\n",
            "dtype: int64\n"
          ]
        }
      ]
    },
    {
      "cell_type": "code",
      "execution_count": null,
      "metadata": {
        "id": "8ul9uboYYkS5"
      },
      "outputs": [],
      "source": [
        "###"
      ]
    },
    {
      "cell_type": "code",
      "source": [
        "--15\n",
        "dates = \"\"\"\n",
        "2022-05-01 2022-05-02 2022-05-03 2022-05-04 2022-05-05 2022-05-06 2022-05-07 2022-05-08 2022-05-09 2022-05-10 2022-05-11 2022-05-12 2022-05-13 2022-05-14 2022-05-15 2022-05-16 2022-05-17 2022-05-18 2022-05-19 2022-05-20\n",
        "\"\"\".split()\n",
        "\n",
        "prices = list(map(int, \"\"\"\n",
        "64 73 71 142 93 128 114 104 59 198 90 160 150 180 145 189 163 178 118 59\n",
        "\"\"\".split()))\n",
        "\n",
        "data = pd.Series(\n",
        "    data = prices,\n",
        "    index = dates\n",
        ")\n",
        "\n",
        "selection_dates = '2022-05-03 2022-05-04 2022-05-05 2022-05-18'.split()\n",
        "\n",
        "print(data[selection_dates])"
      ],
      "metadata": {
        "id": "nZMvz5YvYkS6",
        "colab": {
          "base_uri": "https://localhost:8080/"
        },
        "outputId": "d758feaa-3d75-4d54-c260-3012a927667e"
      },
      "execution_count": null,
      "outputs": [
        {
          "output_type": "stream",
          "name": "stdout",
          "text": [
            "2022-05-03     71\n",
            "2022-05-04    142\n",
            "2022-05-05     93\n",
            "2022-05-18    178\n",
            "dtype: int64\n"
          ]
        }
      ]
    },
    {
      "cell_type": "code",
      "source": [
        "###"
      ],
      "metadata": {
        "id": "yOOUrKH9YkS6"
      },
      "execution_count": null,
      "outputs": []
    },
    {
      "cell_type": "code",
      "source": [
        "--16\n",
        "data = pd.Series(\n",
        "    data = prices,\n",
        "    index = dates\n",
        ")\n",
        "\n",
        "selection_dates = '2022-05-01 2022-05-02 2022-05-03'.split()\n",
        "\n",
        "print(*data[selection_dates])"
      ],
      "metadata": {
        "id": "qQqb_DZTYkS7",
        "colab": {
          "base_uri": "https://localhost:8080/"
        },
        "outputId": "0788f109-3b02-4e43-b637-c4b60e9d2b56"
      },
      "execution_count": null,
      "outputs": [
        {
          "output_type": "stream",
          "name": "stdout",
          "text": [
            "64 73 71\n"
          ]
        }
      ]
    },
    {
      "cell_type": "code",
      "source": [
        "###"
      ],
      "metadata": {
        "id": "j6Gtn9sNYkS7"
      },
      "execution_count": null,
      "outputs": []
    },
    {
      "cell_type": "code",
      "source": [
        "--17\n",
        "from datetime import date, timedelta\n",
        "np.random.seed(33)\n",
        "dates = list(map(str,[date(2019, 1, 4) + timedelta(days=i) for i in range(360)]))\n",
        "temperatures = np.random.randint(-10, 35, len(dates))\n",
        "\n",
        "data = pd.Series(\n",
        "    data = temperatures,\n",
        "    index = dates\n",
        ")\n",
        "\n",
        "month = input()\n",
        "month = '0' + month if len(month) == 1 else month\n",
        "\n",
        "indexes = [i for i in list(data.index) if month == i[5:7]]\n",
        "\n",
        "#print(data[min(indexes):max(indexes)])\n",
        "print(data[indexes])"
      ],
      "metadata": {
        "id": "UtGiFwHMYkS7"
      },
      "execution_count": null,
      "outputs": []
    },
    {
      "cell_type": "code",
      "source": [
        "###"
      ],
      "metadata": {
        "id": "bJKWSHfgYkS8"
      },
      "execution_count": null,
      "outputs": []
    },
    {
      "cell_type": "code",
      "source": [
        "--18\n",
        "names = 'Иван Олег Татьяна Марина Алексей Андрей'.split()\n",
        "notes = list(map(int, '65 61 83 68 69 99'.split()))\n",
        "\n",
        "data = pd.Series(\n",
        "    data = notes,\n",
        "    index = names\n",
        ")\n",
        "\n",
        "print(*data['Олег Татьяна'.split()])"
      ],
      "metadata": {
        "id": "bCVbtJqeYkS_",
        "colab": {
          "base_uri": "https://localhost:8080/"
        },
        "outputId": "d1c7ef51-60b9-4dc2-9b85-367ac6ed88f5"
      },
      "execution_count": null,
      "outputs": [
        {
          "output_type": "stream",
          "name": "stdout",
          "text": [
            "61 83\n"
          ]
        }
      ]
    },
    {
      "cell_type": "code",
      "source": [
        "###"
      ],
      "metadata": {
        "id": "KNtah0D5Ykg2"
      },
      "execution_count": null,
      "outputs": []
    },
    {
      "cell_type": "code",
      "source": [
        "--19\n",
        "countries = \"\"\"Россия США Китай Индия Япония Германия Великобритания\n",
        "Франция Италия Канада Южная_Корея Австралия\n",
        "\"\"\".split()\n",
        "\n",
        "populations = list(\n",
        "    map(\n",
        "        float,\n",
        "        '144.5 328.2 1393 1366 126.5 83.1 66.7 66.99 60.4 37.59 51.78 25.4'.split()))\n",
        "\n",
        "data = pd.Series(\n",
        "    data = populations,\n",
        "    index = countries\n",
        ")\n",
        "\n",
        "country = 'Германия 82'.split()\n",
        "\n",
        "data[country[0]] = float(country[1])\n",
        "\n",
        "print(data)"
      ],
      "metadata": {
        "id": "IbVw-CWVxOuy",
        "colab": {
          "base_uri": "https://localhost:8080/"
        },
        "outputId": "b023f67e-a26f-4ac1-b55f-2a9918ffff1e"
      },
      "execution_count": null,
      "outputs": [
        {
          "output_type": "stream",
          "name": "stdout",
          "text": [
            "Россия             144.50\n",
            "США                328.20\n",
            "Китай             1393.00\n",
            "Индия             1366.00\n",
            "Япония             126.50\n",
            "Германия            82.00\n",
            "Великобритания      66.70\n",
            "Франция             66.99\n",
            "Италия              60.40\n",
            "Канада              37.59\n",
            "Южная_Корея         51.78\n",
            "Австралия           25.40\n",
            "dtype: float64\n"
          ]
        }
      ]
    },
    {
      "cell_type": "code",
      "source": [
        "###"
      ],
      "metadata": {
        "id": "GWui7EJYxOyo"
      },
      "execution_count": null,
      "outputs": []
    },
    {
      "cell_type": "code",
      "source": [
        "--20\n",
        "books = [\n",
        "    'Преступление и наказание', 'Мастер и Маргарита',\n",
        "    '451 градус по Фаренгейту', '1984', 'Убить пересмешника',\n",
        "    'Гарри Поттер и философский камень']\n",
        "prices = [499, 599, 399, 299, 349, 699]\n",
        "\n",
        "data = pd.Series(\n",
        "    data = prices,\n",
        "    index = books\n",
        ")\n",
        "\n",
        "print(data)\n",
        "\n",
        "book_name = '451 градус по Фаренгейту'\n",
        "book_price = '350'\n",
        "\n",
        "data[book_name] = int(book_price)\n",
        "\n",
        "print(data)"
      ],
      "metadata": {
        "id": "vQbCCQHTxO29",
        "colab": {
          "base_uri": "https://localhost:8080/"
        },
        "outputId": "24163b03-901e-46c5-b7c5-6c75c623ffa0"
      },
      "execution_count": null,
      "outputs": [
        {
          "output_type": "stream",
          "name": "stdout",
          "text": [
            "Преступление и наказание             499\n",
            "Мастер и Маргарита                   599\n",
            "451 градус по Фаренгейту             399\n",
            "1984                                 299\n",
            "Убить пересмешника                   349\n",
            "Гарри Поттер и философский камень    699\n",
            "dtype: int64\n",
            "Преступление и наказание             499\n",
            "Мастер и Маргарита                   599\n",
            "451 градус по Фаренгейту             350\n",
            "1984                                 299\n",
            "Убить пересмешника                   349\n",
            "Гарри Поттер и философский камень    699\n",
            "dtype: int64\n"
          ]
        }
      ]
    },
    {
      "cell_type": "code",
      "source": [
        "###"
      ],
      "metadata": {
        "id": "wq6Bz-_DxO66"
      },
      "execution_count": null,
      "outputs": []
    },
    {
      "cell_type": "code",
      "source": [
        "--21\n",
        "dates = [\n",
        "    '2022-06-04', '2022-06-05', '2022-06-06',\n",
        "    '2022-06-07', '2022-06-08', '2022-06-09',\n",
        "    '2022-06-10'\n",
        "]\n",
        "\n",
        "temperatures = [68, 72, 75, 70, 68, 73, 79]\n",
        "\n",
        "data = pd.Series(\n",
        "    data = temperatures,\n",
        "    index = dates\n",
        ")\n",
        "\n",
        "print(data)\n",
        "print()\n",
        "\n",
        "data = (data  - 32) * 5/9\n",
        "\n",
        "print(data)"
      ],
      "metadata": {
        "id": "xGK170kjxO-U",
        "colab": {
          "base_uri": "https://localhost:8080/"
        },
        "outputId": "cc3f72ad-1fca-4181-f582-ee34f4f60531"
      },
      "execution_count": null,
      "outputs": [
        {
          "output_type": "stream",
          "name": "stdout",
          "text": [
            "2022-06-04    68\n",
            "2022-06-05    72\n",
            "2022-06-06    75\n",
            "2022-06-07    70\n",
            "2022-06-08    68\n",
            "2022-06-09    73\n",
            "2022-06-10    79\n",
            "dtype: int64\n",
            "\n",
            "2022-06-04    20.000000\n",
            "2022-06-05    22.222222\n",
            "2022-06-06    23.888889\n",
            "2022-06-07    21.111111\n",
            "2022-06-08    20.000000\n",
            "2022-06-09    22.777778\n",
            "2022-06-10    26.111111\n",
            "dtype: float64\n"
          ]
        }
      ]
    },
    {
      "cell_type": "markdown",
      "source": [
        "## **<font color='navy'>Атрибут dtype объекта Pandas</font>**\n",
        "\n",
        "---"
      ],
      "metadata": {
        "id": "A017u6fKv9TT"
      }
    },
    {
      "cell_type": "code",
      "source": [
        "###"
      ],
      "metadata": {
        "id": "4RkxTCLdxPB7"
      },
      "execution_count": null,
      "outputs": []
    },
    {
      "cell_type": "code",
      "source": [
        "--22\n",
        "data = pd.Series(\n",
        "    data = range(1, 6),\n",
        "    dtype = 'float64'\n",
        ")\n",
        "\n",
        "print(data)"
      ],
      "metadata": {
        "id": "fbiKpkypxPFt",
        "colab": {
          "base_uri": "https://localhost:8080/"
        },
        "outputId": "958fdc39-7291-4b85-ea8b-997508329d47"
      },
      "execution_count": null,
      "outputs": [
        {
          "output_type": "stream",
          "name": "stdout",
          "text": [
            "0    1.0\n",
            "1    2.0\n",
            "2    3.0\n",
            "3    4.0\n",
            "4    5.0\n",
            "dtype: float64\n"
          ]
        }
      ]
    },
    {
      "cell_type": "code",
      "source": [
        "###"
      ],
      "metadata": {
        "id": "-67IQabBxPJf"
      },
      "execution_count": null,
      "outputs": []
    },
    {
      "cell_type": "code",
      "source": [
        "--23\n",
        "line = '14 15 16 15 12 16 19'.split()\n",
        "\n",
        "data = pd.Series(\n",
        "    data = line,\n",
        "    dtype = 'int16'\n",
        ")\n",
        "\n",
        "print(data)"
      ],
      "metadata": {
        "id": "qpqJDx_-xPNL",
        "colab": {
          "base_uri": "https://localhost:8080/"
        },
        "outputId": "626cf7a2-8536-451d-ee45-86d3819a55a7"
      },
      "execution_count": null,
      "outputs": [
        {
          "output_type": "stream",
          "name": "stdout",
          "text": [
            "0    14\n",
            "1    15\n",
            "2    16\n",
            "3    15\n",
            "4    12\n",
            "5    16\n",
            "6    19\n",
            "dtype: int16\n"
          ]
        }
      ]
    },
    {
      "cell_type": "code",
      "source": [
        "###"
      ],
      "metadata": {
        "id": "Q4j0_TxRxPQ2"
      },
      "execution_count": null,
      "outputs": []
    },
    {
      "cell_type": "code",
      "source": [
        "--24\n",
        "line = ['red', 'green', 'blue', 'yellow', 'red', 'blue', 'green']\n",
        "\n",
        "data = pd.Series(\n",
        "    data = line,\n",
        "    dtype = 'category'\n",
        ")\n",
        "\n",
        "print(data)"
      ],
      "metadata": {
        "id": "m_n4nRlexPUP",
        "colab": {
          "base_uri": "https://localhost:8080/"
        },
        "outputId": "df64735c-55bb-45e5-c573-e2e4c2453530"
      },
      "execution_count": null,
      "outputs": [
        {
          "output_type": "stream",
          "name": "stdout",
          "text": [
            "0       red\n",
            "1     green\n",
            "2      blue\n",
            "3    yellow\n",
            "4       red\n",
            "5      blue\n",
            "6     green\n",
            "dtype: category\n",
            "Categories (4, object): ['blue', 'green', 'red', 'yellow']\n"
          ]
        }
      ]
    },
    {
      "cell_type": "code",
      "source": [
        "###"
      ],
      "metadata": {
        "id": "3Cb6ZRYixPX1"
      },
      "execution_count": null,
      "outputs": []
    },
    {
      "cell_type": "code",
      "source": [
        "--25\n",
        "numbers = [10, 20, 30, 40, 50]\n",
        "indexes = ['a', 'b', 'c', 'd', 'e']\n",
        "\n",
        "ser = pd.Series(\n",
        "    data = numbers,\n",
        "    index = indexes,\n",
        "    dtype = 'int32'\n",
        ")\n",
        "\n",
        "print(ser)\n",
        "print(ser['c'])"
      ],
      "metadata": {
        "id": "0qlg3QZmxPbe",
        "colab": {
          "base_uri": "https://localhost:8080/"
        },
        "outputId": "fc73d02d-c09a-47d2-e461-8383f3acd6ea"
      },
      "execution_count": null,
      "outputs": [
        {
          "output_type": "stream",
          "name": "stdout",
          "text": [
            "a    10\n",
            "b    20\n",
            "c    30\n",
            "d    40\n",
            "e    50\n",
            "dtype: int32\n",
            "30\n"
          ]
        }
      ]
    },
    {
      "cell_type": "code",
      "source": [
        "###"
      ],
      "metadata": {
        "id": "ZtN57rcdxPe5"
      },
      "execution_count": null,
      "outputs": []
    },
    {
      "cell_type": "code",
      "source": [
        "--26\n",
        "numbers = np.array(list(\n",
        "    map(int, '222 345 654 345 455 665 341 40 565 345 654 345 99 33'.split())\n",
        "    ))\n",
        "\n",
        "ser = pd.Series(\n",
        "    data = numbers,\n",
        "    dtype = 'uint32'\n",
        ")\n",
        "\n",
        "print(ser)"
      ],
      "metadata": {
        "id": "y7XaOliZxPip",
        "colab": {
          "base_uri": "https://localhost:8080/"
        },
        "outputId": "fe331cef-0c3b-47db-cea8-2fab6eb518e6"
      },
      "execution_count": null,
      "outputs": [
        {
          "output_type": "stream",
          "name": "stdout",
          "text": [
            "0     222\n",
            "1     345\n",
            "2     654\n",
            "3     345\n",
            "4     455\n",
            "5     665\n",
            "6     341\n",
            "7      40\n",
            "8     565\n",
            "9     345\n",
            "10    654\n",
            "11    345\n",
            "12     99\n",
            "13     33\n",
            "dtype: uint32\n"
          ]
        }
      ]
    },
    {
      "cell_type": "code",
      "source": [
        "###"
      ],
      "metadata": {
        "id": "wRmx0dPlxPmW"
      },
      "execution_count": null,
      "outputs": []
    },
    {
      "cell_type": "code",
      "source": [
        "--27\n",
        "fruits =  ['apple', 'banana', 'cherry', 'durian', 'elderberry']\n",
        "\n",
        "ser = pd.Series(\n",
        "    data = fruits,\n",
        "    dtype = 'string'\n",
        ")\n",
        "\n",
        "print(ser)"
      ],
      "metadata": {
        "id": "QFv14Xb8xPp9",
        "colab": {
          "base_uri": "https://localhost:8080/"
        },
        "outputId": "1e9f7e79-755b-42eb-a7ad-ea91ed559236"
      },
      "execution_count": null,
      "outputs": [
        {
          "output_type": "stream",
          "name": "stdout",
          "text": [
            "0         apple\n",
            "1        banana\n",
            "2        cherry\n",
            "3        durian\n",
            "4    elderberry\n",
            "dtype: string\n"
          ]
        }
      ]
    },
    {
      "cell_type": "code",
      "source": [
        "###"
      ],
      "metadata": {
        "id": "fjzr9xnVxPuG"
      },
      "execution_count": null,
      "outputs": []
    },
    {
      "cell_type": "code",
      "source": [
        "--28\n",
        "dates = \"\"\"\n",
        "2050-01-15 2050-01-16 2050-01-17 2050-01-18\n",
        "2050-01-19 2050-01-20 2050-01-21 2050-01-22\n",
        "\"\"\".split()\n",
        "\n",
        "ser = pd.Series(\n",
        "    data = dates,\n",
        "    dtype = 'datetime64[ns]'\n",
        ")\n",
        "\n",
        "print(ser)"
      ],
      "metadata": {
        "id": "bdkZK7OuxPyA",
        "colab": {
          "base_uri": "https://localhost:8080/"
        },
        "outputId": "7b3ff528-b5fb-472b-8673-073a3114e29a"
      },
      "execution_count": null,
      "outputs": [
        {
          "output_type": "stream",
          "name": "stdout",
          "text": [
            "0   2050-01-15\n",
            "1   2050-01-16\n",
            "2   2050-01-17\n",
            "3   2050-01-18\n",
            "4   2050-01-19\n",
            "5   2050-01-20\n",
            "6   2050-01-21\n",
            "7   2050-01-22\n",
            "dtype: datetime64[ns]\n"
          ]
        }
      ]
    },
    {
      "cell_type": "code",
      "source": [
        "###"
      ],
      "metadata": {
        "id": "8phLsIZ9xP2A"
      },
      "execution_count": null,
      "outputs": []
    },
    {
      "cell_type": "code",
      "source": [
        "--29\n",
        "elems = [1, 2, 3, None, 5, None]\n",
        "\n",
        "ser = pd.Series(\n",
        "    data = elems,\n",
        "    dtype = 'float64'\n",
        ")\n",
        "\n",
        "print(ser)"
      ],
      "metadata": {
        "id": "nq7tJ73MxP6V",
        "colab": {
          "base_uri": "https://localhost:8080/"
        },
        "outputId": "f3446b4a-679f-474e-ab88-09b8a1ac4ced"
      },
      "execution_count": null,
      "outputs": [
        {
          "output_type": "stream",
          "name": "stdout",
          "text": [
            "0    1.0\n",
            "1    2.0\n",
            "2    3.0\n",
            "3    NaN\n",
            "4    5.0\n",
            "5    NaN\n",
            "dtype: float64\n"
          ]
        }
      ]
    },
    {
      "cell_type": "code",
      "source": [
        "###"
      ],
      "metadata": {
        "id": "jeptAl0ExQaA"
      },
      "execution_count": null,
      "outputs": []
    },
    {
      "cell_type": "code",
      "source": [
        "--30\n",
        "sales = list(map(\n",
        "    lambda x: int(x),\n",
        "    '16 41 42 19 17 19 29 19 26 24 30 33 34 16 38'.split()\n",
        "))\n",
        "\n",
        "ser = pd.Series(\n",
        "    data = sales,\n",
        "    dtype = 'int32'\n",
        ")\n",
        "\n",
        "selection = list(map(\n",
        "    lambda x: int(x),\n",
        "    '2 3 7 4 0 1'.split()\n",
        "))\n",
        "\n",
        "print(ser)\n",
        "print(ser[selection])"
      ],
      "metadata": {
        "id": "KOZ_S1Mo3nYx",
        "colab": {
          "base_uri": "https://localhost:8080/"
        },
        "outputId": "7e2623de-c5fe-4536-d88e-8fdd9f1ce19a"
      },
      "execution_count": null,
      "outputs": [
        {
          "output_type": "stream",
          "name": "stdout",
          "text": [
            "0     16\n",
            "1     41\n",
            "2     42\n",
            "3     19\n",
            "4     17\n",
            "5     19\n",
            "6     29\n",
            "7     19\n",
            "8     26\n",
            "9     24\n",
            "10    30\n",
            "11    33\n",
            "12    34\n",
            "13    16\n",
            "14    38\n",
            "dtype: int32\n",
            "2    42\n",
            "3    19\n",
            "7    19\n",
            "4    17\n",
            "0    16\n",
            "1    41\n",
            "dtype: int32\n"
          ]
        }
      ]
    },
    {
      "cell_type": "code",
      "source": [
        "###"
      ],
      "metadata": {
        "id": "gx80lzgk3nb4"
      },
      "execution_count": null,
      "outputs": []
    },
    {
      "cell_type": "code",
      "source": [
        "--31\n",
        "colors = ['red', 'green', 'blue']\n",
        "indexes = ['a', 'b', 'c']\n",
        "\n",
        "ser = pd.Series(\n",
        "    data = colors,\n",
        "    index = indexes,\n",
        "    dtype = 'string'\n",
        ")\n",
        "\n",
        "print(ser)\n",
        "print(ser['b'])"
      ],
      "metadata": {
        "colab": {
          "base_uri": "https://localhost:8080/"
        },
        "id": "phhFjNCcXwK5",
        "outputId": "a33dea72-7859-4c88-afea-c16fc6101900"
      },
      "execution_count": null,
      "outputs": [
        {
          "output_type": "stream",
          "name": "stdout",
          "text": [
            "a      red\n",
            "b    green\n",
            "c     blue\n",
            "dtype: string\n",
            "green\n"
          ]
        }
      ]
    },
    {
      "cell_type": "code",
      "source": [
        "###"
      ],
      "metadata": {
        "id": "7PoHQo50XwOC"
      },
      "execution_count": null,
      "outputs": []
    },
    {
      "cell_type": "code",
      "source": [
        "--32\n",
        "bool_list = [True, False, True]\n",
        "indexes = ['x', 'y', 'z']\n",
        "\n",
        "ser = pd.Series(\n",
        "    data = bool_list,\n",
        "    index = indexes,\n",
        "    dtype = 'bool'\n",
        ")\n",
        "\n",
        "print(ser)\n",
        "\n",
        "ser[:] = False\n",
        "\n",
        "print(ser)"
      ],
      "metadata": {
        "colab": {
          "base_uri": "https://localhost:8080/"
        },
        "id": "1m6G2gIRXwRO",
        "outputId": "ea618391-db73-4f47-e3a4-34271e4532ec"
      },
      "execution_count": null,
      "outputs": [
        {
          "output_type": "stream",
          "name": "stdout",
          "text": [
            "x     True\n",
            "y    False\n",
            "z     True\n",
            "dtype: bool\n",
            "x    False\n",
            "y    False\n",
            "z    False\n",
            "dtype: bool\n"
          ]
        }
      ]
    },
    {
      "cell_type": "code",
      "source": [
        "###"
      ],
      "metadata": {
        "id": "oV2y5hbDXwUU"
      },
      "execution_count": null,
      "outputs": []
    },
    {
      "cell_type": "code",
      "source": [
        "--33\n",
        "numbers = [10, 20, 30, 40]\n",
        "indexes = ['a', 'b', 'c', 'd']\n",
        "\n",
        "ser = pd.Series(\n",
        "    data = numbers,\n",
        "    index = indexes,\n",
        "    dtype = 'float64'\n",
        ")\n",
        "\n",
        "print(ser)\n",
        "\n",
        "ser *= 2\n",
        "\n",
        "print(ser)\n",
        "\n",
        "print(np.mean(ser))"
      ],
      "metadata": {
        "colab": {
          "base_uri": "https://localhost:8080/"
        },
        "id": "5UOFTbu9XwXM",
        "outputId": "f2debed0-9cdc-472c-9ee9-baec631f4156"
      },
      "execution_count": null,
      "outputs": [
        {
          "output_type": "stream",
          "name": "stdout",
          "text": [
            "a    10.0\n",
            "b    20.0\n",
            "c    30.0\n",
            "d    40.0\n",
            "dtype: float64\n",
            "a    20.0\n",
            "b    40.0\n",
            "c    60.0\n",
            "d    80.0\n",
            "dtype: float64\n",
            "50.0\n"
          ]
        }
      ]
    },
    {
      "cell_type": "code",
      "source": [
        "s = pd.Series([1, 2, 3, 4, 5])\n",
        "s[s % 2 == 0] = s[s % 2 == 0] + 10\n",
        "print(s)"
      ],
      "metadata": {
        "colab": {
          "base_uri": "https://localhost:8080/"
        },
        "id": "VYpCOAIayTvq",
        "outputId": "c6a05e9a-31f5-442c-e0fd-bb318b1886e4"
      },
      "execution_count": null,
      "outputs": [
        {
          "output_type": "stream",
          "name": "stdout",
          "text": [
            "0     1\n",
            "1    12\n",
            "2     3\n",
            "3    14\n",
            "4     5\n",
            "dtype: int64\n"
          ]
        }
      ]
    },
    {
      "cell_type": "markdown",
      "source": [
        "## **<font color='navy'>Задачи по теме применение математических функций и операторов</font>**\n",
        "\n",
        "---"
      ],
      "metadata": {
        "id": "KkEWutw6oS2f"
      }
    },
    {
      "cell_type": "code",
      "source": [
        "###"
      ],
      "metadata": {
        "id": "6-imxFylXwab"
      },
      "execution_count": null,
      "outputs": []
    },
    {
      "cell_type": "code",
      "source": [
        "--34\n",
        "numbers_1 = [1, 2, 3, 4, 5]\n",
        "numbers_2 = [2, 4, 6, 8, 10]\n",
        "\n",
        "ser_1 = pd.Series(\n",
        "    data = numbers_1,\n",
        "    dtype = 'int16'\n",
        ")\n",
        "\n",
        "ser_2 = pd.Series(\n",
        "    data = numbers_2,\n",
        "    dtype = 'int16'\n",
        ")\n",
        "\n",
        "print(ser_1 + ser_2)\n",
        "print(ser_1 * ser_2)"
      ],
      "metadata": {
        "id": "HzJIP7lsXwdr",
        "colab": {
          "base_uri": "https://localhost:8080/"
        },
        "outputId": "abc148d4-4d2b-4517-96d0-7cc57c6f60e5"
      },
      "execution_count": null,
      "outputs": [
        {
          "output_type": "stream",
          "name": "stdout",
          "text": [
            "0     3\n",
            "1     6\n",
            "2     9\n",
            "3    12\n",
            "4    15\n",
            "dtype: int16\n",
            "0     2\n",
            "1     8\n",
            "2    18\n",
            "3    32\n",
            "4    50\n",
            "dtype: int16\n"
          ]
        }
      ]
    },
    {
      "cell_type": "code",
      "source": [
        "###"
      ],
      "metadata": {
        "id": "7zsiVTeLXwg_"
      },
      "execution_count": null,
      "outputs": []
    },
    {
      "cell_type": "code",
      "source": [
        "--35\n",
        "numbers_1 = [100, 200, 300, 400, 500]\n",
        "numbers_2 = [50, 100, 150, 200, 250]\n",
        "\n",
        "ser_1 = pd.Series(\n",
        "    data = numbers_1\n",
        ")\n",
        "\n",
        "ser_2 = pd.Series(\n",
        "    data = numbers_2\n",
        ")\n",
        "\n",
        "print(ser_1 - ser_2)\n",
        "print(ser_1 / ser_2)"
      ],
      "metadata": {
        "id": "e0Tklj8fXwkS",
        "colab": {
          "base_uri": "https://localhost:8080/"
        },
        "outputId": "3a57e9bb-f6bf-48ea-a388-8510e4bd06b6"
      },
      "execution_count": null,
      "outputs": [
        {
          "output_type": "stream",
          "name": "stdout",
          "text": [
            "0     50\n",
            "1    100\n",
            "2    150\n",
            "3    200\n",
            "4    250\n",
            "dtype: int64\n",
            "0    2.0\n",
            "1    2.0\n",
            "2    2.0\n",
            "3    2.0\n",
            "4    2.0\n",
            "dtype: float64\n"
          ]
        }
      ]
    },
    {
      "cell_type": "code",
      "source": [
        "###"
      ],
      "metadata": {
        "id": "28OaGCUXXwnu"
      },
      "execution_count": null,
      "outputs": []
    },
    {
      "cell_type": "code",
      "source": [
        "--36\n",
        "numbers = [1, 2, 3, 4, 5]\n",
        "indexes = [chr(i) for i in range(ord('a'), ord('a') + 5)]\n",
        "\n",
        "ser = pd.Series(\n",
        "    data = numbers,\n",
        "    index = indexes\n",
        ")\n",
        "\n",
        "print(ser)\n",
        "\n",
        "mask = ser < 3\n",
        "print(ser[mask])"
      ],
      "metadata": {
        "id": "pV4oh_zLXwq4",
        "colab": {
          "base_uri": "https://localhost:8080/"
        },
        "outputId": "6c9cdea2-e2d9-47dd-a1b9-66ea33c71dee"
      },
      "execution_count": null,
      "outputs": [
        {
          "output_type": "stream",
          "name": "stdout",
          "text": [
            "a    1\n",
            "b    2\n",
            "c    3\n",
            "d    4\n",
            "e    5\n",
            "dtype: int64\n",
            "a    1\n",
            "b    2\n",
            "dtype: int64\n"
          ]
        }
      ]
    },
    {
      "cell_type": "code",
      "source": [
        "###"
      ],
      "metadata": {
        "id": "sYfZi4CeXwuO"
      },
      "execution_count": null,
      "outputs": []
    },
    {
      "cell_type": "code",
      "source": [
        "--37\n",
        "numbers = [10, 20, 30]\n",
        "\n",
        "ser = pd.Series(\n",
        "    data = numbers\n",
        ")\n",
        "\n",
        "print(ser)\n",
        "\n",
        "ser = ser > 15\n",
        "\n",
        "print(ser)"
      ],
      "metadata": {
        "id": "BmJPRaxOXwxg",
        "colab": {
          "base_uri": "https://localhost:8080/"
        },
        "outputId": "c9423b1f-b82a-49cb-e1f9-cf147f93d27d"
      },
      "execution_count": null,
      "outputs": [
        {
          "output_type": "stream",
          "name": "stdout",
          "text": [
            "0    10\n",
            "1    20\n",
            "2    30\n",
            "dtype: int64\n",
            "0    False\n",
            "1     True\n",
            "2     True\n",
            "dtype: bool\n"
          ]
        }
      ]
    },
    {
      "cell_type": "code",
      "source": [
        "###"
      ],
      "metadata": {
        "id": "xwQZdJjsX79B"
      },
      "execution_count": null,
      "outputs": []
    },
    {
      "cell_type": "code",
      "source": [
        "--38\n",
        "numbers = map(lambda x: float(x), '10 20 30'.split())\n",
        "\n",
        "ser = pd.Series(\n",
        "    data = numbers\n",
        ")\n",
        "\n",
        "print(ser)\n",
        "\n",
        "print(ser * 2)"
      ],
      "metadata": {
        "id": "2WA1FiXMX7_q",
        "colab": {
          "base_uri": "https://localhost:8080/"
        },
        "outputId": "4222e0d4-3d45-4361-e95a-f424a939f773"
      },
      "execution_count": null,
      "outputs": [
        {
          "output_type": "stream",
          "name": "stdout",
          "text": [
            "0    10.0\n",
            "1    20.0\n",
            "2    30.0\n",
            "dtype: float64\n",
            "0    20.0\n",
            "1    40.0\n",
            "2    60.0\n",
            "dtype: float64\n"
          ]
        }
      ]
    },
    {
      "cell_type": "code",
      "source": [
        "###"
      ],
      "metadata": {
        "id": "AKo21GnqX8C7"
      },
      "execution_count": null,
      "outputs": []
    },
    {
      "cell_type": "code",
      "source": [
        "--39\n",
        "numbers = [1, 2, 3]\n",
        "\n",
        "ser = pd.Series(\n",
        "    data = numbers\n",
        ")\n",
        "\n",
        "print(ser)\n",
        "print(ser ** 2)"
      ],
      "metadata": {
        "id": "iC2HkuGhX8GA",
        "colab": {
          "base_uri": "https://localhost:8080/"
        },
        "outputId": "587c020b-5a87-41cd-c2c8-2fb0a912c4a3"
      },
      "execution_count": null,
      "outputs": [
        {
          "output_type": "stream",
          "name": "stdout",
          "text": [
            "0    1\n",
            "1    2\n",
            "2    3\n",
            "dtype: int64\n",
            "0    1\n",
            "1    4\n",
            "2    9\n",
            "dtype: int64\n"
          ]
        }
      ]
    },
    {
      "cell_type": "code",
      "source": [
        "###"
      ],
      "metadata": {
        "id": "CtidVxlKX8JP"
      },
      "execution_count": null,
      "outputs": []
    },
    {
      "cell_type": "code",
      "source": [
        "--40\n",
        "numbers = [1.0, 2.0, 3.0]\n",
        "\n",
        "ser = pd.Series(\n",
        "    data = numbers\n",
        ")\n",
        "\n",
        "print(ser)\n",
        "print(np.sin(ser))"
      ],
      "metadata": {
        "id": "08Qce6q9X8MD",
        "colab": {
          "base_uri": "https://localhost:8080/"
        },
        "outputId": "2b3cf3cb-d163-4c27-9962-09bf962c5592"
      },
      "execution_count": null,
      "outputs": [
        {
          "output_type": "stream",
          "name": "stdout",
          "text": [
            "0    1.0\n",
            "1    2.0\n",
            "2    3.0\n",
            "dtype: float64\n",
            "0    0.841471\n",
            "1    0.909297\n",
            "2    0.141120\n",
            "dtype: float64\n"
          ]
        }
      ]
    },
    {
      "cell_type": "code",
      "source": [
        "###"
      ],
      "metadata": {
        "id": "9zflZnC6X8Oy"
      },
      "execution_count": null,
      "outputs": []
    },
    {
      "cell_type": "code",
      "source": [
        "--41\n",
        "numbers = [1.0, 2.0, 3.0]\n",
        "\n",
        "ser_1 = pd.Series(\n",
        "    data = numbers\n",
        ")\n",
        "\n",
        "ser_2 = round(np.sqrt(np.exp(ser_1) - np.log(ser_1)), 2)\n",
        "\n",
        "print(ser_1)\n",
        "print(ser_2)"
      ],
      "metadata": {
        "id": "PbL7KsZCX8Rz",
        "colab": {
          "base_uri": "https://localhost:8080/"
        },
        "outputId": "43e3ffa5-116e-495d-8c58-a579c769aa1c"
      },
      "execution_count": null,
      "outputs": [
        {
          "output_type": "stream",
          "name": "stdout",
          "text": [
            "0    1.0\n",
            "1    2.0\n",
            "2    3.0\n",
            "dtype: float64\n",
            "0    1.65\n",
            "1    2.59\n",
            "2    4.36\n",
            "dtype: float64\n"
          ]
        }
      ]
    },
    {
      "cell_type": "code",
      "source": [
        "###"
      ],
      "metadata": {
        "id": "1YBwhKnmX8Ur"
      },
      "execution_count": null,
      "outputs": []
    },
    {
      "cell_type": "code",
      "source": [
        "--42\n",
        "numbers = list(map(int, '1 4 5 3 7 9 8 2'.split()))\n",
        "\n",
        "ser_1 = pd.Series(\n",
        "    data = numbers,\n",
        "    dtype = 'uint32'\n",
        ")\n",
        "\n",
        "mask = ser_1 % 2 == 1\n",
        "\n",
        "ser_2 = ser_1[mask]\n",
        "\n",
        "print(ser_1)\n",
        "print(ser_2)"
      ],
      "metadata": {
        "id": "G5Nc-IQvX8Xp",
        "colab": {
          "base_uri": "https://localhost:8080/"
        },
        "outputId": "abe40a57-7e93-43bb-b583-6b3b6936310e"
      },
      "execution_count": null,
      "outputs": [
        {
          "output_type": "stream",
          "name": "stdout",
          "text": [
            "0    1\n",
            "1    4\n",
            "2    5\n",
            "3    3\n",
            "4    7\n",
            "5    9\n",
            "6    8\n",
            "7    2\n",
            "dtype: uint32\n",
            "0    1\n",
            "2    5\n",
            "3    3\n",
            "4    7\n",
            "5    9\n",
            "dtype: uint32\n"
          ]
        }
      ]
    },
    {
      "cell_type": "code",
      "source": [
        "###"
      ],
      "metadata": {
        "id": "1BrzN0zXX8aQ"
      },
      "execution_count": null,
      "outputs": []
    },
    {
      "cell_type": "code",
      "source": [
        "--43\n",
        "numbers = list(map(int, '3 4 6 1 5 7 5 2 5 55 6 3 8'.split()))\n",
        "# a, b = [int(input()) for _ in range(2)]\n",
        "a, b = 5, 9\n",
        "\n",
        "ser_1 = pd.Series(\n",
        "    data = numbers\n",
        ")\n",
        "\n",
        "mask_1 = a < ser_1\n",
        "\n",
        "ser_2 = ser_1[mask_1]\n",
        "\n",
        "mask_2 = ser_2 < b\n",
        "\n",
        "ser_2 = ser_2[mask_2]\n",
        "\n",
        "print(ser_1)\n",
        "print(ser_2)"
      ],
      "metadata": {
        "id": "ctXuNDf8X8mb",
        "colab": {
          "base_uri": "https://localhost:8080/"
        },
        "outputId": "104c261a-0197-456d-ec63-0077d72ee1a7"
      },
      "execution_count": null,
      "outputs": [
        {
          "output_type": "stream",
          "name": "stdout",
          "text": [
            "0      3\n",
            "1      4\n",
            "2      6\n",
            "3      1\n",
            "4      5\n",
            "5      7\n",
            "6      5\n",
            "7      2\n",
            "8      5\n",
            "9     55\n",
            "10     6\n",
            "11     3\n",
            "12     8\n",
            "dtype: int64\n",
            "2     6\n",
            "5     7\n",
            "10    6\n",
            "12    8\n",
            "dtype: int64\n"
          ]
        }
      ]
    },
    {
      "cell_type": "code",
      "source": [
        "###"
      ],
      "metadata": {
        "id": "-8hIqWeyX8pM"
      },
      "execution_count": null,
      "outputs": []
    },
    {
      "cell_type": "code",
      "source": [
        "--44\n",
        "numbers = list(map(int, '2 0 -3 5 4 2 6 9 -12'.split()))\n",
        "\n",
        "ser_1 = pd.Series(\n",
        "    data = numbers,\n",
        "    dtype = 'int8'\n",
        ")\n",
        "\n",
        "print(ser_1)\n",
        "\n",
        "ser_2 = ser_1[ser_1 % 3 == 0]\n",
        "\n",
        "print(ser_2)"
      ],
      "metadata": {
        "id": "2HY-bx31X8rs",
        "colab": {
          "base_uri": "https://localhost:8080/"
        },
        "outputId": "239c69cc-664a-45cc-93f3-88050096a853"
      },
      "execution_count": null,
      "outputs": [
        {
          "output_type": "stream",
          "name": "stdout",
          "text": [
            "0     2\n",
            "1     0\n",
            "2    -3\n",
            "3     5\n",
            "4     4\n",
            "5     2\n",
            "6     6\n",
            "7     9\n",
            "8   -12\n",
            "dtype: int8\n",
            "1     0\n",
            "2    -3\n",
            "6     6\n",
            "7     9\n",
            "8   -12\n",
            "dtype: int8\n"
          ]
        }
      ]
    },
    {
      "cell_type": "code",
      "source": [
        "###"
      ],
      "metadata": {
        "id": "nb9buZTEX8uW"
      },
      "execution_count": null,
      "outputs": []
    },
    {
      "cell_type": "code",
      "source": [
        "--45\n",
        "numbers = list(map(int, '1 2 3 4 5 6 1 4 5'.split()))\n",
        "\n",
        "ser_1 = pd.Series(\n",
        "    data = numbers,\n",
        "    dtype = 'float32'\n",
        ")\n",
        "\n",
        "print(ser_1)\n",
        "\n",
        "ser_2 = ser_1[ser_1 > np.mean(ser_1)]\n",
        "\n",
        "print(ser_2)"
      ],
      "metadata": {
        "id": "UeCidj-tX8xU",
        "colab": {
          "base_uri": "https://localhost:8080/"
        },
        "outputId": "a610a243-e1bb-4379-eb8b-dd455730212c"
      },
      "execution_count": null,
      "outputs": [
        {
          "output_type": "stream",
          "name": "stdout",
          "text": [
            "0    1.0\n",
            "1    2.0\n",
            "2    3.0\n",
            "3    4.0\n",
            "4    5.0\n",
            "5    6.0\n",
            "6    1.0\n",
            "7    4.0\n",
            "8    5.0\n",
            "dtype: float32\n",
            "3    4.0\n",
            "4    5.0\n",
            "5    6.0\n",
            "7    4.0\n",
            "8    5.0\n",
            "dtype: float32\n"
          ]
        }
      ]
    },
    {
      "cell_type": "code",
      "source": [
        "###"
      ],
      "metadata": {
        "id": "Q0WJOjgKX80A"
      },
      "execution_count": null,
      "outputs": []
    },
    {
      "cell_type": "code",
      "source": [
        "--46\n",
        "line = 'cat fish can able call'.split()\n",
        "\n",
        "ser_1 = pd.Series(\n",
        "    data = line,\n",
        "    dtype = 'string'\n",
        ")\n",
        "\n",
        "print(ser_1)\n",
        "\n",
        "letter = 'c'\n",
        "\n",
        "mask = [True if ser_1[i][0] == letter else False for i in range(len(ser_1))]\n",
        "\n",
        "ser_2 = ser_1[mask]\n",
        "\n",
        "print(ser_2)"
      ],
      "metadata": {
        "id": "Mm4csKHT3Kwo",
        "colab": {
          "base_uri": "https://localhost:8080/"
        },
        "outputId": "2cc9fe44-7c85-4513-d09f-3f5bed2a0b16"
      },
      "execution_count": null,
      "outputs": [
        {
          "output_type": "stream",
          "name": "stdout",
          "text": [
            "0     cat\n",
            "1    fish\n",
            "2     can\n",
            "3    able\n",
            "4    call\n",
            "dtype: string\n",
            "0     cat\n",
            "2     can\n",
            "4    call\n",
            "dtype: string\n"
          ]
        }
      ]
    },
    {
      "cell_type": "code",
      "source": [
        "###"
      ],
      "metadata": {
        "id": "4vIckAYg3Kzj"
      },
      "execution_count": null,
      "outputs": []
    },
    {
      "cell_type": "code",
      "source": [
        "--47\n",
        "dates = '2021-01-01 2021-02-21 2021-03-18 2021-05-02 2021-06-23'.split()\n",
        "\n",
        "ser_1 = pd.Series(\n",
        "    data = dates,\n",
        "    dtype = 'datetime64[ns]'\n",
        ")\n",
        "\n",
        "print(ser_1)\n",
        "\n",
        "ser_2 = ser_1[ser_1 > '2021-03-18']\n",
        "\n",
        "print(ser_2)"
      ],
      "metadata": {
        "id": "HNCUqX-z3K2j",
        "colab": {
          "base_uri": "https://localhost:8080/"
        },
        "outputId": "1f119d31-4b8a-46d9-fec1-f82bb05c7b74"
      },
      "execution_count": null,
      "outputs": [
        {
          "output_type": "stream",
          "name": "stdout",
          "text": [
            "0   2021-01-01\n",
            "1   2021-02-21\n",
            "2   2021-03-18\n",
            "3   2021-05-02\n",
            "4   2021-06-23\n",
            "dtype: datetime64[ns]\n",
            "3   2021-05-02\n",
            "4   2021-06-23\n",
            "dtype: datetime64[ns]\n"
          ]
        }
      ]
    },
    {
      "cell_type": "code",
      "source": [
        "###"
      ],
      "metadata": {
        "id": "VMujVcML3K5U"
      },
      "execution_count": null,
      "outputs": []
    },
    {
      "cell_type": "code",
      "source": [
        "--48\n",
        "dates = '2021-01-01 2021-02-21 2021-03-18 2021-05-02 2021-08-11 2021-12-12'.split()\n",
        "\n",
        "ser_1 = pd.Series(\n",
        "    data = dates,\n",
        "    dtype = 'datetime64[ns]'\n",
        ")\n",
        "\n",
        "print(ser_1)\n",
        "\n",
        "ser_2 = ser_1[ser_1 > '2021-03-18']\n",
        "ser_2 = ser_2[ser_2 < '2021-09-22']\n",
        "\n",
        "print(ser_2)"
      ],
      "metadata": {
        "id": "t9-t5aUj3K8W",
        "colab": {
          "base_uri": "https://localhost:8080/"
        },
        "outputId": "3cdfad9c-eaae-4678-c86b-e874ceda708a"
      },
      "execution_count": null,
      "outputs": [
        {
          "output_type": "stream",
          "name": "stdout",
          "text": [
            "0   2021-01-01\n",
            "1   2021-02-21\n",
            "2   2021-03-18\n",
            "3   2021-05-02\n",
            "4   2021-08-11\n",
            "5   2021-12-12\n",
            "dtype: datetime64[ns]\n",
            "3   2021-05-02\n",
            "4   2021-08-11\n",
            "dtype: datetime64[ns]\n"
          ]
        }
      ]
    },
    {
      "cell_type": "code",
      "source": [
        "###"
      ],
      "metadata": {
        "id": "lGAxCGTN3K_N"
      },
      "execution_count": null,
      "outputs": []
    },
    {
      "cell_type": "code",
      "source": [
        "--49\n",
        "line = 'абрек аул барнаул кит арнлк'.split()\n",
        "\n",
        "ser_1 = pd.Series(\n",
        "    data = line,\n",
        "    dtype = 'string'\n",
        ")\n",
        "\n",
        "print(ser_1)\n",
        "\n",
        "ser_2 = ser_1[ser_1.str.startswith('а') & ser_1.str.endswith('к')]\n",
        "\n",
        "print(ser_2)"
      ],
      "metadata": {
        "id": "0q3Iqajb3P7o",
        "colab": {
          "base_uri": "https://localhost:8080/"
        },
        "outputId": "c3ddd719-ea89-4a48-958e-65f68eb0f90f"
      },
      "execution_count": null,
      "outputs": [
        {
          "output_type": "stream",
          "name": "stdout",
          "text": [
            "0      абрек\n",
            "1        аул\n",
            "2    барнаул\n",
            "3        кит\n",
            "4      арнлк\n",
            "dtype: string\n",
            "0    абрек\n",
            "4    арнлк\n",
            "dtype: string\n"
          ]
        }
      ]
    },
    {
      "cell_type": "markdown",
      "source": [
        "## **<font color='navy'>Атрибут name объекта pandas.Series, объект pandas.Index</font>**\n",
        "\n",
        "---"
      ],
      "metadata": {
        "id": "FLuQM2QYocOS"
      }
    },
    {
      "cell_type": "code",
      "source": [
        "###"
      ],
      "metadata": {
        "id": "jyaVKLzG3P-c"
      },
      "execution_count": null,
      "outputs": []
    },
    {
      "cell_type": "code",
      "source": [
        "--50\n",
        "numbers = [10, 20, 30, 40]\n",
        "\n",
        "ser = pd.Series(\n",
        "    data = numbers,\n",
        "    name = 'my_series'\n",
        ")\n",
        "\n",
        "print(ser)"
      ],
      "metadata": {
        "id": "cU_gxLon3QBF",
        "colab": {
          "base_uri": "https://localhost:8080/"
        },
        "outputId": "c29c4bfb-4207-4a5f-a079-42e8967e667d"
      },
      "execution_count": null,
      "outputs": [
        {
          "output_type": "stream",
          "name": "stdout",
          "text": [
            "0    10\n",
            "1    20\n",
            "2    30\n",
            "3    40\n",
            "Name: my_series, dtype: int64\n"
          ]
        }
      ]
    },
    {
      "cell_type": "code",
      "source": [
        "###"
      ],
      "metadata": {
        "id": "-BxKTO8V3QEB"
      },
      "execution_count": null,
      "outputs": []
    },
    {
      "cell_type": "code",
      "source": [
        "--52\n",
        "letters = [\"a\", \"b\", \"c\", \"d\"]\n",
        "\n",
        "ser = pd.Series(\n",
        "    data = letters,\n",
        "    dtype = 'string',\n",
        "    name = 'my_series'\n",
        ")\n",
        "\n",
        "print(ser)"
      ],
      "metadata": {
        "id": "NKtQzrUT3QHB",
        "colab": {
          "base_uri": "https://localhost:8080/"
        },
        "outputId": "f0e4e093-aab9-41be-f79e-95ec890d1847"
      },
      "execution_count": null,
      "outputs": [
        {
          "output_type": "stream",
          "name": "stdout",
          "text": [
            "0    a\n",
            "1    b\n",
            "2    c\n",
            "3    d\n",
            "Name: my_series, dtype: string\n"
          ]
        }
      ]
    },
    {
      "cell_type": "code",
      "source": [
        "###"
      ],
      "metadata": {
        "id": "Re95soVF3QJy"
      },
      "execution_count": null,
      "outputs": []
    },
    {
      "cell_type": "code",
      "source": [
        "--53\n",
        "countries = {\n",
        "    'Индия':1416,\n",
        "    'Китай': 1411,\n",
        "    'США': 336,\n",
        "    'Индонезия': 287}\n",
        "\n",
        "ser = pd.Series(\n",
        "    countries,\n",
        "    name = 'численность населения',\n",
        "    dtype = 'uint32'\n",
        ")\n",
        "\n",
        "ser.index.name = 'страна'\n",
        "\n",
        "print(ser)"
      ],
      "metadata": {
        "id": "yYojPtoU3QMm",
        "colab": {
          "base_uri": "https://localhost:8080/"
        },
        "outputId": "f2998f9a-325d-4bcc-9d71-d0122b4da6ee"
      },
      "execution_count": null,
      "outputs": [
        {
          "output_type": "stream",
          "name": "stdout",
          "text": [
            "страна\n",
            "Индия        1416\n",
            "Китай        1411\n",
            "США           336\n",
            "Индонезия     287\n",
            "Name: численность населения, dtype: uint32\n"
          ]
        }
      ]
    },
    {
      "cell_type": "code",
      "source": [
        "###"
      ],
      "metadata": {
        "id": "1oZBaBAb3LCV"
      },
      "execution_count": null,
      "outputs": []
    },
    {
      "cell_type": "code",
      "source": [
        "--54\n",
        "books = ['Оно', 'Она', 'Они', 'Он']\n",
        "prices = [120, 240, 34, 333]\n",
        "\n",
        "ser = pd.Series(\n",
        "    data = prices,\n",
        "    index = books,\n",
        "    dtype = 'uint16',\n",
        "    name = 'Цены на книги'\n",
        ")\n",
        "\n",
        "ser.index.name = 'Название'\n",
        "\n",
        "print(ser)"
      ],
      "metadata": {
        "id": "KAUKY2OE3LFX",
        "colab": {
          "base_uri": "https://localhost:8080/"
        },
        "outputId": "78d4cfe8-3fc8-4b92-905c-6c44d2584a1d"
      },
      "execution_count": null,
      "outputs": [
        {
          "output_type": "stream",
          "name": "stdout",
          "text": [
            "Название\n",
            "Оно    120\n",
            "Она    240\n",
            "Они     34\n",
            "Он     333\n",
            "Name: Цены на книги, dtype: uint16\n"
          ]
        }
      ]
    },
    {
      "cell_type": "code",
      "source": [
        "###"
      ],
      "metadata": {
        "id": "gggh2AbT3LIX"
      },
      "execution_count": null,
      "outputs": []
    },
    {
      "cell_type": "code",
      "source": [
        "--55\n",
        "#1-й вариант\n",
        "dates = np.array(\n",
        "    '2022-12-03 2023-03-05 2023-06-01'.split(),\n",
        "    dtype = 'datetime64[ns]'\n",
        ")\n",
        "temperatures = list(map(int, '-12 12 22'.split()))\n",
        "\n",
        "ser = pd.Series(\n",
        "    data = temperatures,\n",
        "    dtype = 'int16',\n",
        "    name = 'температура',\n",
        "    index = dates\n",
        ")\n",
        "\n",
        "ser.index.name = 'дата'\n",
        "# ser.index.dtype = 'datetime64[ns]'\n",
        "\n",
        "print(ser)\n",
        "print(ser.index)"
      ],
      "metadata": {
        "id": "L0CAqC4yX83G",
        "colab": {
          "base_uri": "https://localhost:8080/"
        },
        "outputId": "f13d4763-7090-4a70-f086-bdbcb1820892"
      },
      "execution_count": null,
      "outputs": [
        {
          "output_type": "stream",
          "name": "stdout",
          "text": [
            "дата\n",
            "2022-12-03   -12\n",
            "2023-03-05    12\n",
            "2023-06-01    22\n",
            "Name: температура, dtype: int16\n",
            "DatetimeIndex(['2022-12-03', '2023-03-05', '2023-06-01'], dtype='datetime64[ns]', name='дата', freq=None)\n"
          ]
        }
      ]
    },
    {
      "cell_type": "code",
      "source": [
        "###"
      ],
      "metadata": {
        "id": "6A8UiSvg6_CO"
      },
      "execution_count": null,
      "outputs": []
    },
    {
      "cell_type": "code",
      "source": [
        "--56\n",
        "#2-й вариант\n",
        "dates = '2022-12-03 2023-03-05 2023-06-01'.split()\n",
        "temperatures = np.array(\n",
        "    '-12 12 22'.split(),\n",
        "    dtype = 'int16'\n",
        ")\n",
        "\n",
        "indexes = pd.Index(\n",
        "    dates,\n",
        "    name = 'дата',\n",
        "    dtype = 'datetime64[ns]'\n",
        ")\n",
        "\n",
        "ser = pd.Series(\n",
        "    data = temperatures,\n",
        "    index = indexes,\n",
        "    name = 'температура'\n",
        ")\n",
        "\n",
        "print(ser)\n",
        "print(ser.index)"
      ],
      "metadata": {
        "id": "GN9ziXs16_FC",
        "colab": {
          "base_uri": "https://localhost:8080/"
        },
        "outputId": "41e5cba2-699a-4504-fce6-83e584fee4a3"
      },
      "execution_count": null,
      "outputs": [
        {
          "output_type": "stream",
          "name": "stdout",
          "text": [
            "дата\n",
            "2022-12-03   -12\n",
            "2023-03-05    12\n",
            "2023-06-01    22\n",
            "Name: температура, dtype: int16\n",
            "DatetimeIndex(['2022-12-03', '2023-03-05', '2023-06-01'], dtype='datetime64[ns]', name='дата', freq=None)\n"
          ]
        }
      ]
    },
    {
      "cell_type": "code",
      "source": [
        "###"
      ],
      "metadata": {
        "id": "VhJqdfTt6_H-"
      },
      "execution_count": null,
      "outputs": []
    },
    {
      "cell_type": "code",
      "source": [
        "--57\n",
        "dates = '2022-01-01 2022-04-04 2022-05-05 2022-07-23 2022-09-28'.split()\n",
        "temperatures = '-9 4 8 19 22'.split()\n",
        "\n",
        "indexes = pd.Index(\n",
        "    dates,\n",
        "    name = 'дата',\n",
        "    dtype = 'datetime64[ns]'\n",
        ")\n",
        "\n",
        "ser = pd.Series(\n",
        "    data = temperatures,\n",
        "    index = indexes,\n",
        "    name = 'температура',\n",
        "    dtype = 'int16'\n",
        ")\n",
        "\n",
        "print(ser)\n",
        "print(ser[ser > 5])"
      ],
      "metadata": {
        "id": "lV6dI0Ru6_K3",
        "colab": {
          "base_uri": "https://localhost:8080/"
        },
        "outputId": "9554d917-0646-40d7-bfe9-da77a573e76f"
      },
      "execution_count": null,
      "outputs": [
        {
          "output_type": "stream",
          "name": "stdout",
          "text": [
            "дата\n",
            "2022-01-01    -9\n",
            "2022-04-04     4\n",
            "2022-05-05     8\n",
            "2022-07-23    19\n",
            "2022-09-28    22\n",
            "Name: температура, dtype: int16\n",
            "дата\n",
            "2022-05-05     8\n",
            "2022-07-23    19\n",
            "2022-09-28    22\n",
            "Name: температура, dtype: int16\n"
          ]
        }
      ]
    },
    {
      "cell_type": "code",
      "source": [
        "###"
      ],
      "metadata": {
        "id": "Ei5-63pH6_N9"
      },
      "execution_count": null,
      "outputs": []
    },
    {
      "cell_type": "code",
      "source": [
        "--58\n",
        "fruits = 'ананас апельсин баклажан банан клубника бурак картофель'.split()\n",
        "\n",
        "indexes = pd.Index(\n",
        "    data = [chr(i) for i in range(ord('a'), ord('a') + len(fruits))],\n",
        ")\n",
        "\n",
        "ser_1 = pd.Series(\n",
        "    data = fruits,\n",
        "    dtype = 'string',\n",
        "    name = 'ягоды',\n",
        "    index = indexes\n",
        ")\n",
        "\n",
        "print(ser_1)\n",
        "\n",
        "ser_2 = ser_1[ser_1.str.startswith('б')]\n",
        "ser_2.name = 'ягоды на букву б'\n",
        "\n",
        "print(ser_2)"
      ],
      "metadata": {
        "id": "vr5I7mJ36_RB",
        "colab": {
          "base_uri": "https://localhost:8080/"
        },
        "outputId": "8c472b33-e3f9-486c-cbf5-ea57bdd2b731"
      },
      "execution_count": null,
      "outputs": [
        {
          "output_type": "stream",
          "name": "stdout",
          "text": [
            "a       ананас\n",
            "b     апельсин\n",
            "c     баклажан\n",
            "d        банан\n",
            "e     клубника\n",
            "f        бурак\n",
            "g    картофель\n",
            "Name: ягоды, dtype: string\n",
            "c    баклажан\n",
            "d       банан\n",
            "f       бурак\n",
            "Name: ягоды на букву б, dtype: string\n"
          ]
        }
      ]
    },
    {
      "cell_type": "code",
      "source": [
        "###"
      ],
      "metadata": {
        "id": "HQErEZJ46_T5"
      },
      "execution_count": null,
      "outputs": []
    },
    {
      "cell_type": "code",
      "source": [
        "--59\n",
        "sales = 'булавки-25 нитки-12 иголки-34 пяльца-23'.split()\n",
        "sales = [i.split('-') for i in sales]\n",
        "sales = {a: b for a, b in sales}\n",
        "\n",
        "ser_1 = pd.Series(\n",
        "    data = sales,\n",
        "    name = 'продажи',\n",
        "    dtype = 'int64'\n",
        ")\n",
        "\n",
        "ser_1.index.name = 'товар'\n",
        "\n",
        "print(ser_1)\n",
        "\n",
        "ser_2 = ser_1[ser_1 % 2 == 1]\n",
        "ser_2.name = 'нечетные продажи'\n",
        "print(ser_2)"
      ],
      "metadata": {
        "id": "q1ccdTov6_XH",
        "colab": {
          "base_uri": "https://localhost:8080/"
        },
        "outputId": "2daa9f19-fcc5-4246-a784-a57b40ccea55"
      },
      "execution_count": null,
      "outputs": [
        {
          "output_type": "stream",
          "name": "stdout",
          "text": [
            "товар\n",
            "булавки    25\n",
            "нитки      12\n",
            "иголки     34\n",
            "пяльца     23\n",
            "Name: продажи, dtype: int64\n",
            "товар\n",
            "булавки    25\n",
            "пяльца     23\n",
            "Name: нечетные продажи, dtype: int64\n"
          ]
        }
      ]
    },
    {
      "cell_type": "code",
      "source": [
        "###"
      ],
      "metadata": {
        "id": "tDD8BQIc6_Z8"
      },
      "execution_count": null,
      "outputs": []
    },
    {
      "cell_type": "code",
      "source": [
        "--60\n",
        "data_all = '2023-01-05:234 2023-02-23:345 2023-03-12:239'.split()\n",
        "data_all = [i.split(':') for i in data_all]\n",
        "\n",
        "indexes = pd.Index(\n",
        "    data = [i[0] for i in data_all],\n",
        "    name = 'дата',\n",
        "    dtype = 'datetime64[ns]'\n",
        ")\n",
        "\n",
        "ser = pd.Series(\n",
        "    data = [i[1] for i in data_all],\n",
        "    name = 'посещаемость',\n",
        "    dtype = 'uint32',\n",
        "    index = indexes\n",
        ")\n",
        "\n",
        "print(ser)\n",
        "print(ser.index)"
      ],
      "metadata": {
        "id": "q2ntMCn06_dF",
        "colab": {
          "base_uri": "https://localhost:8080/"
        },
        "outputId": "d0b6620c-21d3-40f5-c0c2-1452228813bf"
      },
      "execution_count": null,
      "outputs": [
        {
          "output_type": "stream",
          "name": "stdout",
          "text": [
            "дата\n",
            "2023-01-05    234\n",
            "2023-02-23    345\n",
            "2023-03-12    239\n",
            "Name: посещаемость, dtype: uint32\n",
            "DatetimeIndex(['2023-01-05', '2023-02-23', '2023-03-12'], dtype='datetime64[ns]', name='дата', freq=None)\n"
          ]
        }
      ]
    },
    {
      "cell_type": "code",
      "source": [
        "###"
      ],
      "metadata": {
        "id": "a1T5HuSQ6_gN"
      },
      "execution_count": null,
      "outputs": []
    },
    {
      "cell_type": "code",
      "source": [
        "--61\n",
        "products = [\n",
        "    'iPhone 13', 'Samsung Galaxy S21', 'Google Pixel 6',\n",
        "    'OnePlus 9 Pro', 'Xiaomi Mi 11', 'Oppo Find X3 Pro',\n",
        "    'Sony Xperia 1 III', 'LG Wing']\n",
        "\n",
        "sales = [50000, 35000, 15000, 12000, 9000, 7500, 5000, 2000]\n",
        "\n",
        "ser = pd.Series(\n",
        "    data = sales,\n",
        "    index = pd.Index(products, name = 'товар'),\n",
        "    name = 'продажи за месяц'\n",
        ")\n",
        "\n",
        "print(ser)\n",
        "\n",
        "print(*ser[ser == min(ser)].index.values)"
      ],
      "metadata": {
        "id": "4ZMkcqNw6_jX",
        "colab": {
          "base_uri": "https://localhost:8080/"
        },
        "outputId": "9520f315-3943-4ee5-fa69-66deddeb8c2c"
      },
      "execution_count": null,
      "outputs": [
        {
          "output_type": "stream",
          "name": "stdout",
          "text": [
            "товар\n",
            "iPhone 13             50000\n",
            "Samsung Galaxy S21    35000\n",
            "Google Pixel 6        15000\n",
            "OnePlus 9 Pro         12000\n",
            "Xiaomi Mi 11           9000\n",
            "Oppo Find X3 Pro       7500\n",
            "Sony Xperia 1 III      5000\n",
            "LG Wing                2000\n",
            "Name: продажи за месяц, dtype: int64\n",
            "LG Wing\n"
          ]
        }
      ]
    },
    {
      "cell_type": "code",
      "source": [
        "###"
      ],
      "metadata": {
        "id": "DIvTeeDe6_md"
      },
      "execution_count": null,
      "outputs": []
    },
    {
      "cell_type": "code",
      "source": [],
      "metadata": {
        "id": "zMz1hVI2XLdq"
      },
      "execution_count": null,
      "outputs": []
    }
  ]
}