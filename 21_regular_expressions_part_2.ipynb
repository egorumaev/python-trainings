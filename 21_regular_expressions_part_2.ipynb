{
  "nbformat": 4,
  "nbformat_minor": 0,
  "metadata": {
    "colab": {
      "provenance": []
    },
    "kernelspec": {
      "name": "python3",
      "display_name": "Python 3"
    },
    "language_info": {
      "name": "python"
    }
  },
  "cells": [
    {
      "cell_type": "markdown",
      "source": [
        "# **<font color='crimson'>PYTHON. Функции модуля Re</font>**\n",
        "\n",
        "---"
      ],
      "metadata": {
        "id": "CjT5w9s6YcKa"
      }
    },
    {
      "cell_type": "markdown",
      "source": [
        "### **<font color='navy'>Объект Match</font>**\n",
        "\n",
        "---"
      ],
      "metadata": {
        "id": "MkABufRk1RlH"
      }
    },
    {
      "cell_type": "code",
      "source": [
        "import re"
      ],
      "metadata": {
        "id": "iojoAH6Qcmmb"
      },
      "execution_count": 1,
      "outputs": []
    },
    {
      "cell_type": "code",
      "execution_count": null,
      "metadata": {
        "id": "CoEAJXqDYV9Z"
      },
      "outputs": [],
      "source": [
        "###"
      ]
    },
    {
      "cell_type": "code",
      "source": [
        "--1\n",
        "\n",
        "# match = re.match(input(), input())\n",
        "\n",
        "regex = r'\\\\b[А-Яа-я]+\\\\b'\n",
        "text = 'Второй тест'\n",
        "\n",
        "match= re.match(regex, text)\n",
        "\n",
        "# нулевая группа\n",
        "print(match.group(0))\n",
        "\n",
        "# начало вхождения нулевой группы\n",
        "print(match.start())\n",
        "\n",
        "# конец вхождения нулевой группы\n",
        "print(match.end())\n",
        "\n",
        "# атрибут pos\n",
        "print(match.pos)\n",
        "\n",
        "# атрибут endpos\n",
        "print(match.endpos)\n",
        "\n",
        "# атрибут re\n",
        "print(match.re)\n",
        "\n",
        "# атрибут string\n",
        "print(match.string)"
      ],
      "metadata": {
        "id": "dL7LH9xGYbjq",
        "colab": {
          "base_uri": "https://localhost:8080/"
        },
        "outputId": "20ceef53-d9a9-4072-aa84-9c87b0c68cb0"
      },
      "execution_count": null,
      "outputs": [
        {
          "output_type": "stream",
          "name": "stdout",
          "text": [
            "Второй\n",
            "0\n",
            "6\n",
            "0\n",
            "11\n",
            "re.compile('\\\\b[А-Яа-я]+\\\\b')\n",
            "Второй тест\n"
          ]
        }
      ]
    },
    {
      "cell_type": "markdown",
      "source": [
        "### **<font color='navy'>Группы в Match объектах. Методы и атрибуты</font>**\n",
        "\n",
        "---"
      ],
      "metadata": {
        "id": "CwjAx8b1stLZ"
      }
    },
    {
      "cell_type": "markdown",
      "source": [
        "#### **<font color='crimson'>- Объект Match. Методы</font>**\n",
        "\n",
        "---"
      ],
      "metadata": {
        "id": "eaLX92zhs1Uq"
      }
    },
    {
      "cell_type": "code",
      "source": [
        "import re\n",
        "\n",
        "# Захватим весь текст между П и т в группу с именем name\n",
        "regex = r'П(?P<name>.+?)т'\n",
        "\n",
        "text = 'Привет, как тебя зовут?'\n",
        "\n",
        "match = re.match(regex, text)\n",
        "\n",
        "print(match)"
      ],
      "metadata": {
        "colab": {
          "base_uri": "https://localhost:8080/"
        },
        "id": "KDHae-NIt-J4",
        "outputId": "6990f489-8b86-4fdb-9f6b-43068fb278ff"
      },
      "execution_count": null,
      "outputs": [
        {
          "output_type": "stream",
          "name": "stdout",
          "text": [
            "<re.Match object; span=(0, 6), match='Привет'>\n"
          ]
        }
      ]
    },
    {
      "cell_type": "markdown",
      "source": [
        "**group([group1, ...])**\n",
        "\n",
        "Возвращает найденное совпадение по номеру или имени группы."
      ],
      "metadata": {
        "id": "_tMCqrSRuLI7"
      }
    },
    {
      "cell_type": "markdown",
      "source": [
        "Попробуем получить нулевую группу, т.е. всё, что захватило регулярное выражение:"
      ],
      "metadata": {
        "id": "juGjH02Yufay"
      }
    },
    {
      "cell_type": "code",
      "source": [
        "# Выведет строку \"Привет\":\n",
        "\n",
        "# Если в метод не передать аргумент,\n",
        "#то он по умолчанию выведет нулевую группу\n",
        "print(match.group())\n",
        "\n",
        "# Можно передать номер нужной группы в метод\n",
        "print(match.group(0))\n",
        "\n",
        "# Благодаря геттеру в Match-объекте к группам\n",
        "# можно обращаться с помощью квадратных скобок\n",
        "print(match[0])"
      ],
      "metadata": {
        "colab": {
          "base_uri": "https://localhost:8080/"
        },
        "id": "x_YxidMWuBh3",
        "outputId": "37208fa4-e831-4e71-a239-518ba6028789"
      },
      "execution_count": null,
      "outputs": [
        {
          "output_type": "stream",
          "name": "stdout",
          "text": [
            "Привет\n",
            "Привет\n",
            "Привет\n"
          ]
        }
      ]
    },
    {
      "cell_type": "markdown",
      "source": [
        "Теперь переходим к первой группе."
      ],
      "metadata": {
        "id": "1jfousBuu9aY"
      }
    },
    {
      "cell_type": "code",
      "source": [
        "# Выведет строку \"риве\":\n",
        "\n",
        "# Получаем то, что захватила первая группа\n",
        "print(match.group(1))\n",
        "# Получаем то, что захватила первая группа через квадратные скобки\n",
        "print(match[1])"
      ],
      "metadata": {
        "colab": {
          "base_uri": "https://localhost:8080/"
        },
        "id": "_hGwWKGruCDy",
        "outputId": "30d879b0-fa50-45f4-9c5c-6b649594804f"
      },
      "execution_count": null,
      "outputs": [
        {
          "output_type": "stream",
          "name": "stdout",
          "text": [
            "риве\n",
            "риве\n"
          ]
        }
      ]
    },
    {
      "cell_type": "markdown",
      "source": [
        "Если обратиться к несуществующей группе, то получим ошибку IndexError: no such group:"
      ],
      "metadata": {
        "id": "wBbZ5gCHvQ9V"
      }
    },
    {
      "cell_type": "code",
      "source": [
        "# Ошибка: IndexError: no such group\n",
        "\n",
        "print(match.group(2))\n",
        "print(match[2])"
      ],
      "metadata": {
        "colab": {
          "base_uri": "https://localhost:8080/",
          "height": 200
        },
        "id": "JWMO4rruuCGz",
        "outputId": "e614310d-26f8-4003-f939-ec6cb12d1e69"
      },
      "execution_count": null,
      "outputs": [
        {
          "output_type": "error",
          "ename": "IndexError",
          "evalue": "no such group",
          "traceback": [
            "\u001b[0;31m---------------------------------------------------------------------------\u001b[0m",
            "\u001b[0;31mIndexError\u001b[0m                                Traceback (most recent call last)",
            "\u001b[0;32m<ipython-input-47-1910e6381d6c>\u001b[0m in \u001b[0;36m<cell line: 3>\u001b[0;34m()\u001b[0m\n\u001b[1;32m      1\u001b[0m \u001b[0;31m# Ошибка: IndexError: no such group\u001b[0m\u001b[0;34m\u001b[0m\u001b[0;34m\u001b[0m\u001b[0m\n\u001b[1;32m      2\u001b[0m \u001b[0;34m\u001b[0m\u001b[0m\n\u001b[0;32m----> 3\u001b[0;31m \u001b[0mprint\u001b[0m\u001b[0;34m(\u001b[0m\u001b[0mmatch\u001b[0m\u001b[0;34m.\u001b[0m\u001b[0mgroup\u001b[0m\u001b[0;34m(\u001b[0m\u001b[0;36m2\u001b[0m\u001b[0;34m)\u001b[0m\u001b[0;34m)\u001b[0m\u001b[0;34m\u001b[0m\u001b[0;34m\u001b[0m\u001b[0m\n\u001b[0m\u001b[1;32m      4\u001b[0m \u001b[0mprint\u001b[0m\u001b[0;34m(\u001b[0m\u001b[0mmatch\u001b[0m\u001b[0;34m[\u001b[0m\u001b[0;36m2\u001b[0m\u001b[0;34m]\u001b[0m\u001b[0;34m)\u001b[0m\u001b[0;34m\u001b[0m\u001b[0;34m\u001b[0m\u001b[0m\n",
            "\u001b[0;31mIndexError\u001b[0m: no such group"
          ]
        }
      ]
    },
    {
      "cell_type": "markdown",
      "source": [
        "Если у группы есть имя, то по нему можно получить нужную группу:"
      ],
      "metadata": {
        "id": "9AhL1SNNvaI7"
      }
    },
    {
      "cell_type": "code",
      "source": [
        "# Выведет строку \"риве\":\n",
        "\n",
        "# Получаем то, что захватила группа с именем name\n",
        "print(match.group(\"name\"))\n",
        "\n",
        "# Получаем то, что захватила группа с именем name через квадратные скобки\n",
        "print(match[\"name\"])"
      ],
      "metadata": {
        "colab": {
          "base_uri": "https://localhost:8080/"
        },
        "id": "XLW8Sf7UvUJY",
        "outputId": "fcc19ddc-ebd8-43b1-f35b-ee89b399cd7f"
      },
      "execution_count": null,
      "outputs": [
        {
          "output_type": "stream",
          "name": "stdout",
          "text": [
            "риве\n",
            "риве\n"
          ]
        }
      ]
    },
    {
      "cell_type": "markdown",
      "source": [
        "Через метод можно получить сразу несколько групп. Для этого нужно указать нужные группы через запятую:"
      ],
      "metadata": {
        "id": "I0hGg15NvvdX"
      }
    },
    {
      "cell_type": "code",
      "source": [
        "# Выведет кортеж ('Привет', 'риве', 'риве'):\n",
        "\n",
        "print(match.group(0, \"name\", 1))"
      ],
      "metadata": {
        "colab": {
          "base_uri": "https://localhost:8080/"
        },
        "id": "faorzckivUPQ",
        "outputId": "fec675a9-813e-4382-818c-b14c0dde6f1a"
      },
      "execution_count": null,
      "outputs": [
        {
          "output_type": "stream",
          "name": "stdout",
          "text": [
            "('Привет', 'риве', 'риве')\n"
          ]
        }
      ]
    },
    {
      "cell_type": "markdown",
      "source": [
        "**start(__group=0)**, **end(__group=0)**"
      ],
      "metadata": {
        "id": "esCuJxnXv73q"
      }
    },
    {
      "cell_type": "markdown",
      "source": [
        "Методы start и end возвращают индексы начала и конца совпадения с регулярным выражением группы, номер или имя которой были переданы в метод:"
      ],
      "metadata": {
        "id": "B9vKXFaTwC6d"
      }
    },
    {
      "cell_type": "code",
      "source": [
        "print(match.start(0)) # 0\n",
        "print(match.end(0))   # 6\n",
        "print(match.start(1)) # 1\n",
        "print(match.end(1))   # 5"
      ],
      "metadata": {
        "colab": {
          "base_uri": "https://localhost:8080/"
        },
        "id": "phBNwIiMvUSW",
        "outputId": "f17fd482-9783-4988-aeab-c627d69f10f5"
      },
      "execution_count": null,
      "outputs": [
        {
          "output_type": "stream",
          "name": "stdout",
          "text": [
            "0\n",
            "6\n",
            "1\n",
            "5\n"
          ]
        }
      ]
    },
    {
      "cell_type": "markdown",
      "source": [
        "**span(__group=0)**"
      ],
      "metadata": {
        "id": "ZDVZW4BEwQ7j"
      }
    },
    {
      "cell_type": "markdown",
      "source": [
        "Метод **span** возвращает кортеж с индексом начала и конца совпадения группы, номер или имя которой были переданы в метод. Он работает аналогично методам **start**, **end**, но возвращает пару чисел:"
      ],
      "metadata": {
        "id": "igU3Xzn4wUFm"
      }
    },
    {
      "cell_type": "code",
      "source": [
        "print(match.span(0)) # (0, 6)\n",
        "print(match.span(1)) # (1, 5)"
      ],
      "metadata": {
        "colab": {
          "base_uri": "https://localhost:8080/"
        },
        "id": "5JhcLiRkwBax",
        "outputId": "2030fa5d-2d54-4882-a32c-ce66a64edffe"
      },
      "execution_count": null,
      "outputs": [
        {
          "output_type": "stream",
          "name": "stdout",
          "text": [
            "(0, 6)\n",
            "(1, 5)\n"
          ]
        }
      ]
    },
    {
      "cell_type": "markdown",
      "source": [
        "**groups(default=None)**"
      ],
      "metadata": {
        "id": "RQTNw6NZwlXt"
      }
    },
    {
      "cell_type": "markdown",
      "source": [
        "Метод **groups** возвращает кортеж со всеми группами, кроме нулевой:"
      ],
      "metadata": {
        "id": "QVn4uuQkwq78"
      }
    },
    {
      "cell_type": "code",
      "source": [
        "# ('риве',)\n",
        "print(match.groups())"
      ],
      "metadata": {
        "colab": {
          "base_uri": "https://localhost:8080/"
        },
        "id": "IcD-ft62wBdq",
        "outputId": "17e756d1-f484-4797-9b59-7da619c96756"
      },
      "execution_count": null,
      "outputs": [
        {
          "output_type": "stream",
          "name": "stdout",
          "text": [
            "('риве',)\n"
          ]
        }
      ]
    },
    {
      "cell_type": "markdown",
      "source": [
        "Если какая-либо группа ничего не нашла, то вместо найденного совпадения будет значение аргумента **default**, по умолчанию это **None**:"
      ],
      "metadata": {
        "id": "8uzpMx4fwx-8"
      }
    },
    {
      "cell_type": "code",
      "source": [
        "regex = r'П(?P<name>.+?)т,(2 группа)?'\n",
        "text = 'Привет, как тебя зовут?'\n",
        "match = re.match(regex, text)\n",
        "\n",
        "# ('риве', None)\n",
        "print(match.groups())\n",
        "\n",
        "# ('риве', 'Ничего не найдено')\n",
        "print(match.groups(\"Ничего не найдено\"))"
      ],
      "metadata": {
        "colab": {
          "base_uri": "https://localhost:8080/"
        },
        "id": "oyIifiMDwBgY",
        "outputId": "b3e52cfa-a3e6-42a9-fb05-8ba72c4c36fe"
      },
      "execution_count": null,
      "outputs": [
        {
          "output_type": "stream",
          "name": "stdout",
          "text": [
            "('риве', None)\n",
            "('риве', 'Ничего не найдено')\n"
          ]
        }
      ]
    },
    {
      "cell_type": "markdown",
      "source": [
        "**groupdict(default=None)**"
      ],
      "metadata": {
        "id": "ejuv3X8Dxids"
      }
    },
    {
      "cell_type": "markdown",
      "source": [
        "Метод **groupdict** возвращает словарь, ключи которого - имена групп, а значения - найденные совпадения этих групп:"
      ],
      "metadata": {
        "id": "4Hu_JFsrxlOK"
      }
    },
    {
      "cell_type": "code",
      "source": [
        "# {'name': 'риве'}\n",
        "print(match.groupdict())"
      ],
      "metadata": {
        "colab": {
          "base_uri": "https://localhost:8080/"
        },
        "id": "qt6w1iC3wBmA",
        "outputId": "f2bf2dea-6884-4d8f-9899-3c6fdf2e78f4"
      },
      "execution_count": null,
      "outputs": [
        {
          "output_type": "stream",
          "name": "stdout",
          "text": [
            "{'name': 'риве'}\n"
          ]
        }
      ]
    },
    {
      "cell_type": "markdown",
      "source": [
        "Если в регулярном выражении не используются именованные группы, то он вернёт пустой словарь.\n",
        "\n",
        "Аргумент **default** работает точно так же, как и в методе **groups**."
      ],
      "metadata": {
        "id": "GYeYVwtUx9mA"
      }
    },
    {
      "cell_type": "markdown",
      "source": [
        "**expand(template)**"
      ],
      "metadata": {
        "id": "Um4gPSpEyGXN"
      }
    },
    {
      "cell_type": "markdown",
      "source": [
        "Метод работает почти точь-в-точь как функция **re.sub()** с группами. Поэтому он будет пройден вместе с **re.sub()**."
      ],
      "metadata": {
        "id": "-rSbsvHbyLx6"
      }
    },
    {
      "cell_type": "markdown",
      "source": [
        "#### **<font color='crimson'>- Объект Match. Атрибуты</font>**\n",
        "\n",
        "---"
      ],
      "metadata": {
        "id": "GjeNKsecyVGA"
      }
    },
    {
      "cell_type": "markdown",
      "source": [
        "**pos**\n",
        "\n",
        "⚠️ Используется вместе с объектом **Pattern**\n",
        "\n",
        "Если обратиться к атрибуту, то можно получить аргумент **pos**, переданный в функцию. **pos** - это позиция, с которой функция начинает искать совпадения.\n",
        "\n",
        "**pos** можно использовать только с объектом **Pattern**. В коде выше **Pattern** не используется, поэтому у **pos** стоит значение по умолчанию **0**:"
      ],
      "metadata": {
        "id": "PalbvO1rymUj"
      }
    },
    {
      "cell_type": "code",
      "source": [
        "# 0\n",
        "print(match.pos)"
      ],
      "metadata": {
        "colab": {
          "base_uri": "https://localhost:8080/"
        },
        "id": "ubh6O7YrwBp1",
        "outputId": "332f91c2-d477-413a-bb89-74303b2595e6"
      },
      "execution_count": null,
      "outputs": [
        {
          "output_type": "stream",
          "name": "stdout",
          "text": [
            "0\n"
          ]
        }
      ]
    },
    {
      "cell_type": "markdown",
      "source": [
        "**endpos**"
      ],
      "metadata": {
        "id": "mTlDaHF9y-6v"
      }
    },
    {
      "cell_type": "markdown",
      "source": [
        "⚠️ Используется вместе с объектом **Pattern**\n",
        "\n",
        "Если обратиться к атрибуту, то можно получить аргумент **endpos**, переданный в функцию. **endpos** - это позиция, до которой функция ищет совпадения.\n",
        "\n",
        "**endpos** можно использовать только с объектом **Pattern**. В коде выше **Pattern** не используется, поэтому у **endpos** стоит значение по умолчанию: индекс последнего символа в строке."
      ],
      "metadata": {
        "id": "nJ4xxTAizCHp"
      }
    },
    {
      "cell_type": "code",
      "source": [
        "# 23\n",
        "print(match.endpos) # 23"
      ],
      "metadata": {
        "colab": {
          "base_uri": "https://localhost:8080/"
        },
        "id": "KfQIF0s5wBsK",
        "outputId": "264ba5ec-b75d-48d2-c936-218e5bc3e7ad"
      },
      "execution_count": null,
      "outputs": [
        {
          "output_type": "stream",
          "name": "stdout",
          "text": [
            "23\n"
          ]
        }
      ]
    },
    {
      "cell_type": "markdown",
      "source": [
        "**re**"
      ],
      "metadata": {
        "id": "_MaModNZzkiK"
      }
    },
    {
      "cell_type": "markdown",
      "source": [
        "Если обратиться к атрибуту, то можно получить регулярное выражение, которое использовалось для поиска:"
      ],
      "metadata": {
        "id": "cvsBqEOFzmJ9"
      }
    },
    {
      "cell_type": "code",
      "source": [
        "# re.compile('П(?P<name>.+?)т')\n",
        "print(match.re)"
      ],
      "metadata": {
        "colab": {
          "base_uri": "https://localhost:8080/"
        },
        "id": "4_MEuByEwBuq",
        "outputId": "a9c0b7c5-c15e-4b67-897b-666a03ba75dd"
      },
      "execution_count": null,
      "outputs": [
        {
          "output_type": "stream",
          "name": "stdout",
          "text": [
            "re.compile('П(?P<name>.+?)т,(2 группа)?')\n"
          ]
        }
      ]
    },
    {
      "cell_type": "markdown",
      "source": [
        "Правда возвращается не строка с регулярным выражением, а объект Pattern, который мы разберём чуть позже."
      ],
      "metadata": {
        "id": "-VavyR76zz6p"
      }
    },
    {
      "cell_type": "markdown",
      "source": [
        "**string**"
      ],
      "metadata": {
        "id": "XH48RUy_z3rZ"
      }
    },
    {
      "cell_type": "markdown",
      "source": [
        "Если обратиться к атрибуту, то можно получить строку, в которой искались совпадения:"
      ],
      "metadata": {
        "id": "5EtNSswGz6Q2"
      }
    },
    {
      "cell_type": "code",
      "source": [
        "# Привет, как тебя зовут?\n",
        "print(match.string)"
      ],
      "metadata": {
        "colab": {
          "base_uri": "https://localhost:8080/"
        },
        "id": "iPyqbnLLzq42",
        "outputId": "f6b3d067-6c66-405f-9861-de59ef68e81b"
      },
      "execution_count": null,
      "outputs": [
        {
          "output_type": "stream",
          "name": "stdout",
          "text": [
            "Привет, как тебя зовут?\n"
          ]
        }
      ]
    },
    {
      "cell_type": "markdown",
      "source": [
        "**lastindex**"
      ],
      "metadata": {
        "id": "DZSBs3dS0B3Z"
      }
    },
    {
      "cell_type": "markdown",
      "source": [
        "Возвращает номер последней найденной группы. **None**, если группы не используются."
      ],
      "metadata": {
        "id": "OZux8QMA0EH2"
      }
    },
    {
      "cell_type": "code",
      "source": [
        "# 1\n",
        "print(match.lastindex)"
      ],
      "metadata": {
        "colab": {
          "base_uri": "https://localhost:8080/"
        },
        "id": "estDPDiizq78",
        "outputId": "6d5aebbb-8241-4696-ae8c-7c0faaf84827"
      },
      "execution_count": null,
      "outputs": [
        {
          "output_type": "stream",
          "name": "stdout",
          "text": [
            "1\n"
          ]
        }
      ]
    },
    {
      "cell_type": "markdown",
      "source": [
        "**lastgroup**"
      ],
      "metadata": {
        "id": "yKI5je780PLq"
      }
    },
    {
      "cell_type": "markdown",
      "source": [
        "Возвращает имя последней найденной именованной группы. None, если именованные группы не используются."
      ],
      "metadata": {
        "id": "K3b3S7rQ0aNy"
      }
    },
    {
      "cell_type": "code",
      "source": [
        "# name\n",
        "print(match.lastgroup)"
      ],
      "metadata": {
        "colab": {
          "base_uri": "https://localhost:8080/"
        },
        "id": "hUFYDc-6zq-6",
        "outputId": "2b417b5e-3336-44d3-89d7-7e73433cad7f"
      },
      "execution_count": null,
      "outputs": [
        {
          "output_type": "stream",
          "name": "stdout",
          "text": [
            "name\n"
          ]
        }
      ]
    },
    {
      "cell_type": "code",
      "source": [
        "###"
      ],
      "metadata": {
        "id": "QET62ZQZYbwU"
      },
      "execution_count": null,
      "outputs": []
    },
    {
      "cell_type": "code",
      "source": [
        "--2\n",
        "# match = re.match(input(), input())\n",
        "\n",
        "regex = r'123'\n",
        "text = '456789'\n",
        "\n",
        "match = re.match(regex, text)\n",
        "\n",
        "if match:\n",
        "    print(match.group(0))"
      ],
      "metadata": {
        "id": "HC8BdWVKYbzq"
      },
      "execution_count": null,
      "outputs": []
    },
    {
      "cell_type": "markdown",
      "source": [
        "### **<font color='navy'>re.search()</font>**\n",
        "\n",
        "---"
      ],
      "metadata": {
        "id": "jAItYUQQe4GF"
      }
    },
    {
      "cell_type": "markdown",
      "source": [
        "**Ищет первое совпадение в строке.**\n",
        "\n",
        "**re.search(pattern, string, flags=0)**"
      ],
      "metadata": {
        "id": "AWN1S1FoYi0d"
      }
    },
    {
      "cell_type": "markdown",
      "source": [
        "Возвращаемое значение:\n",
        "\n",
        "* Объект Match, если совпадение было найдено\n",
        "\n",
        "* None, если нету совпадений"
      ],
      "metadata": {
        "id": "klwLmtA0gfkf"
      }
    },
    {
      "cell_type": "code",
      "source": [
        "###"
      ],
      "metadata": {
        "id": "YeB8zIlhYb2w"
      },
      "execution_count": null,
      "outputs": []
    },
    {
      "cell_type": "code",
      "source": [
        "--3\n",
        "string = '#traveler #traveller #traveltheworld #travelblog #traveladdict'\n",
        "\n",
        "pattern = r'#[a-z]+\\\\b'\n",
        "\n",
        "result = re.search(pattern, string, flags = 0)\n",
        "\n",
        "if result:\n",
        "    print(result.group(0))"
      ],
      "metadata": {
        "id": "ymfpqAcTYb58",
        "colab": {
          "base_uri": "https://localhost:8080/"
        },
        "outputId": "b5584a31-747d-4bb4-a372-e51884294e7b"
      },
      "execution_count": null,
      "outputs": [
        {
          "output_type": "stream",
          "name": "stdout",
          "text": [
            "#traveler\n"
          ]
        }
      ]
    },
    {
      "cell_type": "code",
      "source": [
        "###"
      ],
      "metadata": {
        "id": "WGz6Ob9YYb9H"
      },
      "execution_count": null,
      "outputs": []
    },
    {
      "cell_type": "code",
      "source": [
        "--4\n",
        "strings = [\n",
        "    'Хочу полететь на Марс(',\n",
        "    'Секретный код: Dogecoin',\n",
        "    'Батут работает!',\n",
        "    'Где ключи от моей Tesla?']\n",
        "\n",
        "pattern = r'[кК]од'\n",
        "\n",
        "for i in range(len(strings)):\n",
        "    result = re.search(pattern, strings[i])\n",
        "    if result:\n",
        "        code = [i + 1, result.start()]\n",
        "        break\n",
        "\n",
        "if result:\n",
        "    print(*code)\n",
        "else:\n",
        "    print('код не найден')"
      ],
      "metadata": {
        "id": "rGkEmH5mYcAk",
        "colab": {
          "base_uri": "https://localhost:8080/"
        },
        "outputId": "f72a985b-a69e-4148-824c-3d123849c82a"
      },
      "execution_count": null,
      "outputs": [
        {
          "output_type": "stream",
          "name": "stdout",
          "text": [
            "2 10\n"
          ]
        }
      ]
    },
    {
      "cell_type": "code",
      "source": [
        "###"
      ],
      "metadata": {
        "id": "uAScR1WHYcD5"
      },
      "execution_count": null,
      "outputs": []
    },
    {
      "cell_type": "code",
      "source": [
        "--5\n",
        "strings = [\n",
        "    'Hi',\n",
        "    'Here is my Activation key: PKRHK-6622Q-T49PV-CC3PX-TRX2Y',\n",
        "    'Bye',\n",
        "    'Test',\n",
        "    'Lmao']\n",
        "\n",
        "pattern = r'(?<=Activation key: )(?:([0-9A-Z]{5}-){4}[0-9A-Z]{5})'\n",
        "\n",
        "for i in range(len(strings)):\n",
        "    result = re.search(pattern, strings[i])\n",
        "    if result:\n",
        "        break\n",
        "\n",
        "print(result.group(0))"
      ],
      "metadata": {
        "id": "FntudgP5YcHA",
        "colab": {
          "base_uri": "https://localhost:8080/"
        },
        "outputId": "71e59f5d-e0d2-439e-fb21-d619d0dc8629"
      },
      "execution_count": null,
      "outputs": [
        {
          "output_type": "stream",
          "name": "stdout",
          "text": [
            "PKRHK-6622Q-T49PV-CC3PX-TRX2Y\n"
          ]
        }
      ]
    },
    {
      "cell_type": "code",
      "execution_count": null,
      "metadata": {
        "id": "_rbe8PUdYj33"
      },
      "outputs": [],
      "source": [
        "###"
      ]
    },
    {
      "cell_type": "code",
      "source": [
        "--6\n",
        "string = \"\"\"{ \\\n",
        "    \"errorCode\":909,\n",
        "    \"errorMessage\":\"Are you a robot? Please enter the captcha below\",\n",
        "    \"errorDescription\":null,\n",
        "    \"logStatus\":null,\n",
        "    \"captcha\":\"\\/captcha\\/view?_CAPTCHA&amp;\n",
        "    t=0.555555+11232131\"\n",
        "    }\"\"\"\n",
        "\n",
        "pattern = r'(t=)[0-9\\.\\+]+'\n",
        "\n",
        "result = re.search(pattern, string)\n",
        "\n",
        "if result:\n",
        "    print(result.group(0))"
      ],
      "metadata": {
        "id": "9GQe84SnYj34",
        "colab": {
          "base_uri": "https://localhost:8080/"
        },
        "outputId": "8982a999-5773-4090-87fd-651b331e6252"
      },
      "execution_count": null,
      "outputs": [
        {
          "output_type": "stream",
          "name": "stdout",
          "text": [
            "t=0.555555+11232131\n"
          ]
        }
      ]
    },
    {
      "cell_type": "markdown",
      "source": [
        "### **<font color='navy'>re.match()</font>**\n",
        "\n",
        "---"
      ],
      "metadata": {
        "id": "lMQCeszjrUi3"
      }
    },
    {
      "cell_type": "markdown",
      "source": [
        "**То же самое, что и re.search(), но ищет совпадение в начале строки.**\n",
        "\n",
        "**re.match(pattern, string, flags=0)**\n",
        "\n",
        "Возвращаемое значение:\n",
        "\n",
        "* Объект Match, если совпадение было найдено\n",
        "\n",
        "* None, если нету совпадений"
      ],
      "metadata": {
        "id": "l277246jYuVl"
      }
    },
    {
      "cell_type": "code",
      "source": [
        "###"
      ],
      "metadata": {
        "id": "ITPNY4zBYj35"
      },
      "execution_count": null,
      "outputs": []
    },
    {
      "cell_type": "code",
      "source": [
        "--7\n",
        "text = 'My car is the fastest!'\n",
        "\n",
        "pattern = r'[a-zA-Z]+'\n",
        "\n",
        "result = re.match(pattern, text)\n",
        "\n",
        "if result:\n",
        "    print(f'Первое слово в предложении: {result.group(0)}')"
      ],
      "metadata": {
        "id": "g8BJQ4BtYj35",
        "colab": {
          "base_uri": "https://localhost:8080/"
        },
        "outputId": "170ce3e6-5b31-4e9b-b48d-fdf6b8417da9"
      },
      "execution_count": null,
      "outputs": [
        {
          "output_type": "stream",
          "name": "stdout",
          "text": [
            "Первое слово в предложении: My\n"
          ]
        }
      ]
    },
    {
      "cell_type": "code",
      "source": [
        "###"
      ],
      "metadata": {
        "id": "mgFG8OxJYj37"
      },
      "execution_count": null,
      "outputs": []
    },
    {
      "cell_type": "code",
      "source": [
        "--8\n",
        "text = 'theme primary opinion edit dragon maid boil ankle \\\n",
        "link shield erupt melody'\n",
        "\n",
        "pattern = r'((?:(?<=^)|(?<= ))([a-z]+ ){11}[a-z]+(?:(?= )|(?=$)))'\n",
        "\n",
        "result = re.match(pattern, text)\n",
        "\n",
        "if result:\n",
        "    print('возможно, это seed-фраза')"
      ],
      "metadata": {
        "id": "SHszfeNEYj37",
        "colab": {
          "base_uri": "https://localhost:8080/"
        },
        "outputId": "cf9c92ae-c6ec-4828-accb-02b96e7ff42d"
      },
      "execution_count": null,
      "outputs": [
        {
          "output_type": "stream",
          "name": "stdout",
          "text": [
            "возможно, это seed-фраза\n"
          ]
        }
      ]
    },
    {
      "cell_type": "code",
      "source": [
        "###"
      ],
      "metadata": {
        "id": "KvRH-_dCYj38"
      },
      "execution_count": null,
      "outputs": []
    },
    {
      "cell_type": "code",
      "source": [
        "--9\n",
        "text = 'example@gmail.com'\n",
        "\n",
        "pattern = r'.+(?=@)'\n",
        "\n",
        "result = re.match(pattern, text)\n",
        "\n",
        "if result:\n",
        "    print(result.group(0))"
      ],
      "metadata": {
        "id": "Aj95I3ljAhAh",
        "colab": {
          "base_uri": "https://localhost:8080/"
        },
        "outputId": "3068d7ad-db7c-4dbd-9d5f-89eb55c7cd17"
      },
      "execution_count": null,
      "outputs": [
        {
          "output_type": "stream",
          "name": "stdout",
          "text": [
            "example\n"
          ]
        }
      ]
    },
    {
      "cell_type": "markdown",
      "source": [
        "### **<font color='navy'>re.fullmatch()</font>**\n",
        "\n",
        "---"
      ],
      "metadata": {
        "id": "QMcPTvSWmP6x"
      }
    },
    {
      "cell_type": "markdown",
      "source": [
        "**Определяет соответствие строки переданному шаблону. Если вся строка соответствует шаблону - выводит объект Match, иначе - None.**\n",
        "\n",
        "**re.fullmatch(pattern, string, flags=0)**\n",
        "\n",
        "Возвращаемое значение:\n",
        "\n",
        "* Объект Match, если вся строка соответствует шаблону\n",
        "\n",
        "* None, если строка не соответствует шаблону"
      ],
      "metadata": {
        "id": "8wHFzZ2DY4kd"
      }
    },
    {
      "cell_type": "code",
      "execution_count": null,
      "metadata": {
        "id": "VxwzNTVYYkGF"
      },
      "outputs": [],
      "source": [
        "###"
      ]
    },
    {
      "cell_type": "code",
      "source": [
        "--10\n",
        "number = '1234567891011121'\n",
        "\n",
        "pattern = r'[0-9]{13,}'\n",
        "\n",
        "result = re.fullmatch(pattern, number)\n",
        "\n",
        "print(True if result else False)"
      ],
      "metadata": {
        "id": "taCAZApGYkGF",
        "colab": {
          "base_uri": "https://localhost:8080/"
        },
        "outputId": "42ba6e82-01d9-4048-b49a-52ec31e46183"
      },
      "execution_count": null,
      "outputs": [
        {
          "output_type": "stream",
          "name": "stdout",
          "text": [
            "True\n"
          ]
        }
      ]
    },
    {
      "cell_type": "code",
      "source": [
        "###"
      ],
      "metadata": {
        "id": "Mp9AlNSMYkGF"
      },
      "execution_count": null,
      "outputs": []
    },
    {
      "cell_type": "code",
      "source": [
        "--11\n",
        "parol = 'd2D8dh8DA#!'\n",
        "\n",
        "pattern = r'[a-zA-Z0-9@#$%^&*()_\\-+!?]{8,}(?=$)'\n",
        "\n",
        "result = re.fullmatch(pattern, parol)\n",
        "\n",
        "print(True if result else False)"
      ],
      "metadata": {
        "id": "BzMGd9aEYkGF",
        "colab": {
          "base_uri": "https://localhost:8080/"
        },
        "outputId": "83ed115a-75fe-4614-c030-99348cb06c89"
      },
      "execution_count": null,
      "outputs": [
        {
          "output_type": "stream",
          "name": "stdout",
          "text": [
            "True\n"
          ]
        }
      ]
    },
    {
      "cell_type": "code",
      "source": [
        "###"
      ],
      "metadata": {
        "id": "HzHKJKPkYkGF"
      },
      "execution_count": null,
      "outputs": []
    },
    {
      "cell_type": "code",
      "source": [
        "--12\n",
        "number = input()\n",
        "\n",
        "pattern = r'(?<!\\-)[+]?(?:((\\d)[(\\(\\ \\)\\-)]{0,2}?)){11,}$'\n",
        "\n",
        "result = re.fullmatch(pattern, number)\n",
        "\n",
        "print(True if result else False)"
      ],
      "metadata": {
        "id": "7-UONghTYkGF"
      },
      "execution_count": null,
      "outputs": []
    },
    {
      "cell_type": "code",
      "source": [
        "###"
      ],
      "metadata": {
        "id": "VUlBI8hVYkGG"
      },
      "execution_count": null,
      "outputs": []
    },
    {
      "cell_type": "code",
      "source": [
        "--13\n",
        "# polynom = input()\n",
        "\n",
        "polynom = '4x^6+9x^5-x^4+22x^3-x^2+9x-18'\n",
        "\n",
        "pattern = r'((?:[\\+\\-]?\\d*x(?:\\^\\d+)?\\b)*(?:[\\+\\-]\\d+)?\\b)'\n",
        "\n",
        "result = re.fullmatch(pattern, polynom)\n",
        "\n",
        "print(True if result else False)"
      ],
      "metadata": {
        "id": "ShgrBwT2YkGG",
        "colab": {
          "base_uri": "https://localhost:8080/"
        },
        "outputId": "e1fe0176-247f-4c74-cf9d-b7582fbf6ad2"
      },
      "execution_count": 2,
      "outputs": [
        {
          "output_type": "stream",
          "name": "stdout",
          "text": [
            "True\n"
          ]
        }
      ]
    },
    {
      "cell_type": "markdown",
      "source": [
        "### **<font color='navy'>re.finditer()</font>**\n",
        "\n",
        "---"
      ],
      "metadata": {
        "id": "BWQE4IigUN_e"
      }
    },
    {
      "cell_type": "markdown",
      "source": [
        "**Возвращает итератор Match объектов с вхождениями pattern в строке string.**\n",
        "\n",
        "**re.finditer(pattern, string, flags=0)**\n",
        "\n",
        "Возвращаемое значение:\n",
        "\n",
        "* Итератор Match объектов\n"
      ],
      "metadata": {
        "id": "6rNw-gAAUSlY"
      }
    },
    {
      "cell_type": "code",
      "source": [
        "###"
      ],
      "metadata": {
        "id": "Qy3hGaWeYkGG"
      },
      "execution_count": null,
      "outputs": []
    },
    {
      "cell_type": "code",
      "source": [
        "--14\n",
        "import re\n",
        "\n",
        "pattern = r'\\d{3}'\n",
        "string = 'abc 123 def 456 fed 321 cba'\n",
        "\n",
        "result = re.finditer(pattern, string, 0)\n",
        "\n",
        "for i in result:\n",
        "    print(i.group())"
      ],
      "metadata": {
        "id": "glQPUg5FYkGG",
        "colab": {
          "base_uri": "https://localhost:8080/"
        },
        "outputId": "8f3fe5fa-d651-41f7-9b51-f1c8cf1ff42f"
      },
      "execution_count": null,
      "outputs": [
        {
          "output_type": "stream",
          "name": "stdout",
          "text": [
            "123\n",
            "456\n",
            "321\n"
          ]
        }
      ]
    },
    {
      "cell_type": "code",
      "execution_count": null,
      "metadata": {
        "id": "8ul9uboYYkS5"
      },
      "outputs": [],
      "source": [
        "###"
      ]
    },
    {
      "cell_type": "code",
      "source": [
        "--15\n",
        "# string = input()\n",
        "string = 'يحتاج الجسم القوي إلى عقل قوي.'\n",
        "\n",
        "pattern = r'\\b\\w+\\b'\n",
        "\n",
        "result = re.finditer(pattern, string, 0)\n",
        "\n",
        "for i in result:\n",
        "    print(i.group(0))"
      ],
      "metadata": {
        "id": "nZMvz5YvYkS6",
        "colab": {
          "base_uri": "https://localhost:8080/"
        },
        "outputId": "5a02d789-1185-4f4a-e575-b18378181933"
      },
      "execution_count": null,
      "outputs": [
        {
          "output_type": "stream",
          "name": "stdout",
          "text": [
            "يحتاج\n",
            "الجسم\n",
            "القوي\n",
            "إلى\n",
            "عقل\n",
            "قوي\n"
          ]
        }
      ]
    },
    {
      "cell_type": "code",
      "source": [
        "###"
      ],
      "metadata": {
        "id": "yOOUrKH9YkS6"
      },
      "execution_count": null,
      "outputs": []
    },
    {
      "cell_type": "code",
      "source": [
        "--16\n",
        "# string = input()\n",
        "string = \"\"\"\n",
        "Мы вынуждены отталкиваться от того,\n",
        "что разбавленное изрядной долей эмпатии,\n",
        "рациональное мышление способствует подготовке\n",
        "и реализации модели развития.\n",
        "В целом, конечно, консультация с широким активом\n",
        "предоставляет широкие возможности для форм воздействия.\n",
        "\"\"\"\n",
        "\n",
        "pattern = r'\\b[а-яА-ЯёЁa-zA-Z]{5}\\b'\n",
        "\n",
        "result = re.finditer(pattern, string, 0)\n",
        "\n",
        "for i in result:\n",
        "    print(i.group(0))"
      ],
      "metadata": {
        "id": "qQqb_DZTYkS7",
        "colab": {
          "base_uri": "https://localhost:8080/"
        },
        "outputId": "34499edf-4c13-4da1-ec59-ef3177c57bd2"
      },
      "execution_count": null,
      "outputs": [
        {
          "output_type": "stream",
          "name": "stdout",
          "text": [
            "долей\n",
            "целом\n"
          ]
        }
      ]
    },
    {
      "cell_type": "code",
      "source": [
        "###"
      ],
      "metadata": {
        "id": "j6Gtn9sNYkS7"
      },
      "execution_count": null,
      "outputs": []
    },
    {
      "cell_type": "code",
      "source": [
        "--17\n",
        "string = input()\n",
        "\n",
        "pattern = r'\\d+\\,\\d* ₽'\n",
        "\n",
        "result = re.finditer(pattern, string, 0)\n",
        "\n",
        "for i in result:\n",
        "    print(i.group())"
      ],
      "metadata": {
        "id": "UtGiFwHMYkS7"
      },
      "execution_count": null,
      "outputs": []
    },
    {
      "cell_type": "markdown",
      "source": [
        "### **<font color='navy'>re.findall()</font>**\n",
        "\n",
        "---"
      ],
      "metadata": {
        "id": "rmSMJkpsfq9Z"
      }
    },
    {
      "cell_type": "markdown",
      "source": [
        "**Возвращает список всех найденных совпадений.**\n",
        "\n",
        "**re.findall(pattern, string, flags=0)**\n",
        "\n",
        "Возвращаемое значение:\n",
        "\n",
        "* Список совпадений, если они есть\n",
        "\n",
        "* Пустой список, если совпадений нет"
      ],
      "metadata": {
        "id": "lLGZK0hDfvQd"
      }
    },
    {
      "cell_type": "code",
      "source": [
        "###"
      ],
      "metadata": {
        "id": "bJKWSHfgYkS8"
      },
      "execution_count": null,
      "outputs": []
    },
    {
      "cell_type": "code",
      "source": [
        "--18\n",
        "# string = input()\n",
        "string = \"\"\"Lorem Ipsum is simply dummy text\n",
        "of the printing and typesetting industry.\n",
        "Lorem Ipsum has been\n",
        "the industry'https://imgur.com/hpjus8ds standard\n",
        "dummy text ever since the 1500s, when an unknown printer\n",
        "took a galley of type and\n",
        "scramblhttps://imgur.com/y2lgyvYed it to make a type specimen book.\n",
        "It has survived not only five centuries,\n",
        "but also the leap into electronic typesetting,\n",
        "rehttps://imgur.com/jJb53h2maining essentially unchanged.\n",
        "It was popularised in the 1960s with the release\n",
        "of Letraset sheets containing Lorem Ipsum\n",
        "passhttps://imgur.com/xYy6hjAages,\n",
        "and more recently with desktop publishing\n",
        "software like Aldus PageMaker including versions of Lorem\n",
        "Ipsumhttps://imgur.com/oaUzSly.\n",
        "\"\"\"\n",
        "\n",
        "pattern = r'(?:(https:\\/\\/imgur\\.com\\/[a-zA-Z0-9]{7}))'\n",
        "\n",
        "result = re.findall(pattern, string, 0)\n",
        "\n",
        "print(*result, sep = '\\n')"
      ],
      "metadata": {
        "id": "bCVbtJqeYkS_",
        "colab": {
          "base_uri": "https://localhost:8080/"
        },
        "outputId": "398ebabf-27dc-49a9-c5f5-8248a25648ea"
      },
      "execution_count": null,
      "outputs": [
        {
          "output_type": "stream",
          "name": "stdout",
          "text": [
            "https://imgur.com/hpjus8d\n",
            "https://imgur.com/y2lgyvY\n",
            "https://imgur.com/jJb53h2\n",
            "https://imgur.com/xYy6hjA\n",
            "https://imgur.com/oaUzSly\n"
          ]
        }
      ]
    },
    {
      "cell_type": "code",
      "source": [
        "###"
      ],
      "metadata": {
        "id": "KNtah0D5Ykg2"
      },
      "execution_count": null,
      "outputs": []
    },
    {
      "cell_type": "code",
      "source": [
        "--19\n",
        "# string = input()\n",
        "string = \"\"\"\n",
        "test mihryutkamihryutka1@gmail.com serginio1963@gmail.com\n",
        "velesgod111@gmail.com ofice_plus@mail.ru\n",
        "borisbaranob46@gmail.com bradley@automatedmarine.com\n",
        "fddsfwfwefwdfwd@mail.ru\n",
        "\"\"\"\n",
        "\n",
        "pattern = r'(?<=\\s)[a-zA-Z0-9\\-\\_]+[@][a-zA-Z0-9]+[.][a-zA-Z0-9]+\\b'\n",
        "\n",
        "result = re.findall(pattern, string, 0)\n",
        "\n",
        "print(*result, sep = '\\n')"
      ],
      "metadata": {
        "id": "IbVw-CWVxOuy",
        "colab": {
          "base_uri": "https://localhost:8080/"
        },
        "outputId": "80375793-0559-4a9f-b7c9-237e39fde868"
      },
      "execution_count": null,
      "outputs": [
        {
          "output_type": "stream",
          "name": "stdout",
          "text": [
            "mihryutkamihryutka1@gmail.com\n",
            "serginio1963@gmail.com\n",
            "velesgod111@gmail.com\n",
            "ofice_plus@mail.ru\n",
            "borisbaranob46@gmail.com\n",
            "bradley@automatedmarine.com\n",
            "fddsfwfwefwdfwd@mail.ru\n"
          ]
        }
      ]
    },
    {
      "cell_type": "code",
      "source": [
        "###"
      ],
      "metadata": {
        "id": "GWui7EJYxOyo"
      },
      "execution_count": null,
      "outputs": []
    },
    {
      "cell_type": "code",
      "source": [
        "--20\n",
        "# string = input()\n",
        "\n",
        "string = \"\"\"\n",
        "29.56.9157 8985.54.89 32.63/6666 8584.52/61 05/19.3577\n",
        "5840/36.38 89/72/3110 4992/07/35 \"\"\"\n",
        "\n",
        "pattern = r'(?:(([0-9]{2}[\\/]){2}[0-9]{4})|([0-9]{4}[\\/][0-9]{2}[\\/][0-9]{2})|(([0-9]{2}[.]){2}[0-9]{4})|([0-9]{4}([.][0-9]{2}){2}))'\n",
        "\n",
        "result = re.finditer(pattern, string, 0)\n",
        "\n",
        "for i in result:\n",
        "     print(i.group())"
      ],
      "metadata": {
        "id": "vQbCCQHTxO29",
        "colab": {
          "base_uri": "https://localhost:8080/"
        },
        "outputId": "56f80a3a-dde0-4f6a-fcdf-180e14ef5c67"
      },
      "execution_count": null,
      "outputs": [
        {
          "output_type": "stream",
          "name": "stdout",
          "text": [
            "29.56.9157\n",
            "8985.54.89\n",
            "89/72/3110\n",
            "4992/07/35\n"
          ]
        }
      ]
    },
    {
      "cell_type": "code",
      "source": [
        "###"
      ],
      "metadata": {
        "id": "wq6Bz-_DxO66"
      },
      "execution_count": null,
      "outputs": []
    },
    {
      "cell_type": "code",
      "source": [
        "--21\n",
        "# string = input()\n",
        "\n",
        "string = \"\"\"\n",
        "29.56.9157 8985.54.89 32.63/6666 8584.52/61 05/19.3577\n",
        "5840/36.38 89/72/3110 4992/07/35 \"\"\"\n",
        "\n",
        "patterns = [\n",
        "    '[0-9]{2}\\/[0-9]{2}\\/[0-9]{4}',\n",
        "    '[0-9]{4}\\/[0-9]{2}\\/[0-9]{2}',\n",
        "    '[0-9]{2}\\.[0-9]{2}\\.[0-9]{4}',\n",
        "    '[0-9]{4}\\.[0-9]{2}\\.[0-9]{2}'\n",
        "]\n",
        "\n",
        "pattern = fr'{patterns[0]}|{patterns[1]}|{patterns[2]}|{patterns[3]}'\n",
        "\n",
        "result = re.findall(pattern, string, 0)\n",
        "\n",
        "print(*result, sep = '\\n')"
      ],
      "metadata": {
        "id": "xGK170kjxO-U",
        "colab": {
          "base_uri": "https://localhost:8080/"
        },
        "outputId": "f4e48274-9655-4800-da27-9d12561e1842"
      },
      "execution_count": null,
      "outputs": [
        {
          "output_type": "stream",
          "name": "stdout",
          "text": [
            "29.56.9157\n",
            "8985.54.89\n",
            "89/72/3110\n",
            "4992/07/35\n"
          ]
        }
      ]
    },
    {
      "cell_type": "code",
      "source": [
        "###"
      ],
      "metadata": {
        "id": "4RkxTCLdxPB7"
      },
      "execution_count": null,
      "outputs": []
    },
    {
      "cell_type": "code",
      "source": [
        "--22\n",
        "# string = input()\n",
        "\n",
        "string = \"\"\"\n",
        "13:79 24:33 02:60 03:81 23:59 28:64 46:50 14:39 91:19\n",
        "13:35 02:57 10:10 00:00 59:59 15:51\n",
        "\"\"\"\n",
        "\n",
        "pattern = r'((?:[0-1][0-9]|[2][0-3])\\:[0-5][0-9])'\n",
        "\n",
        "result = re.findall(pattern, string, 0)\n",
        "\n",
        "print(*result, sep = '\\n')"
      ],
      "metadata": {
        "id": "fbiKpkypxPFt",
        "colab": {
          "base_uri": "https://localhost:8080/"
        },
        "outputId": "214b6ea6-7dea-4185-dab0-49c07d36b9f3"
      },
      "execution_count": null,
      "outputs": [
        {
          "output_type": "stream",
          "name": "stdout",
          "text": [
            "23:59\n",
            "14:39\n",
            "13:35\n",
            "02:57\n",
            "10:10\n",
            "00:00\n",
            "15:51\n"
          ]
        }
      ]
    },
    {
      "cell_type": "code",
      "source": [
        "###"
      ],
      "metadata": {
        "id": "-67IQabBxPJf"
      },
      "execution_count": null,
      "outputs": []
    },
    {
      "cell_type": "code",
      "source": [
        "--23\n",
        "# string = input()\n",
        "\n",
        "string = \"\"\"\n",
        "<html lang=\"en\"><head><meta charset=\"UTF-8\">\n",
        "<meta http-equiv=\"X-UA-Compatible\" content=\"IE=edge\">\n",
        "<meta name=\"viewport\" content=\"width=device-width, initial-scale=1.0\">\n",
        "<title>Пролистай вниз</title><link rel=\"stylesheet\" href=\"./css/normalize.css\">\n",
        "<link rel=\"stylesheet\" href=\"./css/style.css\">\n",
        "<link rel=\"icon\" href=\"./img/icon.jpg\"></head><body><header>\n",
        "<h1 class=\"privet\">Привет!<br>Пролистай страничку вниз.</h1>\n",
        "<img src=\"./img/photo.jpg\" alt=\"\" class=\"logo_icon\">\n",
        "</header><main><p class=\"paragraph\">Чтобы продолжить -\n",
        "отправь боту любое фото.</p></main><footer>\n",
        "<a class=\"link\" href=\"./img/photo.jpg\" download=\"\">Фото</a>\n",
        "<p class=\"link\">id стикера -\n",
        "CAACAgIAAxkBAAIDxWITCaZnaUelQ0SNlHMTrjd2klAmAAIBAQACVp29CiK-nw64wuY0IwQ</p>\n",
        "<a class=\"link\" href=\"./img/tochno.txt\" download=\"\">Документ</a></footer>\n",
        "</body></html>\n",
        "\"\"\"\n",
        "\n",
        "temp_pattern = r'<a.+?>'\n",
        "\n",
        "temp_result = re.findall(temp_pattern, string, 0)\n",
        "\n",
        "print(*temp_result, sep = '\\n')\n",
        "\n",
        "print()\n",
        "\n",
        "pattern = r'(?<=href=\\\").+?(?=\\\")'\n",
        "\n",
        "for i in temp_result:\n",
        "    print(re.search(pattern, i, 0).group(0))"
      ],
      "metadata": {
        "id": "qpqJDx_-xPNL",
        "colab": {
          "base_uri": "https://localhost:8080/"
        },
        "outputId": "cc386939-ea69-41e3-9833-355a6db69213"
      },
      "execution_count": null,
      "outputs": [
        {
          "output_type": "stream",
          "name": "stdout",
          "text": [
            "<a class=\"link\" href=\"./img/photo.jpg\" download=\"\">\n",
            "<a class=\"link\" href=\"./img/tochno.txt\" download=\"\">\n",
            "\n",
            "./img/photo.jpg\n",
            "./img/tochno.txt\n"
          ]
        }
      ]
    },
    {
      "cell_type": "markdown",
      "source": [
        "### **<font color='navy'>re.split()</font>**\n",
        "\n",
        "---"
      ],
      "metadata": {
        "id": "xSgIp0qpx-EN"
      }
    },
    {
      "cell_type": "markdown",
      "source": [
        "**Разбивает строки по заданному паттерну.**\n",
        "\n",
        "**re.split(pattern, string, maxsplit=0, flags=0)**\n",
        "\n",
        "Возвращаемое значение:\n",
        "\n",
        "* Если совпадения есть - список частей разделённой строки.\n",
        "* [string], если совпадений нет"
      ],
      "metadata": {
        "id": "8qGIoXeAyCXj"
      }
    },
    {
      "cell_type": "code",
      "source": [
        "###"
      ],
      "metadata": {
        "id": "Q4j0_TxRxPQ2"
      },
      "execution_count": null,
      "outputs": []
    },
    {
      "cell_type": "code",
      "source": [
        "--24\n",
        "# text = input()\n",
        "\n",
        "text = \"\"\"\n",
        "Привет, как твои дела? Привет, нормально, учу регулярные выражения.\n",
        "\"\"\"\n",
        "\n",
        "pattern = r'[.?!]'\n",
        "\n",
        "result = re.split(pattern, text, 0, 0)\n",
        "\n",
        "print(result)\n",
        "\n",
        "for i in result:\n",
        "    print(i.strip())"
      ],
      "metadata": {
        "id": "m_n4nRlexPUP",
        "colab": {
          "base_uri": "https://localhost:8080/"
        },
        "outputId": "0ac9d9da-e98e-47ff-ee35-8a6c0e4aa3db"
      },
      "execution_count": null,
      "outputs": [
        {
          "output_type": "stream",
          "name": "stdout",
          "text": [
            "['\\nПривет, как твои дела', ' Привет, нормально, учу регулярные выражения', '\\n']\n",
            "Привет, как твои дела\n",
            "Привет, нормально, учу регулярные выражения\n",
            "\n"
          ]
        }
      ]
    },
    {
      "cell_type": "code",
      "source": [
        "###"
      ],
      "metadata": {
        "id": "3Cb6ZRYixPX1"
      },
      "execution_count": null,
      "outputs": []
    },
    {
      "cell_type": "code",
      "source": [
        "--25\n",
        "# text = input()\n",
        "\n",
        "text = \"\"\"\n",
        "Привет, как твои дела? Привет, нормально, учу регулярные выражения.\n",
        "\"\"\"\n",
        "\n",
        "pattern = r'[.?!, ]'\n",
        "\n",
        "result = re.split(pattern, text, 0, 0)\n",
        "\n",
        "print(result)"
      ],
      "metadata": {
        "id": "0qlg3QZmxPbe",
        "colab": {
          "base_uri": "https://localhost:8080/"
        },
        "outputId": "4084de37-d44f-49a4-b14e-994fcb365c8b"
      },
      "execution_count": null,
      "outputs": [
        {
          "output_type": "stream",
          "name": "stdout",
          "text": [
            "['\\nПривет', '', 'как', 'твои', 'дела', '', 'Привет', '', 'нормально', '', 'учу', 'регулярные', 'выражения', '\\n']\n"
          ]
        }
      ]
    },
    {
      "cell_type": "code",
      "source": [
        "###"
      ],
      "metadata": {
        "id": "ZtN57rcdxPe5"
      },
      "execution_count": null,
      "outputs": []
    },
    {
      "cell_type": "code",
      "source": [
        "--26\n",
        "# text = input()\n",
        "\n",
        "text = \"\"\"\n",
        "Категория: Персональные компьютеры\\nDEXP Mars E326\\nMSI\n",
        "MAG Codex 5 11SC-670XRU\\nZET Gaming WARD H125\\nКатегория:\n",
        "Ноутбуки\\nMSI GE76 11UH-261RU\\nLenovo Legion 7\n",
        "6ITHg6\\nApple MacBook Pro Z14V0008E\\nMSI GS76\n",
        "11UH-265RU\\nMSI GS66 Stealth 11UH-252RU\\nMSI\n",
        "GS66 11UH-263RU\\nКатегория: Моноблоки\\nHP 32-a1006ur\\nApple iMac\n",
        "\"\"\"\n",
        "\n",
        "pattern = r'Категория: [а-яА-ЯёЁ ]+\\\\n'\n",
        "\n",
        "result = re.split(pattern, text)\n",
        "\n",
        "print(result)"
      ],
      "metadata": {
        "id": "y7XaOliZxPip"
      },
      "execution_count": null,
      "outputs": []
    },
    {
      "cell_type": "markdown",
      "source": [
        "### **<font color='navy'>re.sub()</font>**\n",
        "\n",
        "---"
      ],
      "metadata": {
        "id": "AqsSvfs2B3E_"
      }
    },
    {
      "cell_type": "markdown",
      "source": [
        "**Заменяет найденные вхождения на заданные символы и возвращает исправленную строку.**\n",
        "\n",
        "**re.sub(pattern, replace, string, count=0, flags=0)**\n",
        "\n",
        "Параметры:\n",
        "\n",
        "* **pattern** - регулярное выражение\n",
        "\n",
        "* **replace** - то, на что нужно заменить найденное вхождение\n",
        "\n",
        "* **string** - строка, к которой нужно применить регулярное выражение\n",
        "\n",
        "* **count** - необязательный аргумент, максимальное число вхождений, подлежащих замене. Если этот параметр опущен или равен нулю, то произойдет замена всех вхождений.\n",
        "\n",
        "* **flags** - флаги, пройдём позже\n",
        "\n",
        "Возвращаемое значение:\n",
        "\n",
        "* Если совпадения есть - изменённая строка\n",
        "\n",
        "* string, если совпадений нет"
      ],
      "metadata": {
        "id": "wFiexwFqB51d"
      }
    },
    {
      "cell_type": "code",
      "source": [
        "###"
      ],
      "metadata": {
        "id": "wRmx0dPlxPmW"
      },
      "execution_count": null,
      "outputs": []
    },
    {
      "cell_type": "code",
      "source": [
        "--27\n",
        "# text = input()\n",
        "\n",
        "text = 'Especially this one my kinda favourite, and here we go, you dropped it!'\n",
        "\n",
        "pattern = r'[aeioyuAEIOUауоыиэяюёеАУОЫИЭЯЮЁЕ]'\n",
        "\n",
        "result = re.sub(pattern, '!', text, 0, 0)\n",
        "\n",
        "print(result)"
      ],
      "metadata": {
        "id": "QFv14Xb8xPp9",
        "colab": {
          "base_uri": "https://localhost:8080/"
        },
        "outputId": "62b42f6b-6a37-489c-aeef-deeeb6f791e7"
      },
      "execution_count": null,
      "outputs": [
        {
          "output_type": "stream",
          "name": "stdout",
          "text": [
            "!sp!c!!ll! th!s !n! m! k!nd! f!v!!r!t!, !nd h!r! w! g!, !!! dr!pp!d !t!\n"
          ]
        }
      ]
    },
    {
      "cell_type": "code",
      "source": [
        "###"
      ],
      "metadata": {
        "id": "fjzr9xnVxPuG"
      },
      "execution_count": null,
      "outputs": []
    },
    {
      "cell_type": "code",
      "source": [
        "--28\n",
        "# text = input()\n",
        "\n",
        "text = \"\"\"\n",
        "<html lang=\"en\"><head><meta charset=\"UTF-8\">\n",
        "<meta http-equiv=\"X-UA-Compatible\" content=\"IE=edge\">\n",
        "<meta name=\"viewport\" content=\"width=device-width,\n",
        "initial-scale=1.0\"><title>Timer ⏲</title><link rel=\"icon\" href=\n",
        "\"./img/goes.png\"><link rel=\"stylesheet\"\n",
        "href=\"./css/normalize.css\"><link rel=\"stylesheet\" href=\n",
        "\"./css/style.css\"></head><body><div class=\"time_wrapper\">\n",
        "<h1 class=\"bold minutes\">1:00:00</h1><img class=\"time\"\n",
        "src=\"./img/start_end.png\"></div><div class=\"buttons\">\n",
        "<button class=\"buttons_button regular start\" onclick=\"start()\">\n",
        "Start</button><button class=\"buttons_button regular notshow pause\"\n",
        "onclick=\"pause()\">Pause</button></div></body>\n",
        "\"\"\"\n",
        "\n",
        "pattern = r'<.*?>'\n",
        "\n",
        "result = re.sub(pattern, '', text)\n",
        "\n",
        "print(result)"
      ],
      "metadata": {
        "id": "bdkZK7OuxPyA",
        "colab": {
          "base_uri": "https://localhost:8080/"
        },
        "outputId": "c84353da-5dc4-4d27-ebe1-82d4da0e89a4"
      },
      "execution_count": null,
      "outputs": [
        {
          "output_type": "stream",
          "name": "stdout",
          "text": [
            "\n",
            "Timer ⏲1:00:00StartPause\n",
            "\n"
          ]
        }
      ]
    },
    {
      "cell_type": "code",
      "source": [
        "###"
      ],
      "metadata": {
        "id": "8phLsIZ9xP2A"
      },
      "execution_count": null,
      "outputs": []
    },
    {
      "cell_type": "code",
      "source": [
        "--29\n",
        "# a, b, c = map(lambda x: x, input().split())\n",
        "# text = input()\n",
        "\n",
        "a, b, c = 'Калашников', 'Дмитрий', 'Митрофанович'\n",
        "\n",
        "text = \"\"\"\n",
        "Калашников Д. М. Калашникову Д. М. Калашникова Д. М. Калашниковым Д. М.\n",
        "Калашникове Д. М. | Калашников Дмитрий Митрофанович\n",
        "Калашникову Дмитрию Митрофановичу\n",
        "Калашникова Дмитрия Митрофановича\n",
        "Калашниковым Дмитрием Митрофановичем\n",
        "Калашникове Дмитрие Митрофановиче\n",
        "Калашников Денис Митрофанович\n",
        "Калашёв Дмитрий Митрофанович\n",
        "Калашёв Д. М. Калашников Дмитрий Митрофанов\n",
        "\"\"\"\n",
        "\n",
        "pattern = rf'{a}[а-я]* {b[:-1]}[а-я]* {c}[а-я]*|{a}[а-я]* {b[0]}[.] {c[0]}[.]'\n",
        "\n",
        "\n",
        "result = re.sub(pattern, 'ФИО', text)\n",
        "\n",
        "print(result)"
      ],
      "metadata": {
        "id": "nq7tJ73MxP6V",
        "colab": {
          "base_uri": "https://localhost:8080/"
        },
        "outputId": "68a29573-05e1-4f1e-cc32-5d4cb672ac72"
      },
      "execution_count": null,
      "outputs": [
        {
          "output_type": "stream",
          "name": "stdout",
          "text": [
            "\n",
            "ФИО ФИО ФИО ФИО ФИО | ФИО ФИО ФИО ФИО ФИО Калашников Денис Митрофанович Калашёв Дмитрий Митрофанович Калашёв Д. М. Калашников Дмитрий Митрофанов\n",
            "\n"
          ]
        }
      ]
    },
    {
      "cell_type": "markdown",
      "source": [
        "### **<font color='navy'>re.subn()</font>**\n",
        "\n",
        "---"
      ],
      "metadata": {
        "id": "xPsI7__petcg"
      }
    },
    {
      "cell_type": "markdown",
      "source": [
        "**Выполняет ту же операцию, что и функция re.sub(), но возвращает кортеж.**\n",
        "\n",
        "**re.subn(pattern, replace, string, count=0, flags=0)**\n",
        "\n",
        "Параметры:\n",
        "\n",
        "* **pattern** - регулярное выражение\n",
        "\n",
        "* **replace** - то, на что нужно заменить найденное вхождение\n",
        "\n",
        "* **string** - строка, к которой нужно применить регулярное выражение\n",
        "\n",
        "* **count** - необязательный аргумент, максимальное число вхождений, подлежащих замене. Если этот параметр опущен или равен нулю, то произойдет замена всех вхождений.\n",
        "\n",
        "* **flags** - флаги, пройдём позже\n",
        "\n",
        "Возвращаемое значение:\n",
        "\n",
        "Кортеж (new_string, number_of_subs), где\n",
        "\n",
        "* **new_string** - новая строка, или старая, если не было совершено замен.\n",
        "* **number_of_subs** - количество сделанных замен"
      ],
      "metadata": {
        "id": "-8GhgjzrezdH"
      }
    },
    {
      "cell_type": "code",
      "source": [
        "###"
      ],
      "metadata": {
        "id": "jeptAl0ExQaA"
      },
      "execution_count": null,
      "outputs": []
    },
    {
      "cell_type": "code",
      "source": [
        "--30\n",
        "# text = input()\n",
        "\n",
        "text = \"\"\"\n",
        "Maybe it’s my fault. Maybe I led you to believe it was easy,\n",
        "when it wasn’t. Maybe I made you think my highlights started\n",
        "at the free throw line, and not in the gym.\n",
        "Maybe I made you think that every shot I took was a game winner.\n",
        "That my game was built on flash, and not fire.\n",
        "Maybe it’s my fault that you didn’t see that failure gave me strength,\n",
        "that my pain was my motivation.\n",
        "Maybe I led you to believe that basketball was a God given gift,\n",
        "and not something I worked for, every single day of my life.\n",
        "\"\"\"\n",
        "\n",
        "pattern = r'[.?!,:]'\n",
        "\n",
        "result = re.subn(pattern, '', text)\n",
        "\n",
        "print(result[1])"
      ],
      "metadata": {
        "id": "KOZ_S1Mo3nYx",
        "colab": {
          "base_uri": "https://localhost:8080/"
        },
        "outputId": "f3e04b56-a243-4a96-cf6a-7c52e84ac2cb"
      },
      "execution_count": null,
      "outputs": [
        {
          "output_type": "stream",
          "name": "stdout",
          "text": [
            "13\n"
          ]
        }
      ]
    },
    {
      "cell_type": "code",
      "source": [
        "###"
      ],
      "metadata": {
        "id": "gx80lzgk3nb4"
      },
      "execution_count": null,
      "outputs": []
    },
    {
      "cell_type": "code",
      "source": [
        "--31\n",
        "# text = input()\n",
        "\n",
        "text = '65,905 views  Nov 19, 2022 '\n",
        "\n",
        "pattern = r'\\d'\n",
        "\n",
        "result = re.subn(pattern, 'X', text)\n",
        "\n",
        "print(result)"
      ],
      "metadata": {
        "id": "wIK7SnjRKc2o",
        "colab": {
          "base_uri": "https://localhost:8080/"
        },
        "outputId": "eeb83530-f9bc-477d-e6b1-4ef0c40d2c1e"
      },
      "execution_count": null,
      "outputs": [
        {
          "output_type": "stream",
          "name": "stdout",
          "text": [
            "('XX,XXX views  Nov XX, XXXX ', 11)\n"
          ]
        }
      ]
    },
    {
      "cell_type": "markdown",
      "source": [
        "### **<font color='navy'>re.escape()</font>**\n",
        "\n",
        "---"
      ],
      "metadata": {
        "id": "yeR98KyhjsMz"
      }
    },
    {
      "cell_type": "markdown",
      "source": [
        "**re.escape(pattern)** - экранирует специальные символы в pattern. Полезно, если нужно использовать полученную строку как регулярное выражение, но в ней могут содержаться спецсимволы."
      ],
      "metadata": {
        "id": "vthkSSDNjymR"
      }
    },
    {
      "cell_type": "code",
      "source": [
        "###"
      ],
      "metadata": {
        "id": "SpSeXAcqKc6C"
      },
      "execution_count": null,
      "outputs": []
    },
    {
      "cell_type": "code",
      "source": [
        "--32\n",
        "pattern = r'https://stepik.org/lesson/694442/step/1?unit=694231'\n",
        "\n",
        "pattern_escape = re.escape(pattern)\n",
        "\n",
        "print(pattern_escape)"
      ],
      "metadata": {
        "id": "NjZsdJ-tKc9b",
        "colab": {
          "base_uri": "https://localhost:8080/"
        },
        "outputId": "ee07508d-0ad3-4b95-be8d-de0e26e86d7b"
      },
      "execution_count": null,
      "outputs": [
        {
          "output_type": "stream",
          "name": "stdout",
          "text": [
            "https://stepik\\.org/lesson/694442/step/1\\?unit=694231\n"
          ]
        }
      ]
    },
    {
      "cell_type": "code",
      "source": [
        "###"
      ],
      "metadata": {
        "id": "jTgJzuDqKdAo"
      },
      "execution_count": null,
      "outputs": []
    },
    {
      "cell_type": "code",
      "source": [
        "--33\n",
        "pattern = r\"\"\"<=>?@ABCDEFGHIJKLMNOPQRSTUVWXYZ[]^_`abcdefghijklmnopqrstuvwxyz{|}~абвгдеёжзийклмнопрстуфхцчшщъыьэюяАБВГДЕЁЖЗИЙКЛМНОПРСТУФХЦЧШЩЪЫЬЭЮЯ !\"#$%&\\'()*+,-./0123456789:;\"\"\"\n",
        "\n",
        "pattern_escape = re.escape(pattern)\n",
        "\n",
        "print(pattern_escape)"
      ],
      "metadata": {
        "id": "0QuD8F0IKdD-",
        "colab": {
          "base_uri": "https://localhost:8080/"
        },
        "outputId": "f2139c6b-7026-4613-ad2d-3001f7e5cd86"
      },
      "execution_count": null,
      "outputs": [
        {
          "output_type": "stream",
          "name": "stdout",
          "text": [
            "<=>\\?@ABCDEFGHIJKLMNOPQRSTUVWXYZ\\[\\]\\^_`abcdefghijklmnopqrstuvwxyz\\{\\|\\}\\~абвгдеёжзийклмнопрстуфхцчшщъыьэюяАБВГДЕЁЖЗИЙКЛМНОПРСТУФХЦЧШЩЪЫЬЭЮЯ\\ !\"\\#\\$%\\&\\\\'\\(\\)\\*\\+,\\-\\./0123456789:;\n"
          ]
        }
      ]
    },
    {
      "cell_type": "code",
      "source": [
        "###"
      ],
      "metadata": {
        "id": "uxFsURCxKdHS"
      },
      "execution_count": null,
      "outputs": []
    },
    {
      "cell_type": "code",
      "source": [
        "--34\n",
        "# text = input()\n",
        "\n",
        "text = r'https://www.youtube.com/watch?v=dQw4w9WgXcQ'\n",
        "\n",
        "pattern_escape = re.escape(text)\n",
        "\n",
        "print(pattern_escape)"
      ],
      "metadata": {
        "id": "5gDssCVLKdKm",
        "colab": {
          "base_uri": "https://localhost:8080/"
        },
        "outputId": "b93a072b-f319-49dd-d863-016a22028f00"
      },
      "execution_count": null,
      "outputs": [
        {
          "output_type": "stream",
          "name": "stdout",
          "text": [
            "https://www\\.youtube\\.com/watch\\?v=dQw4w9WgXcQ\n"
          ]
        }
      ]
    },
    {
      "cell_type": "markdown",
      "source": [
        "### **<font color='navy'>Группы в Match объектах</font>**\n",
        "\n",
        "---\n"
      ],
      "metadata": {
        "id": "Wq7EsrvJ4-1u"
      }
    },
    {
      "cell_type": "code",
      "source": [
        "###"
      ],
      "metadata": {
        "id": "ygh4XMavKdRx"
      },
      "execution_count": null,
      "outputs": []
    },
    {
      "cell_type": "code",
      "source": [
        "--35\n",
        "# text = input()\n",
        "\n",
        "text = \"\"\"<<main><section class=\"faq__section content\">\n",
        "<h2 class=\"h-header\">Частозадаваемые вопросы</h2>\n",
        "<div class=\"faq__megawrapper\"><div class=\"faq__wrapper\">\n",
        "<details><summary class=\"l-header\">Какой-то вопрос?</summary>\n",
        "<p class=\"details__paragraph p-paragraph\">Какой-то ответ</p>\n",
        "</details><details><summary class=\"l-header\">Какой-то вопрос?\n",
        "</summary><p class=\"details__paragraph p-paragraph\">Какой-то ответ</p>\n",
        "</details><details><summary class=\"l-header\">Какой-то вопрос?\n",
        "</summary><p class=\"details__paragraph p-paragraph\">Какой-то\n",
        "\"\"\"\n",
        "\n",
        "pattern = r'(?P<gr_1><p.*?>)(?P<gr_2>.*?(?=</p>))(?P<gr_3></p>)'\n",
        "\n",
        "result = re.finditer(pattern, text)\n",
        "\n",
        "for i in result:\n",
        "    print(i.group(2))"
      ],
      "metadata": {
        "id": "NzfVtqj8KdV0",
        "colab": {
          "base_uri": "https://localhost:8080/"
        },
        "outputId": "278c1332-a1b2-4653-c114-898dea6a390d"
      },
      "execution_count": null,
      "outputs": [
        {
          "output_type": "stream",
          "name": "stdout",
          "text": [
            "Какой-то ответ\n",
            "Какой-то ответ\n"
          ]
        }
      ]
    },
    {
      "cell_type": "code",
      "source": [
        "###"
      ],
      "metadata": {
        "id": "GG51jZXkKdZk"
      },
      "execution_count": null,
      "outputs": []
    },
    {
      "cell_type": "code",
      "source": [
        "--36\n",
        "# text = input()\n",
        "\n",
        "text = \"\"\"\n",
        "В этом https://stepik.org/lesson/704265/step/2?unit=704697#test\n",
        "тексте https://example.com/ очень много\n",
        "https://keep.google.com/#home разных h\n",
        "ttp://oldastoundingrelaxedlaugh.neverssl.com/online ссылок.\n",
        "\"\"\"\n",
        "\n",
        "pattern = r'(?<!\\S)(?:(?P<protocol>http[s]?)://(?P<domen>[a-z.]+[.][a-z]+)?[a-z0-9-_/]*(?P<params>[?][a-z=&0-9]*)?(?P<anchor>[#][a-z]*)?)(?!\\S)'\n",
        "\n",
        "result = re.finditer(pattern, text)\n",
        "\n",
        "for i in result:\n",
        "    print(f'Полная ссылка: {i.group(0)}')\n",
        "    print(f'Протокол: {i.group(\"protocol\")} | Домен: {i.group(\"domen\")} | Параметры: {i.group(\"params\")} | Якорь: {i.group(\"anchor\")}')\n",
        "    print()"
      ],
      "metadata": {
        "id": "d_GZaDiWKdc_",
        "colab": {
          "base_uri": "https://localhost:8080/"
        },
        "outputId": "573e7e9b-60b3-4b0a-863b-56bd1dfe28a6"
      },
      "execution_count": null,
      "outputs": [
        {
          "output_type": "stream",
          "name": "stdout",
          "text": [
            "Полная ссылка: https://stepik.org/lesson/704265/step/2?unit=704697#test\n",
            "Протокол: https | Домен: stepik.org | Параметры: ?unit=704697 | Якорь: #test\n",
            "\n",
            "Полная ссылка: https://example.com/\n",
            "Протокол: https | Домен: example.com | Параметры: None | Якорь: None\n",
            "\n",
            "Полная ссылка: https://keep.google.com/#home\n",
            "Протокол: https | Домен: keep.google.com | Параметры: None | Якорь: #home\n",
            "\n",
            "Полная ссылка: http://oldastoundingrelaxedlaugh.neverssl.com/online\n",
            "Протокол: http | Домен: oldastoundingrelaxedlaugh.neverssl.com | Параметры: None | Якорь: None\n",
            "\n"
          ]
        }
      ]
    },
    {
      "cell_type": "markdown",
      "source": [
        "### **<font color='navy'>Группы и re.findall()</font>**\n",
        "\n",
        "---"
      ],
      "metadata": {
        "id": "ZVooXhLaPoQv"
      }
    },
    {
      "cell_type": "markdown",
      "source": [
        "Если в регулярном выражении используются скобочные группы, то вместо списка со всеми соответствиями вернётся список с кортежами совпадений соответствующих групп."
      ],
      "metadata": {
        "id": "QINkfbeMP1lP"
      }
    },
    {
      "cell_type": "code",
      "source": [
        "pattern = r'(=)(\\w{3})='\n",
        "string = '=abc= =123= =def= 456 =fed= =321= =cba='\n",
        "\n",
        "result = re.findall(pattern, string)\n",
        "\n",
        "print(result)"
      ],
      "metadata": {
        "colab": {
          "base_uri": "https://localhost:8080/"
        },
        "id": "2D_pD652P6vg",
        "outputId": "aae889c5-a222-4b1e-c165-b507178bdbfb"
      },
      "execution_count": null,
      "outputs": [
        {
          "output_type": "stream",
          "name": "stdout",
          "text": [
            "[('=', 'abc'), ('=', '123'), ('=', 'def'), ('=', 'fed'), ('=', '321'), ('=', 'cba')]\n"
          ]
        }
      ]
    },
    {
      "cell_type": "code",
      "source": [
        "###"
      ],
      "metadata": {
        "id": "a2-mXvZfLAHv"
      },
      "execution_count": null,
      "outputs": []
    },
    {
      "cell_type": "code",
      "source": [
        "--37\n",
        "# text = input()\n",
        "\n",
        "text = \"\"\"\n",
        "<div class=\"o3j99 LLD4me yr19Zb LS8OJ\"><style>.LS8OJ{display:flex;\n",
        "flex-direction:column;align-items:center}.k1zIA{height:100%;\n",
        "margin-top:auto}</style><div class=\"k1zIA rSk4se\"><style>.\n",
        "rSk4se{max-height:92px;position:relative}.\n",
        "lnXdpd{max-height:100%;max-width:100%;object-fit:contain;object-position:\n",
        "center bottom;width:auto}</style><img class=\"lnXdpd\" alt=\"Google\" src=\n",
        "\"/images/branding/googlelogo/2x/googlelogo_color_272x92dp.png\"\n",
        "srcset=\"/images/branding/googlelogo/1x/googlelogo_color_272x92dp.png 1x,\n",
        "/images/branding/googlelogo/2x/googlelogo_color_272x92dp.png 2x\"\n",
        "data-atf=\"1\" data-frt=\"0\" width=\"272\" height=\"92\"></div></div>\n",
        "\"\"\"\n",
        "\n",
        "pattern = r'(</|<)(?P<name>[a-z0-9]*)(.*?)(>)'\n",
        "\n",
        "result = re.findall(pattern, text)\n",
        "\n",
        "list_result = []\n",
        "\n",
        "for i in result:\n",
        "    list_result.append(i[1])\n",
        "\n",
        "print(list_result)"
      ],
      "metadata": {
        "id": "VluS3_IOLAK8",
        "colab": {
          "base_uri": "https://localhost:8080/"
        },
        "outputId": "172cb16c-7b46-4517-c2bb-41e5bb7d2a89"
      },
      "execution_count": null,
      "outputs": [
        {
          "output_type": "stream",
          "name": "stdout",
          "text": [
            "['div', 'style', 'style', 'div', 'style', 'style', 'img', 'div', 'div']\n"
          ]
        }
      ]
    },
    {
      "cell_type": "code",
      "source": [
        "###"
      ],
      "metadata": {
        "id": "-TptYr9RLAOW"
      },
      "execution_count": null,
      "outputs": []
    },
    {
      "cell_type": "code",
      "source": [
        "--38\n",
        "# text = input()\n",
        "\n",
        "text = \"\"\"\n",
        "<div class=\"o3j99 LLD4me yr19Zb LS8OJ\"><style>.LS8OJ{display:flex;\n",
        "flex-direction:column;align-items:center}.k1zIA{height:100%;\n",
        "margin-top:auto}</style><div class=\"k1zIA rSk4se\"><style>.\n",
        "rSk4se{max-height:92px;position:relative}.\n",
        "lnXdpd{max-height:100%;max-width:100%;object-fit:contain;object-position:\n",
        "center bottom;width:auto}</style><img class=\"lnXdpd\" alt=\"Google\" src=\n",
        "\"/images/branding/googlelogo/2x/googlelogo_color_272x92dp.png\"\n",
        "srcset=\"/images/branding/googlelogo/1x/googlelogo_color_272x92dp.png 1x,\n",
        "/images/branding/googlelogo/2x/googlelogo_color_272x92dp.png 2x\"\n",
        "data-atf=\"1\" data-frt=\"0\" width=\"272\" height=\"92\"></div></div>\"\"\"\n",
        "\n",
        "pattern = r'</?(?P<name>[a-z0-9]+).*?>'\n",
        "\n",
        "result = re.findall(pattern, text)\n",
        "\n",
        "print(result)"
      ],
      "metadata": {
        "id": "yRmxiW5SLARa",
        "colab": {
          "base_uri": "https://localhost:8080/"
        },
        "outputId": "780b5983-5dbe-4a46-e3e9-213a7577949d"
      },
      "execution_count": null,
      "outputs": [
        {
          "output_type": "stream",
          "name": "stdout",
          "text": [
            "['div', 'style', 'style', 'div', 'style', 'style', 'img', 'div', 'div']\n"
          ]
        }
      ]
    },
    {
      "cell_type": "code",
      "source": [
        "###"
      ],
      "metadata": {
        "id": "gpPw_MWvLAUm"
      },
      "execution_count": null,
      "outputs": []
    },
    {
      "cell_type": "code",
      "source": [
        "--39\n",
        "# text = input()\n",
        "\n",
        "text = \"\"\"\n",
        "15073073928:j7jzvKkcrojW4W2G:bde5ef73cb767c9d949717978467e5a798ce70c1a67fdbeeb2744caf6a2c87d034a8d74beeab95cbb88a5 13345187013:SLkeIUOZqJ7Ddu5:177eafc83a25a3924c6f9593c7619ac3199d585a613d1341c87c32790014a975642865bbacfb9e5933da8 15715705448:hqQ5lJxuVX2sTuJj:cb3694f38d146847f758c36e79200f160a141a76d57af62ffe3d25659f8434976a2097712318cd1eed6c7 12368040749:Iw2DeXGe4xnqJLxN:8277679e1a629144e7b9a02046ed829d1a89d3662abb23ad84d710a5a545f98ba79b585ed5733b98455d4\n",
        "\"\"\"\n",
        "\n",
        "pattern = r'(?P<login>[0-9]+):(?P<parol>[a-zA-Z0-9]+):(?P<token>[a-z0-9]+)'\n",
        "\n",
        "result = re.findall(pattern, text)\n",
        "\n",
        "print(result)"
      ],
      "metadata": {
        "id": "RDlF8opkLAXk",
        "colab": {
          "base_uri": "https://localhost:8080/"
        },
        "outputId": "2c3732a4-70dc-4b50-d185-39c5d17c0df1"
      },
      "execution_count": null,
      "outputs": [
        {
          "output_type": "stream",
          "name": "stdout",
          "text": [
            "[('15073073928', 'j7jzvKkcrojW4W2G', 'bde5ef73cb767c9d949717978467e5a798ce70c1a67fdbeeb2744caf6a2c87d034a8d74beeab95cbb88a5'), ('13345187013', 'SLkeIUOZqJ7Ddu5', '177eafc83a25a3924c6f9593c7619ac3199d585a613d1341c87c32790014a975642865bbacfb9e5933da8'), ('15715705448', 'hqQ5lJxuVX2sTuJj', 'cb3694f38d146847f758c36e79200f160a141a76d57af62ffe3d25659f8434976a2097712318cd1eed6c7'), ('12368040749', 'Iw2DeXGe4xnqJLxN', '8277679e1a629144e7b9a02046ed829d1a89d3662abb23ad84d710a5a545f98ba79b585ed5733b98455d4')]\n"
          ]
        }
      ]
    },
    {
      "cell_type": "markdown",
      "source": [
        "### **<font color='navy'>Группы и re.split()</font>**\n",
        "\n",
        "---"
      ],
      "metadata": {
        "id": "-3RIYXROtCip"
      }
    },
    {
      "cell_type": "markdown",
      "source": [
        "Если в шаблоне регулярного выражения используются групппы, то их значения будут вставлены между разделёнными строками:"
      ],
      "metadata": {
        "id": "j1-MIykmtW1T"
      }
    },
    {
      "cell_type": "code",
      "source": [
        "# Если в шаблоне нет групп, re.split работает так же, как и str.split\n",
        "res1 = re.split(r'\\s[+*=]\\s', '2 + 2 * 2 = 6')\n",
        "print(res1)\n",
        "print()\n",
        "\n",
        "# Если использовать группы,\n",
        "# то между каждыми разделёнными строками будут значения из групп\n",
        "res2 = re.split(r'(\\s)([+*=])(\\s)', '2 + 2 * 2 = 6')\n",
        "print(res2)\n",
        "print()\n",
        "\n",
        "# Сначала не очень понятно, зачем использовать группы с re.split.\n",
        "# Но если убрать ненужные группы из второго примера, то всё становится ясно\n",
        "res3 = re.split(r'\\s([+*=])\\s', '2 + 2 * 2 = 6')\n",
        "print(res3)"
      ],
      "metadata": {
        "colab": {
          "base_uri": "https://localhost:8080/"
        },
        "id": "hLSGaweztcj9",
        "outputId": "7d5ad036-a99c-469b-fcad-3ccc638b4586"
      },
      "execution_count": null,
      "outputs": [
        {
          "output_type": "stream",
          "name": "stdout",
          "text": [
            "['2', '2', '2', '6']\n",
            "\n",
            "['2', ' ', '+', ' ', '2', ' ', '*', ' ', '2', ' ', '=', ' ', '6']\n",
            "\n",
            "['2', '+', '2', '*', '2', '=', '6']\n"
          ]
        }
      ]
    },
    {
      "cell_type": "code",
      "source": [
        "###"
      ],
      "metadata": {
        "id": "ylhUVWP6LFwQ"
      },
      "execution_count": null,
      "outputs": []
    },
    {
      "cell_type": "code",
      "source": [
        "--40\n",
        "# text = input()\n",
        "\n",
        "text = '45Я всю+жизнь54работал/на9заправке*и2чувствую-когда4надо=помогать людям53'\n",
        "\n",
        "pattern = r'[^\\d]*([+:=*/-])[^\\d]*'\n",
        "\n",
        "result = re.split(pattern, text)\n",
        "\n",
        "print(result)"
      ],
      "metadata": {
        "id": "dMycy5FmLFzx",
        "colab": {
          "base_uri": "https://localhost:8080/"
        },
        "outputId": "cf92ba53-c509-4580-f167-8648f5acd487"
      },
      "execution_count": null,
      "outputs": [
        {
          "output_type": "stream",
          "name": "stdout",
          "text": [
            "['45', '+', '54', '/', '9', '*', '2', '-', '4', '=', '53']\n"
          ]
        }
      ]
    },
    {
      "cell_type": "code",
      "source": [
        "###"
      ],
      "metadata": {
        "id": "o6f7K_rbLF2n"
      },
      "execution_count": null,
      "outputs": []
    },
    {
      "cell_type": "code",
      "source": [
        "--41\n",
        "# text = input()\n",
        "\n",
        "text = 'https://stackoverflow.com/questions/tagged/regex?tab=votes&page=11&pagesize=15'\n",
        "\n",
        "pattern = r'([?&])'\n",
        "\n",
        "result = re.split(pattern, text)\n",
        "\n",
        "print(result)"
      ],
      "metadata": {
        "id": "gwTL8r41LF5f",
        "colab": {
          "base_uri": "https://localhost:8080/"
        },
        "outputId": "7c066d9e-4a70-4a87-edfc-12ebfe219ae3"
      },
      "execution_count": null,
      "outputs": [
        {
          "output_type": "stream",
          "name": "stdout",
          "text": [
            "['https://stackoverflow.com/questions/tagged/regex', '?', 'tab=votes', '&', 'page=11', '&', 'pagesize=15']\n"
          ]
        }
      ]
    },
    {
      "cell_type": "markdown",
      "source": [
        "### **<font color='navy'>Группы в re.sub() и re.subn()</font>**\n",
        "\n",
        "---"
      ],
      "metadata": {
        "id": "rKVRrHGJ0zZv"
      }
    },
    {
      "cell_type": "markdown",
      "source": [
        "Группы в **re.sub()** и **re.subn()** ничего не дают, но их можно использовать в заменах!\n",
        "\n",
        "Если в строке, на которую будет происходить замена найденных совпадений написать **\\n** или **\\g<name>**, где **n** это номер группы, а **name** это имя группы, то они будут заменены на совпадения этих групп:"
      ],
      "metadata": {
        "id": "2lDajK5p1aEd"
      }
    },
    {
      "cell_type": "code",
      "source": [
        "string = \"Ненавижу людей, которые пишут дату в формате mm/dd/yyyy. Ну кто пишет 02/22/2022 или 07/13/2022?\"\n",
        "print(re.sub(r'(\\d{2}).(\\d{2}).(\\d{4})', r'\\2.\\1.\\3', string))"
      ],
      "metadata": {
        "colab": {
          "base_uri": "https://localhost:8080/"
        },
        "id": "r2zf80O-2BR7",
        "outputId": "18592f46-a5fa-428a-e639-343d8438eee1"
      },
      "execution_count": null,
      "outputs": [
        {
          "output_type": "stream",
          "name": "stdout",
          "text": [
            "Ненавижу людей, которые пишут дату в формате mm/dd/yyyy. Ну кто пишет 22.02.2022 или 13.07.2022?\n"
          ]
        }
      ]
    },
    {
      "cell_type": "code",
      "source": [
        "###"
      ],
      "metadata": {
        "id": "UVAVFvQhLF8Y"
      },
      "execution_count": null,
      "outputs": []
    },
    {
      "cell_type": "code",
      "source": [
        "--42\n",
        "# text = input()\n",
        "\n",
        "text = 'Нужно удалять удалять повторяющиеся слова слова.'\n",
        "\n",
        "pattern = r'(?P<word>[а-яА-ЯёЁ]+)( )(?P=word)'\n",
        "\n",
        "result = re.sub(pattern, r'\\1', text)\n",
        "\n",
        "print(result)"
      ],
      "metadata": {
        "id": "0-NxUVfNLF_c",
        "colab": {
          "base_uri": "https://localhost:8080/"
        },
        "outputId": "2eb5fa65-8cfa-490d-b0f6-e4430da2e658"
      },
      "execution_count": null,
      "outputs": [
        {
          "output_type": "stream",
          "name": "stdout",
          "text": [
            "Нужно удалять повторяющиеся слова.\n"
          ]
        }
      ]
    },
    {
      "cell_type": "code",
      "source": [
        "###"
      ],
      "metadata": {
        "id": "Uoe1VODrLshP"
      },
      "execution_count": null,
      "outputs": []
    },
    {
      "cell_type": "code",
      "source": [
        "--43\n",
        "# text = input()\n",
        "\n",
        "text = 'А тут и **Bold text**, и *Italic*!'\n",
        "\n",
        "if '**' in text:\n",
        "    pattern = r'\\*\\*(?P<strong>[а-яА-ЯёЁa-zA-Z ]*)\\*\\*'\n",
        "    text = re.sub(pattern, r'<strong>\\1</strong>', text)\n",
        "\n",
        "if '*' in text:\n",
        "    pattern = r'\\*(?P<em>[а-яА-ЯёЁa-zA-Z ]*)\\*'\n",
        "    text = re.sub(pattern, r'<em>\\1</em>', text)\n",
        "\n",
        "print(text)"
      ],
      "metadata": {
        "id": "9d2297q7LskM",
        "colab": {
          "base_uri": "https://localhost:8080/"
        },
        "outputId": "b57cde24-94bc-4a18-eaca-67e6ee78fdcf"
      },
      "execution_count": null,
      "outputs": [
        {
          "output_type": "stream",
          "name": "stdout",
          "text": [
            "А тут и <strong>Bold text</strong>, и <em>Italic</em>!\n"
          ]
        }
      ]
    },
    {
      "cell_type": "code",
      "source": [
        "###"
      ],
      "metadata": {
        "id": "d6wnQF3bLsm2"
      },
      "execution_count": null,
      "outputs": []
    },
    {
      "cell_type": "code",
      "source": [
        "--44\n",
        "# text = input()\n",
        "\n",
        "text = \"\"\"\n",
        "Будем 193.193.240.37:45944 считать 221.182.31.54:8080 что\n",
        "200.199.38.234:8080 все 212.83.166.175:5836 прокси 74.121.98.90:8080\n",
        "валидные 82.200.181.54:3128 125.25.82.191:8080 187.108.90.163:44574\n",
        "103.89.235.226:83 154.126.211.169:41014 54.189.97.191:3128\n",
        "85.114.98.246:8080 190.242.98.61:8083 173.82.74.62:5836 202.21.105.115:80\n",
        "\"\"\"\n",
        "\n",
        "pattern = r'(?P<proxy>(\\d+[.])+\\d+:\\d+)'\n",
        "\n",
        "result = re.sub(pattern, r'http://\\1', text)\n",
        "\n",
        "print(result)"
      ],
      "metadata": {
        "id": "7ZbPyF3OLspu",
        "colab": {
          "base_uri": "https://localhost:8080/"
        },
        "outputId": "35e253b6-ced6-4b3a-ecb7-bfee3e04145b"
      },
      "execution_count": null,
      "outputs": [
        {
          "output_type": "stream",
          "name": "stdout",
          "text": [
            "\n",
            "Будем http://193.193.240.37:45944 считать http://221.182.31.54:8080 что http://200.199.38.234:8080 все http://212.83.166.175:5836 прокси http://74.121.98.90:8080 валидные http://82.200.181.54:3128 http://125.25.82.191:8080 http://187.108.90.163:44574 http://103.89.235.226:83 http://154.126.211.169:41014 http://54.189.97.191:3128 http://85.114.98.246:8080 http://190.242.98.61:8083 http://173.82.74.62:5836 http://202.21.105.115:80\n",
            "\n"
          ]
        }
      ]
    },
    {
      "cell_type": "code",
      "source": [
        "###"
      ],
      "metadata": {
        "id": "shhTwLulLssX"
      },
      "execution_count": null,
      "outputs": []
    },
    {
      "cell_type": "code",
      "source": [
        "--45\n",
        "# text = input()\n",
        "\n",
        "text = 'Сегодня 04/24/2022.'\n",
        "\n",
        "pattern = r'(\\d{2})(.)(\\d{2})(.)(\\d{4})'\n",
        "\n",
        "result = re.sub(pattern, r'\\3\\2\\1\\4\\5', text)\n",
        "\n",
        "print(result)"
      ],
      "metadata": {
        "id": "XA49-lb_LsvH",
        "colab": {
          "base_uri": "https://localhost:8080/"
        },
        "outputId": "8320da65-e7ef-49c8-e4ab-2e5cef63397f"
      },
      "execution_count": null,
      "outputs": [
        {
          "output_type": "stream",
          "name": "stdout",
          "text": [
            "Сегодня 24/04/2022.\n"
          ]
        }
      ]
    },
    {
      "cell_type": "code",
      "source": [
        "###"
      ],
      "metadata": {
        "id": "74iaTO71LszT"
      },
      "execution_count": null,
      "outputs": []
    },
    {
      "cell_type": "code",
      "source": [
        "--46\n",
        "# text = input()\n",
        "\n",
        "text = \"\"\"\n",
        "Егор Слова \"егонный\", \"еённый\" (т.е. его и её) уже норма языка,\n",
        "или принимается уже в норму?\n",
        "\"\"\"\n",
        "\n",
        "pattern = r'(?P<word>[еЕ])(го[а-я]*)'\n",
        "text = re.sub(pattern, r'\\1го', text)\n",
        "\n",
        "pattern = r'(?P<word>[еЕ])(ё[а-я]*)'\n",
        "text = re.sub(pattern, r'\\1ё', text)\n",
        "\n",
        "pattern = r'(?P<word>[иИ])(х[а-я]*)'\n",
        "text = re.sub(pattern, r'\\1х', text)\n",
        "\n",
        "print(text)"
      ],
      "metadata": {
        "id": "hGy4fg-mLs1n",
        "colab": {
          "base_uri": "https://localhost:8080/"
        },
        "outputId": "65939233-7d6d-4b31-9904-808ecdd69cf5"
      },
      "execution_count": null,
      "outputs": [
        {
          "output_type": "stream",
          "name": "stdout",
          "text": [
            "Его Слова \"его\", \"её\" (т.е. его и её) уже норма языка, или принимается уже в норму?\n"
          ]
        }
      ]
    },
    {
      "cell_type": "markdown",
      "source": [
        "### **<font color='navy'>Группы. match.expand()</font>**\n",
        "\n",
        "---"
      ],
      "metadata": {
        "id": "Le-EdkjZOvKJ"
      }
    },
    {
      "cell_type": "markdown",
      "source": [
        "**match.expand(template)**"
      ],
      "metadata": {
        "id": "_kA9_5h0O19p"
      }
    },
    {
      "cell_type": "markdown",
      "source": [
        "Метод работает почти как функция **re.sub()** с группами:"
      ],
      "metadata": {
        "id": "dlyyxXsnO-Ta"
      }
    },
    {
      "cell_type": "code",
      "source": [
        "match = re.search(r\"(\\d{4})\", \"Бойцовский клуб (1999)\")\n",
        "\n",
        "print(match.expand(r\"Год выпуска фильма: \\1\"))"
      ],
      "metadata": {
        "colab": {
          "base_uri": "https://localhost:8080/"
        },
        "id": "U3jSFMgxPCzx",
        "outputId": "1a692994-eb1d-4ba8-8696-0c0011c450cc"
      },
      "execution_count": null,
      "outputs": [
        {
          "output_type": "stream",
          "name": "stdout",
          "text": [
            "Год выпуска фильма: 1999\n"
          ]
        }
      ]
    },
    {
      "cell_type": "markdown",
      "source": [
        "**Зачем нужен match.expand()?**\n",
        "\n",
        "**match.expand()** генерирует строку, путём вставки в неё значений из найденных групп.\n",
        "\n",
        "**re.sub()** ищет совпадения в тексте, если совпадения найдены, то генерирует строку, путём вставки в неё значений из найденных групп, и заменяет совпадения на сгенерированные строки.\n",
        "\n",
        "С помощью **match.expand()** удобно генерировать строки с найденными данными."
      ],
      "metadata": {
        "id": "9AxFktsqPcbP"
      }
    },
    {
      "cell_type": "code",
      "source": [
        "###"
      ],
      "metadata": {
        "id": "rk3GH82zLs3a"
      },
      "execution_count": null,
      "outputs": []
    },
    {
      "cell_type": "code",
      "source": [
        "--47\n",
        "# text = input()\n",
        "\n",
        "text = \"\"\"\n",
        "Хочу купить себе какую-то ненужную вещь за 1000₽ или 5000₽, ведь вся моя жизнь построена на потреблении и удовлетворении своих никчёмных потребностей самым примитивным способом.\n",
        "\"\"\"\n",
        "\n",
        "pattern = r'([0-9]+[₽$])'\n",
        "\n",
        "result = re.search(pattern, text)\n",
        "\n",
        "if result:\n",
        "    print(result.expand(r\"Цена данного товара \\1\"))"
      ],
      "metadata": {
        "id": "jrh6IzNALs5_",
        "colab": {
          "base_uri": "https://localhost:8080/"
        },
        "outputId": "991d94ee-3263-47b8-d2b0-54cf93479295"
      },
      "execution_count": null,
      "outputs": [
        {
          "output_type": "stream",
          "name": "stdout",
          "text": [
            "Цена данного товара 1000₽\n"
          ]
        }
      ]
    },
    {
      "cell_type": "markdown",
      "source": [
        "### **<font color='navy'>Функции в re.sub() и re.subn()</font>**\n",
        "\n",
        "---"
      ],
      "metadata": {
        "id": "GsIAZoaNSs-7"
      }
    },
    {
      "cell_type": "markdown",
      "source": [
        "Вместо строки, на которую нужно заменить вхождение, в **re.sub()** и **re.subn()** можно передать функцию, которая будет генерировать ту самую строку.\n",
        "\n",
        "В функцию передаётся **Match объект**, и теперь мы можем получать доступ к группам, а также как-либо изменять и обрабатывать эти данные.\n",
        "\n",
        "Например, нам нужно найти все слова и заменить их на их же длину. Сделаем это с помощью функций."
      ],
      "metadata": {
        "id": "q9dMwOFzzmiD"
      }
    },
    {
      "cell_type": "code",
      "source": [
        "def func(m):\n",
        "    return str(len(m[0]))\n",
        "\n",
        "regex = r'[a-zA-Z]{1,}'\n",
        "text = 'Lorem Ipsum is simply dummy text of the printing and typesetting industry.'\n",
        "\n",
        "res_func = re.sub(regex, func, text)\n",
        "res_lambda = re.sub(regex, lambda m: str(len(m[0])), text)\n",
        "\n",
        "print(res_func)\n",
        "print(res_func == res_lambda)"
      ],
      "metadata": {
        "colab": {
          "base_uri": "https://localhost:8080/"
        },
        "id": "Gtr2Wq3u0EHn",
        "outputId": "63ce6554-cfdd-4710-fb0e-f5c807afab80"
      },
      "execution_count": null,
      "outputs": [
        {
          "output_type": "stream",
          "name": "stdout",
          "text": [
            "5 5 2 6 5 4 2 3 8 3 11 8.\n",
            "True\n"
          ]
        }
      ]
    },
    {
      "cell_type": "code",
      "source": [
        "###"
      ],
      "metadata": {
        "id": "5LsGRUimvupF"
      },
      "execution_count": null,
      "outputs": []
    },
    {
      "cell_type": "code",
      "source": [
        "--48\n",
        "# text = input()\n",
        "\n",
        "text = '2 в квадрате это 4'\n",
        "\n",
        "pattern = r'[0-9]+'\n",
        "\n",
        "def func(x):\n",
        "    return str(int(x.group(0)) ** 2)\n",
        "\n",
        "res_func = re.sub(pattern, func, text)\n",
        "res_lambda = re.sub(pattern, lambda x: str(int(x[0]) ** 2), text)\n",
        "\n",
        "print(res_func)\n",
        "print(res_lambda)\n",
        "print(res_func == res_lambda)"
      ],
      "metadata": {
        "id": "7eDLMLY8vur2",
        "colab": {
          "base_uri": "https://localhost:8080/"
        },
        "outputId": "6fc29514-aeec-4c48-c23b-7f0da84c8034"
      },
      "execution_count": null,
      "outputs": [
        {
          "output_type": "stream",
          "name": "stdout",
          "text": [
            "4 в квадрате это 16\n",
            "4 в квадрате это 16\n",
            "True\n"
          ]
        }
      ]
    },
    {
      "cell_type": "code",
      "source": [
        "###"
      ],
      "metadata": {
        "id": "MzTioppsvuvS"
      },
      "execution_count": null,
      "outputs": []
    },
    {
      "cell_type": "code",
      "source": [
        "--49\n",
        "# text = input()\n",
        "\n",
        "text = \"\"\"\n",
        "Акционер, акцентируя внимание на актуальность аналога данного продукта,\n",
        "прикупил несколько акций компании-производителя этого товара.\n",
        "\"\"\"\n",
        "\n",
        "pattern = r'(?i)\\bа[а-я]*\\b'\n",
        "\n",
        "def func(x):\n",
        "    return f'удалено({str(len(x[0]))})'\n",
        "\n",
        "res_func = re.sub(pattern, func, text)\n",
        "res_lambda = re.sub(pattern, lambda x: f'удалено({str(len(x[0]))})', text)\n",
        "\n",
        "print(res_func)\n",
        "print(res_lambda)"
      ],
      "metadata": {
        "id": "jgsIDgr9vuzB",
        "colab": {
          "base_uri": "https://localhost:8080/"
        },
        "outputId": "72f3eb85-e498-4281-8c18-54db1ca26fde"
      },
      "execution_count": null,
      "outputs": [
        {
          "output_type": "stream",
          "name": "stdout",
          "text": [
            "удалено(8), удалено(10) внимание на удалено(12) удалено(7) данного продукта, прикупил несколько удалено(5) компании-производителя этого товара.\n",
            "удалено(8), удалено(10) внимание на удалено(12) удалено(7) данного продукта, прикупил несколько удалено(5) компании-производителя этого товара.\n"
          ]
        }
      ]
    },
    {
      "cell_type": "code",
      "source": [
        "###"
      ],
      "metadata": {
        "id": "rEE57CJxvu2H"
      },
      "execution_count": null,
      "outputs": []
    },
    {
      "cell_type": "code",
      "source": [
        "--50\n",
        "# text = input()\n",
        "\n",
        "text = 'pm am pm rt yu'\n",
        "\n",
        "pattern = r'pm|am'\n",
        "\n",
        "def func(x):\n",
        "    if x[0] == 'pm':\n",
        "        return 'am'\n",
        "    else:\n",
        "        return 'pm'\n",
        "\n",
        "res_func = re.sub(pattern, func, text)\n",
        "\n",
        "print(res_func)"
      ],
      "metadata": {
        "id": "oUsyKFtNvu4_",
        "colab": {
          "base_uri": "https://localhost:8080/"
        },
        "outputId": "06db99c9-6af6-4528-d14f-ae272d5ce76e"
      },
      "execution_count": null,
      "outputs": [
        {
          "output_type": "stream",
          "name": "stdout",
          "text": [
            "am pm am rt yu\n"
          ]
        }
      ]
    },
    {
      "cell_type": "code",
      "source": [
        "###"
      ],
      "metadata": {
        "id": "nfvJ8-g8vu7v"
      },
      "execution_count": null,
      "outputs": []
    },
    {
      "cell_type": "code",
      "source": [
        "--51\n",
        "# text = input()\n",
        "\n",
        "text = '0 1 2 3 4 5 6 7 8 9 10 11 12'\n",
        "\n",
        "pattern = r'[0-9]+'\n",
        "\n",
        "def func(x):\n",
        "    if int(x[0]) % 3 == 0:\n",
        "        return str(int(x[0]) // 3)\n",
        "    else:\n",
        "        return x[0]\n",
        "\n",
        "res_func = re.sub(pattern, func, text)\n",
        "res_lambda = re.sub(\n",
        "    pattern,\n",
        "    lambda x: str(int(x[0]) // 3) if int(x[0]) % 3 == 0 else x[0],\n",
        "    text\n",
        ")\n",
        "\n",
        "print(res_func)\n",
        "print(res_lambda)"
      ],
      "metadata": {
        "id": "y_rXqfJ7vu-l",
        "colab": {
          "base_uri": "https://localhost:8080/"
        },
        "outputId": "350b8d9f-da7a-4ef1-f2e9-79dc987f17f9"
      },
      "execution_count": null,
      "outputs": [
        {
          "output_type": "stream",
          "name": "stdout",
          "text": [
            "0 1 2 1 4 5 2 7 8 3 10 11 4\n",
            "0 1 2 1 4 5 2 7 8 3 10 11 4\n"
          ]
        }
      ]
    },
    {
      "cell_type": "markdown",
      "source": [
        "## **<font color='crimson'>re.compile()</font>**\n",
        "\n",
        "---"
      ],
      "metadata": {
        "id": "-VQZLRdPCy-P"
      }
    },
    {
      "cell_type": "markdown",
      "source": [
        "**re.compile(pattern, flags=0)** - метод, который позволяет вручную компилировать регулярные выражения."
      ],
      "metadata": {
        "id": "HAqhkR6ZDC9T"
      }
    },
    {
      "cell_type": "markdown",
      "source": [
        "Параметры:\n",
        "\n",
        "* **pattern** - регулярное выражение\n",
        "\n",
        "* **flags** - флаги, пройдём позже\n",
        "\n",
        "Возвращаемое значение:\n",
        "\n",
        "* **Объект Pattern** - скомпилированное регулярное выражение"
      ],
      "metadata": {
        "id": "Zyp_I8MNDUcq"
      }
    },
    {
      "cell_type": "markdown",
      "source": [
        "Зачем нужен **re.compile()**?\n",
        "\n",
        "Каждый раз, когда вы используете регулярное выражение в каком-либо методе, оно автоматически компилируется. С помощью метода **re.compile()** можно вручную скомпилировать регулярное выражение, и уже использовать его по назначению.\n",
        "\n",
        "С помощью **re.compile()** можно:\n",
        "\n",
        "* уменьшить количество кода, если одно регулярное выражение используется несколько раз\n",
        "\n",
        "* увеличить производительность кода, если одно регулярное выражение используется несколько раз"
      ],
      "metadata": {
        "id": "8E-hw6HRDxD2"
      }
    },
    {
      "cell_type": "code",
      "source": [
        "# Регулярное выражение скомпилировано\n",
        "regex = re.compile(r'[a-zA-Z]{1,}')\n",
        "\n",
        "print(regex)\n",
        "\n",
        "# Теперь можно использовать методы:\n",
        "print(regex.findall('Some words.'))\n",
        "print(regex.sub('deleted', 'Some words again.'))"
      ],
      "metadata": {
        "colab": {
          "base_uri": "https://localhost:8080/"
        },
        "id": "j5XBhA5KECLi",
        "outputId": "68b97d2e-3707-4536-f122-1a676b89f10f"
      },
      "execution_count": null,
      "outputs": [
        {
          "output_type": "stream",
          "name": "stdout",
          "text": [
            "re.compile('[a-zA-Z]{1,}')\n",
            "['Some', 'words']\n",
            "deleted deleted deleted.\n"
          ]
        }
      ]
    },
    {
      "cell_type": "code",
      "source": [
        "###"
      ],
      "metadata": {
        "id": "iyIINR_tvvBp"
      },
      "execution_count": null,
      "outputs": []
    },
    {
      "cell_type": "code",
      "source": [
        "--52\n",
        "# text = input()\n",
        "\n",
        "text = \"\"\"\n",
        "Мак-адрес моего друга:F0:98:9D:1C:93:F6. Мой мак-адрес: 0F:70:DE:55:60:19.\n",
        "\"\"\"\n",
        "\n",
        "regex = re.compile(r'(?i)(([0-9a-f]{2}:)+[0-9a-f]{2})')\n",
        "regex = re.compile(r'(?i)[0-9a-f]{2}:[0-9a-f]{2}:[0-9a-f]{2}:[0-9a-f]{2}:[0-9a-f]{2}:[0-9a-f]{2}')\n",
        "regex = re.compile(r'(?i)(?:[0-9a-f]{2}:){5}[0-9a-f]{2}')\n",
        "\n",
        "\n",
        "result = regex.findall(text)\n",
        "\n",
        "# mac_address = [i[0] for i in result]\n",
        "\n",
        "# print(mac_address)\n",
        "print(result)"
      ],
      "metadata": {
        "id": "6zNz0_iGvvD3",
        "colab": {
          "base_uri": "https://localhost:8080/"
        },
        "outputId": "7806edfc-aa86-418a-d302-064f2a5a4ffc"
      },
      "execution_count": null,
      "outputs": [
        {
          "output_type": "stream",
          "name": "stdout",
          "text": [
            "['F0:98:9D:1C:93:F6', '0F:70:DE:55:60:19']\n"
          ]
        }
      ]
    },
    {
      "cell_type": "markdown",
      "source": [
        "## **<font color='crimson'>Объект Pattern</font>**\n",
        "\n",
        "---"
      ],
      "metadata": {
        "id": "GHFpvHNZMsHe"
      }
    },
    {
      "cell_type": "markdown",
      "source": [
        "После компиляции регулярного выражения, функция **re.compile()** возвращает объект **Pattern**.\n",
        "\n",
        "Именно через этот объект можно обратиться ко всем функция из модуля **re**, но они будут уже не функциями, а методами этого объекта."
      ],
      "metadata": {
        "id": "Su6Y1ubrMyV7"
      }
    },
    {
      "cell_type": "code",
      "source": [
        "pattern = re.compile(r'(?P<group1>[a-zA-Z]{1,})')\n",
        "\n",
        "print(pattern)"
      ],
      "metadata": {
        "colab": {
          "base_uri": "https://localhost:8080/"
        },
        "id": "GwKAdCsLM7Rq",
        "outputId": "69829119-7572-46ef-9ba0-85fcedfa2804"
      },
      "execution_count": null,
      "outputs": [
        {
          "output_type": "stream",
          "name": "stdout",
          "text": [
            "re.compile('(?P<group1>[a-zA-Z]{1,})')\n"
          ]
        }
      ]
    },
    {
      "cell_type": "markdown",
      "source": [
        "### **<font color='navy'>Атрибуты объекта Pattern()</font>**\n",
        "\n",
        "---"
      ],
      "metadata": {
        "id": "M8GX8r-7M6WT"
      }
    },
    {
      "cell_type": "markdown",
      "source": [
        "**pattern.flags**\n",
        "\n",
        "Каждый флаг - хранится как какое-либо число. **pattern.flags** возвращает сумму этих чисел:"
      ],
      "metadata": {
        "id": "o5pF0DcFNZeR"
      }
    },
    {
      "cell_type": "code",
      "source": [
        "print(pattern.flags)"
      ],
      "metadata": {
        "colab": {
          "base_uri": "https://localhost:8080/"
        },
        "id": "yZuABUCbNj92",
        "outputId": "2467e2b8-dc84-4312-c5ba-9f5d07601581"
      },
      "execution_count": null,
      "outputs": [
        {
          "output_type": "stream",
          "name": "stdout",
          "text": [
            "32\n"
          ]
        }
      ]
    },
    {
      "cell_type": "markdown",
      "source": [
        "**pattern.groups**\n",
        "\n",
        "Возвращает количество групп в регулярном выражении:"
      ],
      "metadata": {
        "id": "q5romhFkNqQ6"
      }
    },
    {
      "cell_type": "code",
      "source": [
        "print(pattern.groups) # 1"
      ],
      "metadata": {
        "colab": {
          "base_uri": "https://localhost:8080/"
        },
        "id": "QEMmdzODNz91",
        "outputId": "1e5df4b3-296f-4245-a548-e2388a410575"
      },
      "execution_count": null,
      "outputs": [
        {
          "output_type": "stream",
          "name": "stdout",
          "text": [
            "1\n"
          ]
        }
      ]
    },
    {
      "cell_type": "markdown",
      "source": [
        "**pattern.groupindex**\n",
        "\n",
        "Возвращает словарь, в котором ключи - именованные группы, а значения - номера этих групп:"
      ],
      "metadata": {
        "id": "h0EIramMN3Vl"
      }
    },
    {
      "cell_type": "code",
      "source": [
        "print(pattern.groupindex)"
      ],
      "metadata": {
        "colab": {
          "base_uri": "https://localhost:8080/"
        },
        "id": "uSVJJEqJOAlP",
        "outputId": "0f2615d4-7036-4d2f-b545-97dd8fcf537e"
      },
      "execution_count": null,
      "outputs": [
        {
          "output_type": "stream",
          "name": "stdout",
          "text": [
            "{'group1': 1}\n"
          ]
        }
      ]
    },
    {
      "cell_type": "markdown",
      "source": [
        "**pattern.pattern**\n",
        "\n",
        "Возвращает регулярное выражение:"
      ],
      "metadata": {
        "id": "xtLNh_WzOEwg"
      }
    },
    {
      "cell_type": "code",
      "source": [
        "print(pattern.pattern)"
      ],
      "metadata": {
        "colab": {
          "base_uri": "https://localhost:8080/"
        },
        "id": "z_jPd-2iOKEu",
        "outputId": "aef2bd80-1d11-4ca7-effc-8c7cbcab6a9e"
      },
      "execution_count": null,
      "outputs": [
        {
          "output_type": "stream",
          "name": "stdout",
          "text": [
            "(?P<group1>[a-zA-Z]{1,})\n"
          ]
        }
      ]
    },
    {
      "cell_type": "markdown",
      "source": [
        "### **<font color='navy'>Методы объекта Pattern()</font>**\n",
        "\n",
        "---"
      ],
      "metadata": {
        "id": "OMzk4s_NOPIu"
      }
    },
    {
      "cell_type": "markdown",
      "source": [
        "Благодаря объекту **Pattern** в методах **search()**, **match()**, **fullmatch()**, **finditer()**, **findall()** появляются дополнительные параметры:\n",
        "\n",
        "* **pos** - позволяет указывать индекс в строке, с которого надо начать искать совпадение\n",
        "\n",
        "* **endpos** - указывает, до какого индекса надо выполнять поиск"
      ],
      "metadata": {
        "id": "p08EcrPXOUV6"
      }
    },
    {
      "cell_type": "markdown",
      "source": [
        "Про аргументы **pos** и **endpos** также хотела добавить, что если мы указываем только одно значение, как указано в примере:\n",
        "\n",
        "**match1 = pattern.match(\"Some words.\", 4)**\n",
        "\n",
        "это значение, считается аргументом **pos**.\n",
        "\n",
        "Если хотим указать только аргумент **endpos**, то к нему можно обратиться по имени:\n",
        "\n",
        "**match2 = pattern.match(\"Some words.\", endpos=5)**  # Some"
      ],
      "metadata": {
        "id": "lZc0GNhEP3Mx"
      }
    },
    {
      "cell_type": "code",
      "source": [
        "pattern = re.compile(r'(?P<group1>[a-zA-Z]{1,})')\n",
        "\n",
        "match1 = pattern.match(\"Some words.\", 4)\n",
        "match2 = pattern.match(\"Some words.\", 5)\n",
        "# print(match1.group()) # None\n",
        "print(match2.group())"
      ],
      "metadata": {
        "colab": {
          "base_uri": "https://localhost:8080/"
        },
        "id": "FRJcT79lO4eV",
        "outputId": "dfbaa213-3734-4250-aa7b-2ead5a2d83c8"
      },
      "execution_count": null,
      "outputs": [
        {
          "output_type": "stream",
          "name": "stdout",
          "text": [
            "words\n"
          ]
        }
      ]
    },
    {
      "cell_type": "code",
      "source": [
        "###"
      ],
      "metadata": {
        "id": "iOHCnbQ8MOpV"
      },
      "execution_count": null,
      "outputs": []
    },
    {
      "cell_type": "code",
      "source": [
        "--53\n",
        "pattern = re.compile(r'\\b[a-z]+\\b')\n",
        "\n",
        "# text = input()\n",
        "# first_pos = int(input())\n",
        "# end_pos = int(input())\n",
        "\n",
        "text = \"\"\"\n",
        "soda senior tuition library task tone few torch vacuum\n",
        "\"\"\"\n",
        "first_pos = 2\n",
        "end_pos = 29\n",
        "\n",
        "result = pattern.search(text, first_pos, end_pos)\n",
        "\n",
        "if result:\n",
        "    print(result.group(0))"
      ],
      "metadata": {
        "id": "zlQQLRJbMOsm",
        "colab": {
          "base_uri": "https://localhost:8080/"
        },
        "outputId": "f8b027e2-fd0c-4539-81ea-61f2c452a1c0"
      },
      "execution_count": null,
      "outputs": [
        {
          "output_type": "stream",
          "name": "stdout",
          "text": [
            "senior\n"
          ]
        }
      ]
    },
    {
      "cell_type": "markdown",
      "source": [
        "## **<font color='crimson'>Флаги. Что такое и для чего нужны</font>**\n",
        "\n",
        "---"
      ],
      "metadata": {
        "id": "urfKzionSr5P"
      }
    },
    {
      "cell_type": "markdown",
      "source": [
        "Флаги нужны для изменения работы регулярных выражений. Всего существует 9 флагов, которые открывают нам доступ к новым свойствам регулярных выражений."
      ],
      "metadata": {
        "id": "bltRkyuHMkhz"
      }
    },
    {
      "cell_type": "markdown",
      "source": [
        "Как использовать флаги?\n",
        "\n",
        "Чтобы использовать флаги, достаточно их передать как именованный аргумент в нужный метод:"
      ],
      "metadata": {
        "id": "b-UbM8LmMumz"
      }
    },
    {
      "cell_type": "code",
      "source": [
        "# 1 флаг\n",
        "test1 = re.findall('123', '123', flags=re.MULTILINE)\n",
        "\n",
        "# 2 флага\n",
        "test2 = re.findall('123', '123', flags=re.MULTILINE + re.IGNORECASE)\n",
        "\n",
        "# 3 флага\n",
        "test3 = re.findall('123', '123', flags=re.MULTILINE + re.IGNORECASE + re.DOTALL)"
      ],
      "metadata": {
        "id": "-JEJzizRM42i"
      },
      "execution_count": 2,
      "outputs": []
    },
    {
      "cell_type": "markdown",
      "source": [
        "Если нужно использовать несколько флагов сразу - нужно сложить их вместе. Или написать между ними символ   **|**   :"
      ],
      "metadata": {
        "id": "Q_QAWwfe0g7A"
      }
    },
    {
      "cell_type": "code",
      "source": [
        "# 1 флаг\n",
        "test1 = re.findall('123', '123', flags=re.MULTILINE)\n",
        "\n",
        "# 2 флага\n",
        "test2 = re.findall('123', '123', flags=re.MULTILINE | re.IGNORECASE)\n",
        "\n",
        "# 3 флага\n",
        "test3 = re.findall('123', '123', flags=re.MULTILINE | re.IGNORECASE | re.DOTALL)"
      ],
      "metadata": {
        "id": "WIR4FPFnM5CQ"
      },
      "execution_count": 3,
      "outputs": []
    },
    {
      "cell_type": "markdown",
      "source": [
        "У флагов сущестуют сокращённые версии. Они позволяют сократить код в размере:"
      ],
      "metadata": {
        "id": "ygvgppjv1ILY"
      }
    },
    {
      "cell_type": "code",
      "source": [
        "# 1 флаг\n",
        "test1 = re.findall('123', '123', flags=re.M)\n",
        "\n",
        "# 2 флага\n",
        "test2 = re.findall('123', '123', flags=re.M + re.I)\n",
        "\n",
        "# 3 флага\n",
        "test3 = re.findall('123', '123', flags=re.M + re.I + re.S)"
      ],
      "metadata": {
        "id": "J-8eBVmaM5FT"
      },
      "execution_count": 4,
      "outputs": []
    },
    {
      "cell_type": "markdown",
      "source": [
        "**Встроенные флаги**\n",
        "\n",
        "Также флаги можно указать в самом регулярном выражении. Достаточно просто поставить встроенный флаг перед регулярным выражением **r\"(?i)I like flags\"**.\n",
        "\n",
        "Встроенные флаги нужно ставить в начало выражения.\n",
        "\n",
        "Если нужно использовать сразу несколько флагов - достаточно их перечислить: **r\"(?ims)I like flags\"**."
      ],
      "metadata": {
        "id": "vtkGl3kV13Fs"
      }
    },
    {
      "cell_type": "markdown",
      "source": [
        "**Локальные и глобальные флаги**"
      ],
      "metadata": {
        "id": "S4AtTG5W2gOU"
      }
    },
    {
      "cell_type": "markdown",
      "source": [
        "Все флаги которые были указаны выше - **глобальные**, т.е. они действуют на всё регулярное выражение целиком.\n",
        "\n",
        "Но что если нам нужно отключить флаг в какой-либо части выражения, или вообще использовать его только там?\n",
        "\n",
        "На помощь приходят **локальные** флаги. Пока они есть только в встроенном виде: **(?aiLmsux-imsx:regex)**\n",
        "\n",
        "Все флаги до **-** (до тире) используются вместе с **regex**, а флаги, стоящие после - (после тире) перестают работать с **regex**.\n",
        "\n",
        "Например, в следующем регулярном выражении:\n",
        "\n",
        "**regex = r\"(?i)(?ms-i:local) global\"**\n",
        "Используется глобальный флаг **i**, но он будет работать только при поиске текста **global**.\n",
        "\n",
        "А при поиске текста **local**, флаг **i** отключается, и вместо него используются флаги **m** и **s**."
      ],
      "metadata": {
        "id": "oA5_szxe2kfF"
      }
    },
    {
      "cell_type": "markdown",
      "source": [
        "### **<font color='navy'>Объект RegexFlag</font>**\n",
        "\n",
        "---"
      ],
      "metadata": {
        "id": "BCuSNwie3wuQ"
      }
    },
    {
      "cell_type": "markdown",
      "source": [
        "Из объекта Pattern флаги можно получить в числовом виде. Чтобы конвертировать их в привычный нам вид, достаточно провести следующие манипуляции:"
      ],
      "metadata": {
        "id": "C6FDeIWf39zI"
      }
    },
    {
      "cell_type": "code",
      "source": [
        "pattern = re.compile(r'[a-zA-Z]{1,}')\n",
        "print(pattern.flags) # 32\n",
        "print(re.RegexFlag(32)) # re.UNICODE"
      ],
      "metadata": {
        "colab": {
          "base_uri": "https://localhost:8080/"
        },
        "id": "x30AxoTJ2JTw",
        "outputId": "d2767109-1f7b-41fc-a466-59863a52a5d7"
      },
      "execution_count": 5,
      "outputs": [
        {
          "output_type": "stream",
          "name": "stdout",
          "text": [
            "32\n",
            "re.UNICODE\n"
          ]
        }
      ]
    },
    {
      "cell_type": "markdown",
      "source": [
        "U(по умолчанию) = 32, I = +2, M = +8, S = +16, X = +64, A = 256"
      ],
      "metadata": {
        "id": "JaF1nEQK4c0e"
      }
    },
    {
      "cell_type": "markdown",
      "source": [
        "### **<font color='navy'>re.IGNORECASE</font>**\n",
        "\n",
        "---"
      ],
      "metadata": {
        "id": "XdbJL4Qm4wXd"
      }
    },
    {
      "cell_type": "markdown",
      "source": [
        "**Зачем нужен:**\n",
        "\n",
        "При использовании флага регулярные выражения будут игнорировать регистр.\n",
        "\n",
        "**Полная версия:**\n",
        "\n",
        "re.IGNORECASE\n",
        "\n",
        "**Сокращённая версия:**\n",
        "\n",
        "re.I\n",
        "\n",
        "**Встроенный флаг:**\n",
        "\n",
        "(?i)\n",
        "\n",
        "**Числовое представление:**\n",
        "\n",
        "2\n",
        "\n",
        "**Примеры использования:**"
      ],
      "metadata": {
        "id": "_VPq2xiY41aL"
      }
    },
    {
      "cell_type": "code",
      "source": [
        "string = 'I like flags I LIKE FLAGS i like flags'\n",
        "\n",
        "test1 = re.findall(r'I like flags', string, flags=re.IGNORECASE)\n",
        "test2 = re.findall(r'I like flags', string, flags=re.I)\n",
        "test3 = re.findall(r'(?i)I like flags', string)\n",
        "\n",
        "print(test1)\n",
        "print(test1 == test2 and test2 == test3)"
      ],
      "metadata": {
        "colab": {
          "base_uri": "https://localhost:8080/"
        },
        "id": "a7HF2-5g2JZ0",
        "outputId": "28c782bf-5939-4c72-d1b7-9c4f32144928"
      },
      "execution_count": 6,
      "outputs": [
        {
          "output_type": "stream",
          "name": "stdout",
          "text": [
            "['I like flags', 'I LIKE FLAGS', 'i like flags']\n",
            "True\n"
          ]
        }
      ]
    },
    {
      "cell_type": "code",
      "source": [
        "###"
      ],
      "metadata": {
        "id": "KNjF2re-MOv2"
      },
      "execution_count": null,
      "outputs": []
    },
    {
      "cell_type": "code",
      "source": [
        "--54\n",
        "# text = input()\n",
        "\n",
        "text = 'LOST CXNTURY - CYBERSITY | scarlord - FALSE HOPE'\n",
        "\n",
        "def get_x(m):\n",
        "    return {'o': 'x', 'O':'X'}[m[0]]\n",
        "\n",
        "print(re.sub('(?i)o', get_x, text))"
      ],
      "metadata": {
        "id": "1_-KaWq4CWJs",
        "colab": {
          "base_uri": "https://localhost:8080/"
        },
        "outputId": "092a5f2d-3ad6-4cf5-a043-5ecc175c4cbd"
      },
      "execution_count": 14,
      "outputs": [
        {
          "output_type": "stream",
          "name": "stdout",
          "text": [
            "LXST CXNTURY - CYBERSITY | scarlxrd - FALSE HXPE\n"
          ]
        }
      ]
    },
    {
      "cell_type": "code",
      "source": [
        "###"
      ],
      "metadata": {
        "id": "LhPuV8R4CWM3"
      },
      "execution_count": null,
      "outputs": []
    },
    {
      "cell_type": "code",
      "source": [
        "--55\n",
        "# text = input()\n",
        "\n",
        "text = \"\"\"\n",
        "ПРИВЕТспампрИвЕТspamпРИвет123ПРИвЕт456ПРиВет789ПРиВет10пРиВЕТПокаПРиВеТHiпРИВетHelloПРиветTestприветStringПривЕт\n",
        "\"\"\"\n",
        "\n",
        "pattern = r'привет'\n",
        "\n",
        "result = re.findall(pattern, text, flags=re.I)\n",
        "\n",
        "print(result)"
      ],
      "metadata": {
        "id": "BNF4zaBbCWQS",
        "colab": {
          "base_uri": "https://localhost:8080/"
        },
        "outputId": "214c283c-adec-4497-b41e-5fcdbe6494c9"
      },
      "execution_count": 17,
      "outputs": [
        {
          "output_type": "stream",
          "name": "stdout",
          "text": [
            "['ПРИВЕТ', 'прИвЕТ', 'пРИвет', 'ПРИвЕт', 'ПРиВет', 'ПРиВет', 'пРиВЕТ', 'ПРиВеТ', 'пРИВет', 'ПРивет', 'привет', 'ПривЕт']\n"
          ]
        }
      ]
    },
    {
      "cell_type": "markdown",
      "source": [
        "### **<font color='navy'>re.MULTILINE</font>**\n",
        "\n",
        "---"
      ],
      "metadata": {
        "id": "iJRIuuKLArZf"
      }
    },
    {
      "cell_type": "markdown",
      "source": [
        "**Зачем нужен:**\n",
        "\n",
        "При использовании флага спецсимволы **^** и **$** будут совпадать не с началом и концом всего текста, а с началом и концом строк. Это было разобрано тут.\n",
        "\n",
        "**Полная версия:**\n",
        "\n",
        "re.MULTILINE\n",
        "\n",
        "**Сокращённая версия:**\n",
        "\n",
        "re.M\n",
        "\n",
        "**Встроенный флаг:**\n",
        "\n",
        "(?m)\n",
        "\n",
        "**Числовое представление:**\n",
        "\n",
        "8\n",
        "\n",
        "**Примеры использования:**"
      ],
      "metadata": {
        "id": "lC8F1KIfHD8N"
      }
    },
    {
      "cell_type": "code",
      "source": [
        "string = '''\n",
        "I like flags\n",
        "I like flags\n",
        "I like flags\n",
        "'''\n",
        "\n",
        "test1 = re.findall(r'^I like flags$', string, flags=re.MULTILINE)\n",
        "test2 = re.findall(r'^I like flags$', string, flags=re.M)\n",
        "test3 = re.findall(r'(?m)^I like flags$', string)\n",
        "\n",
        "print(test1)\n",
        "print(test1 == test2 and test2 == test3)"
      ],
      "metadata": {
        "colab": {
          "base_uri": "https://localhost:8080/"
        },
        "id": "2fezo88PHYme",
        "outputId": "a53acf82-1fe5-4631-efa3-60d2181d04da"
      },
      "execution_count": 18,
      "outputs": [
        {
          "output_type": "stream",
          "name": "stdout",
          "text": [
            "['I like flags', 'I like flags', 'I like flags']\n",
            "True\n"
          ]
        }
      ]
    },
    {
      "cell_type": "code",
      "source": [
        "###"
      ],
      "metadata": {
        "id": "EWtX2fIOCWTW"
      },
      "execution_count": null,
      "outputs": []
    },
    {
      "cell_type": "code",
      "source": [
        "--56\n",
        "import re, sys\n",
        "\n",
        "text = ''.join(sys.stdin.readlines())\n",
        "\n",
        "pattern = r'^[\\^\\$]+$'\n",
        "\n",
        "result = re.findall(pattern, text, flags=re.MULTILINE)\n",
        "\n",
        "print(result)"
      ],
      "metadata": {
        "id": "UqWwbHwBCWWs"
      },
      "execution_count": null,
      "outputs": []
    },
    {
      "cell_type": "markdown",
      "source": [
        "### **<font color='navy'>re.ASCII</font>**\n",
        "\n",
        "---"
      ],
      "metadata": {
        "id": "RwnSBahyLQzq"
      }
    },
    {
      "cell_type": "markdown",
      "source": [
        "**Зачем нужен:**\n",
        "\n",
        "Шаблоны **\\w**, **\\W**, **\\b**, **\\B**, **\\d**, **\\D**, **\\s** и **\\S** будут выполнять только **ASCII* соответствие, вместо соответствия по умолчанию - соответствия по **UNICODE**.\n",
        "\n",
        "**Полная версия:**\n",
        "\n",
        "re.ASCII\n",
        "\n",
        "**Сокращённая версия:**\n",
        "\n",
        "re.A\n",
        "\n",
        "**Встроенный флаг:**\n",
        "\n",
        "(?a)\n",
        "\n",
        "**Числовое представление:**\n",
        "\n",
        "256\n",
        "\n",
        "**Примеры использования:**\n",
        "\n",
        "В некоторых шаблонах, описанных выше, теперь будут искаться только латинские буквы или только арабские цифры. Можно использовать, чтобы отсечь ненужные языки и не писать длинные выражения в квадратных в скобках. Возможно поиск будет происходить чуть быстрее, т.к. будет обрезано большое количество символов."
      ],
      "metadata": {
        "id": "KnHKYab2LXDf"
      }
    },
    {
      "cell_type": "markdown",
      "source": [
        "**[a-zA-Z0-9]** == **(?a)\\w**"
      ],
      "metadata": {
        "id": "xfLIzkF4NZLL"
      }
    },
    {
      "cell_type": "markdown",
      "source": [
        "### **<font color='navy'>re.UNICODE</font>**\n",
        "\n",
        "---"
      ],
      "metadata": {
        "id": "p1w9MnnlM0pM"
      }
    },
    {
      "cell_type": "markdown",
      "source": [
        "**Зачем нужен:**\n",
        "\n",
        "Шаблоны **\\w**, **\\W**, **\\b**, **\\B**, **\\d**, **\\D**, **\\s** и **\\S** будут выполнять соответствие по **UNICODE**. Существует для обратной совместимости с **re.ASCII**, но он является излишеством, так как по умолчанию Python выполняет сопоставления в **UNICODE**.\n",
        "\n",
        "**Полная версия:**\n",
        "\n",
        "re.UNICODE\n",
        "\n",
        "**Сокращённая версия:**\n",
        "\n",
        "re.U\n",
        "\n",
        "**Встроенный флаг:**\n",
        "\n",
        "(?u)\n",
        "\n",
        "**Числовое представление:**\n",
        "\n",
        "32\n",
        "\n",
        "**Примеры использования:**\n",
        "\n",
        "Python по умолчанию выполняет сопоставления в UNICODE ¯\\_(ツ)_/¯"
      ],
      "metadata": {
        "id": "q1bhqX8ANsyP"
      }
    },
    {
      "cell_type": "markdown",
      "source": [
        "### **<font color='navy'>re.LOCALE</font>**\n",
        "\n",
        "---"
      ],
      "metadata": {
        "id": "lfaEw_zsOYO9"
      }
    },
    {
      "cell_type": "markdown",
      "source": [
        "**Зачем нужен:**\n",
        "\n",
        "Сопоставляет **\\w**, **\\W**, **\\b**, **\\B**  без учета регистра, зависимо от текущей локали. Использование этого флага не рекомендуется, так как механизм локализации очень ненадежен и он работает только с 8-битными локалями.\n",
        "\n",
        "**Полная версия:**\n",
        "\n",
        "re.LOCALE\n",
        "\n",
        "**Сокращённая версия:**\n",
        "\n",
        "re.L\n",
        "\n",
        "**Встроенный флаг:**\n",
        "\n",
        "(?L)\n",
        "\n",
        "**Числовое представление:**\n",
        "\n",
        "4\n",
        "\n",
        "**Примеры использования:**\n",
        "\n",
        "Не нашёл применения для этого флага ¯\\_(ツ)_/¯"
      ],
      "metadata": {
        "id": "lqDFsvDfO1uV"
      }
    },
    {
      "cell_type": "markdown",
      "source": [
        "### **<font color='navy'>re.DOTALL</font>**\n",
        "\n",
        "---"
      ],
      "metadata": {
        "id": "h5O-EC4AQZIi"
      }
    },
    {
      "cell_type": "markdown",
      "source": [
        "**Зачем нужен:**\n",
        "\n",
        "Точка ‎. теперь будет соответствовать любому символу. Если флаг не используется - точка соответствует любому символу, кроме символа новой строки.\n",
        "\n",
        "**Полная версия:**\n",
        "\n",
        "re.DOTALL\n",
        "\n",
        "**Сокращённая версия:**\n",
        "\n",
        "re.S\n",
        "\n",
        "**Встроенный флаг:**\n",
        "\n",
        "(?s)\n",
        "\n",
        "**Числовое представление:**\n",
        "16\n",
        "\n",
        "**Примеры использования:**"
      ],
      "metadata": {
        "id": "Vq4syQD3Q2ws"
      }
    },
    {
      "cell_type": "code",
      "source": [
        "string = '''\n",
        "I like flags\n",
        "I like flags\n",
        "I like flags\n",
        "'''\n",
        "\n",
        "test1 = re.findall(r'I like flags.', string, flags=re.DOTALL)\n",
        "test2 = re.findall(r'I like flags.', string, flags=re.S)\n",
        "test3 = re.findall(r'(?s)I like flags.', string)\n",
        "\n",
        "print(test1)\n",
        "print(test1 == test2 and test2 == test3)"
      ],
      "metadata": {
        "colab": {
          "base_uri": "https://localhost:8080/"
        },
        "id": "CdoQY2SRRViR",
        "outputId": "02e171e9-4c2b-436a-e393-48a2d4c1af62"
      },
      "execution_count": 19,
      "outputs": [
        {
          "output_type": "stream",
          "name": "stdout",
          "text": [
            "['I like flags\\n', 'I like flags\\n', 'I like flags\\n']\n",
            "True\n"
          ]
        }
      ]
    },
    {
      "cell_type": "code",
      "source": [
        "###"
      ],
      "metadata": {
        "id": "AGMaV08YCWaF"
      },
      "execution_count": null,
      "outputs": []
    },
    {
      "cell_type": "code",
      "source": [
        "--57\n",
        "import re, sys\n",
        "\n",
        "\n",
        "text = ''.join(sys.stdin.readlines())\n",
        "\n",
        "pattern = r'(?s)(?<=start).+(?=end)'\n",
        "\n",
        "result = re.findall(pattern, text)\n",
        "\n",
        "print(result)"
      ],
      "metadata": {
        "id": "tFDCXPMiCWdO"
      },
      "execution_count": null,
      "outputs": []
    },
    {
      "cell_type": "markdown",
      "source": [
        "### **<font color='navy'>re.VERBOSE</font>**\n",
        "\n",
        "---"
      ],
      "metadata": {
        "id": "fPluYxclU3KR"
      }
    },
    {
      "cell_type": "markdown",
      "source": [
        "**Зачем нужен:**\n",
        "\n",
        "Позволяет писать более читабельные регулярные выражения, отделять части регулярного выражения пробелами и переносами строк, а также писать комментарии после символа #.\n",
        "\n",
        "**Полная версия:**\n",
        "\n",
        "re.VERBOSE\n",
        "\n",
        "**Сокращённая версия:**\n",
        "\n",
        "re.X\n",
        "\n",
        "**Встроенный флаг:**\n",
        "\n",
        "(?x)\n",
        "\n",
        "**Числовое представление:**\n",
        "\n",
        "64\n",
        "\n",
        "**Примеры использования:**\n",
        "\n",
        "Можно писать такие регулярные выражения, и всё будет работать:"
      ],
      "metadata": {
        "id": "kjRKHozuU_AW"
      }
    },
    {
      "cell_type": "code",
      "source": [
        "test1 = re.findall(r\"\"\"[1-9] +  # Любая цифра, кроме 0\n",
        "                   .            # Любой символ, кроме новой строки\n",
        "                   \\d {2,}      # Любая цифра\"\"\", '4G22', flags=re.VERBOSE)\n",
        "\n",
        "test2 = re.findall(r\"\"\"[1-9] +\n",
        "                   .\n",
        "                   \\d {2,}\"\"\", '4G22', flags=re.VERBOSE)"
      ],
      "metadata": {
        "id": "tT1idoibVdZV"
      },
      "execution_count": 20,
      "outputs": []
    },
    {
      "cell_type": "code",
      "source": [
        "test1 = re.findall(r\"\"\"[1-9] +\n",
        "                   .\n",
        "                   \\d {2,}\"\"\", '4G22', flags=re.VERBOSE)\n",
        "\n",
        "test2 = re.findall(r\"\"\"[1-9] +\n",
        "                   .\n",
        "                   \\d {2,}\"\"\", '4G22', flags=re.X)\n",
        "\n",
        "test3 = re.findall(r\"\"\"(?x)\n",
        "                   [1-9] +\n",
        "                   .\n",
        "                   \\d {2,}\"\"\", '4G22')\n",
        "\n",
        "print(test3)  # ['4G22']\n",
        "print(test1 == test2 and test2 == test3)  # True"
      ],
      "metadata": {
        "colab": {
          "base_uri": "https://localhost:8080/"
        },
        "id": "dQ2QRmosV2_n",
        "outputId": "4934bf6b-c60e-4245-9eb5-e06b959ad58a"
      },
      "execution_count": 21,
      "outputs": [
        {
          "output_type": "stream",
          "name": "stdout",
          "text": [
            "['4G22']\n",
            "True\n"
          ]
        }
      ]
    },
    {
      "cell_type": "code",
      "source": [
        "###"
      ],
      "metadata": {
        "id": "2LBmGbPrCWg3"
      },
      "execution_count": null,
      "outputs": []
    },
    {
      "cell_type": "code",
      "source": [
        "--58\n",
        "pattern = re.compile(r\"\"\"\n",
        "(?:\n",
        "    (?:\\s*[+>~,]\\s*|\\s+)\n",
        "    |\n",
        "    [^:+>~,\\s\\\\[\\]]+(?:\\\\.[^:+>~,\\s\\\\[\\]]*)*\n",
        ")\n",
        "|\n",
        "\\[(?:\n",
        "    [^\\\\[\\]]*(?:\\\\.[^\\\\[\\]]*)*\n",
        "    |\n",
        "    [^=]+=~?\\s*\n",
        "    (?:\n",
        "        \"[^\\\\\"]*(?:\\\\.[^\"\\\\]*)*\"\n",
        "        |\n",
        "        '[^\\\\']*(?:\\\\.[^'\\\\]*)*'\n",
        "    )\n",
        ")\\]\n",
        "|\n",
        ":[^\\\\:([]+(?:\\\\.[^\\\\:([]*)*\n",
        "(?:\n",
        "    \\((?:\n",
        "        [^\\\\()]*(?:\\\\.[^\\\\()]*)*\n",
        "        |\n",
        "        \"[^\\\\\"]*(?:\\\\.[^\"\\\\]*)*\"\n",
        "        |\n",
        "        '[^\\\\']*(?:\\\\.[^'\\\\]*)*'\n",
        "    )\\)\n",
        ")?\n",
        "\"\"\", flags=re.VERBOSE)"
      ],
      "metadata": {
        "id": "-GH3m-mQCWk1"
      },
      "execution_count": 22,
      "outputs": []
    },
    {
      "cell_type": "code",
      "source": [
        "print(pattern)"
      ],
      "metadata": {
        "colab": {
          "base_uri": "https://localhost:8080/"
        },
        "id": "zC6eyNU2ZiYY",
        "outputId": "24fb9d72-0362-4325-ce13-9b2b3494997d"
      },
      "execution_count": 23,
      "outputs": [
        {
          "output_type": "stream",
          "name": "stdout",
          "text": [
            "re.compile('\\n(?:\\n    (?:\\\\s*[+>~,]\\\\s*|\\\\s+)\\n    |\\n    [^:+>~,\\\\s\\\\\\\\[\\\\]]+(?:\\\\\\\\.[^:+>~,\\\\s\\\\\\\\[\\\\]]*)*\\n)\\n|\\n\\\\[(?:\\n    [^\\\\\\\\[\\\\]]*(?:\\\\\\\\.[^\\\\\\\\[\\\\]]*)*\\n    |\\n    [^=]+=~?\\\\s*\\n    (?:\\n        \"[^\\, re.VERBOSE)\n"
          ]
        }
      ]
    },
    {
      "cell_type": "markdown",
      "source": [
        "### **<font color='navy'>re.DEBUG</font>**\n",
        "\n",
        "---"
      ],
      "metadata": {
        "id": "_0Q-53yaZvaf"
      }
    },
    {
      "cell_type": "markdown",
      "source": [
        "**Зачем нужен:**\n",
        "\n",
        "Показывает отладочную информацию о скомпилированном выражении. Используется только с **re.compile**.\n",
        "\n",
        "**Полная версия:**\n",
        "\n",
        "re.DEBUG\n",
        "\n",
        "**Сокращённая версия:**\n",
        "\n",
        "Нет\n",
        "\n",
        "**Встроенный флаг:**\n",
        "\n",
        "Нет\n",
        "\n",
        "**Числовое представление:**\n",
        "\n",
        "128\n",
        "\n",
        "**Примеры использования:**"
      ],
      "metadata": {
        "id": "d_R7u_qiZy5L"
      }
    },
    {
      "cell_type": "code",
      "source": [
        "###"
      ],
      "metadata": {
        "id": "N5mltQXgCW6C"
      },
      "execution_count": null,
      "outputs": []
    },
    {
      "cell_type": "code",
      "source": [
        "--59\n",
        "regex = re.compile(r'[123]', flags=re.DEBUG)"
      ],
      "metadata": {
        "id": "c91PgioDCW9S",
        "colab": {
          "base_uri": "https://localhost:8080/"
        },
        "outputId": "f3947248-beb3-436d-a6ef-348dfe44106c"
      },
      "execution_count": 25,
      "outputs": [
        {
          "output_type": "stream",
          "name": "stdout",
          "text": [
            "IN\n",
            "  LITERAL 49\n",
            "  LITERAL 50\n",
            "  LITERAL 51\n",
            "\n",
            " 0. INFO 8 0b100 1 1 (to 9)\n",
            "      in\n",
            " 5.     RANGE 0x31 0x33 ('1'-'3')\n",
            " 8.     FAILURE\n",
            " 9: IN 5 (to 15)\n",
            "11.   RANGE 0x31 0x33 ('1'-'3')\n",
            "14.   FAILURE\n",
            "15: SUCCESS\n"
          ]
        }
      ]
    },
    {
      "cell_type": "code",
      "source": [
        "###"
      ],
      "metadata": {
        "id": "Pk3m8HCLCjmy"
      },
      "execution_count": null,
      "outputs": []
    },
    {
      "cell_type": "markdown",
      "source": [
        "### **<font color='navy'>re.NOFLAG</font>**\n",
        "\n",
        "---"
      ],
      "metadata": {
        "id": "-or1My0fbSIQ"
      }
    },
    {
      "cell_type": "markdown",
      "source": [
        "**Зачем нужен:**\n",
        "\n",
        "Указывает, что в функции/методе не применяется флаг.\n",
        "\n",
        "**Полная версия:**\n",
        "\n",
        "re.NOFLAG\n",
        "\n",
        "**Сокращённая версия:**\n",
        "\n",
        "Нет\n",
        "\n",
        "**Встроенный флаг:**\n",
        "\n",
        "Нет\n",
        "\n",
        "**Числовое представление:**\n",
        "\n",
        "0\n",
        "\n",
        "**Примеры использования:**\n",
        "\n",
        "Можно использовать как значение по умолчанию для своих функций:"
      ],
      "metadata": {
        "id": "DPblRUTLbXcb"
      }
    },
    {
      "cell_type": "code",
      "source": [
        "def myfunc(text, flags=re.NOFLAG):\n",
        "    return re.match(text, flags)"
      ],
      "metadata": {
        "id": "Kn7bvg8kbZ5f"
      },
      "execution_count": null,
      "outputs": []
    }
  ]
}