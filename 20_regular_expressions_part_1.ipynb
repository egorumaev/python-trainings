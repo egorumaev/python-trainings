{
  "nbformat": 4,
  "nbformat_minor": 0,
  "metadata": {
    "colab": {
      "provenance": []
    },
    "kernelspec": {
      "name": "python3",
      "display_name": "Python 3"
    },
    "language_info": {
      "name": "python"
    }
  },
  "cells": [
    {
      "cell_type": "markdown",
      "source": [
        "# **<font color='crimson'>PYTHON. Regular Expressions</font>**\n",
        "\n",
        "---"
      ],
      "metadata": {
        "id": "CjT5w9s6YcKa"
      }
    },
    {
      "cell_type": "markdown",
      "source": [
        "### **<font color='navy'>Экранирование</font>**\n",
        "\n",
        "---"
      ],
      "metadata": {
        "id": "MkABufRk1RlH"
      }
    },
    {
      "cell_type": "code",
      "execution_count": null,
      "metadata": {
        "id": "CoEAJXqDYV9Z"
      },
      "outputs": [],
      "source": [
        "###"
      ]
    },
    {
      "cell_type": "code",
      "source": [
        "--1\n",
        "a, b = [int(input()) for _ in range(2)]\n",
        "\n",
        "print(fr'{a}\\n + \\n{b}\\n = \\n{a + b}')\n",
        "print(f'{a}\\\\n + \\\\n{b}\\\\n = \\\\n{a + b}')"
      ],
      "metadata": {
        "id": "dL7LH9xGYbjq"
      },
      "execution_count": null,
      "outputs": []
    },
    {
      "cell_type": "markdown",
      "source": [
        "### **<font color='navy'>Шаблоны для поиска и проверки</font>**\n",
        "\n",
        "---"
      ],
      "metadata": {
        "id": "JWPtRtrO2GNT"
      }
    },
    {
      "cell_type": "code",
      "source": [
        "###"
      ],
      "metadata": {
        "id": "QET62ZQZYbwU"
      },
      "execution_count": null,
      "outputs": []
    },
    {
      "cell_type": "code",
      "source": [
        "--2\n",
        "regex = r' [a-zA-Zа-яА-ЯёЁ]{3} '\n",
        "regex = r'\\s[a-zA-Zа-яА-ЯёЁ]{3}\\s'"
      ],
      "metadata": {
        "id": "HC8BdWVKYbzq"
      },
      "execution_count": null,
      "outputs": []
    },
    {
      "cell_type": "code",
      "source": [
        "###"
      ],
      "metadata": {
        "id": "YeB8zIlhYb2w"
      },
      "execution_count": null,
      "outputs": []
    },
    {
      "cell_type": "code",
      "source": [
        "--3\n",
        "regex = r'\\b[a-zA-Zа-яА-ЯёЁ]{3}\\b'"
      ],
      "metadata": {
        "id": "ymfpqAcTYb58"
      },
      "execution_count": null,
      "outputs": []
    },
    {
      "cell_type": "code",
      "source": [
        "###"
      ],
      "metadata": {
        "id": "WGz6Ob9YYb9H"
      },
      "execution_count": null,
      "outputs": []
    },
    {
      "cell_type": "code",
      "source": [
        "--4\n",
        "regex = r'^[a-zA-Zа-яА-ЯёЁ]{4}\\b'"
      ],
      "metadata": {
        "id": "rGkEmH5mYcAk"
      },
      "execution_count": null,
      "outputs": []
    },
    {
      "cell_type": "code",
      "source": [
        "###"
      ],
      "metadata": {
        "id": "uAScR1WHYcD5"
      },
      "execution_count": null,
      "outputs": []
    },
    {
      "cell_type": "code",
      "source": [
        "--5\n",
        "regex = r'[.]{3}'\n",
        "regex = r'\\.{3}'\n",
        "regex = r'\\.\\.\\.'"
      ],
      "metadata": {
        "id": "FntudgP5YcHA"
      },
      "execution_count": null,
      "outputs": []
    },
    {
      "cell_type": "markdown",
      "source": [
        "### **<font color='navy'>Жадные квантификаторы</font>**\n",
        "\n",
        "---"
      ],
      "metadata": {
        "id": "8bqC2Xge2WvH"
      }
    },
    {
      "cell_type": "code",
      "execution_count": null,
      "metadata": {
        "id": "_rbe8PUdYj33"
      },
      "outputs": [],
      "source": [
        "###"
      ]
    },
    {
      "cell_type": "code",
      "source": [
        "--6\n",
        "regex = r'use strict;?'"
      ],
      "metadata": {
        "id": "9GQe84SnYj34"
      },
      "execution_count": null,
      "outputs": []
    },
    {
      "cell_type": "code",
      "source": [
        "###"
      ],
      "metadata": {
        "id": "ITPNY4zBYj35"
      },
      "execution_count": null,
      "outputs": []
    },
    {
      "cell_type": "code",
      "source": [
        "--7\n",
        "regex = r'[A-ZА-ЯЁ]{2,}'"
      ],
      "metadata": {
        "id": "g8BJQ4BtYj35"
      },
      "execution_count": null,
      "outputs": []
    },
    {
      "cell_type": "code",
      "source": [
        "###"
      ],
      "metadata": {
        "id": "mgFG8OxJYj37"
      },
      "execution_count": null,
      "outputs": []
    },
    {
      "cell_type": "code",
      "source": [
        "--8\n",
        "regex = r'\\b[авекмнорстух][0-9]{3}[авекмнорстух]{2}[0-9]{2,3}\\b'"
      ],
      "metadata": {
        "id": "SHszfeNEYj37"
      },
      "execution_count": null,
      "outputs": []
    },
    {
      "cell_type": "code",
      "source": [
        "###"
      ],
      "metadata": {
        "id": "KvRH-_dCYj38"
      },
      "execution_count": null,
      "outputs": []
    },
    {
      "cell_type": "code",
      "source": [
        "--9\n",
        "regex = r'\\b[0-9]{15}\\b'"
      ],
      "metadata": {
        "id": "Aj95I3ljAhAh"
      },
      "execution_count": null,
      "outputs": []
    },
    {
      "cell_type": "code",
      "execution_count": null,
      "metadata": {
        "id": "VxwzNTVYYkGF"
      },
      "outputs": [],
      "source": [
        "###"
      ]
    },
    {
      "cell_type": "code",
      "source": [
        "--10\n",
        "regex = r'\\b[-]?\\d{1,3}\\.{1}\\d+ [-]?\\d{1,3}\\.{1}\\d+\\b'\n",
        "regex = r'\\b[-]?[0-9]{1,3}[\\.][0-9]+[ ][-]?[0-9]{1,3}[\\.][0-9]+'"
      ],
      "metadata": {
        "id": "taCAZApGYkGF"
      },
      "execution_count": null,
      "outputs": []
    },
    {
      "cell_type": "code",
      "source": [
        "###"
      ],
      "metadata": {
        "id": "Mp9AlNSMYkGF"
      },
      "execution_count": null,
      "outputs": []
    },
    {
      "cell_type": "code",
      "source": [
        "--11\n",
        "regex = r'0x[0-9a-fA-F]{40}'"
      ],
      "metadata": {
        "id": "BzMGd9aEYkGF"
      },
      "execution_count": null,
      "outputs": []
    },
    {
      "cell_type": "code",
      "source": [
        "###"
      ],
      "metadata": {
        "id": "HzHKJKPkYkGF"
      },
      "execution_count": null,
      "outputs": []
    },
    {
      "cell_type": "code",
      "source": [
        "--12\n",
        "regex = r'\\bhttp[s]?\\b'"
      ],
      "metadata": {
        "id": "7-UONghTYkGF"
      },
      "execution_count": null,
      "outputs": []
    },
    {
      "cell_type": "code",
      "source": [
        "###"
      ],
      "metadata": {
        "id": "VUlBI8hVYkGG"
      },
      "execution_count": null,
      "outputs": []
    },
    {
      "cell_type": "code",
      "source": [
        "--13\n",
        "regex = r'[IVXLCDM]+'"
      ],
      "metadata": {
        "id": "ShgrBwT2YkGG"
      },
      "execution_count": null,
      "outputs": []
    },
    {
      "cell_type": "code",
      "source": [
        "###"
      ],
      "metadata": {
        "id": "Qy3hGaWeYkGG"
      },
      "execution_count": null,
      "outputs": []
    },
    {
      "cell_type": "code",
      "source": [
        "--14\n",
        "regex = r'[:8;¦=][\\^-]?[|\\\\0()/PODIC]'"
      ],
      "metadata": {
        "id": "glQPUg5FYkGG"
      },
      "execution_count": null,
      "outputs": []
    },
    {
      "cell_type": "markdown",
      "source": [
        "### **<font color='navy'>Ленивые квантификаторы</font>**\n",
        "\n",
        "---"
      ],
      "metadata": {
        "id": "TtwHjkLG2v6w"
      }
    },
    {
      "cell_type": "code",
      "execution_count": null,
      "metadata": {
        "id": "8ul9uboYYkS5"
      },
      "outputs": [],
      "source": [
        "###"
      ]
    },
    {
      "cell_type": "code",
      "source": [
        "--15\n",
        "regex = r'[02-9]*?1'"
      ],
      "metadata": {
        "id": "nZMvz5YvYkS6"
      },
      "execution_count": null,
      "outputs": []
    },
    {
      "cell_type": "code",
      "source": [
        "###"
      ],
      "metadata": {
        "id": "yOOUrKH9YkS6"
      },
      "execution_count": null,
      "outputs": []
    },
    {
      "cell_type": "code",
      "source": [
        "--16\n",
        "regex = r'[0-9]*?[02468]'"
      ],
      "metadata": {
        "id": "qQqb_DZTYkS7"
      },
      "execution_count": null,
      "outputs": []
    },
    {
      "cell_type": "code",
      "source": [
        "###"
      ],
      "metadata": {
        "id": "j6Gtn9sNYkS7"
      },
      "execution_count": null,
      "outputs": []
    },
    {
      "cell_type": "code",
      "source": [
        "--17\n",
        "regex = r'\\[.*?\\]'"
      ],
      "metadata": {
        "id": "UtGiFwHMYkS7"
      },
      "execution_count": null,
      "outputs": []
    },
    {
      "cell_type": "code",
      "source": [
        "###"
      ],
      "metadata": {
        "id": "bJKWSHfgYkS8"
      },
      "execution_count": null,
      "outputs": []
    },
    {
      "cell_type": "code",
      "source": [
        "--18\n",
        "regex = r'[a-zA-Zа-яА-ЯёЁ][^a-zA-Zа-яА-ЯёЁ]*?[a-zA-Zа-яА-ЯёЁ]'\n",
        "regex = r'[a-zA-Zа-яА-ЯёЁ].*?[a-zA-Zа-яА-ЯёЁ]'"
      ],
      "metadata": {
        "id": "bCVbtJqeYkS_"
      },
      "execution_count": null,
      "outputs": []
    },
    {
      "cell_type": "code",
      "source": [
        "###"
      ],
      "metadata": {
        "id": "KNtah0D5Ykg2"
      },
      "execution_count": null,
      "outputs": []
    },
    {
      "cell_type": "code",
      "source": [
        "--19\n",
        "regex = r'\\\".+?\\\"'"
      ],
      "metadata": {
        "id": "IbVw-CWVxOuy"
      },
      "execution_count": null,
      "outputs": []
    },
    {
      "cell_type": "code",
      "source": [
        "###"
      ],
      "metadata": {
        "id": "GWui7EJYxOyo"
      },
      "execution_count": null,
      "outputs": []
    },
    {
      "cell_type": "code",
      "source": [
        "--20\n",
        "regex = r'<img.*?>'"
      ],
      "metadata": {
        "id": "vQbCCQHTxO29"
      },
      "execution_count": null,
      "outputs": []
    },
    {
      "cell_type": "markdown",
      "source": [
        "### **<font color='navy'>Группирующие скобки</font>**\n",
        "\n",
        "---"
      ],
      "metadata": {
        "id": "fS6G1tOs2_YB"
      }
    },
    {
      "cell_type": "code",
      "source": [
        "###"
      ],
      "metadata": {
        "id": "wq6Bz-_DxO66"
      },
      "execution_count": null,
      "outputs": []
    },
    {
      "cell_type": "code",
      "source": [
        "--21\n",
        "regex = r'(?P<reg_ex>[0-9]{3})(?P=reg_ex)'\n",
        "regex = r'(?P<digits>\\d{3})(?P=digits)'"
      ],
      "metadata": {
        "id": "xGK170kjxO-U"
      },
      "execution_count": null,
      "outputs": []
    },
    {
      "cell_type": "code",
      "source": [
        "###"
      ],
      "metadata": {
        "id": "4RkxTCLdxPB7"
      },
      "execution_count": null,
      "outputs": []
    },
    {
      "cell_type": "code",
      "source": [
        "--22\n",
        "regex = r'(?P<reg_ex>\\b[а-яё]+?)-?(?P=reg_ex)\\b'\n",
        "regex = r'\\b(?P<words>[а-яё]+)[-]?(?P=words)\\b'"
      ],
      "metadata": {
        "id": "fbiKpkypxPFt"
      },
      "execution_count": null,
      "outputs": []
    },
    {
      "cell_type": "code",
      "source": [
        "###"
      ],
      "metadata": {
        "id": "-67IQabBxPJf"
      },
      "execution_count": null,
      "outputs": []
    },
    {
      "cell_type": "code",
      "source": [
        "--23\n",
        "regex = r'([а-яА-ЯёЁa-zA-Z])\\1'"
      ],
      "metadata": {
        "id": "qpqJDx_-xPNL"
      },
      "execution_count": null,
      "outputs": []
    },
    {
      "cell_type": "code",
      "source": [
        "###"
      ],
      "metadata": {
        "id": "Q4j0_TxRxPQ2"
      },
      "execution_count": null,
      "outputs": []
    },
    {
      "cell_type": "code",
      "source": [
        "--24\n",
        "regex = r'([0-9]{2})\\1'"
      ],
      "metadata": {
        "id": "m_n4nRlexPUP"
      },
      "execution_count": null,
      "outputs": []
    },
    {
      "cell_type": "code",
      "source": [
        "###"
      ],
      "metadata": {
        "id": "3Cb6ZRYixPX1"
      },
      "execution_count": null,
      "outputs": []
    },
    {
      "cell_type": "code",
      "source": [
        "--25\n",
        "regex = r'^(\\<)?if(?(1)>|)$'\n",
        "regex = r'(^if$)|(^<if>$)'"
      ],
      "metadata": {
        "id": "0qlg3QZmxPbe"
      },
      "execution_count": null,
      "outputs": []
    },
    {
      "cell_type": "markdown",
      "source": [
        "### **<font color='navy'>Скобочные выражения</font>**\n",
        "\n",
        "---"
      ],
      "metadata": {
        "id": "UKuCK-Tx_71E"
      }
    },
    {
      "cell_type": "code",
      "source": [
        "###"
      ],
      "metadata": {
        "id": "ZtN57rcdxPe5"
      },
      "execution_count": null,
      "outputs": []
    },
    {
      "cell_type": "code",
      "source": [
        "--26\n",
        "regex = r'(?<=\\[\\^START\\]).*(?=\\{\\(END\\.\\)\\})'"
      ],
      "metadata": {
        "id": "y7XaOliZxPip"
      },
      "execution_count": null,
      "outputs": []
    },
    {
      "cell_type": "code",
      "source": [
        "###"
      ],
      "metadata": {
        "id": "wRmx0dPlxPmW"
      },
      "execution_count": null,
      "outputs": []
    },
    {
      "cell_type": "code",
      "source": [
        "--27\n",
        "regex = r'(?<![/])/(?![/])'\n",
        "regex = r'(?<!\\/)/(?!\\/)'"
      ],
      "metadata": {
        "id": "QFv14Xb8xPp9"
      },
      "execution_count": null,
      "outputs": []
    },
    {
      "cell_type": "code",
      "source": [
        "###"
      ],
      "metadata": {
        "id": "fjzr9xnVxPuG"
      },
      "execution_count": null,
      "outputs": []
    },
    {
      "cell_type": "code",
      "source": [
        "--28\n",
        "regex = r'(?<!x)(?:xx)*(?!x)'\n",
        "regex = r'\\b(?:xx)+\\b'\n",
        "regex = r'(?<!x)(xx)*(?!x)'"
      ],
      "metadata": {
        "id": "bdkZK7OuxPyA"
      },
      "execution_count": null,
      "outputs": []
    },
    {
      "cell_type": "code",
      "source": [
        "###"
      ],
      "metadata": {
        "id": "8phLsIZ9xP2A"
      },
      "execution_count": null,
      "outputs": []
    },
    {
      "cell_type": "code",
      "source": [
        "--29\n",
        "regex = r'(?<![\\.\\!\\?][\\s])(?<=\\s)[А-ЯЁ][а-яё]+'\n",
        "regex = '(?<!^)(?<!(\\. ))(?<!(! ))(?<!(\\? ))([А-ЯЁ][а-яё]+)'"
      ],
      "metadata": {
        "id": "nq7tJ73MxP6V"
      },
      "execution_count": null,
      "outputs": []
    },
    {
      "cell_type": "code",
      "source": [
        "###"
      ],
      "metadata": {
        "id": "jeptAl0ExQaA"
      },
      "execution_count": null,
      "outputs": []
    },
    {
      "cell_type": "code",
      "source": [
        "--30\n",
        "regex = r'\\b(?<![\\-])[0-9]+\\b'\n",
        "regex = '(?<!-)\\b[0-9]+\\b'"
      ],
      "metadata": {
        "id": "KOZ_S1Mo3nYx"
      },
      "execution_count": null,
      "outputs": []
    },
    {
      "cell_type": "markdown",
      "source": [
        "### **<font color='navy'>Операция «или»</font>**\n",
        "\n",
        "---"
      ],
      "metadata": {
        "id": "NQurVCNbQcCg"
      }
    },
    {
      "cell_type": "code",
      "source": [
        "###"
      ],
      "metadata": {
        "id": "gx80lzgk3nb4"
      },
      "execution_count": null,
      "outputs": []
    },
    {
      "cell_type": "code",
      "source": [
        "--31\n",
        "regex = r'C\\+\\+|JavaScript|Python'\n",
        "regex = '(?:JavaScript|C\\+\\+|Python)'"
      ],
      "metadata": {
        "id": "wIK7SnjRKc2o"
      },
      "execution_count": null,
      "outputs": []
    },
    {
      "cell_type": "code",
      "source": [
        "###"
      ],
      "metadata": {
        "id": "SpSeXAcqKc6C"
      },
      "execution_count": null,
      "outputs": []
    },
    {
      "cell_type": "code",
      "source": [
        "--32\n",
        "regex = r'\\b(?:[Дд]а|[Нн]ет|[Нн]аверное)\\b'\n",
        "regex = r'\\b(?i:да|[н](ет|аверное))\\b'"
      ],
      "metadata": {
        "id": "NjZsdJ-tKc9b"
      },
      "execution_count": null,
      "outputs": []
    },
    {
      "cell_type": "code",
      "source": [
        "###"
      ],
      "metadata": {
        "id": "jTgJzuDqKdAo"
      },
      "execution_count": null,
      "outputs": []
    },
    {
      "cell_type": "code",
      "source": [
        "--33\n",
        "regex = r'\\b(?:1|3|bc1)[1-9a-km-zA-HJ-NP-Z]{27,34}\\b'"
      ],
      "metadata": {
        "id": "0QuD8F0IKdD-"
      },
      "execution_count": null,
      "outputs": []
    },
    {
      "cell_type": "code",
      "source": [
        "###"
      ],
      "metadata": {
        "id": "uxFsURCxKdHS"
      },
      "execution_count": null,
      "outputs": []
    },
    {
      "cell_type": "code",
      "source": [
        "--34\n",
        "regex = r'(?:Привет, |Пока, )(?:Олег|Григорий)'\n",
        "regex = r'(?:(Привет, |Пока, )(Олег|Григорий))'"
      ],
      "metadata": {
        "id": "5gDssCVLKdKm"
      },
      "execution_count": null,
      "outputs": []
    },
    {
      "cell_type": "code",
      "source": [
        "###"
      ],
      "metadata": {
        "id": "ygh4XMavKdRx"
      },
      "execution_count": null,
      "outputs": []
    },
    {
      "cell_type": "code",
      "source": [
        "--35\n",
        "regex = r'((?:я|ты|он) готов\\b)|((?:я|ты|она) готова\\b)|((?:мы|вы|они) готовы\\b)'\n",
        "regex = r'\\b(?:((я|ты|она) готова)|((я|ты|он) готов)|((мы|вы|они) готовы))\\b'"
      ],
      "metadata": {
        "id": "NzfVtqj8KdV0"
      },
      "execution_count": null,
      "outputs": []
    },
    {
      "cell_type": "code",
      "source": [
        "###"
      ],
      "metadata": {
        "id": "GG51jZXkKdZk"
      },
      "execution_count": null,
      "outputs": []
    },
    {
      "cell_type": "code",
      "source": [
        "--36\n",
        "regex = r'(?:(?<=№\\s)|(?<=Номер\\s)|(?<=Number\\s))\\b\\d{3}\\b'\n",
        "regex = r'(?:(?<=№ )|(?<=Номер )|(?<=Number ))[0-9]{3}'"
      ],
      "metadata": {
        "id": "d_GZaDiWKdc_"
      },
      "execution_count": null,
      "outputs": []
    },
    {
      "cell_type": "markdown",
      "source": [
        "### **<font color='navy'>Практика</font>**\n",
        "\n",
        "---"
      ],
      "metadata": {
        "id": "FJTtaEfzLijE"
      }
    },
    {
      "cell_type": "code",
      "source": [
        "###"
      ],
      "metadata": {
        "id": "a2-mXvZfLAHv"
      },
      "execution_count": null,
      "outputs": []
    },
    {
      "cell_type": "code",
      "source": [
        "--37\n",
        "regex = r'RegEx are your way out!'"
      ],
      "metadata": {
        "id": "VluS3_IOLAK8"
      },
      "execution_count": null,
      "outputs": []
    },
    {
      "cell_type": "code",
      "source": [
        "###"
      ],
      "metadata": {
        "id": "-TptYr9RLAOW"
      },
      "execution_count": null,
      "outputs": []
    },
    {
      "cell_type": "code",
      "source": [
        "--38\n",
        "regex = r'\\b[Тт][ы]\\b'\n",
        "regex = r'\\b(Т|т)ы\\b'"
      ],
      "metadata": {
        "id": "yRmxiW5SLARa"
      },
      "execution_count": null,
      "outputs": []
    },
    {
      "cell_type": "code",
      "source": [
        "###"
      ],
      "metadata": {
        "id": "gpPw_MWvLAUm"
      },
      "execution_count": null,
      "outputs": []
    },
    {
      "cell_type": "code",
      "source": [
        "--39\n",
        "regex = r'\\B#[0-9A-Fa-f]{6}\\b'"
      ],
      "metadata": {
        "id": "RDlF8opkLAXk"
      },
      "execution_count": null,
      "outputs": []
    },
    {
      "cell_type": "code",
      "source": [
        "###"
      ],
      "metadata": {
        "id": "ylhUVWP6LFwQ"
      },
      "execution_count": null,
      "outputs": []
    },
    {
      "cell_type": "code",
      "source": [
        "--40\n",
        "regex = r'((?<!\\d|\\.)[10](?!\\.|\\d)|\\b[0][.][0-9]{,2}(?!\\d|\\.))'\n",
        "regex = r'(?<!\\-)(\\b(0|1)(?!\\.)\\b)|(\\b0\\.[0-9]{1,2}(?![0-9]))'"
      ],
      "metadata": {
        "id": "dMycy5FmLFzx"
      },
      "execution_count": null,
      "outputs": []
    },
    {
      "cell_type": "code",
      "source": [
        "###"
      ],
      "metadata": {
        "id": "o6f7K_rbLF2n"
      },
      "execution_count": null,
      "outputs": []
    },
    {
      "cell_type": "code",
      "source": [
        "--41\n",
        "regex = r'\\b[б-яБ-ЯёЁ]*[а][а-яА-ЯёЁ]*\\b'"
      ],
      "metadata": {
        "id": "gwTL8r41LF5f"
      },
      "execution_count": null,
      "outputs": []
    },
    {
      "cell_type": "code",
      "source": [
        "###"
      ],
      "metadata": {
        "id": "UVAVFvQhLF8Y"
      },
      "execution_count": null,
      "outputs": []
    },
    {
      "cell_type": "code",
      "source": [
        "--42\n",
        "regex = r'\\b[а-яА-ЯёЁ]+(?=[.,:?!;])'"
      ],
      "metadata": {
        "id": "0-NxUVfNLF_c"
      },
      "execution_count": null,
      "outputs": []
    },
    {
      "cell_type": "code",
      "source": [
        "###"
      ],
      "metadata": {
        "id": "Uoe1VODrLshP"
      },
      "execution_count": null,
      "outputs": []
    },
    {
      "cell_type": "code",
      "source": [
        "--43\n",
        "regex = r'(\\b[\\w\\d]*[^\\sа-яА-ЯЁё][а-яА-ЯЁё][\\w\\d]*(?!\\,)\\b)|(\\b[\\w\\d]*[а-яА-ЯЁё][^\\sа-яА-ЯЁё][\\w\\d]*(?!\\,)\\b)|(Бpо)|(\\$cаm)'"
      ],
      "metadata": {
        "id": "9d2297q7LskM"
      },
      "execution_count": null,
      "outputs": []
    },
    {
      "cell_type": "code",
      "source": [
        "###"
      ],
      "metadata": {
        "id": "d6wnQF3bLsm2"
      },
      "execution_count": null,
      "outputs": []
    },
    {
      "cell_type": "code",
      "source": [
        "--44\n",
        "regex = r'(?:(?<!\\s))^[а-яА-Я-]+\\b'\n",
        "regex = r'^[а-яА-ЯёЁ-]+\\b'"
      ],
      "metadata": {
        "id": "7ZbPyF3OLspu"
      },
      "execution_count": null,
      "outputs": []
    },
    {
      "cell_type": "code",
      "source": [
        "###"
      ],
      "metadata": {
        "id": "shhTwLulLssX"
      },
      "execution_count": null,
      "outputs": []
    },
    {
      "cell_type": "code",
      "source": [
        "--45\n",
        "regex = r'(?:(?<=^)|(?<=\\s))[nN][a-zA-Z-]+(?:(?=$)|(?=\\s))'\n",
        "regex = r'((?<= )(?<=\\b)[nN][a-zA-Z]*\\b)|^([nN][a-zA-Z-]+)(?=\\s)'"
      ],
      "metadata": {
        "id": "XA49-lb_LsvH"
      },
      "execution_count": null,
      "outputs": []
    },
    {
      "cell_type": "code",
      "source": [
        "###"
      ],
      "metadata": {
        "id": "74iaTO71LszT"
      },
      "execution_count": null,
      "outputs": []
    },
    {
      "cell_type": "code",
      "source": [
        "--46\n",
        "regex = r'\\b[a-z][a-zA-Z]*[0-9]*\\b'"
      ],
      "metadata": {
        "id": "hGy4fg-mLs1n"
      },
      "execution_count": null,
      "outputs": []
    },
    {
      "cell_type": "code",
      "source": [
        "###"
      ],
      "metadata": {
        "id": "rk3GH82zLs3a"
      },
      "execution_count": null,
      "outputs": []
    },
    {
      "cell_type": "code",
      "source": [
        "--47\n",
        "regex = r'\\b[a-z]+[\\_a-z]*\\d*\\b'\n",
        "regex = r'\\b[a-z]+[a-z_]*[0-9]*\\b'"
      ],
      "metadata": {
        "id": "jrh6IzNALs5_"
      },
      "execution_count": null,
      "outputs": []
    },
    {
      "cell_type": "code",
      "source": [
        "###"
      ],
      "metadata": {
        "id": "5LsGRUimvupF"
      },
      "execution_count": null,
      "outputs": []
    },
    {
      "cell_type": "code",
      "source": [
        "--48\n",
        "regex = r'(?:(?<=\\s)|(?<=^))[a-zA-Z][\\_a-zA-Z0-9]{3,31}[a-zA-Z0-9](?:(?=\\s)|(?=$))'\n",
        "regex = r'(?<!\\S)(?<![0-9_])[a-zA-Z0-9_]{5,32}(?!\\_)(?!\\S)'"
      ],
      "metadata": {
        "id": "7eDLMLY8vur2"
      },
      "execution_count": null,
      "outputs": []
    },
    {
      "cell_type": "code",
      "source": [
        "###"
      ],
      "metadata": {
        "id": "MzTioppsvuvS"
      },
      "execution_count": null,
      "outputs": []
    },
    {
      "cell_type": "code",
      "source": [
        "--49\n",
        "regex = r'(?:(?<=\\\\)|(?<=\\/)|(?<=\\s)|(?<=^))[a-zA-Z\\d-]+\\.[a-zA-Z\\d]+\\b'"
      ],
      "metadata": {
        "id": "jgsIDgr9vuzB"
      },
      "execution_count": null,
      "outputs": []
    },
    {
      "cell_type": "code",
      "source": [
        "###"
      ],
      "metadata": {
        "id": "rEE57CJxvu2H"
      },
      "execution_count": null,
      "outputs": []
    },
    {
      "cell_type": "code",
      "source": [
        "--50\n",
        "regex = r'(?<=v=)[a-zA-Z\\d_]+'"
      ],
      "metadata": {
        "id": "oUsyKFtNvu4_"
      },
      "execution_count": null,
      "outputs": []
    },
    {
      "cell_type": "code",
      "source": [
        "###"
      ],
      "metadata": {
        "id": "nfvJ8-g8vu7v"
      },
      "execution_count": null,
      "outputs": []
    },
    {
      "cell_type": "code",
      "source": [
        "--51\n",
        "regex = r'\\[(\\d|\\d\\,|\\d\\,\\s)*\\]'\n",
        "regex = r'\\[(\\d+\\, ?)*\\d*\\,?[\\]]'"
      ],
      "metadata": {
        "id": "y_rXqfJ7vu-l"
      },
      "execution_count": null,
      "outputs": []
    },
    {
      "cell_type": "markdown",
      "source": [
        "### **<font color='navy'>Catastrophic Backtracking</font>**\n",
        "\n",
        "---"
      ],
      "metadata": {
        "id": "GCuX8Ch8ticx"
      }
    },
    {
      "cell_type": "code",
      "source": [
        "###"
      ],
      "metadata": {
        "id": "iyIINR_tvvBp"
      },
      "execution_count": null,
      "outputs": []
    },
    {
      "cell_type": "code",
      "source": [
        "--52\n",
        "import re\n",
        "\n",
        "regex = r'(?>a+)b'\n",
        "\n",
        "print(re.findall(regex, 'a'*50))"
      ],
      "metadata": {
        "id": "6zNz0_iGvvD3"
      },
      "execution_count": null,
      "outputs": []
    },
    {
      "cell_type": "code",
      "source": [
        "###"
      ],
      "metadata": {
        "id": "iOHCnbQ8MOpV"
      },
      "execution_count": null,
      "outputs": []
    },
    {
      "cell_type": "code",
      "source": [
        "--53\n",
        "regex = r'a+b'"
      ],
      "metadata": {
        "id": "zlQQLRJbMOsm"
      },
      "execution_count": null,
      "outputs": []
    },
    {
      "cell_type": "code",
      "source": [
        "###"
      ],
      "metadata": {
        "id": "KNjF2re-MOv2"
      },
      "execution_count": null,
      "outputs": []
    }
  ]
}