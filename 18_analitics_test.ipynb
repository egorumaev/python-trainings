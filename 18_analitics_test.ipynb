{
  "nbformat": 4,
  "nbformat_minor": 0,
  "metadata": {
    "colab": {
      "provenance": []
    },
    "kernelspec": {
      "name": "python3",
      "display_name": "Python 3"
    },
    "language_info": {
      "name": "python"
    }
  },
  "cells": [
    {
      "cell_type": "markdown",
      "source": [
        "# **<font color='crimson'>PYTHON.</font>**\n",
        "\n",
        "---"
      ],
      "metadata": {
        "id": "CjT5w9s6YcKa"
      }
    },
    {
      "cell_type": "code",
      "execution_count": null,
      "metadata": {
        "id": "CoEAJXqDYV9Z"
      },
      "outputs": [],
      "source": [
        "###"
      ]
    },
    {
      "cell_type": "code",
      "source": [
        "--1\n",
        "# повернуть матрицу на 90 градусов по часовой стрелке\n",
        "a = [\n",
        "    [1, 2, 3, 4, 5, 1, 2],\n",
        "    [6, 7, 8, 9, 10, 1, 2],\n",
        "    [11, 12, 13, 14, 15, 1, 2],\n",
        "    [16, 17, 18, 19, 20, 1, 2],\n",
        "    [21, 22, 23, 24, 25, 1, 2],\n",
        "    [1, 1, 1, 1, 1, 1, 2],\n",
        "    [2, 2, 2, 2, 2, 2, 2, 2]\n",
        "]\n",
        "\n",
        "new_a = []\n",
        "\n",
        "for i in range(len(a)):\n",
        "    list_temp = []\n",
        "    for j in range(len(a) - 1, -1, -1):\n",
        "        list_temp.append(a[j][i])\n",
        "    new_a.append(list_temp)\n",
        "\n",
        "for i in new_a:\n",
        "    print(*i)"
      ],
      "metadata": {
        "id": "dL7LH9xGYbjq"
      },
      "execution_count": null,
      "outputs": []
    },
    {
      "cell_type": "code",
      "source": [
        "n = int(input())\n",
        "\n",
        "a = []\n",
        "\n",
        "for _ in range(len(n)):\n",
        "    a.append(list(map(int, input().split())))\n",
        "\n",
        "new_a = []\n",
        "\n",
        "for i in range(len(a)):\n",
        "    list_temp = []\n",
        "    for j in range(len(a) - 1, -1, -1):\n",
        "        list_temp.append(a[j][i])\n",
        "    new_a.append(list_temp)\n",
        "\n",
        "for i in new_a:\n",
        "    print(*i)"
      ],
      "metadata": {
        "id": "Gy9u1UFOxo94"
      },
      "execution_count": null,
      "outputs": []
    },
    {
      "cell_type": "code",
      "source": [
        "###"
      ],
      "metadata": {
        "id": "QET62ZQZYbwU"
      },
      "execution_count": null,
      "outputs": []
    },
    {
      "cell_type": "code",
      "source": [
        "--2\n",
        "# заданную квадратную матрицу развернуть 'улиткой'\n",
        "\n",
        "a = [\n",
        "    [1, 2, 3, 4],\n",
        "    [12, 13, 14, 5],\n",
        "    [11, 16, 15, 6],\n",
        "    [10, 9, 8, 7]\n",
        "]\n",
        "\n",
        "snail_list = []\n",
        "\n",
        "while(a):\n",
        "    snail_list.append(a.pop(0))\n",
        "    a = list(list(map(list, zip(*a))))[::-1]\n",
        "\n",
        "print(*[j for i in snail_list for j in i])"
      ],
      "metadata": {
        "id": "HC8BdWVKYbzq"
      },
      "execution_count": null,
      "outputs": []
    },
    {
      "cell_type": "code",
      "source": [
        "n = int(input())\n",
        "\n",
        "a = []\n",
        "\n",
        "for _ in range(len(n)):\n",
        "    a.append(list(map(int, input().split())))\n",
        "\n",
        "snail_list = []\n",
        "\n",
        "while(a):\n",
        "    snail_list.append(a.pop(0))\n",
        "    a = list(list(map(list, zip(*a))))[::-1]\n",
        "\n",
        "print(*[j for i in snail_list for j in i])"
      ],
      "metadata": {
        "id": "1FGQheIIx1Gp"
      },
      "execution_count": null,
      "outputs": []
    },
    {
      "cell_type": "code",
      "source": [
        "###"
      ],
      "metadata": {
        "id": "YeB8zIlhYb2w"
      },
      "execution_count": null,
      "outputs": []
    },
    {
      "cell_type": "code",
      "source": [
        "--3\n",
        "# определеить победителя в игре\n",
        "# 'Камень, ножницы, бумага'\n",
        "\n",
        "# задаем число партий\n",
        "n = int(input())\n",
        "\n",
        "# draw\n",
        "draw = 0\n",
        "\n",
        "# Kostya's winners\n",
        "first_player = 0\n",
        "\n",
        "# Ksushia's winners\n",
        "second_player = 0\n",
        "\n",
        "for _ in range(len(n)):\n",
        "    temp = input.split()\n",
        "    if temp[0] == temp[1]:\n",
        "        draw += 1\n",
        "    elif ((temp[0] == 'R' and temp[1] == 'S')\n",
        "        or (temp[0] == 'P' and temp[1] == 'R')\n",
        "        or (temp[0] == 'S' and temp[1] == 'P')):\n",
        "        first_player += 1\n",
        "    else:\n",
        "        second_player += 1\n",
        "\n",
        "if first_player == second_player:\n",
        "    print('Ничья')\n",
        "    # если победил первый игрок (Костя)\n",
        "elif first_player > second_player:\n",
        "    print('Костя')\n",
        "    # вычисляем долю побед\n",
        "    w = '{:.2f}'.format(first_player * 100 / n)\n",
        "    print(f'W: {w}%')\n",
        "    # вычисляем долю игр, закончившихся ничьей\n",
        "    d = '{:.2f}'.format(draw * 100 / n)\n",
        "    print(f'D: {d}%')\n",
        "    # вычисляем долю поражений\n",
        "    l = '{:.2f}'.format((n - first_player - draw) * 100 / n)\n",
        "    print(f'L: {l}%')\n",
        "    # если победил второй игрок (Ксюша)\n",
        "else:\n",
        "    print('Ксюша')\n",
        "    # вычисляем долю побед\n",
        "    w = '{:.2f}'.format(second_player * 100 / n)\n",
        "    print(f'W: {w}%')\n",
        "    # вычисляем долю игр, закончившихся ничьей\n",
        "    d = '{:.2f}'.format(draw * 100 / n)\n",
        "    print(f'D: {d}%')\n",
        "    # вычисляем долю поражений\n",
        "    l = '{:.2f}'.format((n - second_player - draw) * 100 / n)\n",
        "    print(f'L: {l}%')"
      ],
      "metadata": {
        "id": "ymfpqAcTYb58"
      },
      "execution_count": null,
      "outputs": []
    },
    {
      "cell_type": "code",
      "source": [],
      "metadata": {
        "id": "56qcAPbb3nfT"
      },
      "execution_count": null,
      "outputs": []
    }
  ]
}