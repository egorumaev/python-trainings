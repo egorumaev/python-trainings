{
  "nbformat": 4,
  "nbformat_minor": 0,
  "metadata": {
    "colab": {
      "provenance": []
    },
    "kernelspec": {
      "name": "python3",
      "display_name": "Python 3"
    },
    "language_info": {
      "name": "python"
    }
  },
  "cells": [
    {
      "cell_type": "markdown",
      "source": [
        "# **<font color='crimson'>PYTHON. While</font>**\n",
        "\n",
        "---"
      ],
      "metadata": {
        "id": "CjT5w9s6YcKa"
      }
    },
    {
      "cell_type": "code",
      "execution_count": null,
      "metadata": {
        "id": "CoEAJXqDYV9Z"
      },
      "outputs": [],
      "source": [
        "###"
      ]
    },
    {
      "cell_type": "code",
      "source": [
        "--1\n",
        "word = input()\n",
        "\n",
        "while word != 'КОНЕЦ':\n",
        "    print(word)\n",
        "    word = input()"
      ],
      "metadata": {
        "id": "dL7LH9xGYbjq"
      },
      "execution_count": null,
      "outputs": []
    },
    {
      "cell_type": "code",
      "source": [
        "###"
      ],
      "metadata": {
        "id": "QET62ZQZYbwU"
      },
      "execution_count": null,
      "outputs": []
    },
    {
      "cell_type": "code",
      "source": [
        "--2\n",
        "word = input()\n",
        "\n",
        "while word != 'конец' and word != 'КОНЕЦ':\n",
        "    print(word)\n",
        "    word = input()"
      ],
      "metadata": {
        "id": "HC8BdWVKYbzq"
      },
      "execution_count": null,
      "outputs": []
    },
    {
      "cell_type": "code",
      "source": [
        "###"
      ],
      "metadata": {
        "id": "YeB8zIlhYb2w"
      },
      "execution_count": null,
      "outputs": []
    },
    {
      "cell_type": "code",
      "source": [
        "--3\n",
        "word = input()\n",
        "\n",
        "counter = 0\n",
        "\n",
        "while word != 'стоп' and word != 'хватит' and word != 'достаточно':\n",
        "    counter += 1\n",
        "    word = input()\n",
        "\n",
        "print(counter)"
      ],
      "metadata": {
        "id": "ymfpqAcTYb58"
      },
      "execution_count": null,
      "outputs": []
    },
    {
      "cell_type": "code",
      "source": [
        "###"
      ],
      "metadata": {
        "id": "WGz6Ob9YYb9H"
      },
      "execution_count": null,
      "outputs": []
    },
    {
      "cell_type": "code",
      "source": [
        "--4\n",
        "num = int(input())\n",
        "\n",
        "while num % 7 == 0:\n",
        "    print(num)\n",
        "    num = int(input())"
      ],
      "metadata": {
        "id": "rGkEmH5mYcAk"
      },
      "execution_count": null,
      "outputs": []
    },
    {
      "cell_type": "code",
      "source": [
        "###"
      ],
      "metadata": {
        "id": "uAScR1WHYcD5"
      },
      "execution_count": null,
      "outputs": []
    },
    {
      "cell_type": "code",
      "source": [
        "--5\n",
        "num = int(input())\n",
        "\n",
        "res = 0\n",
        "\n",
        "while num >= 0:\n",
        "    res += num\n",
        "    num = int(input())\n",
        "\n",
        "print(res)"
      ],
      "metadata": {
        "id": "FntudgP5YcHA"
      },
      "execution_count": null,
      "outputs": []
    },
    {
      "cell_type": "code",
      "execution_count": null,
      "metadata": {
        "id": "_rbe8PUdYj33"
      },
      "outputs": [],
      "source": [
        "###"
      ]
    },
    {
      "cell_type": "code",
      "source": [
        "--6\n",
        "num = int(input())\n",
        "\n",
        "counter = 0\n",
        "\n",
        "while 0 < num <=5:\n",
        "    if num == 5:\n",
        "        counter += 1\n",
        "    num = int(input())\n",
        "\n",
        "print(counter)"
      ],
      "metadata": {
        "id": "9GQe84SnYj34"
      },
      "execution_count": null,
      "outputs": []
    },
    {
      "cell_type": "code",
      "source": [
        "###"
      ],
      "metadata": {
        "id": "ITPNY4zBYj35"
      },
      "execution_count": null,
      "outputs": []
    },
    {
      "cell_type": "code",
      "source": [
        "--7\n",
        "n = int(input())\n",
        "\n",
        "res = 0\n",
        "\n",
        "while n != 0:\n",
        "    temp = n // 25\n",
        "    res += temp\n",
        "    n -= 25 * temp\n",
        "    temp = n // 10\n",
        "    res += temp\n",
        "    n -= 10 * temp\n",
        "    temp = n // 5\n",
        "    res += temp\n",
        "    n -= 5 * temp\n",
        "    temp = n // 1\n",
        "    res += temp\n",
        "    n -= 1 * temp\n",
        "\n",
        "print(res)"
      ],
      "metadata": {
        "id": "g8BJQ4BtYj35"
      },
      "execution_count": null,
      "outputs": []
    },
    {
      "cell_type": "code",
      "source": [
        "###"
      ],
      "metadata": {
        "id": "mgFG8OxJYj37"
      },
      "execution_count": null,
      "outputs": []
    },
    {
      "cell_type": "code",
      "source": [
        "--8\n",
        "num = int(input())\n",
        "\n",
        "while num != 0:\n",
        "    print(num % 10)\n",
        "    num //= 10"
      ],
      "metadata": {
        "id": "SHszfeNEYj37"
      },
      "execution_count": null,
      "outputs": []
    },
    {
      "cell_type": "code",
      "source": [
        "###"
      ],
      "metadata": {
        "id": "KvRH-_dCYj38"
      },
      "execution_count": null,
      "outputs": []
    },
    {
      "cell_type": "code",
      "source": [
        "--9\n",
        "num = int(input())\n",
        "\n",
        "while num > 0:\n",
        "    print(num % 10, end = '')\n",
        "    num //= 10"
      ],
      "metadata": {
        "id": "Aj95I3ljAhAh"
      },
      "execution_count": null,
      "outputs": []
    },
    {
      "cell_type": "code",
      "execution_count": null,
      "metadata": {
        "id": "VxwzNTVYYkGF"
      },
      "outputs": [],
      "source": [
        "###"
      ]
    },
    {
      "cell_type": "code",
      "source": [
        "--10\n"
      ],
      "metadata": {
        "id": "taCAZApGYkGF"
      },
      "execution_count": null,
      "outputs": []
    },
    {
      "cell_type": "code",
      "source": [
        "###"
      ],
      "metadata": {
        "id": "Mp9AlNSMYkGF"
      },
      "execution_count": null,
      "outputs": []
    },
    {
      "cell_type": "code",
      "source": [
        "--11\n",
        "num = int(input())\n",
        "\n",
        "max_num = num % 10\n",
        "min_num = num % 10\n",
        "\n",
        "while num > 0:\n",
        "    temp = num % 10\n",
        "    max_num = max(max_num, temp)\n",
        "    min_num = min(min_num, temp)\n",
        "    num //= 10\n",
        "\n",
        "print('Максимальная цифра равна', max_num)\n",
        "print('Минимальная цифра равна', min_num)"
      ],
      "metadata": {
        "id": "BzMGd9aEYkGF"
      },
      "execution_count": null,
      "outputs": []
    },
    {
      "cell_type": "code",
      "source": [
        "###"
      ],
      "metadata": {
        "id": "HzHKJKPkYkGF"
      },
      "execution_count": null,
      "outputs": []
    },
    {
      "cell_type": "code",
      "source": [
        "--12\n",
        "num = int(input())\n",
        "first_digit = num\n",
        "\n",
        "summ = 0\n",
        "quantity = 0\n",
        "product = 1\n",
        "last_digit = num % 10\n",
        "\n",
        "while num > 0:\n",
        "    temp = num % 10\n",
        "    summ += temp\n",
        "    quantity += 1\n",
        "    product *= temp\n",
        "    num //= 10\n",
        "\n",
        "mean_value = summ / quantity\n",
        "\n",
        "# вычисляем первую цифру введенного числа\n",
        "while first_digit > 10:\n",
        "    first_digit //= 10\n",
        "\n",
        "print(summ)\n",
        "print(quantity)\n",
        "print(product)\n",
        "print(mean_value)\n",
        "print(first_digit)\n",
        "print(first_digit + last_digit)"
      ],
      "metadata": {
        "id": "7-UONghTYkGF"
      },
      "execution_count": null,
      "outputs": []
    },
    {
      "cell_type": "code",
      "source": [
        "###"
      ],
      "metadata": {
        "id": "VUlBI8hVYkGG"
      },
      "execution_count": null,
      "outputs": []
    },
    {
      "cell_type": "code",
      "source": [
        "--13\n",
        "n = int(input())\n",
        "\n",
        "# подсчитываем количество цифр в числе\n",
        "counter = 0\n",
        "\n",
        "# создаем копию числа для модификации в цикле while\n",
        "num = n\n",
        "\n",
        "while num > 0:\n",
        "    counter += 1\n",
        "    num //= 10\n",
        "\n",
        "second_digit = (n // 10 ** (counter - 2)) % 10\n",
        "print(second_digit)"
      ],
      "metadata": {
        "id": "ShgrBwT2YkGG"
      },
      "execution_count": null,
      "outputs": []
    },
    {
      "cell_type": "code",
      "source": [
        "###"
      ],
      "metadata": {
        "id": "Qy3hGaWeYkGG"
      },
      "execution_count": null,
      "outputs": []
    },
    {
      "cell_type": "code",
      "source": [
        "--14\n",
        "n = int(input())\n",
        "\n",
        "last_digit = n % 10\n",
        "flag = True\n",
        "\n",
        "while n > 0:\n",
        "    if n % 10 != last_digit:\n",
        "        flag = False\n",
        "    n //= 10\n",
        "\n",
        "print('YES' if flag else 'NO')"
      ],
      "metadata": {
        "id": "glQPUg5FYkGG"
      },
      "execution_count": null,
      "outputs": []
    },
    {
      "cell_type": "code",
      "execution_count": null,
      "metadata": {
        "id": "8ul9uboYYkS5"
      },
      "outputs": [],
      "source": [
        "###"
      ]
    },
    {
      "cell_type": "code",
      "source": [
        "--15\n",
        "n = int(input())\n",
        "\n",
        "flag = 'YES'\n",
        "\n",
        "while n > 9:\n",
        "    last_digit = n % 10\n",
        "    next_digit = (n // 10) % 10\n",
        "    if next_digit < last_digit:\n",
        "        flag = 'NO'\n",
        "    n //= 10\n",
        "\n",
        "print(flag)"
      ],
      "metadata": {
        "id": "nZMvz5YvYkS6"
      },
      "execution_count": null,
      "outputs": []
    },
    {
      "cell_type": "code",
      "source": [
        "###"
      ],
      "metadata": {
        "id": "yOOUrKH9YkS6"
      },
      "execution_count": null,
      "outputs": []
    },
    {
      "cell_type": "code",
      "source": [
        "--16\n",
        "n = int(input())\n",
        "i = 2\n",
        "\n",
        "while i <= n:\n",
        "    if n % i == 0:\n",
        "        print(i)\n",
        "        break\n",
        "    i += 1"
      ],
      "metadata": {
        "id": "qQqb_DZTYkS7"
      },
      "execution_count": null,
      "outputs": []
    },
    {
      "cell_type": "code",
      "source": [
        "###"
      ],
      "metadata": {
        "id": "j6Gtn9sNYkS7"
      },
      "execution_count": null,
      "outputs": []
    },
    {
      "cell_type": "code",
      "source": [
        "--17\n",
        "n = int(input())\n",
        "i = 1\n",
        "\n",
        "while i <= n:\n",
        "    if 5 <= i <= 9 or 17 <= i <= 37 or 78 <= i <= 87:\n",
        "        i += 1\n",
        "        continue\n",
        "    print(i)\n",
        "    i += 1"
      ],
      "metadata": {
        "id": "UtGiFwHMYkS7"
      },
      "execution_count": null,
      "outputs": []
    },
    {
      "cell_type": "code",
      "source": [],
      "metadata": {
        "id": "56qcAPbb3nfT"
      },
      "execution_count": null,
      "outputs": []
    }
  ]
}