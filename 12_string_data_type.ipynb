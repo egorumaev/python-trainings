{
  "nbformat": 4,
  "nbformat_minor": 0,
  "metadata": {
    "colab": {
      "provenance": []
    },
    "kernelspec": {
      "name": "python3",
      "display_name": "Python 3"
    },
    "language_info": {
      "name": "python"
    }
  },
  "cells": [
    {
      "cell_type": "markdown",
      "source": [
        "# **<font color='crimson'>PYTHON. String Data Type</font>**\n",
        "\n",
        "---"
      ],
      "metadata": {
        "id": "CjT5w9s6YcKa"
      }
    },
    {
      "cell_type": "code",
      "execution_count": null,
      "metadata": {
        "id": "CoEAJXqDYV9Z"
      },
      "outputs": [],
      "source": [
        "###"
      ]
    },
    {
      "cell_type": "code",
      "source": [
        "--1\n",
        "text = input()\n",
        "\n",
        "for i in range(len(text) - 1, -1, -1):\n",
        "    print(text[i])"
      ],
      "metadata": {
        "id": "dL7LH9xGYbjq"
      },
      "execution_count": null,
      "outputs": []
    },
    {
      "cell_type": "code",
      "source": [
        "###"
      ],
      "metadata": {
        "id": "QET62ZQZYbwU"
      },
      "execution_count": null,
      "outputs": []
    },
    {
      "cell_type": "code",
      "source": [
        "--2\n",
        "name, surname, patronimic = [input() for _ in range(3)]\n",
        "\n",
        "print(surname[0], name[0], patronimic[0], sep = '')"
      ],
      "metadata": {
        "id": "HC8BdWVKYbzq"
      },
      "execution_count": null,
      "outputs": []
    },
    {
      "cell_type": "code",
      "source": [
        "###"
      ],
      "metadata": {
        "id": "YeB8zIlhYb2w"
      },
      "execution_count": null,
      "outputs": []
    },
    {
      "cell_type": "code",
      "source": [
        "--3\n",
        "number = input()\n",
        "\n",
        "summ = 0\n",
        "\n",
        "for c in number:\n",
        "    summ += int(c)\n",
        "\n",
        "print(summ)"
      ],
      "metadata": {
        "id": "ymfpqAcTYb58"
      },
      "execution_count": null,
      "outputs": []
    },
    {
      "cell_type": "code",
      "source": [
        "###"
      ],
      "metadata": {
        "id": "WGz6Ob9YYb9H"
      },
      "execution_count": null,
      "outputs": []
    },
    {
      "cell_type": "code",
      "source": [
        "--4\n",
        "text = input()\n",
        "\n",
        "# 1-й вариант решения\n",
        "if (\n",
        "   '0' in text or '1' in text or '2' in text or '3' in text\n",
        "   or '4' in text or '5' in text or '6' in text or '7' in text\n",
        "   or '8' in text or '9' in text):\n",
        "       print('Цифра')\n",
        "else:\n",
        "   print('Цифр нет')"
      ],
      "metadata": {
        "id": "rGkEmH5mYcAk"
      },
      "execution_count": null,
      "outputs": []
    },
    {
      "cell_type": "code",
      "source": [
        "###"
      ],
      "metadata": {
        "id": "uAScR1WHYcD5"
      },
      "execution_count": null,
      "outputs": []
    },
    {
      "cell_type": "code",
      "source": [
        "--5\n",
        "text = input()\n",
        "\n",
        "# 2-й вариант решения\n",
        "counter = 0\n",
        "\n",
        "for i in range(10):\n",
        "   if str(i) in text:\n",
        "       counter += 1\n",
        "\n",
        "print('Цифра' if counter else 'Цифр нет')"
      ],
      "metadata": {
        "id": "FntudgP5YcHA"
      },
      "execution_count": null,
      "outputs": []
    },
    {
      "cell_type": "code",
      "execution_count": null,
      "metadata": {
        "id": "_rbe8PUdYj33"
      },
      "outputs": [],
      "source": [
        "###"
      ]
    },
    {
      "cell_type": "code",
      "source": [
        "--6\n",
        "text = input()\n",
        "\n",
        "# 3-й вариант решения\n",
        "digits = '0123456789'\n",
        "\n",
        "for char in text:\n",
        "    if char in digits:\n",
        "        print('Цифра')\n",
        "        break\n",
        "else:\n",
        "    print('Цифр нет')"
      ],
      "metadata": {
        "id": "9GQe84SnYj34"
      },
      "execution_count": null,
      "outputs": []
    },
    {
      "cell_type": "code",
      "source": [
        "###"
      ],
      "metadata": {
        "id": "ITPNY4zBYj35"
      },
      "execution_count": null,
      "outputs": []
    },
    {
      "cell_type": "code",
      "source": [
        "--7\n",
        "text = input()\n",
        "\n",
        "plus = 0\n",
        "star = 0\n",
        "\n",
        "for char in text:\n",
        "    if char == '+':\n",
        "        plus += 1\n",
        "    elif char == '*':\n",
        "        star += 1\n",
        "\n",
        "print(f'Символ + встречается {plus} раз')\n",
        "print(f'Символ * встречается {star} раз')"
      ],
      "metadata": {
        "id": "g8BJQ4BtYj35"
      },
      "execution_count": null,
      "outputs": []
    },
    {
      "cell_type": "code",
      "source": [
        "###"
      ],
      "metadata": {
        "id": "mgFG8OxJYj37"
      },
      "execution_count": null,
      "outputs": []
    },
    {
      "cell_type": "code",
      "source": [
        "--8\n",
        "text = input()\n",
        "\n",
        "counter = 0\n",
        "\n",
        "for i in range(len(text) - 1):\n",
        "    if text[i] == text[i + 1]:\n",
        "        counter += 1\n",
        "\n",
        "print(counter)"
      ],
      "metadata": {
        "id": "SHszfeNEYj37"
      },
      "execution_count": null,
      "outputs": []
    },
    {
      "cell_type": "code",
      "source": [
        "###"
      ],
      "metadata": {
        "id": "KvRH-_dCYj38"
      },
      "execution_count": null,
      "outputs": []
    },
    {
      "cell_type": "code",
      "source": [
        "--9\n",
        "text = input()\n",
        "\n",
        "vowel = 'ауоыиэяюеАУОЫИЭЯЮЕ'\n",
        "consonant = 'бвгджзйклмнпрстфхцчшщБВГДЖЗЙКЛМНПРСТФХЦЧШЩ'\n",
        "\n",
        "cnt_vowel = 0\n",
        "cnt_consonant = 0\n",
        "\n",
        "for char in text:\n",
        "    if char in vowel:\n",
        "        cnt_vowel += 1\n",
        "    elif char in consonant:\n",
        "        cnt_consonant += 1\n",
        "\n",
        "print(f'Количество гласных букв равно {cnt_vowel}')\n",
        "print(f'Количество согласных букв равно {cnt_consonant}')"
      ],
      "metadata": {
        "id": "Aj95I3ljAhAh"
      },
      "execution_count": null,
      "outputs": []
    },
    {
      "cell_type": "code",
      "execution_count": null,
      "metadata": {
        "id": "VxwzNTVYYkGF"
      },
      "outputs": [],
      "source": [
        "###"
      ]
    },
    {
      "cell_type": "code",
      "source": [
        "--10\n",
        "number = int(input())\n",
        "\n",
        "res = ''\n",
        "\n",
        "while number > 0:\n",
        "    res += str(number % 2)\n",
        "    number //= 2\n",
        "\n",
        "for i in range(1, len(res) + 1):\n",
        "    print(res[-i], end = '')"
      ],
      "metadata": {
        "id": "taCAZApGYkGF"
      },
      "execution_count": null,
      "outputs": []
    },
    {
      "cell_type": "code",
      "source": [
        "###"
      ],
      "metadata": {
        "id": "Mp9AlNSMYkGF"
      },
      "execution_count": null,
      "outputs": []
    },
    {
      "cell_type": "code",
      "source": [
        "--11\n",
        "text = input()\n",
        "\n",
        "print('YES' if text == text[::-1] else 'NO')"
      ],
      "metadata": {
        "id": "BzMGd9aEYkGF"
      },
      "execution_count": null,
      "outputs": []
    },
    {
      "cell_type": "code",
      "source": [
        "###"
      ],
      "metadata": {
        "id": "HzHKJKPkYkGF"
      },
      "execution_count": null,
      "outputs": []
    },
    {
      "cell_type": "code",
      "source": [
        "--12\n",
        "text = input()\n",
        "\n",
        "if len(text) % 2 == 0:\n",
        "    print(text[len(text) // 2:] + text[:len(text) // 2])\n",
        "else:\n",
        "    print(text[len(text) // 2 + 1:] + text[:len(text) // 2 + 1])"
      ],
      "metadata": {
        "id": "7-UONghTYkGF"
      },
      "execution_count": null,
      "outputs": []
    },
    {
      "cell_type": "code",
      "source": [
        "###"
      ],
      "metadata": {
        "id": "VUlBI8hVYkGG"
      },
      "execution_count": null,
      "outputs": []
    },
    {
      "cell_type": "code",
      "source": [
        "--13\n",
        "name_surname = input()\n",
        "\n",
        "if name_surname == name_surname.title():\n",
        "    print('YES')\n",
        "else:\n",
        "    print('NO')"
      ],
      "metadata": {
        "id": "ShgrBwT2YkGG"
      },
      "execution_count": null,
      "outputs": []
    },
    {
      "cell_type": "code",
      "source": [
        "###"
      ],
      "metadata": {
        "id": "Qy3hGaWeYkGG"
      },
      "execution_count": null,
      "outputs": []
    },
    {
      "cell_type": "code",
      "source": [
        "--14\n",
        "text = input()\n",
        "\n",
        "letters = 'aeiouybcdfghjklmnpqrstvwxz'\n",
        "\n",
        "counter = 0\n",
        "\n",
        "for i in text:\n",
        "    if i in letters:\n",
        "        counter += 1\n",
        "\n",
        "print(counter)"
      ],
      "metadata": {
        "id": "glQPUg5FYkGG"
      },
      "execution_count": null,
      "outputs": []
    },
    {
      "cell_type": "code",
      "execution_count": null,
      "metadata": {
        "id": "8ul9uboYYkS5"
      },
      "outputs": [],
      "source": [
        "###"
      ]
    },
    {
      "cell_type": "code",
      "source": [
        "--15\n",
        "text = input().lower()\n",
        "\n",
        "adenin = text.count('а')\n",
        "guanin = text.count('г')\n",
        "tsitozin = text.count('ц')\n",
        "timin = text.count('т')\n",
        "\n",
        "print(f'Аденин: {adenin}')\n",
        "print(f'Гуанин: {guanin}')\n",
        "print(f'Цитозин: {tsitozin}')\n",
        "print(f'Тимин: {timin}')"
      ],
      "metadata": {
        "id": "nZMvz5YvYkS6"
      },
      "execution_count": null,
      "outputs": []
    },
    {
      "cell_type": "code",
      "source": [
        "###"
      ],
      "metadata": {
        "id": "yOOUrKH9YkS6"
      },
      "execution_count": null,
      "outputs": []
    },
    {
      "cell_type": "code",
      "source": [
        "--16\n",
        "n = int(input())\n",
        "\n",
        "counter = 0\n",
        "\n",
        "for _ in range(n):\n",
        "    temp = input()\n",
        "    if temp.count('11') >= 3:\n",
        "        counter += 1\n",
        "\n",
        "print(counter)"
      ],
      "metadata": {
        "id": "qQqb_DZTYkS7"
      },
      "execution_count": null,
      "outputs": []
    },
    {
      "cell_type": "code",
      "source": [
        "###"
      ],
      "metadata": {
        "id": "j6Gtn9sNYkS7"
      },
      "execution_count": null,
      "outputs": []
    },
    {
      "cell_type": "code",
      "source": [
        "--17\n",
        "text = input()\n",
        "\n",
        "# 1-й вариант\n",
        "digits = '0123456789'\n",
        "\n",
        "counter = 0\n",
        "\n",
        "for char in text:\n",
        "   if char in digits:\n",
        "       counter += 1\n",
        "\n",
        "print(counter)"
      ],
      "metadata": {
        "id": "UtGiFwHMYkS7"
      },
      "execution_count": null,
      "outputs": []
    },
    {
      "cell_type": "code",
      "source": [
        "###"
      ],
      "metadata": {
        "id": "bJKWSHfgYkS8"
      },
      "execution_count": null,
      "outputs": []
    },
    {
      "cell_type": "code",
      "source": [
        "--18\n",
        "text = input()\n",
        "\n",
        "# 2-й вариант\n",
        "counter = 0\n",
        "\n",
        "for i in range(10):\n",
        "    counter += text.count(str(i))\n",
        "\n",
        "print(counter)"
      ],
      "metadata": {
        "id": "bCVbtJqeYkS_"
      },
      "execution_count": null,
      "outputs": []
    },
    {
      "cell_type": "code",
      "source": [
        "###"
      ],
      "metadata": {
        "id": "KNtah0D5Ykg2"
      },
      "execution_count": null,
      "outputs": []
    },
    {
      "cell_type": "code",
      "source": [
        "--19\n",
        "email = input()\n",
        "\n",
        "# 1-й вариант\n",
        "if email.endswith('.com') or email.endswith('.ru'):\n",
        "   print('YES')\n",
        "else:\n",
        "   print('NO')"
      ],
      "metadata": {
        "id": "IbVw-CWVxOuy"
      },
      "execution_count": null,
      "outputs": []
    },
    {
      "cell_type": "code",
      "source": [
        "###"
      ],
      "metadata": {
        "id": "GWui7EJYxOyo"
      },
      "execution_count": null,
      "outputs": []
    },
    {
      "cell_type": "code",
      "source": [
        "--20\n",
        "email = input()\n",
        "\n",
        "# 2-й вариант\n",
        "print('YES' if email.endswith(('.com', '.ru')) else 'NO')"
      ],
      "metadata": {
        "id": "vQbCCQHTxO29"
      },
      "execution_count": null,
      "outputs": []
    },
    {
      "cell_type": "code",
      "source": [
        "###"
      ],
      "metadata": {
        "id": "wq6Bz-_DxO66"
      },
      "execution_count": null,
      "outputs": []
    },
    {
      "cell_type": "code",
      "source": [
        "--21\n",
        "text = input()\n",
        "\n",
        "lettre = ''\n",
        "counter = 0\n",
        "\n",
        "for i in text:\n",
        "    temp_count = text.count(i)\n",
        "    if counter <= temp_count:\n",
        "        counter = temp_count\n",
        "        lettre = i\n",
        "\n",
        "print(lettre)"
      ],
      "metadata": {
        "id": "xGK170kjxO-U"
      },
      "execution_count": null,
      "outputs": []
    },
    {
      "cell_type": "code",
      "source": [
        "###"
      ],
      "metadata": {
        "id": "4RkxTCLdxPB7"
      },
      "execution_count": null,
      "outputs": []
    },
    {
      "cell_type": "code",
      "source": [
        "--22\n",
        "text = input()\n",
        "\n",
        "first_ind = None\n",
        "last_ind = None\n",
        "\n",
        "if 'f' not in text:\n",
        "    print('NO')\n",
        "else:\n",
        "    first_ind = text.find('f')\n",
        "    last_ind = text.rfind('f')\n",
        "    if first_ind == last_ind:\n",
        "        print(first_ind)\n",
        "    else:\n",
        "        print(first_ind, last_ind)"
      ],
      "metadata": {
        "id": "fbiKpkypxPFt"
      },
      "execution_count": null,
      "outputs": []
    },
    {
      "cell_type": "code",
      "source": [
        "###"
      ],
      "metadata": {
        "id": "-67IQabBxPJf"
      },
      "execution_count": null,
      "outputs": []
    },
    {
      "cell_type": "code",
      "source": [
        "--23\n",
        "text = input()\n",
        "\n",
        "first_index = text.index('h')\n",
        "last_index = text.rindex('h')\n",
        "\n",
        "res = text[:first_index] + text[last_index + 1:]\n",
        "\n",
        "print(res)"
      ],
      "metadata": {
        "id": "qpqJDx_-xPNL"
      },
      "execution_count": null,
      "outputs": []
    },
    {
      "cell_type": "code",
      "source": [
        "###"
      ],
      "metadata": {
        "id": "Q4j0_TxRxPQ2"
      },
      "execution_count": null,
      "outputs": []
    },
    {
      "cell_type": "code",
      "source": [
        "--24\n",
        "n = int(input())\n",
        "\n",
        "for i in range(1, n + 1):\n",
        "    temp_str = input()\n",
        "    if temp_str.isspace() or temp_str == '':\n",
        "        print(f'{i}: COMMENT SHOULD BE DELETED')\n",
        "    else:\n",
        "        print(f'{i}: {temp_str}')"
      ],
      "metadata": {
        "id": "m_n4nRlexPUP"
      },
      "execution_count": null,
      "outputs": []
    },
    {
      "cell_type": "code",
      "source": [
        "###"
      ],
      "metadata": {
        "id": "3Cb6ZRYixPX1"
      },
      "execution_count": null,
      "outputs": []
    },
    {
      "cell_type": "code",
      "source": [
        "--25\n",
        "nomer = input()\n",
        "\n",
        "alphas = 'АВЕКМНОРСТУХ'\n",
        "digits = '0123456789'\n",
        "\n",
        "if (\n",
        "    nomer[0] in alphas\n",
        "    and nomer[4] in alphas\n",
        "    and nomer[5] in alphas\n",
        "    and nomer[6] == '_'\n",
        "    and nomer[1:4].isdigit()\n",
        "    and nomer[7:].isdigit()\n",
        "    and len(nomer[7:]) in [2, 3]\n",
        "    ):\n",
        "    print('YES')\n",
        "else:\n",
        "    print('NO')"
      ],
      "metadata": {
        "id": "0qlg3QZmxPbe"
      },
      "execution_count": null,
      "outputs": []
    },
    {
      "cell_type": "code",
      "source": [
        "###"
      ],
      "metadata": {
        "id": "ZtN57rcdxPe5"
      },
      "execution_count": null,
      "outputs": []
    },
    {
      "cell_type": "code",
      "source": [
        "--26\n",
        "nickname = input()\n",
        "\n",
        "flag = 'Incorrect'\n",
        "\n",
        "if 5 <= len(nickname) <= 15 and nickname[0] == '@':\n",
        "    if nickname[1:].isdigit():\n",
        "        flag = 'Correct'\n",
        "    elif nickname[1:].islower() and nickname[1:].isalnum():\n",
        "        flag = 'Correct'\n",
        "    elif nickname[1:].islower() and nickname[1:].isalpha():\n",
        "        flag = 'Corect'\n",
        "    else:\n",
        "        flag = 'Incorrect'\n",
        "else:\n",
        "    flag = 'Incorrect'\n",
        "\n",
        "print(flag)"
      ],
      "metadata": {
        "id": "y7XaOliZxPip"
      },
      "execution_count": null,
      "outputs": []
    },
    {
      "cell_type": "code",
      "source": [
        "###"
      ],
      "metadata": {
        "id": "wRmx0dPlxPmW"
      },
      "execution_count": null,
      "outputs": []
    },
    {
      "cell_type": "code",
      "source": [
        "--27\n",
        "s = 'In {0}, someone paid {1} {2} for two pizzas.'.format('2010', '10k', 'Bitcoin')\n",
        "\n",
        "print(s)"
      ],
      "metadata": {
        "id": "QFv14Xb8xPp9"
      },
      "execution_count": null,
      "outputs": []
    },
    {
      "cell_type": "code",
      "source": [
        "###"
      ],
      "metadata": {
        "id": "fjzr9xnVxPuG"
      },
      "execution_count": null,
      "outputs": []
    },
    {
      "cell_type": "code",
      "source": [
        "--28\n",
        "year = 2010\n",
        "price = '10K'\n",
        "currency = 'Bitcoin'\n",
        "\n",
        "s = f'In {year}, someone paid {price} {currency} for two pizzas.'\n",
        "\n",
        "print(s)"
      ],
      "metadata": {
        "id": "bdkZK7OuxPyA"
      },
      "execution_count": null,
      "outputs": []
    },
    {
      "cell_type": "code",
      "source": [
        "###"
      ],
      "metadata": {
        "id": "8phLsIZ9xP2A"
      },
      "execution_count": null,
      "outputs": []
    },
    {
      "cell_type": "code",
      "source": [
        "--29\n",
        "date = input()\n",
        "us_dollar = input()\n",
        "yen = input()\n",
        "\n",
        "print('На {0}: 1$ = {1}₽, 1¥ = {2}₽'.format(date, us_dollar, yen))"
      ],
      "metadata": {
        "id": "nq7tJ73MxP6V"
      },
      "execution_count": null,
      "outputs": []
    },
    {
      "cell_type": "code",
      "source": [
        "###"
      ],
      "metadata": {
        "id": "jeptAl0ExQaA"
      },
      "execution_count": null,
      "outputs": []
    },
    {
      "cell_type": "code",
      "source": [
        "--30\n",
        "current_day = int(input())\n",
        "current_weight = float(input())\n",
        "START_WEIGTH = 100\n",
        "PURPOSE_PER_DAY = 0.2\n",
        "\n",
        "purpose_weight = START_WEIGTH - PURPOSE_PER_DAY * current_day\n",
        "\n",
        "if current_weight <= START_WEIGTH - PURPOSE_PER_DAY * current_day:\n",
        "    print('Все идет по плану')\n",
        "    print(f'#{current_day} ДЕНЬ: ТЕКУЩИЙ ВЕС = {current_weight} кг, ЦЕЛЬ по ВЕСУ = {purpose_weight} кг')\n",
        "else:\n",
        "    print('Что-то пошло не так')\n",
        "    print(f'#{current_day} ДЕНЬ: ТЕКУЩИЙ ВЕС = {current_weight} кг, ЦЕЛЬ по ВЕСУ = {purpose_weight} кг')"
      ],
      "metadata": {
        "id": "KOZ_S1Mo3nYx"
      },
      "execution_count": null,
      "outputs": []
    },
    {
      "cell_type": "code",
      "source": [
        "###"
      ],
      "metadata": {
        "id": "ntdIubYuusa-"
      },
      "execution_count": null,
      "outputs": []
    },
    {
      "cell_type": "code",
      "source": [
        "--31\n",
        "a, b = [int(input()) for _ in range(2)]\n",
        "\n",
        "if a > b:\n",
        "    a, b = b, a\n",
        "\n",
        "for i in range(a, b + 1):\n",
        "    print(chr(i), end = ' ')"
      ],
      "metadata": {
        "id": "q58exl1iuseV"
      },
      "execution_count": null,
      "outputs": []
    },
    {
      "cell_type": "code",
      "source": [
        "###"
      ],
      "metadata": {
        "id": "3vnneE1aX0OS"
      },
      "execution_count": null,
      "outputs": []
    },
    {
      "cell_type": "code",
      "source": [
        "--32\n",
        "text = input()\n",
        "\n",
        "for i in text:\n",
        "    print(ord(i), end = ' ')"
      ],
      "metadata": {
        "id": "CZ9LJJBGX0Rq"
      },
      "execution_count": null,
      "outputs": []
    },
    {
      "cell_type": "code",
      "source": [
        "###"
      ],
      "metadata": {
        "id": "c05vV9eXX0VE"
      },
      "execution_count": null,
      "outputs": []
    },
    {
      "cell_type": "code",
      "source": [
        "--33\n",
        "n = int(input())\n",
        "text = input()\n",
        "\n",
        "min_index = ord('a')\n",
        "max_index = ord('z')\n",
        "\n",
        "for char in text:\n",
        "    temp_index = ord(char)\n",
        "    if temp_index - n < min_index:\n",
        "        index = max_index - (n - (temp_index - min_index)) + 1\n",
        "        print(chr(index), end = '')\n",
        "    else:\n",
        "        print(chr(temp_index - n), end = '')"
      ],
      "metadata": {
        "id": "WnjEGFeNX0YO"
      },
      "execution_count": null,
      "outputs": []
    },
    {
      "cell_type": "code",
      "source": [
        "###"
      ],
      "metadata": {
        "id": "BtawiQV4X0bV"
      },
      "execution_count": null,
      "outputs": []
    },
    {
      "cell_type": "code",
      "source": [
        "--34\n",
        "text = input()\n",
        "\n",
        "new_text = ''\n",
        "\n",
        "for i in range(len(text)):\n",
        "    if i % 3 != 0:\n",
        "        new_text += text[i]\n",
        "\n",
        "print(new_text)"
      ],
      "metadata": {
        "id": "IV6tttSyX0ed"
      },
      "execution_count": null,
      "outputs": []
    },
    {
      "cell_type": "code",
      "source": [
        "###"
      ],
      "metadata": {
        "id": "NCeNBOTDX0hg"
      },
      "execution_count": null,
      "outputs": []
    },
    {
      "cell_type": "code",
      "source": [
        "--35\n",
        "text = input()\n",
        "\n",
        "new_text = ''\n",
        "\n",
        "for char in text:\n",
        "    if char != '@':\n",
        "        new_text += char\n",
        "\n",
        "print(new_text)"
      ],
      "metadata": {
        "id": "bo77t_bkX0kj"
      },
      "execution_count": null,
      "outputs": []
    },
    {
      "cell_type": "code",
      "source": [
        "###"
      ],
      "metadata": {
        "id": "oPka0GhYX0np"
      },
      "execution_count": null,
      "outputs": []
    },
    {
      "cell_type": "code",
      "source": [
        "--36\n",
        "text = input()\n",
        "\n",
        "if 'f' not in text:\n",
        "    print(-2)\n",
        "elif len(text) - len(text.replace('f', '')) == 1:\n",
        "    print(-1)\n",
        "elif len(text) - len(text.replace('f', '')) == 2:\n",
        "    print(text.rfind('f'))\n",
        "else:\n",
        "    first_index = text.find('f')\n",
        "    second_index = first_index + 1 + text[first_index + 1:].find('f')\n",
        "    print(second_index)"
      ],
      "metadata": {
        "id": "TmlaBy_KX0qg"
      },
      "execution_count": null,
      "outputs": []
    },
    {
      "cell_type": "code",
      "source": [],
      "metadata": {
        "id": "56qcAPbb3nfT"
      },
      "execution_count": null,
      "outputs": []
    }
  ]
}